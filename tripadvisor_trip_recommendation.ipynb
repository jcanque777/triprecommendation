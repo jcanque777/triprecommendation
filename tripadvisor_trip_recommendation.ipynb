{
 "cells": [
  {
   "cell_type": "code",
   "execution_count": 1,
   "metadata": {},
   "outputs": [],
   "source": [
    "from selenium.webdriver.support import expected_conditions as EC\n",
    "from selenium.common.exceptions import TimeoutException\n",
    "from selenium.webdriver.support.ui import WebDriverWait\n",
    "from selenium.webdriver.common.keys import Keys\n",
    "from selenium.webdriver.common.by import By\n",
    "from selenium import webdriver\n",
    "\n",
    "from bs4 import BeautifulSoup \n",
    "import requests \n",
    "\n",
    "from tqdm import tqdm\n",
    "import time\n",
    "import random\n",
    "from copy import deepcopy\n",
    "\n",
    "import pickle"
   ]
  },
  {
   "cell_type": "code",
   "execution_count": 2,
   "metadata": {},
   "outputs": [],
   "source": [
    "import pandas as pd\n",
    "import numpy as np"
   ]
  },
  {
   "cell_type": "code",
   "execution_count": null,
   "metadata": {},
   "outputs": [],
   "source": [
    "pip install tqdm"
   ]
  },
  {
   "cell_type": "markdown",
   "metadata": {},
   "source": [
    "# Scrape"
   ]
  },
  {
   "cell_type": "markdown",
   "metadata": {},
   "source": [
    "## Get Attractions"
   ]
  },
  {
   "cell_type": "code",
   "execution_count": null,
   "metadata": {},
   "outputs": [],
   "source": [
    "attraction_links = []"
   ]
  },
  {
   "cell_type": "code",
   "execution_count": null,
   "metadata": {},
   "outputs": [],
   "source": [
    "driver = webdriver.Chrome() #browser should be named driver in the future, common coding etiquette\n",
    "driver.get('https://www.tripadvisor.com/Attractions-g189400-Activities-Athens_Attica.html')"
   ]
  },
  {
   "cell_type": "code",
   "execution_count": null,
   "metadata": {},
   "outputs": [],
   "source": [
    "miss_links = []"
   ]
  },
  {
   "cell_type": "code",
   "execution_count": null,
   "metadata": {},
   "outputs": [],
   "source": [
    "soup = BeautifulSoup(driver.page_source)"
   ]
  },
  {
   "cell_type": "markdown",
   "metadata": {},
   "source": [
    "### Finding Links Version 1"
   ]
  },
  {
   "cell_type": "code",
   "execution_count": null,
   "metadata": {},
   "outputs": [],
   "source": [
    "attractions = soup.find_all('li',{'class':'attractions-attraction-overview-pois-PoiCard__item--3UzYK'})"
   ]
  },
  {
   "cell_type": "code",
   "execution_count": null,
   "metadata": {},
   "outputs": [],
   "source": [
    "for i in attractions:\n",
    "            attraction_links.append(i.find('a', href=True)['href'])"
   ]
  },
  {
   "cell_type": "code",
   "execution_count": null,
   "metadata": {},
   "outputs": [],
   "source": []
  },
  {
   "cell_type": "markdown",
   "metadata": {},
   "source": [
    "### Finding Links Version 2"
   ]
  },
  {
   "cell_type": "code",
   "execution_count": null,
   "metadata": {},
   "outputs": [],
   "source": [
    "soup = BeautifulSoup(driver.page_source)"
   ]
  },
  {
   "cell_type": "code",
   "execution_count": null,
   "metadata": {},
   "outputs": [],
   "source": [
    "attractions2 = (soup.find_all('div', {'class':'attraction_element_tall'}))"
   ]
  },
  {
   "cell_type": "code",
   "execution_count": null,
   "metadata": {},
   "outputs": [],
   "source": [
    "# Will only work if there's the second type of link in the webpage"
   ]
  },
  {
   "cell_type": "code",
   "execution_count": null,
   "metadata": {},
   "outputs": [],
   "source": [
    "for i in attractions2:\n",
    "            for j in i.find_all('a', href=True):\n",
    "                if j['href'][:18]== '/Attraction_Review':\n",
    "                    attraction_links.append((j['href']))"
   ]
  },
  {
   "cell_type": "code",
   "execution_count": null,
   "metadata": {},
   "outputs": [],
   "source": [
    "len(attraction_links)"
   ]
  },
  {
   "cell_type": "code",
   "execution_count": null,
   "metadata": {},
   "outputs": [],
   "source": []
  },
  {
   "cell_type": "markdown",
   "metadata": {},
   "source": [
    "### Finding Next Button"
   ]
  },
  {
   "cell_type": "code",
   "execution_count": null,
   "metadata": {},
   "outputs": [],
   "source": [
    "for i in soup.find_all('a', href=True):\n",
    "    if i.text == '\\nNext\\n':\n",
    "        link = 'https://www.tripadvisor.com/'+i['href']\n",
    "        driver.get(link)\n",
    "        break"
   ]
  },
  {
   "cell_type": "code",
   "execution_count": null,
   "metadata": {},
   "outputs": [],
   "source": [
    "for i in soup.find_all('a', href=True):\n",
    "    if i.text == 'Next':\n",
    "        link = 'https://www.tripadvisor.com/'+i['href']\n",
    "        driver.get(link)\n",
    "        break"
   ]
  },
  {
   "cell_type": "code",
   "execution_count": null,
   "metadata": {},
   "outputs": [],
   "source": []
  },
  {
   "cell_type": "markdown",
   "metadata": {},
   "source": [
    "### Code to run"
   ]
  },
  {
   "cell_type": "code",
   "execution_count": null,
   "metadata": {},
   "outputs": [],
   "source": [
    "attraction_links = []\n",
    "miss_links = []\n",
    "\n",
    "##\n",
    "\n",
    "driver = webdriver.Chrome() #browser should be named driver in the future, common coding etiquette\n",
    "driver.get('https://www.tripadvisor.com/Attractions-g189400-Activities-Athens_Attica.html')\n",
    "\n",
    "##\n",
    "\n",
    "# Don't run attraction_links in same location\n",
    "# attraction_links = []\n",
    "\n",
    "#319 things to do in Athens\n",
    "#Range= number of pages to go to\n",
    "for i in tqdm(range(12)):\n",
    "#if there is a next button, continue to click and scrape\n",
    "    \n",
    "    try:\n",
    "        soup = BeautifulSoup(driver.page_source)\n",
    "        #finds the attractions for each page\n",
    "        attractions = soup.find_all('li',{'class':'attractions-attraction-overview-pois-PoiCard__item--3UzYK'})\n",
    "        \n",
    "        #find all links in attraction\n",
    "        for i in attractions:\n",
    "            attraction_links.append(i.find('a', href=True)['href'])\n",
    "    except: \n",
    "        print()\n",
    "        pass\n",
    "    \n",
    "    try:\n",
    "        soup = BeautifulSoup(driver.page_source)\n",
    "        #another way to find\n",
    "        attractions2 = (soup.find_all('div', {'class':'attraction_element_tall'}))\n",
    "        \n",
    "        for i in attractions2:\n",
    "            for j in i.find_all('a', href=True):\n",
    "                if j['href'][:18]== '/Attraction_Review':\n",
    "                    attraction_links.append((j['href']))\n",
    "    except:\n",
    "        pass\n",
    "            \n",
    "    #find next button\n",
    "    try:\n",
    "        for i in soup.find_all('a', href=True):\n",
    "            if i.text == '\\nNext\\n':\n",
    "                link = 'https://www.tripadvisor.com/'+i['href']\n",
    "                driver.get(link)\n",
    "                break\n",
    "    except:\n",
    "        pass\n",
    "              \n",
    "    try:\n",
    "        for i in soup.find_all('a', href=True):\n",
    "            if i.text == 'Next':\n",
    "                link = 'https://www.tripadvisor.com/'+i['href']\n",
    "                driver.get(link)\n",
    "                break\n",
    "    except:\n",
    "        miss_links.append(i)\n",
    "        sequence = [x/10 for x in range(5, 10)]\n",
    "        time.sleep(random.choice(sequence))\n",
    "        continue\n",
    "\n",
    "\n",
    "    sequence = [x/10 for x in range(5, 10)]\n",
    "    time.sleep(random.choice(sequence))\n",
    "\n",
    "##\n",
    "\n",
    "for i in attraction_links:\n",
    "    if i[-8:] == '#REVIEWS':\n",
    "        attraction_links.remove(i)\n",
    "        \n",
    "##\n",
    "\n",
    "fixed_links = []\n",
    "\n",
    "##\n",
    "\n",
    "for i in attraction_links:\n",
    "    fixed_links.append('https://www.tripadvisor.com'+i)\n",
    "\n",
    "##\n",
    "\n",
    "df = pd.DataFrame(fixed_links)\n",
    "\n",
    "##\n",
    "\n",
    "df.to_pickle('athens_links.pkl')\n",
    "\n",
    "##\n",
    "\n",
    "\n"
   ]
  },
  {
   "cell_type": "code",
   "execution_count": null,
   "metadata": {},
   "outputs": [],
   "source": [
    "attraction_links = []\n",
    "miss_links = []"
   ]
  },
  {
   "cell_type": "code",
   "execution_count": null,
   "metadata": {},
   "outputs": [],
   "source": [
    "driver = webdriver.Chrome() #browser should be named driver in the future, common coding etiquette\n",
    "driver.get('https://www.tripadvisor.com/Attractions-g189400-Activities-Athens_Attica.html')"
   ]
  },
  {
   "cell_type": "code",
   "execution_count": null,
   "metadata": {},
   "outputs": [],
   "source": [
    "# Don't run attraction_links in same location\n",
    "# attraction_links = []\n",
    "\n",
    "#319 things to do in Athens\n",
    "#Range= number of pages to go to\n",
    "for i in tqdm(range(12)):\n",
    "#if there is a next button, continue to click and scrape\n",
    "    \n",
    "    try:\n",
    "        soup = BeautifulSoup(driver.page_source)\n",
    "        #finds the attractions for each page\n",
    "        attractions = soup.find_all('li',{'class':'attractions-attraction-overview-pois-PoiCard__item--3UzYK'})\n",
    "        \n",
    "        #find all links in attraction\n",
    "        for i in attractions:\n",
    "            attraction_links.append(i.find('a', href=True)['href'])\n",
    "    except: \n",
    "        print()\n",
    "        pass\n",
    "    \n",
    "    try:\n",
    "        soup = BeautifulSoup(driver.page_source)\n",
    "        #another way to find\n",
    "        attractions2 = (soup.find_all('div', {'class':'attraction_element_tall'}))\n",
    "        \n",
    "        for i in attractions2:\n",
    "            for j in i.find_all('a', href=True):\n",
    "                if j['href'][:18]== '/Attraction_Review':\n",
    "                    attraction_links.append((j['href']))\n",
    "    except:\n",
    "        pass\n",
    "            \n",
    "    #find next button\n",
    "    try:\n",
    "        for i in soup.find_all('a', href=True):\n",
    "            if i.text == '\\nNext\\n':\n",
    "                link = 'https://www.tripadvisor.com/'+i['href']\n",
    "                driver.get(link)\n",
    "                break\n",
    "    except:\n",
    "        pass\n",
    "              \n",
    "    try:\n",
    "        for i in soup.find_all('a', href=True):\n",
    "            if i.text == 'Next':\n",
    "                link = 'https://www.tripadvisor.com/'+i['href']\n",
    "                driver.get(link)\n",
    "                break\n",
    "    except:\n",
    "        miss_links.append(i)\n",
    "        sequence = [x/10 for x in range(5, 10)]\n",
    "        time.sleep(random.choice(sequence))\n",
    "        continue\n",
    "\n",
    "\n",
    "    sequence = [x/10 for x in range(5, 10)]\n",
    "    time.sleep(random.choice(sequence))"
   ]
  },
  {
   "cell_type": "markdown",
   "metadata": {},
   "source": [
    "### Fix Attraction Links"
   ]
  },
  {
   "cell_type": "code",
   "execution_count": null,
   "metadata": {},
   "outputs": [],
   "source": [
    "attraction_links = list(set(attraction_links))"
   ]
  },
  {
   "cell_type": "code",
   "execution_count": null,
   "metadata": {},
   "outputs": [],
   "source": [
    "len(attraction_links)"
   ]
  },
  {
   "cell_type": "code",
   "execution_count": null,
   "metadata": {},
   "outputs": [],
   "source": [
    "#creating a test copy\n",
    "t = deepcopy(attraction_links)"
   ]
  },
  {
   "cell_type": "code",
   "execution_count": null,
   "metadata": {},
   "outputs": [],
   "source": [
    "for i in attraction_links:\n",
    "    if i[-8:] == '#REVIEWS':\n",
    "        attraction_links.remove(i)"
   ]
  },
  {
   "cell_type": "code",
   "execution_count": null,
   "metadata": {},
   "outputs": [],
   "source": [
    "len(attraction_links)"
   ]
  },
  {
   "cell_type": "code",
   "execution_count": null,
   "metadata": {},
   "outputs": [],
   "source": [
    "fixed_links = []"
   ]
  },
  {
   "cell_type": "code",
   "execution_count": null,
   "metadata": {},
   "outputs": [],
   "source": [
    "for i in attraction_links:\n",
    "    fixed_links.append('https://www.tripadvisor.com'+i)"
   ]
  },
  {
   "cell_type": "code",
   "execution_count": null,
   "metadata": {},
   "outputs": [],
   "source": [
    "fixed_links"
   ]
  },
  {
   "cell_type": "code",
   "execution_count": null,
   "metadata": {},
   "outputs": [],
   "source": [
    "df = pd.DataFrame(fixed_links)"
   ]
  },
  {
   "cell_type": "code",
   "execution_count": null,
   "metadata": {},
   "outputs": [],
   "source": [
    "df.to_pickle('athens_links.pkl')"
   ]
  },
  {
   "cell_type": "code",
   "execution_count": null,
   "metadata": {},
   "outputs": [],
   "source": [
    "#convert dataframe to list, remember to call on column(0)\n",
    "athens_links = df[0].tolist()"
   ]
  },
  {
   "cell_type": "code",
   "execution_count": 3,
   "metadata": {},
   "outputs": [],
   "source": [
    "df = pd.read_pickle('athens_links.pkl')"
   ]
  },
  {
   "cell_type": "code",
   "execution_count": 4,
   "metadata": {},
   "outputs": [],
   "source": [
    "athens_links = df[0].tolist()"
   ]
  },
  {
   "cell_type": "markdown",
   "metadata": {},
   "source": [
    "# Get Info From Attractions"
   ]
  },
  {
   "cell_type": "code",
   "execution_count": 31,
   "metadata": {},
   "outputs": [
    {
     "data": {
      "text/plain": [
       "'https://www.tripadvisor.com/Attraction_Review-g189400-d12642863-Reviews-Gate_of_Medrese-Athens_Attica.html'"
      ]
     },
     "execution_count": 31,
     "metadata": {},
     "output_type": "execute_result"
    }
   ],
   "source": [
    "athens_links[0]"
   ]
  },
  {
   "cell_type": "code",
   "execution_count": null,
   "metadata": {},
   "outputs": [],
   "source": [
    "driver.get(athens_links[0])"
   ]
  },
  {
   "cell_type": "code",
   "execution_count": 34,
   "metadata": {
    "scrolled": true
   },
   "outputs": [
    {
     "ename": "NoSuchElementException",
     "evalue": "Message: no such element: Unable to locate element: {\"method\":\"xpath\",\"selector\":\"//*[@id=\"HEADING\"]\"}\n  (Session info: chrome=79.0.3945.130)\n",
     "output_type": "error",
     "traceback": [
      "\u001b[0;31m---------------------------------------------------------------------------\u001b[0m",
      "\u001b[0;31mNoSuchElementException\u001b[0m                    Traceback (most recent call last)",
      "\u001b[0;32m<ipython-input-34-6ff937211eb3>\u001b[0m in \u001b[0;36m<module>\u001b[0;34m\u001b[0m\n\u001b[0;32m----> 1\u001b[0;31m \u001b[0mdriver\u001b[0m\u001b[0;34m.\u001b[0m\u001b[0mfind_element_by_xpath\u001b[0m\u001b[0;34m(\u001b[0m\u001b[0;34m'//*[@id=\"HEADING\"]'\u001b[0m\u001b[0;34m)\u001b[0m\u001b[0;34m.\u001b[0m\u001b[0mtext\u001b[0m\u001b[0;34m\u001b[0m\u001b[0;34m\u001b[0m\u001b[0m\n\u001b[0m",
      "\u001b[0;32m~/opt/anaconda3/lib/python3.7/site-packages/selenium/webdriver/remote/webdriver.py\u001b[0m in \u001b[0;36mfind_element_by_xpath\u001b[0;34m(self, xpath)\u001b[0m\n\u001b[1;32m    392\u001b[0m             \u001b[0melement\u001b[0m \u001b[0;34m=\u001b[0m \u001b[0mdriver\u001b[0m\u001b[0;34m.\u001b[0m\u001b[0mfind_element_by_xpath\u001b[0m\u001b[0;34m(\u001b[0m\u001b[0;34m'//div/td[1]'\u001b[0m\u001b[0;34m)\u001b[0m\u001b[0;34m\u001b[0m\u001b[0;34m\u001b[0m\u001b[0m\n\u001b[1;32m    393\u001b[0m         \"\"\"\n\u001b[0;32m--> 394\u001b[0;31m         \u001b[0;32mreturn\u001b[0m \u001b[0mself\u001b[0m\u001b[0;34m.\u001b[0m\u001b[0mfind_element\u001b[0m\u001b[0;34m(\u001b[0m\u001b[0mby\u001b[0m\u001b[0;34m=\u001b[0m\u001b[0mBy\u001b[0m\u001b[0;34m.\u001b[0m\u001b[0mXPATH\u001b[0m\u001b[0;34m,\u001b[0m \u001b[0mvalue\u001b[0m\u001b[0;34m=\u001b[0m\u001b[0mxpath\u001b[0m\u001b[0;34m)\u001b[0m\u001b[0;34m\u001b[0m\u001b[0;34m\u001b[0m\u001b[0m\n\u001b[0m\u001b[1;32m    395\u001b[0m \u001b[0;34m\u001b[0m\u001b[0m\n\u001b[1;32m    396\u001b[0m     \u001b[0;32mdef\u001b[0m \u001b[0mfind_elements_by_xpath\u001b[0m\u001b[0;34m(\u001b[0m\u001b[0mself\u001b[0m\u001b[0;34m,\u001b[0m \u001b[0mxpath\u001b[0m\u001b[0;34m)\u001b[0m\u001b[0;34m:\u001b[0m\u001b[0;34m\u001b[0m\u001b[0;34m\u001b[0m\u001b[0m\n",
      "\u001b[0;32m~/opt/anaconda3/lib/python3.7/site-packages/selenium/webdriver/remote/webdriver.py\u001b[0m in \u001b[0;36mfind_element\u001b[0;34m(self, by, value)\u001b[0m\n\u001b[1;32m    976\u001b[0m         return self.execute(Command.FIND_ELEMENT, {\n\u001b[1;32m    977\u001b[0m             \u001b[0;34m'using'\u001b[0m\u001b[0;34m:\u001b[0m \u001b[0mby\u001b[0m\u001b[0;34m,\u001b[0m\u001b[0;34m\u001b[0m\u001b[0;34m\u001b[0m\u001b[0m\n\u001b[0;32m--> 978\u001b[0;31m             'value': value})['value']\n\u001b[0m\u001b[1;32m    979\u001b[0m \u001b[0;34m\u001b[0m\u001b[0m\n\u001b[1;32m    980\u001b[0m     \u001b[0;32mdef\u001b[0m \u001b[0mfind_elements\u001b[0m\u001b[0;34m(\u001b[0m\u001b[0mself\u001b[0m\u001b[0;34m,\u001b[0m \u001b[0mby\u001b[0m\u001b[0;34m=\u001b[0m\u001b[0mBy\u001b[0m\u001b[0;34m.\u001b[0m\u001b[0mID\u001b[0m\u001b[0;34m,\u001b[0m \u001b[0mvalue\u001b[0m\u001b[0;34m=\u001b[0m\u001b[0;32mNone\u001b[0m\u001b[0;34m)\u001b[0m\u001b[0;34m:\u001b[0m\u001b[0;34m\u001b[0m\u001b[0;34m\u001b[0m\u001b[0m\n",
      "\u001b[0;32m~/opt/anaconda3/lib/python3.7/site-packages/selenium/webdriver/remote/webdriver.py\u001b[0m in \u001b[0;36mexecute\u001b[0;34m(self, driver_command, params)\u001b[0m\n\u001b[1;32m    319\u001b[0m         \u001b[0mresponse\u001b[0m \u001b[0;34m=\u001b[0m \u001b[0mself\u001b[0m\u001b[0;34m.\u001b[0m\u001b[0mcommand_executor\u001b[0m\u001b[0;34m.\u001b[0m\u001b[0mexecute\u001b[0m\u001b[0;34m(\u001b[0m\u001b[0mdriver_command\u001b[0m\u001b[0;34m,\u001b[0m \u001b[0mparams\u001b[0m\u001b[0;34m)\u001b[0m\u001b[0;34m\u001b[0m\u001b[0;34m\u001b[0m\u001b[0m\n\u001b[1;32m    320\u001b[0m         \u001b[0;32mif\u001b[0m \u001b[0mresponse\u001b[0m\u001b[0;34m:\u001b[0m\u001b[0;34m\u001b[0m\u001b[0;34m\u001b[0m\u001b[0m\n\u001b[0;32m--> 321\u001b[0;31m             \u001b[0mself\u001b[0m\u001b[0;34m.\u001b[0m\u001b[0merror_handler\u001b[0m\u001b[0;34m.\u001b[0m\u001b[0mcheck_response\u001b[0m\u001b[0;34m(\u001b[0m\u001b[0mresponse\u001b[0m\u001b[0;34m)\u001b[0m\u001b[0;34m\u001b[0m\u001b[0;34m\u001b[0m\u001b[0m\n\u001b[0m\u001b[1;32m    322\u001b[0m             response['value'] = self._unwrap_value(\n\u001b[1;32m    323\u001b[0m                 response.get('value', None))\n",
      "\u001b[0;32m~/opt/anaconda3/lib/python3.7/site-packages/selenium/webdriver/remote/errorhandler.py\u001b[0m in \u001b[0;36mcheck_response\u001b[0;34m(self, response)\u001b[0m\n\u001b[1;32m    240\u001b[0m                 \u001b[0malert_text\u001b[0m \u001b[0;34m=\u001b[0m \u001b[0mvalue\u001b[0m\u001b[0;34m[\u001b[0m\u001b[0;34m'alert'\u001b[0m\u001b[0;34m]\u001b[0m\u001b[0;34m.\u001b[0m\u001b[0mget\u001b[0m\u001b[0;34m(\u001b[0m\u001b[0;34m'text'\u001b[0m\u001b[0;34m)\u001b[0m\u001b[0;34m\u001b[0m\u001b[0;34m\u001b[0m\u001b[0m\n\u001b[1;32m    241\u001b[0m             \u001b[0;32mraise\u001b[0m \u001b[0mexception_class\u001b[0m\u001b[0;34m(\u001b[0m\u001b[0mmessage\u001b[0m\u001b[0;34m,\u001b[0m \u001b[0mscreen\u001b[0m\u001b[0;34m,\u001b[0m \u001b[0mstacktrace\u001b[0m\u001b[0;34m,\u001b[0m \u001b[0malert_text\u001b[0m\u001b[0;34m)\u001b[0m\u001b[0;34m\u001b[0m\u001b[0;34m\u001b[0m\u001b[0m\n\u001b[0;32m--> 242\u001b[0;31m         \u001b[0;32mraise\u001b[0m \u001b[0mexception_class\u001b[0m\u001b[0;34m(\u001b[0m\u001b[0mmessage\u001b[0m\u001b[0;34m,\u001b[0m \u001b[0mscreen\u001b[0m\u001b[0;34m,\u001b[0m \u001b[0mstacktrace\u001b[0m\u001b[0;34m)\u001b[0m\u001b[0;34m\u001b[0m\u001b[0;34m\u001b[0m\u001b[0m\n\u001b[0m\u001b[1;32m    243\u001b[0m \u001b[0;34m\u001b[0m\u001b[0m\n\u001b[1;32m    244\u001b[0m     \u001b[0;32mdef\u001b[0m \u001b[0m_value_or_default\u001b[0m\u001b[0;34m(\u001b[0m\u001b[0mself\u001b[0m\u001b[0;34m,\u001b[0m \u001b[0mobj\u001b[0m\u001b[0;34m,\u001b[0m \u001b[0mkey\u001b[0m\u001b[0;34m,\u001b[0m \u001b[0mdefault\u001b[0m\u001b[0;34m)\u001b[0m\u001b[0;34m:\u001b[0m\u001b[0;34m\u001b[0m\u001b[0;34m\u001b[0m\u001b[0m\n",
      "\u001b[0;31mNoSuchElementException\u001b[0m: Message: no such element: Unable to locate element: {\"method\":\"xpath\",\"selector\":\"//*[@id=\"HEADING\"]\"}\n  (Session info: chrome=79.0.3945.130)\n"
     ]
    }
   ],
   "source": [
    "driver.find_element_by_xpath('//*[@id=\"HEADING\"]').text"
   ]
  },
  {
   "cell_type": "markdown",
   "metadata": {},
   "source": [
    "## Definitions"
   ]
  },
  {
   "cell_type": "code",
   "execution_count": 313,
   "metadata": {},
   "outputs": [],
   "source": [
    "def find_name(driver):\n",
    "    return driver.find_element_by_xpath('//*[@id=\"HEADING\"]').text\n",
    "\n",
    "def find_no_things_to_do(driver):\n",
    "    return driver.find_element_by_xpath('//*[@id=\"taplc_resp_attraction_header_ar_responsive_0\"]/div/div[1]/div/div[2]/div/span').text\n",
    "\n",
    "#Find sights and landmarks\n",
    "def find_sights_landmarks(driver):\n",
    "    return driver.find_element_by_xpath('//*[@id=\"taplc_resp_attraction_header_ar_responsive_0\"]/div/div[1]/div/span').text\n",
    "\n",
    "# Find Address\n",
    "def find_address(driver):\n",
    "    return driver.find_element_by_xpath('//*[@id=\"taplc_resp_attraction_header_ar_responsive_0\"]/div/div[2]/div/div[1]/div/div').text\n",
    "\n",
    "\n",
    "#Find summary overview\n",
    "def find_summary_overview(driver):\n",
    "    return driver.find_element_by_xpath('//*[@id=\"taplc_location_detail_reviews_card_0\"]/div[2]/span').text\n",
    "\n",
    "#Find number of reviews\n",
    "def number_of_reviews(driver):\n",
    "    return driver.find_element_by_xpath('//*[@id=\"taplc_location_detail_reviews_card_0\"]/div[2]/a[2]').text\n",
    "\n",
    "#Find About\n",
    "def about_box(driver):\n",
    "    return driver.find_element_by_xpath('//*[@id=\"taplc_location_detail_overview_resp_ar_responsive_0\"]/div/div/div[2]').text\n",
    "\n",
    "#Find The Popular Mentions in comments\n",
    "def popular_mentions(driver):\n",
    "    return driver.find_element_by_xpath('//*[@id=\"taplc_detail_filters_ar_responsive_0\"]/div/div[2]/div[3]/div').text.split('\\n')\n",
    "\n",
    "#Find 10 Most recent comments \n",
    "def comments(driver):\n",
    "    return driver.find_element_by_xpath('//*[@id=\"taplc_location_reviews_list_resp_ar_responsive_0\"]/div').text\n",
    "\n",
    "def reviews(driver):\n",
    "    return "
   ]
  },
  {
   "cell_type": "code",
   "execution_count": null,
   "metadata": {},
   "outputs": [],
   "source": []
  },
  {
   "cell_type": "code",
   "execution_count": 315,
   "metadata": {},
   "outputs": [
    {
     "ename": "NoSuchElementException",
     "evalue": "Message: no such element: Unable to locate element: {\"method\":\"xpath\",\"selector\":\"//*[@id=\"taplc_location_reviews_list_resp_ar_responsive_0\"]/div\"}\n  (Session info: chrome=79.0.3945.130)\n",
     "output_type": "error",
     "traceback": [
      "\u001b[0;31m---------------------------------------------------------------------------\u001b[0m",
      "\u001b[0;31mNoSuchElementException\u001b[0m                    Traceback (most recent call last)",
      "\u001b[0;32m<ipython-input-315-675be112152c>\u001b[0m in \u001b[0;36m<module>\u001b[0;34m\u001b[0m\n\u001b[0;32m----> 1\u001b[0;31m \u001b[0mcomments\u001b[0m\u001b[0;34m(\u001b[0m\u001b[0mdriver\u001b[0m\u001b[0;34m)\u001b[0m\u001b[0;34m\u001b[0m\u001b[0;34m\u001b[0m\u001b[0m\n\u001b[0m",
      "\u001b[0;32m<ipython-input-313-b7b36d7598da>\u001b[0m in \u001b[0;36mcomments\u001b[0;34m(driver)\u001b[0m\n\u001b[1;32m     32\u001b[0m \u001b[0;31m#Find 10 Most recent comments\u001b[0m\u001b[0;34m\u001b[0m\u001b[0;34m\u001b[0m\u001b[0;34m\u001b[0m\u001b[0m\n\u001b[1;32m     33\u001b[0m \u001b[0;32mdef\u001b[0m \u001b[0mcomments\u001b[0m\u001b[0;34m(\u001b[0m\u001b[0mdriver\u001b[0m\u001b[0;34m)\u001b[0m\u001b[0;34m:\u001b[0m\u001b[0;34m\u001b[0m\u001b[0;34m\u001b[0m\u001b[0m\n\u001b[0;32m---> 34\u001b[0;31m     \u001b[0;32mreturn\u001b[0m \u001b[0mdriver\u001b[0m\u001b[0;34m.\u001b[0m\u001b[0mfind_element_by_xpath\u001b[0m\u001b[0;34m(\u001b[0m\u001b[0;34m'//*[@id=\"taplc_location_reviews_list_resp_ar_responsive_0\"]/div'\u001b[0m\u001b[0;34m)\u001b[0m\u001b[0;34m.\u001b[0m\u001b[0mtext\u001b[0m\u001b[0;34m\u001b[0m\u001b[0;34m\u001b[0m\u001b[0m\n\u001b[0m\u001b[1;32m     35\u001b[0m \u001b[0;34m\u001b[0m\u001b[0m\n\u001b[1;32m     36\u001b[0m \u001b[0;32mdef\u001b[0m \u001b[0mreviews\u001b[0m\u001b[0;34m(\u001b[0m\u001b[0mdriver\u001b[0m\u001b[0;34m)\u001b[0m\u001b[0;34m:\u001b[0m\u001b[0;34m\u001b[0m\u001b[0;34m\u001b[0m\u001b[0m\n",
      "\u001b[0;32m~/opt/anaconda3/lib/python3.7/site-packages/selenium/webdriver/remote/webdriver.py\u001b[0m in \u001b[0;36mfind_element_by_xpath\u001b[0;34m(self, xpath)\u001b[0m\n\u001b[1;32m    392\u001b[0m             \u001b[0melement\u001b[0m \u001b[0;34m=\u001b[0m \u001b[0mdriver\u001b[0m\u001b[0;34m.\u001b[0m\u001b[0mfind_element_by_xpath\u001b[0m\u001b[0;34m(\u001b[0m\u001b[0;34m'//div/td[1]'\u001b[0m\u001b[0;34m)\u001b[0m\u001b[0;34m\u001b[0m\u001b[0;34m\u001b[0m\u001b[0m\n\u001b[1;32m    393\u001b[0m         \"\"\"\n\u001b[0;32m--> 394\u001b[0;31m         \u001b[0;32mreturn\u001b[0m \u001b[0mself\u001b[0m\u001b[0;34m.\u001b[0m\u001b[0mfind_element\u001b[0m\u001b[0;34m(\u001b[0m\u001b[0mby\u001b[0m\u001b[0;34m=\u001b[0m\u001b[0mBy\u001b[0m\u001b[0;34m.\u001b[0m\u001b[0mXPATH\u001b[0m\u001b[0;34m,\u001b[0m \u001b[0mvalue\u001b[0m\u001b[0;34m=\u001b[0m\u001b[0mxpath\u001b[0m\u001b[0;34m)\u001b[0m\u001b[0;34m\u001b[0m\u001b[0;34m\u001b[0m\u001b[0m\n\u001b[0m\u001b[1;32m    395\u001b[0m \u001b[0;34m\u001b[0m\u001b[0m\n\u001b[1;32m    396\u001b[0m     \u001b[0;32mdef\u001b[0m \u001b[0mfind_elements_by_xpath\u001b[0m\u001b[0;34m(\u001b[0m\u001b[0mself\u001b[0m\u001b[0;34m,\u001b[0m \u001b[0mxpath\u001b[0m\u001b[0;34m)\u001b[0m\u001b[0;34m:\u001b[0m\u001b[0;34m\u001b[0m\u001b[0;34m\u001b[0m\u001b[0m\n",
      "\u001b[0;32m~/opt/anaconda3/lib/python3.7/site-packages/selenium/webdriver/remote/webdriver.py\u001b[0m in \u001b[0;36mfind_element\u001b[0;34m(self, by, value)\u001b[0m\n\u001b[1;32m    976\u001b[0m         return self.execute(Command.FIND_ELEMENT, {\n\u001b[1;32m    977\u001b[0m             \u001b[0;34m'using'\u001b[0m\u001b[0;34m:\u001b[0m \u001b[0mby\u001b[0m\u001b[0;34m,\u001b[0m\u001b[0;34m\u001b[0m\u001b[0;34m\u001b[0m\u001b[0m\n\u001b[0;32m--> 978\u001b[0;31m             'value': value})['value']\n\u001b[0m\u001b[1;32m    979\u001b[0m \u001b[0;34m\u001b[0m\u001b[0m\n\u001b[1;32m    980\u001b[0m     \u001b[0;32mdef\u001b[0m \u001b[0mfind_elements\u001b[0m\u001b[0;34m(\u001b[0m\u001b[0mself\u001b[0m\u001b[0;34m,\u001b[0m \u001b[0mby\u001b[0m\u001b[0;34m=\u001b[0m\u001b[0mBy\u001b[0m\u001b[0;34m.\u001b[0m\u001b[0mID\u001b[0m\u001b[0;34m,\u001b[0m \u001b[0mvalue\u001b[0m\u001b[0;34m=\u001b[0m\u001b[0;32mNone\u001b[0m\u001b[0;34m)\u001b[0m\u001b[0;34m:\u001b[0m\u001b[0;34m\u001b[0m\u001b[0;34m\u001b[0m\u001b[0m\n",
      "\u001b[0;32m~/opt/anaconda3/lib/python3.7/site-packages/selenium/webdriver/remote/webdriver.py\u001b[0m in \u001b[0;36mexecute\u001b[0;34m(self, driver_command, params)\u001b[0m\n\u001b[1;32m    319\u001b[0m         \u001b[0mresponse\u001b[0m \u001b[0;34m=\u001b[0m \u001b[0mself\u001b[0m\u001b[0;34m.\u001b[0m\u001b[0mcommand_executor\u001b[0m\u001b[0;34m.\u001b[0m\u001b[0mexecute\u001b[0m\u001b[0;34m(\u001b[0m\u001b[0mdriver_command\u001b[0m\u001b[0;34m,\u001b[0m \u001b[0mparams\u001b[0m\u001b[0;34m)\u001b[0m\u001b[0;34m\u001b[0m\u001b[0;34m\u001b[0m\u001b[0m\n\u001b[1;32m    320\u001b[0m         \u001b[0;32mif\u001b[0m \u001b[0mresponse\u001b[0m\u001b[0;34m:\u001b[0m\u001b[0;34m\u001b[0m\u001b[0;34m\u001b[0m\u001b[0m\n\u001b[0;32m--> 321\u001b[0;31m             \u001b[0mself\u001b[0m\u001b[0;34m.\u001b[0m\u001b[0merror_handler\u001b[0m\u001b[0;34m.\u001b[0m\u001b[0mcheck_response\u001b[0m\u001b[0;34m(\u001b[0m\u001b[0mresponse\u001b[0m\u001b[0;34m)\u001b[0m\u001b[0;34m\u001b[0m\u001b[0;34m\u001b[0m\u001b[0m\n\u001b[0m\u001b[1;32m    322\u001b[0m             response['value'] = self._unwrap_value(\n\u001b[1;32m    323\u001b[0m                 response.get('value', None))\n",
      "\u001b[0;32m~/opt/anaconda3/lib/python3.7/site-packages/selenium/webdriver/remote/errorhandler.py\u001b[0m in \u001b[0;36mcheck_response\u001b[0;34m(self, response)\u001b[0m\n\u001b[1;32m    240\u001b[0m                 \u001b[0malert_text\u001b[0m \u001b[0;34m=\u001b[0m \u001b[0mvalue\u001b[0m\u001b[0;34m[\u001b[0m\u001b[0;34m'alert'\u001b[0m\u001b[0;34m]\u001b[0m\u001b[0;34m.\u001b[0m\u001b[0mget\u001b[0m\u001b[0;34m(\u001b[0m\u001b[0;34m'text'\u001b[0m\u001b[0;34m)\u001b[0m\u001b[0;34m\u001b[0m\u001b[0;34m\u001b[0m\u001b[0m\n\u001b[1;32m    241\u001b[0m             \u001b[0;32mraise\u001b[0m \u001b[0mexception_class\u001b[0m\u001b[0;34m(\u001b[0m\u001b[0mmessage\u001b[0m\u001b[0;34m,\u001b[0m \u001b[0mscreen\u001b[0m\u001b[0;34m,\u001b[0m \u001b[0mstacktrace\u001b[0m\u001b[0;34m,\u001b[0m \u001b[0malert_text\u001b[0m\u001b[0;34m)\u001b[0m\u001b[0;34m\u001b[0m\u001b[0;34m\u001b[0m\u001b[0m\n\u001b[0;32m--> 242\u001b[0;31m         \u001b[0;32mraise\u001b[0m \u001b[0mexception_class\u001b[0m\u001b[0;34m(\u001b[0m\u001b[0mmessage\u001b[0m\u001b[0;34m,\u001b[0m \u001b[0mscreen\u001b[0m\u001b[0;34m,\u001b[0m \u001b[0mstacktrace\u001b[0m\u001b[0;34m)\u001b[0m\u001b[0;34m\u001b[0m\u001b[0;34m\u001b[0m\u001b[0m\n\u001b[0m\u001b[1;32m    243\u001b[0m \u001b[0;34m\u001b[0m\u001b[0m\n\u001b[1;32m    244\u001b[0m     \u001b[0;32mdef\u001b[0m \u001b[0m_value_or_default\u001b[0m\u001b[0;34m(\u001b[0m\u001b[0mself\u001b[0m\u001b[0;34m,\u001b[0m \u001b[0mobj\u001b[0m\u001b[0;34m,\u001b[0m \u001b[0mkey\u001b[0m\u001b[0;34m,\u001b[0m \u001b[0mdefault\u001b[0m\u001b[0;34m)\u001b[0m\u001b[0;34m:\u001b[0m\u001b[0;34m\u001b[0m\u001b[0;34m\u001b[0m\u001b[0m\n",
      "\u001b[0;31mNoSuchElementException\u001b[0m: Message: no such element: Unable to locate element: {\"method\":\"xpath\",\"selector\":\"//*[@id=\"taplc_location_reviews_list_resp_ar_responsive_0\"]/div\"}\n  (Session info: chrome=79.0.3945.130)\n"
     ]
    }
   ],
   "source": [
    "comments(driver)"
   ]
  },
  {
   "cell_type": "code",
   "execution_count": 314,
   "metadata": {},
   "outputs": [
    {
     "ename": "NoSuchElementException",
     "evalue": "Message: no such element: Unable to locate element: {\"method\":\"xpath\",\"selector\":\"//*[@id=\"taplc_location_detail_reviews_card_0\"]/div[2]/a[2]\"}\n  (Session info: chrome=79.0.3945.130)\n",
     "output_type": "error",
     "traceback": [
      "\u001b[0;31m---------------------------------------------------------------------------\u001b[0m",
      "\u001b[0;31mNoSuchElementException\u001b[0m                    Traceback (most recent call last)",
      "\u001b[0;32m<ipython-input-314-40518cd9026a>\u001b[0m in \u001b[0;36m<module>\u001b[0;34m\u001b[0m\n\u001b[0;32m----> 1\u001b[0;31m \u001b[0mnumber_of_reviews\u001b[0m\u001b[0;34m(\u001b[0m\u001b[0mdriver\u001b[0m\u001b[0;34m)\u001b[0m\u001b[0;34m\u001b[0m\u001b[0;34m\u001b[0m\u001b[0m\n\u001b[0m",
      "\u001b[0;32m<ipython-input-313-b7b36d7598da>\u001b[0m in \u001b[0;36mnumber_of_reviews\u001b[0;34m(driver)\u001b[0m\n\u001b[1;32m     20\u001b[0m \u001b[0;31m#Find number of reviews\u001b[0m\u001b[0;34m\u001b[0m\u001b[0;34m\u001b[0m\u001b[0;34m\u001b[0m\u001b[0m\n\u001b[1;32m     21\u001b[0m \u001b[0;32mdef\u001b[0m \u001b[0mnumber_of_reviews\u001b[0m\u001b[0;34m(\u001b[0m\u001b[0mdriver\u001b[0m\u001b[0;34m)\u001b[0m\u001b[0;34m:\u001b[0m\u001b[0;34m\u001b[0m\u001b[0;34m\u001b[0m\u001b[0m\n\u001b[0;32m---> 22\u001b[0;31m     \u001b[0;32mreturn\u001b[0m \u001b[0mdriver\u001b[0m\u001b[0;34m.\u001b[0m\u001b[0mfind_element_by_xpath\u001b[0m\u001b[0;34m(\u001b[0m\u001b[0;34m'//*[@id=\"taplc_location_detail_reviews_card_0\"]/div[2]/a[2]'\u001b[0m\u001b[0;34m)\u001b[0m\u001b[0;34m.\u001b[0m\u001b[0mtext\u001b[0m\u001b[0;34m\u001b[0m\u001b[0;34m\u001b[0m\u001b[0m\n\u001b[0m\u001b[1;32m     23\u001b[0m \u001b[0;34m\u001b[0m\u001b[0m\n\u001b[1;32m     24\u001b[0m \u001b[0;31m#Find About\u001b[0m\u001b[0;34m\u001b[0m\u001b[0;34m\u001b[0m\u001b[0;34m\u001b[0m\u001b[0m\n",
      "\u001b[0;32m~/opt/anaconda3/lib/python3.7/site-packages/selenium/webdriver/remote/webdriver.py\u001b[0m in \u001b[0;36mfind_element_by_xpath\u001b[0;34m(self, xpath)\u001b[0m\n\u001b[1;32m    392\u001b[0m             \u001b[0melement\u001b[0m \u001b[0;34m=\u001b[0m \u001b[0mdriver\u001b[0m\u001b[0;34m.\u001b[0m\u001b[0mfind_element_by_xpath\u001b[0m\u001b[0;34m(\u001b[0m\u001b[0;34m'//div/td[1]'\u001b[0m\u001b[0;34m)\u001b[0m\u001b[0;34m\u001b[0m\u001b[0;34m\u001b[0m\u001b[0m\n\u001b[1;32m    393\u001b[0m         \"\"\"\n\u001b[0;32m--> 394\u001b[0;31m         \u001b[0;32mreturn\u001b[0m \u001b[0mself\u001b[0m\u001b[0;34m.\u001b[0m\u001b[0mfind_element\u001b[0m\u001b[0;34m(\u001b[0m\u001b[0mby\u001b[0m\u001b[0;34m=\u001b[0m\u001b[0mBy\u001b[0m\u001b[0;34m.\u001b[0m\u001b[0mXPATH\u001b[0m\u001b[0;34m,\u001b[0m \u001b[0mvalue\u001b[0m\u001b[0;34m=\u001b[0m\u001b[0mxpath\u001b[0m\u001b[0;34m)\u001b[0m\u001b[0;34m\u001b[0m\u001b[0;34m\u001b[0m\u001b[0m\n\u001b[0m\u001b[1;32m    395\u001b[0m \u001b[0;34m\u001b[0m\u001b[0m\n\u001b[1;32m    396\u001b[0m     \u001b[0;32mdef\u001b[0m \u001b[0mfind_elements_by_xpath\u001b[0m\u001b[0;34m(\u001b[0m\u001b[0mself\u001b[0m\u001b[0;34m,\u001b[0m \u001b[0mxpath\u001b[0m\u001b[0;34m)\u001b[0m\u001b[0;34m:\u001b[0m\u001b[0;34m\u001b[0m\u001b[0;34m\u001b[0m\u001b[0m\n",
      "\u001b[0;32m~/opt/anaconda3/lib/python3.7/site-packages/selenium/webdriver/remote/webdriver.py\u001b[0m in \u001b[0;36mfind_element\u001b[0;34m(self, by, value)\u001b[0m\n\u001b[1;32m    976\u001b[0m         return self.execute(Command.FIND_ELEMENT, {\n\u001b[1;32m    977\u001b[0m             \u001b[0;34m'using'\u001b[0m\u001b[0;34m:\u001b[0m \u001b[0mby\u001b[0m\u001b[0;34m,\u001b[0m\u001b[0;34m\u001b[0m\u001b[0;34m\u001b[0m\u001b[0m\n\u001b[0;32m--> 978\u001b[0;31m             'value': value})['value']\n\u001b[0m\u001b[1;32m    979\u001b[0m \u001b[0;34m\u001b[0m\u001b[0m\n\u001b[1;32m    980\u001b[0m     \u001b[0;32mdef\u001b[0m \u001b[0mfind_elements\u001b[0m\u001b[0;34m(\u001b[0m\u001b[0mself\u001b[0m\u001b[0;34m,\u001b[0m \u001b[0mby\u001b[0m\u001b[0;34m=\u001b[0m\u001b[0mBy\u001b[0m\u001b[0;34m.\u001b[0m\u001b[0mID\u001b[0m\u001b[0;34m,\u001b[0m \u001b[0mvalue\u001b[0m\u001b[0;34m=\u001b[0m\u001b[0;32mNone\u001b[0m\u001b[0;34m)\u001b[0m\u001b[0;34m:\u001b[0m\u001b[0;34m\u001b[0m\u001b[0;34m\u001b[0m\u001b[0m\n",
      "\u001b[0;32m~/opt/anaconda3/lib/python3.7/site-packages/selenium/webdriver/remote/webdriver.py\u001b[0m in \u001b[0;36mexecute\u001b[0;34m(self, driver_command, params)\u001b[0m\n\u001b[1;32m    319\u001b[0m         \u001b[0mresponse\u001b[0m \u001b[0;34m=\u001b[0m \u001b[0mself\u001b[0m\u001b[0;34m.\u001b[0m\u001b[0mcommand_executor\u001b[0m\u001b[0;34m.\u001b[0m\u001b[0mexecute\u001b[0m\u001b[0;34m(\u001b[0m\u001b[0mdriver_command\u001b[0m\u001b[0;34m,\u001b[0m \u001b[0mparams\u001b[0m\u001b[0;34m)\u001b[0m\u001b[0;34m\u001b[0m\u001b[0;34m\u001b[0m\u001b[0m\n\u001b[1;32m    320\u001b[0m         \u001b[0;32mif\u001b[0m \u001b[0mresponse\u001b[0m\u001b[0;34m:\u001b[0m\u001b[0;34m\u001b[0m\u001b[0;34m\u001b[0m\u001b[0m\n\u001b[0;32m--> 321\u001b[0;31m             \u001b[0mself\u001b[0m\u001b[0;34m.\u001b[0m\u001b[0merror_handler\u001b[0m\u001b[0;34m.\u001b[0m\u001b[0mcheck_response\u001b[0m\u001b[0;34m(\u001b[0m\u001b[0mresponse\u001b[0m\u001b[0;34m)\u001b[0m\u001b[0;34m\u001b[0m\u001b[0;34m\u001b[0m\u001b[0m\n\u001b[0m\u001b[1;32m    322\u001b[0m             response['value'] = self._unwrap_value(\n\u001b[1;32m    323\u001b[0m                 response.get('value', None))\n",
      "\u001b[0;32m~/opt/anaconda3/lib/python3.7/site-packages/selenium/webdriver/remote/errorhandler.py\u001b[0m in \u001b[0;36mcheck_response\u001b[0;34m(self, response)\u001b[0m\n\u001b[1;32m    240\u001b[0m                 \u001b[0malert_text\u001b[0m \u001b[0;34m=\u001b[0m \u001b[0mvalue\u001b[0m\u001b[0;34m[\u001b[0m\u001b[0;34m'alert'\u001b[0m\u001b[0;34m]\u001b[0m\u001b[0;34m.\u001b[0m\u001b[0mget\u001b[0m\u001b[0;34m(\u001b[0m\u001b[0;34m'text'\u001b[0m\u001b[0;34m)\u001b[0m\u001b[0;34m\u001b[0m\u001b[0;34m\u001b[0m\u001b[0m\n\u001b[1;32m    241\u001b[0m             \u001b[0;32mraise\u001b[0m \u001b[0mexception_class\u001b[0m\u001b[0;34m(\u001b[0m\u001b[0mmessage\u001b[0m\u001b[0;34m,\u001b[0m \u001b[0mscreen\u001b[0m\u001b[0;34m,\u001b[0m \u001b[0mstacktrace\u001b[0m\u001b[0;34m,\u001b[0m \u001b[0malert_text\u001b[0m\u001b[0;34m)\u001b[0m\u001b[0;34m\u001b[0m\u001b[0;34m\u001b[0m\u001b[0m\n\u001b[0;32m--> 242\u001b[0;31m         \u001b[0;32mraise\u001b[0m \u001b[0mexception_class\u001b[0m\u001b[0;34m(\u001b[0m\u001b[0mmessage\u001b[0m\u001b[0;34m,\u001b[0m \u001b[0mscreen\u001b[0m\u001b[0;34m,\u001b[0m \u001b[0mstacktrace\u001b[0m\u001b[0;34m)\u001b[0m\u001b[0;34m\u001b[0m\u001b[0;34m\u001b[0m\u001b[0m\n\u001b[0m\u001b[1;32m    243\u001b[0m \u001b[0;34m\u001b[0m\u001b[0m\n\u001b[1;32m    244\u001b[0m     \u001b[0;32mdef\u001b[0m \u001b[0m_value_or_default\u001b[0m\u001b[0;34m(\u001b[0m\u001b[0mself\u001b[0m\u001b[0;34m,\u001b[0m \u001b[0mobj\u001b[0m\u001b[0;34m,\u001b[0m \u001b[0mkey\u001b[0m\u001b[0;34m,\u001b[0m \u001b[0mdefault\u001b[0m\u001b[0;34m)\u001b[0m\u001b[0;34m:\u001b[0m\u001b[0;34m\u001b[0m\u001b[0;34m\u001b[0m\u001b[0m\n",
      "\u001b[0;31mNoSuchElementException\u001b[0m: Message: no such element: Unable to locate element: {\"method\":\"xpath\",\"selector\":\"//*[@id=\"taplc_location_detail_reviews_card_0\"]/div[2]/a[2]\"}\n  (Session info: chrome=79.0.3945.130)\n"
     ]
    }
   ],
   "source": [
    "number_of_reviews(driver)"
   ]
  },
  {
   "cell_type": "markdown",
   "metadata": {},
   "source": [
    "## Secondary Definitions"
   ]
  },
  {
   "cell_type": "code",
   "execution_count": 171,
   "metadata": {},
   "outputs": [
    {
     "data": {
      "text/plain": [
       "'Greek Folk Art Museum (Museo Ellinikis Laikis Technis)'"
      ]
     },
     "execution_count": 171,
     "metadata": {},
     "output_type": "execute_result"
    }
   ],
   "source": [
    "driver.find_element_by_xpath('//*[@id=\"component_23\"]/div/div/div[1]/div[1]/div/div/div[1]/h1').text"
   ]
  },
  {
   "cell_type": "code",
   "execution_count": 173,
   "metadata": {},
   "outputs": [
    {
     "data": {
      "text/plain": [
       "'#131 of 319 things to do in Athens'"
      ]
     },
     "execution_count": 173,
     "metadata": {},
     "output_type": "execute_result"
    }
   ],
   "source": [
    "driver.find_element_by_xpath('//*[@id=\"component_23\"]/div/div/div[1]/div[1]/div/div/div[2]/div/ul/li[1]/div/div/span').text"
   ]
  },
  {
   "cell_type": "code",
   "execution_count": 177,
   "metadata": {},
   "outputs": [
    {
     "data": {
      "text/plain": [
       "'Museums, Art Museums'"
      ]
     },
     "execution_count": 177,
     "metadata": {},
     "output_type": "execute_result"
    }
   ],
   "source": [
    "driver.find_element_by_xpath('//*[@id=\"component_23\"]/div/div/div[1]/div[1]/div/div/div[2]/div/ul/li[3]/span/div').text"
   ]
  },
  {
   "cell_type": "code",
   "execution_count": 179,
   "metadata": {},
   "outputs": [
    {
     "data": {
      "text/plain": [
       "'\"House on Panos Street - Man and Tools\"\\nThis is a fascinating little museum and only 3 Euros. It is on the street between the Acropolis and...Read more\\nReviewed June 26, 2018\\n817kathye\\n\"Nothing here.\"\\nMusuem empty but still charged admission fee. Only thing of interest was the old bath house but not ...Read more\\nReviewed April 2, 2017\\npartial_eclipse'"
      ]
     },
     "execution_count": 179,
     "metadata": {},
     "output_type": "execute_result"
    }
   ],
   "source": [
    "driver.find_element_by_xpath('//*[@id=\"component_23\"]/div/div/div[1]/div[2]/div/div[2]').text"
   ]
  },
  {
   "cell_type": "code",
   "execution_count": 181,
   "metadata": {},
   "outputs": [
    {
     "data": {
      "text/plain": [
       "'42 Reviews'"
      ]
     },
     "execution_count": 181,
     "metadata": {},
     "output_type": "execute_result"
    }
   ],
   "source": [
    "driver.find_element_by_xpath('//*[@id=\"component_23\"]/div/div/div[1]/div[1]/div/div/div[1]/div/span[2]').text"
   ]
  },
  {
   "cell_type": "code",
   "execution_count": 182,
   "metadata": {},
   "outputs": [
    {
     "data": {
      "text/plain": [
       "\"Traveller rating\\nExcellent 16\\nVery Good 18\\nAverage 5\\nPoor 0\\nTerrible 3\\nTraveller type\\nFamilies\\nCouples\\nSolo\\nBusiness\\nFriends\\nTime of year\\nMar-May\\nJun-Aug\\nSep-Nov\\nDec-Feb\\nLanguage\\nAll languages\\nEnglish(28)\\nGreek(3)\\nFrench(2)\\nMore\\nKathy E wrote a review Jun. 2018\\nPortland, Oregon2,696 contributions148 helpful votes\\nHouse on Panos Street - Man and Tools\\nThis is a fascinating little museum and only 3 Euros. It is on the street between the Acropolis and the Ancient Agora. We were in need of a few minutes sitting down (and a clean restroom) and went into this little gem. It won't be a highlight of your trip, but it is…\\nRead more\\nDate of experience: May 2018\\nHelpful\\nShare\\npartial_eclipse wrote a review Apr. 2017\\n32 contributions7 helpful votes\\nNothing here.\\nMusuem empty but still charged admission fee. Only thing of interest was the old bath house but not worth paying to get in.\\nRead more\\nDate of experience: April 2017\\nHelpful\\nShare\\nVanessa_Fou wrote a review Dec. 2015\\nAthens, Greece193 contributions85 helpful votes\\nThis museum is now closed - waiting for the new one!\\nThe Greek Folk Art Museum consists of several buildings, namely the Bath House of the Winds, the Tools Museum on 22 Panos Street, the Tzisdarakis Mosque (now closed to the public) and the Central Building (now closed to the public). This review is for the Central Building, which…\\nRead more\\nDate of experience: January 2015\\nHelpful\\nShare\\noccultlibrarian wrote a review Jul. 2015\\nWashington DC, District of Columbia22 contributions10 helpful votes\\nAn interesting little museum\\nIt is right in the Plaka and was very interesting to see the collections of the more modern Hellenic cultures. If you find yourself with some additional time, it is worth it.\\nRead more\\nDate of experience: June 2015\\nHelpful\\nShare\\njohnelse wrote a review Jun. 2015\\nBurnsville, North Carolina82 contributions16 helpful votes\\nSmall museum tucked away\\nWhat a gem. This small museum of Folk Art includes old Tools, ceramics, wall graphics of how things were with fabulous photo of the Greek people and so much more. Two floors of well presented exhibits. Cost of Entry was 2 euros.\\nRead more\\nDate of experience: June 2015\\nHelpful\\nShare\\nPrevious\\nNext\\n123456\""
      ]
     },
     "execution_count": 182,
     "metadata": {},
     "output_type": "execute_result"
    }
   ],
   "source": [
    "driver.find_element_by_xpath('//*[@id=\"component_22\"]/div[3]/div').text"
   ]
  },
  {
   "cell_type": "code",
   "execution_count": null,
   "metadata": {},
   "outputs": [],
   "source": [
    "driver.find_element_by_xpath('').text"
   ]
  },
  {
   "cell_type": "code",
   "execution_count": null,
   "metadata": {},
   "outputs": [],
   "source": [
    "driver.find_element_by_xpath('').text"
   ]
  },
  {
   "cell_type": "code",
   "execution_count": null,
   "metadata": {},
   "outputs": [],
   "source": [
    "driver.find_element_by_xpath('').text"
   ]
  },
  {
   "cell_type": "code",
   "execution_count": null,
   "metadata": {},
   "outputs": [],
   "source": [
    "driver.find_element_by_xpath('').text"
   ]
  },
  {
   "cell_type": "code",
   "execution_count": null,
   "metadata": {},
   "outputs": [],
   "source": []
  },
  {
   "cell_type": "code",
   "execution_count": 334,
   "metadata": {},
   "outputs": [],
   "source": [
    "def find_name(driver):\n",
    "    return driver.find_element_by_xpath('//*[@id=\"component_20\"]/div/div/div[1]/div[1]/div/div/div[1]/h1').text\n",
    "\n",
    "def find_no_things_to_do(driver):\n",
    "    return driver.find_element_by_xpath('//*[@id=\"component_20\"]/div/div/div[1]/div[1]/div/div/div[2]/div/ul/li[1]/div/div/span').text\n",
    "\n",
    "#Find sights and landmarks\n",
    "def find_sights_landmarks(driver):\n",
    "    return driver.find_element_by_xpath('//*[@id=\"component_20\"]/div/div/div[1]/div[1]/div/div/div[2]/div/ul/li[3]/span/div').text\n",
    "\n",
    "# Find Address\n",
    "def find_address(driver):\n",
    "    return driver.find_element_by_xpath('//*[@id=\"taplc_resp_attraction_header_ar_responsive_0\"]/div/div[2]/div/div[1]/div/div').text\n",
    "\n",
    "\n",
    "#Find summary overview\n",
    "def find_summary_overview(driver):\n",
    "    return driver.find_element_by_xpath('//*[@id=\"component_20\"]/div/div/div[1]/div[2]/div/div[2]').text\n",
    "\n",
    "#Find number of reviews\n",
    "def number_of_reviews(driver):\n",
    "    return driver.find_element_by_xpath('//*[@id=\"component_20\"]/div/div/div[1]/div[1]/div/div/div[1]/div/span[2]').text\n",
    "#Find About\n",
    "def about_box(driver):\n",
    "    return driver.find_element_by_xpath('//*[@id=\"taplc_location_detail_overview_resp_ar_responsive_0\"]/div/div/div[2]').text\n",
    "\n",
    "#Find The Popular Mentions in comments\n",
    "def popular_mentions(driver):\n",
    "    return driver.find_element_by_xpath('//*[@id=\"taplc_detail_filters_ar_responsive_0\"]/div/div[2]/div[3]/div').text.split('\\n')\n",
    "\n",
    "#Find 10 Most recent comments \n",
    "def comments(driver):\n",
    "    return driver.find_element_by_xpath('//*[@id=\"component_19\"]/div[3]/div').text\n",
    "\n",
    "#click the next button\n",
    "\n",
    "def nextbutton(driver):\n",
    "    for j in driver.find_elements_by_class_name('next'):\n",
    "        if j.text=='Next':\n",
    "            next_button = j\n",
    "            try:\n",
    "                return next_button.click()\n",
    "                break\n",
    "            except:\n",
    "                return False\n",
    "                break\n",
    "                \n",
    "                \n",
    "def morebutton(driver):\n",
    "    try:\n",
    "        more_button = driver.find_element_by_class_name('location-review-review-list-parts-ExpandableReview__cta--2mR2g')\n",
    "        return more_button.click()\n",
    "    except:\n",
    "        return False\n",
    "    \n",
    "# def morebutton(driver):\n",
    "#     try: \n",
    "#         more_button = driver.find_element_by_class_name('ulBlueLinks')\n",
    "#         return more_button.click()\n",
    "#     except:\n",
    "#         return False\n",
    "    \n",
    "    \n",
    "            \n",
    "\n",
    "# def reviews(driver):\n",
    "#     return driver.find_element_by_css_selector('#component_21 > div > div > div.attractions-attraction-review-atf-AttractionReviewATFLayout__atf_left_column--1ogzd > div.attractions-attraction-review-atf-AttractionReviewATFLayout__atf_component--2Qflo.attractions-attraction-review-atf-AttractionReviewATFLayout__header_container--dAJtk > div > div > div.ui_column.is-12-tablet.is-10-mobile.attractions-attraction-review-header-attraction-review-header__order0--1bYeG.attractions-attraction-review-header-attraction-review-header__columns--2j94i > h1').text"
   ]
  },
  {
   "cell_type": "code",
   "execution_count": 335,
   "metadata": {},
   "outputs": [
    {
     "data": {
      "text/plain": [
       "'280 Reviews'"
      ]
     },
     "execution_count": 335,
     "metadata": {},
     "output_type": "execute_result"
    }
   ],
   "source": [
    "\n",
    "driver.find_element_by_xpath('//*[@id=\"component_20\"]/div/div/div[1]/div[1]/div/div/div[1]/div/span[2]').text\n"
   ]
  },
  {
   "cell_type": "code",
   "execution_count": 336,
   "metadata": {},
   "outputs": [
    {
     "data": {
      "text/plain": [
       "'280 Reviews'"
      ]
     },
     "execution_count": 336,
     "metadata": {},
     "output_type": "execute_result"
    }
   ],
   "source": [
    "number_of_reviews(driver)"
   ]
  },
  {
   "cell_type": "code",
   "execution_count": 337,
   "metadata": {},
   "outputs": [
    {
     "data": {
      "text/plain": [
       "\"Every beer lover who visits Santorini must do a tasting at one of the best breweries I've ever experienced!\""
      ]
     },
     "execution_count": 337,
     "metadata": {},
     "output_type": "execute_result"
    }
   ],
   "source": [
    "find_summary_overview(driver)"
   ]
  },
  {
   "cell_type": "code",
   "execution_count": 339,
   "metadata": {},
   "outputs": [
    {
     "data": {
      "text/plain": [
       "\"Traveller rating\\nExcellent 155\\nVery Good 80\\nAverage 26\\nPoor 14\\nTerrible 5\\nTraveller type\\nFamilies\\nCouples\\nSolo\\nBusiness\\nFriends\\nTime of year\\nMar-May\\nJun-Aug\\nSep-Nov\\nDec-Feb\\nLanguage\\nAll languages\\nEnglish(218)\\nItalian(20)\\nGerman(7)\\nMore\\nPopular mentions\\nAll reviewscrazy donkeyyellow donkeyt shirtsfree tastingbeer tastingdonkey beerslove beermicro brewerynice beergreat breweryquick visitsmall batchexo goniaworth a stopbuy a bottlebus stoptasting areaour honeymoonmerchandiseipa\\nAnn Shen wrote a review Nov. 2019\\n17 contributions1 helpful vote\\nSmall batch beers\\nThe beers made at Santorini brewing company are quite interesting and unique. Our pours were generous and we learnt a lot about each of their beers, the best of which was definitey Slow Donkey. Worth a stop over and a beer palate cleanser in between all of the wine.\\nRead more\\nDate of experience: October 2019\\nHelpful\\nShare\\nLLV280Z wrote a review Oct. 2019\\nDaytona Beach, Florida75 contributions10 helpful votes\\nLoved the Crazy Donkey Brewery\\nThis brewery in Mesa Gonia on Santorini was quite cool and unusual. Not only can you taste the various beer but you can get some funny gifts for beer drinkers back home. You can't do more than taste inside but you can buy beer to go. Especially if you are a beer fanatic, don't…\\nRead more\\nDate of experience: October 2019\\nHelpful\\nShare\\nBobby59 wrote a review Oct. 2019\\nTigard Oregon111 contributions40 helpful votes\\nBest IPA\\nThis brewey has a great IPA called crazy donkey, It seems its only bottled in 750ml bottles but thats okay because more is better with this beer. Nice little place to stop and tour. They will pour you samples(except for the crazy donkey and one other) or if you like you can…\\nRead more\\nDate of experience: September 2019\\nHelpful\\nShare\\nJessica Y wrote a review Oct. 2019\\nNew York City, New York293 contributions74 helpful votes\\nNice for a quick stop\\nWe love beer and have visited numerous breweries around the world, so of course had to stop here after sampling the various Donkeys while out and about in Santorini. The place is very small, with samples available. Due to the small size, there's not much else to do (spent about…\\nRead more\\nDate of experience: September 2019\\nHelpful\\nShare\\nStefan P wrote a review Oct. 2019\\nOxie, Sweden9 contributions1 helpful vote\\nNice beer tasting.\\nWe actually visited in september 2018, but cannot pick any date older than november. Friendly staff and the slow donkey tasted great!\\nRead more\\nDate of experience: November 2018\\nHelpful\\nShare\\nPrevious\\nNext\\n123456…44\""
      ]
     },
     "execution_count": 339,
     "metadata": {},
     "output_type": "execute_result"
    }
   ],
   "source": [
    "comments(driver)"
   ]
  },
  {
   "cell_type": "code",
   "execution_count": 324,
   "metadata": {},
   "outputs": [],
   "source": [
    "def morebutton(driver):\n",
    "    try:\n",
    "        more_button = driver.find_element_by_class_name('location-review-review-list-parts-ExpandableReview__cta--2mR2g')\n",
    "        return more_button.click()\n",
    "    except:\n",
    "        return False\n",
    "    "
   ]
  },
  {
   "cell_type": "code",
   "execution_count": 210,
   "metadata": {},
   "outputs": [],
   "source": [
    "def nextbutton(driver):\n",
    "    for j in driver.find_elements_by_class_name('next'):\n",
    "        if j.text=='Next':\n",
    "            next_button = j\n",
    "            try:\n",
    "                return next_button.click()\n",
    "                break\n",
    "            except:\n",
    "                return False\n",
    "                break"
   ]
  },
  {
   "cell_type": "code",
   "execution_count": 326,
   "metadata": {},
   "outputs": [
    {
     "ename": "NoSuchElementException",
     "evalue": "Message: no such element: Unable to locate element: {\"method\":\"xpath\",\"selector\":\"//*[@id=\"component_22\"]/div[3]/div\"}\n  (Session info: chrome=79.0.3945.130)\n",
     "output_type": "error",
     "traceback": [
      "\u001b[0;31m---------------------------------------------------------------------------\u001b[0m",
      "\u001b[0;31mNoSuchElementException\u001b[0m                    Traceback (most recent call last)",
      "\u001b[0;32m<ipython-input-326-675be112152c>\u001b[0m in \u001b[0;36m<module>\u001b[0;34m\u001b[0m\n\u001b[0;32m----> 1\u001b[0;31m \u001b[0mcomments\u001b[0m\u001b[0;34m(\u001b[0m\u001b[0mdriver\u001b[0m\u001b[0;34m)\u001b[0m\u001b[0;34m\u001b[0m\u001b[0;34m\u001b[0m\u001b[0m\n\u001b[0m",
      "\u001b[0;32m<ipython-input-325-778dfa0a9307>\u001b[0m in \u001b[0;36mcomments\u001b[0;34m(driver)\u001b[0m\n\u001b[1;32m     32\u001b[0m \u001b[0;31m#Find 10 Most recent comments\u001b[0m\u001b[0;34m\u001b[0m\u001b[0;34m\u001b[0m\u001b[0;34m\u001b[0m\u001b[0m\n\u001b[1;32m     33\u001b[0m \u001b[0;32mdef\u001b[0m \u001b[0mcomments\u001b[0m\u001b[0;34m(\u001b[0m\u001b[0mdriver\u001b[0m\u001b[0;34m)\u001b[0m\u001b[0;34m:\u001b[0m\u001b[0;34m\u001b[0m\u001b[0;34m\u001b[0m\u001b[0m\n\u001b[0;32m---> 34\u001b[0;31m     \u001b[0;32mreturn\u001b[0m \u001b[0mdriver\u001b[0m\u001b[0;34m.\u001b[0m\u001b[0mfind_element_by_xpath\u001b[0m\u001b[0;34m(\u001b[0m\u001b[0;34m'//*[@id=\"component_22\"]/div[3]/div'\u001b[0m\u001b[0;34m)\u001b[0m\u001b[0;34m.\u001b[0m\u001b[0mtext\u001b[0m\u001b[0;34m\u001b[0m\u001b[0;34m\u001b[0m\u001b[0m\n\u001b[0m\u001b[1;32m     35\u001b[0m \u001b[0;34m\u001b[0m\u001b[0m\n\u001b[1;32m     36\u001b[0m \u001b[0;31m#click the next button\u001b[0m\u001b[0;34m\u001b[0m\u001b[0;34m\u001b[0m\u001b[0;34m\u001b[0m\u001b[0m\n",
      "\u001b[0;32m~/opt/anaconda3/lib/python3.7/site-packages/selenium/webdriver/remote/webdriver.py\u001b[0m in \u001b[0;36mfind_element_by_xpath\u001b[0;34m(self, xpath)\u001b[0m\n\u001b[1;32m    392\u001b[0m             \u001b[0melement\u001b[0m \u001b[0;34m=\u001b[0m \u001b[0mdriver\u001b[0m\u001b[0;34m.\u001b[0m\u001b[0mfind_element_by_xpath\u001b[0m\u001b[0;34m(\u001b[0m\u001b[0;34m'//div/td[1]'\u001b[0m\u001b[0;34m)\u001b[0m\u001b[0;34m\u001b[0m\u001b[0;34m\u001b[0m\u001b[0m\n\u001b[1;32m    393\u001b[0m         \"\"\"\n\u001b[0;32m--> 394\u001b[0;31m         \u001b[0;32mreturn\u001b[0m \u001b[0mself\u001b[0m\u001b[0;34m.\u001b[0m\u001b[0mfind_element\u001b[0m\u001b[0;34m(\u001b[0m\u001b[0mby\u001b[0m\u001b[0;34m=\u001b[0m\u001b[0mBy\u001b[0m\u001b[0;34m.\u001b[0m\u001b[0mXPATH\u001b[0m\u001b[0;34m,\u001b[0m \u001b[0mvalue\u001b[0m\u001b[0;34m=\u001b[0m\u001b[0mxpath\u001b[0m\u001b[0;34m)\u001b[0m\u001b[0;34m\u001b[0m\u001b[0;34m\u001b[0m\u001b[0m\n\u001b[0m\u001b[1;32m    395\u001b[0m \u001b[0;34m\u001b[0m\u001b[0m\n\u001b[1;32m    396\u001b[0m     \u001b[0;32mdef\u001b[0m \u001b[0mfind_elements_by_xpath\u001b[0m\u001b[0;34m(\u001b[0m\u001b[0mself\u001b[0m\u001b[0;34m,\u001b[0m \u001b[0mxpath\u001b[0m\u001b[0;34m)\u001b[0m\u001b[0;34m:\u001b[0m\u001b[0;34m\u001b[0m\u001b[0;34m\u001b[0m\u001b[0m\n",
      "\u001b[0;32m~/opt/anaconda3/lib/python3.7/site-packages/selenium/webdriver/remote/webdriver.py\u001b[0m in \u001b[0;36mfind_element\u001b[0;34m(self, by, value)\u001b[0m\n\u001b[1;32m    976\u001b[0m         return self.execute(Command.FIND_ELEMENT, {\n\u001b[1;32m    977\u001b[0m             \u001b[0;34m'using'\u001b[0m\u001b[0;34m:\u001b[0m \u001b[0mby\u001b[0m\u001b[0;34m,\u001b[0m\u001b[0;34m\u001b[0m\u001b[0;34m\u001b[0m\u001b[0m\n\u001b[0;32m--> 978\u001b[0;31m             'value': value})['value']\n\u001b[0m\u001b[1;32m    979\u001b[0m \u001b[0;34m\u001b[0m\u001b[0m\n\u001b[1;32m    980\u001b[0m     \u001b[0;32mdef\u001b[0m \u001b[0mfind_elements\u001b[0m\u001b[0;34m(\u001b[0m\u001b[0mself\u001b[0m\u001b[0;34m,\u001b[0m \u001b[0mby\u001b[0m\u001b[0;34m=\u001b[0m\u001b[0mBy\u001b[0m\u001b[0;34m.\u001b[0m\u001b[0mID\u001b[0m\u001b[0;34m,\u001b[0m \u001b[0mvalue\u001b[0m\u001b[0;34m=\u001b[0m\u001b[0;32mNone\u001b[0m\u001b[0;34m)\u001b[0m\u001b[0;34m:\u001b[0m\u001b[0;34m\u001b[0m\u001b[0;34m\u001b[0m\u001b[0m\n",
      "\u001b[0;32m~/opt/anaconda3/lib/python3.7/site-packages/selenium/webdriver/remote/webdriver.py\u001b[0m in \u001b[0;36mexecute\u001b[0;34m(self, driver_command, params)\u001b[0m\n\u001b[1;32m    319\u001b[0m         \u001b[0mresponse\u001b[0m \u001b[0;34m=\u001b[0m \u001b[0mself\u001b[0m\u001b[0;34m.\u001b[0m\u001b[0mcommand_executor\u001b[0m\u001b[0;34m.\u001b[0m\u001b[0mexecute\u001b[0m\u001b[0;34m(\u001b[0m\u001b[0mdriver_command\u001b[0m\u001b[0;34m,\u001b[0m \u001b[0mparams\u001b[0m\u001b[0;34m)\u001b[0m\u001b[0;34m\u001b[0m\u001b[0;34m\u001b[0m\u001b[0m\n\u001b[1;32m    320\u001b[0m         \u001b[0;32mif\u001b[0m \u001b[0mresponse\u001b[0m\u001b[0;34m:\u001b[0m\u001b[0;34m\u001b[0m\u001b[0;34m\u001b[0m\u001b[0m\n\u001b[0;32m--> 321\u001b[0;31m             \u001b[0mself\u001b[0m\u001b[0;34m.\u001b[0m\u001b[0merror_handler\u001b[0m\u001b[0;34m.\u001b[0m\u001b[0mcheck_response\u001b[0m\u001b[0;34m(\u001b[0m\u001b[0mresponse\u001b[0m\u001b[0;34m)\u001b[0m\u001b[0;34m\u001b[0m\u001b[0;34m\u001b[0m\u001b[0m\n\u001b[0m\u001b[1;32m    322\u001b[0m             response['value'] = self._unwrap_value(\n\u001b[1;32m    323\u001b[0m                 response.get('value', None))\n",
      "\u001b[0;32m~/opt/anaconda3/lib/python3.7/site-packages/selenium/webdriver/remote/errorhandler.py\u001b[0m in \u001b[0;36mcheck_response\u001b[0;34m(self, response)\u001b[0m\n\u001b[1;32m    240\u001b[0m                 \u001b[0malert_text\u001b[0m \u001b[0;34m=\u001b[0m \u001b[0mvalue\u001b[0m\u001b[0;34m[\u001b[0m\u001b[0;34m'alert'\u001b[0m\u001b[0;34m]\u001b[0m\u001b[0;34m.\u001b[0m\u001b[0mget\u001b[0m\u001b[0;34m(\u001b[0m\u001b[0;34m'text'\u001b[0m\u001b[0;34m)\u001b[0m\u001b[0;34m\u001b[0m\u001b[0;34m\u001b[0m\u001b[0m\n\u001b[1;32m    241\u001b[0m             \u001b[0;32mraise\u001b[0m \u001b[0mexception_class\u001b[0m\u001b[0;34m(\u001b[0m\u001b[0mmessage\u001b[0m\u001b[0;34m,\u001b[0m \u001b[0mscreen\u001b[0m\u001b[0;34m,\u001b[0m \u001b[0mstacktrace\u001b[0m\u001b[0;34m,\u001b[0m \u001b[0malert_text\u001b[0m\u001b[0;34m)\u001b[0m\u001b[0;34m\u001b[0m\u001b[0;34m\u001b[0m\u001b[0m\n\u001b[0;32m--> 242\u001b[0;31m         \u001b[0;32mraise\u001b[0m \u001b[0mexception_class\u001b[0m\u001b[0;34m(\u001b[0m\u001b[0mmessage\u001b[0m\u001b[0;34m,\u001b[0m \u001b[0mscreen\u001b[0m\u001b[0;34m,\u001b[0m \u001b[0mstacktrace\u001b[0m\u001b[0;34m)\u001b[0m\u001b[0;34m\u001b[0m\u001b[0;34m\u001b[0m\u001b[0m\n\u001b[0m\u001b[1;32m    243\u001b[0m \u001b[0;34m\u001b[0m\u001b[0m\n\u001b[1;32m    244\u001b[0m     \u001b[0;32mdef\u001b[0m \u001b[0m_value_or_default\u001b[0m\u001b[0;34m(\u001b[0m\u001b[0mself\u001b[0m\u001b[0;34m,\u001b[0m \u001b[0mobj\u001b[0m\u001b[0;34m,\u001b[0m \u001b[0mkey\u001b[0m\u001b[0;34m,\u001b[0m \u001b[0mdefault\u001b[0m\u001b[0;34m)\u001b[0m\u001b[0;34m:\u001b[0m\u001b[0;34m\u001b[0m\u001b[0;34m\u001b[0m\u001b[0m\n",
      "\u001b[0;31mNoSuchElementException\u001b[0m: Message: no such element: Unable to locate element: {\"method\":\"xpath\",\"selector\":\"//*[@id=\"component_22\"]/div[3]/div\"}\n  (Session info: chrome=79.0.3945.130)\n"
     ]
    }
   ],
   "source": [
    "comments(driver)"
   ]
  },
  {
   "cell_type": "code",
   "execution_count": 322,
   "metadata": {
    "scrolled": true
   },
   "outputs": [
    {
     "data": {
      "text/plain": [
       "\"Manuela wrote a review Jan. 2020\\nTurin, Italy13 contributions1 helpful vote\\nFantastic articles and very professional staff\\nI discovered Mati during a holiday in Santorini some years ago. Since from the beginning I thought that it was fantastic. Few weeks ago I've bought a Christmas present contacting Mati by email. Mrs Diana was very kind and very professional, she gave me excellent suggestions .…\\nRead more\\nDate of experience: January 2020\\nHelpful\\nShare\\nResponse from Alex K, General Manager at MATI Art Gallery\\nResponded 2 weeks ago\\nGood afternoon, Thank you very much for kind words, we really appreciate your feedback! Thank you again for the purchase and of course if you need anything we are here to help! All the best, Alex Kypris\\nRead more\""
      ]
     },
     "execution_count": 322,
     "metadata": {},
     "output_type": "execute_result"
    }
   ],
   "source": [
    "driver.find_element_by_xpath('//*[@id=\"component_19\"]/div[3]/div/div[3]').text"
   ]
  },
  {
   "cell_type": "code",
   "execution_count": null,
   "metadata": {},
   "outputs": [],
   "source": []
  },
  {
   "cell_type": "code",
   "execution_count": 319,
   "metadata": {},
   "outputs": [
    {
     "ename": "NoSuchElementException",
     "evalue": "Message: no such element: Unable to locate element: {\"method\":\"xpath\",\"selector\":\"//*[@id=\"component_22\"]/div[3]/div\"}\n  (Session info: chrome=79.0.3945.130)\n",
     "output_type": "error",
     "traceback": [
      "\u001b[0;31m---------------------------------------------------------------------------\u001b[0m",
      "\u001b[0;31mNoSuchElementException\u001b[0m                    Traceback (most recent call last)",
      "\u001b[0;32m<ipython-input-319-ece2f0c35fc4>\u001b[0m in \u001b[0;36m<module>\u001b[0;34m\u001b[0m\n\u001b[0;32m----> 1\u001b[0;31m \u001b[0mdriver\u001b[0m\u001b[0;34m.\u001b[0m\u001b[0mfind_element_by_xpath\u001b[0m\u001b[0;34m(\u001b[0m\u001b[0;34m'//*[@id=\"component_22\"]/div[3]/div'\u001b[0m\u001b[0;34m)\u001b[0m\u001b[0;34m\u001b[0m\u001b[0;34m\u001b[0m\u001b[0m\n\u001b[0m",
      "\u001b[0;32m~/opt/anaconda3/lib/python3.7/site-packages/selenium/webdriver/remote/webdriver.py\u001b[0m in \u001b[0;36mfind_element_by_xpath\u001b[0;34m(self, xpath)\u001b[0m\n\u001b[1;32m    392\u001b[0m             \u001b[0melement\u001b[0m \u001b[0;34m=\u001b[0m \u001b[0mdriver\u001b[0m\u001b[0;34m.\u001b[0m\u001b[0mfind_element_by_xpath\u001b[0m\u001b[0;34m(\u001b[0m\u001b[0;34m'//div/td[1]'\u001b[0m\u001b[0;34m)\u001b[0m\u001b[0;34m\u001b[0m\u001b[0;34m\u001b[0m\u001b[0m\n\u001b[1;32m    393\u001b[0m         \"\"\"\n\u001b[0;32m--> 394\u001b[0;31m         \u001b[0;32mreturn\u001b[0m \u001b[0mself\u001b[0m\u001b[0;34m.\u001b[0m\u001b[0mfind_element\u001b[0m\u001b[0;34m(\u001b[0m\u001b[0mby\u001b[0m\u001b[0;34m=\u001b[0m\u001b[0mBy\u001b[0m\u001b[0;34m.\u001b[0m\u001b[0mXPATH\u001b[0m\u001b[0;34m,\u001b[0m \u001b[0mvalue\u001b[0m\u001b[0;34m=\u001b[0m\u001b[0mxpath\u001b[0m\u001b[0;34m)\u001b[0m\u001b[0;34m\u001b[0m\u001b[0;34m\u001b[0m\u001b[0m\n\u001b[0m\u001b[1;32m    395\u001b[0m \u001b[0;34m\u001b[0m\u001b[0m\n\u001b[1;32m    396\u001b[0m     \u001b[0;32mdef\u001b[0m \u001b[0mfind_elements_by_xpath\u001b[0m\u001b[0;34m(\u001b[0m\u001b[0mself\u001b[0m\u001b[0;34m,\u001b[0m \u001b[0mxpath\u001b[0m\u001b[0;34m)\u001b[0m\u001b[0;34m:\u001b[0m\u001b[0;34m\u001b[0m\u001b[0;34m\u001b[0m\u001b[0m\n",
      "\u001b[0;32m~/opt/anaconda3/lib/python3.7/site-packages/selenium/webdriver/remote/webdriver.py\u001b[0m in \u001b[0;36mfind_element\u001b[0;34m(self, by, value)\u001b[0m\n\u001b[1;32m    976\u001b[0m         return self.execute(Command.FIND_ELEMENT, {\n\u001b[1;32m    977\u001b[0m             \u001b[0;34m'using'\u001b[0m\u001b[0;34m:\u001b[0m \u001b[0mby\u001b[0m\u001b[0;34m,\u001b[0m\u001b[0;34m\u001b[0m\u001b[0;34m\u001b[0m\u001b[0m\n\u001b[0;32m--> 978\u001b[0;31m             'value': value})['value']\n\u001b[0m\u001b[1;32m    979\u001b[0m \u001b[0;34m\u001b[0m\u001b[0m\n\u001b[1;32m    980\u001b[0m     \u001b[0;32mdef\u001b[0m \u001b[0mfind_elements\u001b[0m\u001b[0;34m(\u001b[0m\u001b[0mself\u001b[0m\u001b[0;34m,\u001b[0m \u001b[0mby\u001b[0m\u001b[0;34m=\u001b[0m\u001b[0mBy\u001b[0m\u001b[0;34m.\u001b[0m\u001b[0mID\u001b[0m\u001b[0;34m,\u001b[0m \u001b[0mvalue\u001b[0m\u001b[0;34m=\u001b[0m\u001b[0;32mNone\u001b[0m\u001b[0;34m)\u001b[0m\u001b[0;34m:\u001b[0m\u001b[0;34m\u001b[0m\u001b[0;34m\u001b[0m\u001b[0m\n",
      "\u001b[0;32m~/opt/anaconda3/lib/python3.7/site-packages/selenium/webdriver/remote/webdriver.py\u001b[0m in \u001b[0;36mexecute\u001b[0;34m(self, driver_command, params)\u001b[0m\n\u001b[1;32m    319\u001b[0m         \u001b[0mresponse\u001b[0m \u001b[0;34m=\u001b[0m \u001b[0mself\u001b[0m\u001b[0;34m.\u001b[0m\u001b[0mcommand_executor\u001b[0m\u001b[0;34m.\u001b[0m\u001b[0mexecute\u001b[0m\u001b[0;34m(\u001b[0m\u001b[0mdriver_command\u001b[0m\u001b[0;34m,\u001b[0m \u001b[0mparams\u001b[0m\u001b[0;34m)\u001b[0m\u001b[0;34m\u001b[0m\u001b[0;34m\u001b[0m\u001b[0m\n\u001b[1;32m    320\u001b[0m         \u001b[0;32mif\u001b[0m \u001b[0mresponse\u001b[0m\u001b[0;34m:\u001b[0m\u001b[0;34m\u001b[0m\u001b[0;34m\u001b[0m\u001b[0m\n\u001b[0;32m--> 321\u001b[0;31m             \u001b[0mself\u001b[0m\u001b[0;34m.\u001b[0m\u001b[0merror_handler\u001b[0m\u001b[0;34m.\u001b[0m\u001b[0mcheck_response\u001b[0m\u001b[0;34m(\u001b[0m\u001b[0mresponse\u001b[0m\u001b[0;34m)\u001b[0m\u001b[0;34m\u001b[0m\u001b[0;34m\u001b[0m\u001b[0m\n\u001b[0m\u001b[1;32m    322\u001b[0m             response['value'] = self._unwrap_value(\n\u001b[1;32m    323\u001b[0m                 response.get('value', None))\n",
      "\u001b[0;32m~/opt/anaconda3/lib/python3.7/site-packages/selenium/webdriver/remote/errorhandler.py\u001b[0m in \u001b[0;36mcheck_response\u001b[0;34m(self, response)\u001b[0m\n\u001b[1;32m    240\u001b[0m                 \u001b[0malert_text\u001b[0m \u001b[0;34m=\u001b[0m \u001b[0mvalue\u001b[0m\u001b[0;34m[\u001b[0m\u001b[0;34m'alert'\u001b[0m\u001b[0;34m]\u001b[0m\u001b[0;34m.\u001b[0m\u001b[0mget\u001b[0m\u001b[0;34m(\u001b[0m\u001b[0;34m'text'\u001b[0m\u001b[0;34m)\u001b[0m\u001b[0;34m\u001b[0m\u001b[0;34m\u001b[0m\u001b[0m\n\u001b[1;32m    241\u001b[0m             \u001b[0;32mraise\u001b[0m \u001b[0mexception_class\u001b[0m\u001b[0;34m(\u001b[0m\u001b[0mmessage\u001b[0m\u001b[0;34m,\u001b[0m \u001b[0mscreen\u001b[0m\u001b[0;34m,\u001b[0m \u001b[0mstacktrace\u001b[0m\u001b[0;34m,\u001b[0m \u001b[0malert_text\u001b[0m\u001b[0;34m)\u001b[0m\u001b[0;34m\u001b[0m\u001b[0;34m\u001b[0m\u001b[0m\n\u001b[0;32m--> 242\u001b[0;31m         \u001b[0;32mraise\u001b[0m \u001b[0mexception_class\u001b[0m\u001b[0;34m(\u001b[0m\u001b[0mmessage\u001b[0m\u001b[0;34m,\u001b[0m \u001b[0mscreen\u001b[0m\u001b[0;34m,\u001b[0m \u001b[0mstacktrace\u001b[0m\u001b[0;34m)\u001b[0m\u001b[0;34m\u001b[0m\u001b[0;34m\u001b[0m\u001b[0m\n\u001b[0m\u001b[1;32m    243\u001b[0m \u001b[0;34m\u001b[0m\u001b[0m\n\u001b[1;32m    244\u001b[0m     \u001b[0;32mdef\u001b[0m \u001b[0m_value_or_default\u001b[0m\u001b[0;34m(\u001b[0m\u001b[0mself\u001b[0m\u001b[0;34m,\u001b[0m \u001b[0mobj\u001b[0m\u001b[0;34m,\u001b[0m \u001b[0mkey\u001b[0m\u001b[0;34m,\u001b[0m \u001b[0mdefault\u001b[0m\u001b[0;34m)\u001b[0m\u001b[0;34m:\u001b[0m\u001b[0;34m\u001b[0m\u001b[0;34m\u001b[0m\u001b[0m\n",
      "\u001b[0;31mNoSuchElementException\u001b[0m: Message: no such element: Unable to locate element: {\"method\":\"xpath\",\"selector\":\"//*[@id=\"component_22\"]/div[3]/div\"}\n  (Session info: chrome=79.0.3945.130)\n"
     ]
    }
   ],
   "source": [
    "driver.find_element_by_xpath('//*[@id=\"component_22\"]/div[3]/div')"
   ]
  },
  {
   "cell_type": "code",
   "execution_count": 209,
   "metadata": {},
   "outputs": [],
   "source": [
    "next_button.click()"
   ]
  },
  {
   "cell_type": "code",
   "execution_count": 203,
   "metadata": {},
   "outputs": [],
   "source": [
    "driver.find_element_by_class_name('location-review-review-list-parts-ExpandableReview__cta--2mR2g').click()"
   ]
  },
  {
   "cell_type": "markdown",
   "metadata": {},
   "source": [
    "## Third Set of Definitions (by class)"
   ]
  },
  {
   "cell_type": "code",
   "execution_count": null,
   "metadata": {},
   "outputs": [],
   "source": [
    "def find_name(driver):\n",
    "    return driver.find_element_by_xpath('//*[@id=\"component_20\"]/div/div/div[1]/div[1]/div/div/div[1]/h1').text\n",
    "\n",
    "def find_no_things_to_do(driver):\n",
    "    return driver.find_element_by_xpath('//*[@id=\"component_20\"]/div/div/div[1]/div[1]/div/div/div[2]/div/ul/li[1]/div/div/span').text\n",
    "\n",
    "#Find sights and landmarks\n",
    "def find_sights_landmarks(driver):\n",
    "    return driver.find_element_by_xpath('//*[@id=\"component_20\"]/div/div/div[1]/div[1]/div/div/div[2]/div/ul/li[3]/span/div').text\n",
    "\n",
    "# Find Address\n",
    "def find_address(driver):\n",
    "    return driver.find_element_by_xpath('//*[@id=\"taplc_resp_attraction_header_ar_responsive_0\"]/div/div[2]/div/div[1]/div/div').text\n",
    "\n",
    "\n",
    "#Find summary overview\n",
    "def find_summary_overview(driver):\n",
    "    return driver.find_element_by_xpath('//*[@id=\"component_20\"]/div/div/div[1]/div[2]/div/div[2]').text\n",
    "\n",
    "#Find number of reviews\n",
    "def number_of_reviews(driver):\n",
    "    return driver.find_element_by_xpath('//*[@id=\"component_20\"]/div/div/div[1]/div[1]/div/div/div[1]/div/span[2]').text\n",
    "#Find About\n",
    "def about_box(driver):\n",
    "    return driver.find_element_by_xpath('//*[@id=\"taplc_location_detail_overview_resp_ar_responsive_0\"]/div/div/div[2]').text\n",
    "\n",
    "#Find The Popular Mentions in comments\n",
    "def popular_mentions(driver):\n",
    "    return driver.find_element_by_xpath('//*[@id=\"taplc_detail_filters_ar_responsive_0\"]/div/div[2]/div[3]/div').text.split('\\n')\n",
    "\n",
    "#Find 10 Most recent comments \n",
    "def comments(driver):\n",
    "    return driver.find_element_by_xpath('//*[@id=\"component_19\"]/div[3]/div').text\n",
    "\n",
    "#click the next button\n",
    "\n",
    "def nextbutton(driver):\n",
    "    for j in driver.find_elements_by_class_name('next'):\n",
    "        if j.text=='Next':\n",
    "            next_button = j\n",
    "            try:\n",
    "                return next_button.click()\n",
    "                break\n",
    "            except:\n",
    "                return False\n",
    "                break\n",
    "                \n",
    "                \n",
    "def morebutton(driver):\n",
    "    try:\n",
    "        more_button = driver.find_element_by_class_name('location-review-review-list-parts-ExpandableReview__cta--2mR2g')\n",
    "        return more_button.click()\n",
    "    except:\n",
    "        return False\n",
    "    \n",
    "# def morebutton(driver):\n",
    "#     try: \n",
    "#         more_button = driver.find_element_by_class_name('ulBlueLinks')\n",
    "#         return more_button.click()\n",
    "#     except:\n",
    "#         return False\n",
    "    \n",
    "    \n",
    "            \n",
    "\n",
    "# def reviews(driver):\n",
    "#     return driver.find_element_by_css_selector('#component_21 > div > div > div.attractions-attraction-review-atf-AttractionReviewATFLayout__atf_left_column--1ogzd > div.attractions-attraction-review-atf-AttractionReviewATFLayout__atf_component--2Qflo.attractions-attraction-review-atf-AttractionReviewATFLayout__header_container--dAJtk > div > div > div.ui_column.is-12-tablet.is-10-mobile.attractions-attraction-review-header-attraction-review-header__order0--1bYeG.attractions-attraction-review-header-attraction-review-header__columns--2j94i > h1').text"
   ]
  },
  {
   "cell_type": "code",
   "execution_count": 404,
   "metadata": {},
   "outputs": [],
   "source": [
    "def find_name(driver):\n",
    "    return driver.find_element_by_class_name('ui_header').text\n",
    "\n",
    "def find_no_things_to_do(driver):\n",
    "    return driver.find_element_by_class_name('attractions-attraction-review-header-attraction-review-header__popIndex--H1_nL').text\n",
    "\n",
    "#Find sights and landmarks\n",
    "def find_sights_landmarks(driver):\n",
    "    return driver.find_element_by_class_name('attractions-attraction-review-header-AttractionLinks__detail--2-xvX').text\n",
    "\n",
    "# Find Address\n",
    "def find_address(driver):\n",
    "    return driver.find_element_by_class_name('attractions-contact-card-ContactCard__contactRow--3Ih6v').text\n",
    "\n",
    "def find_meta_data(driver):\n",
    "    return driver.find_element_by_class_name('masthead_h1').text\n",
    "\n",
    "#Find summary overview\n",
    "def find_summary_overview(driver):\n",
    "    return driver.find_element_by_class_name('attractions-review-highlights-ReviewHighlights__snippetBlock--3KvE9').text\n",
    "\n",
    "#Find number of reviews\n",
    "def number_of_reviews(driver):\n",
    "    return driver.find_element_by_class_name('attractions-attraction-review-header-attraction-review-header__ratingContainer--1lMqm').text\n",
    "\n",
    "#Find About\n",
    "def about_box(driver):\n",
    "    return driver.find_element_by_xpath('//*[@id=\"taplc_location_detail_overview_resp_ar_responsive_0\"]/div/div/div[2]').text\n",
    "\n",
    "#Find The Popular Mentions in comments\n",
    "def popular_mentions(driver):\n",
    "    return driver.find_element_by_xpath('//*[@id=\"taplc_detail_filters_ar_responsive_0\"]/div/div[2]/div[3]/div').text.split('\\n')\n",
    "\n",
    "#Find 10 Most recent comments \n",
    "def comments(driver):\n",
    "    return driver.find_element_by_class_name('ppr_priv_community_content').text\n",
    "\n",
    "def nextbutton(driver):\n",
    "    for j in driver.find_elements_by_class_name('next'):\n",
    "        if j.text=='Next':\n",
    "            next_button = j\n",
    "            try:\n",
    "                return next_button.click()\n",
    "                break\n",
    "            except:\n",
    "                return False\n",
    "                break\n",
    "                \n",
    "def morebutton(driver):\n",
    "    try:\n",
    "        more_button = driver.find_element_by_class_name('location-review-review-list-parts-ExpandableReview__cta--2mR2g')\n",
    "        return more_button.click()\n",
    "    except:\n",
    "        return False"
   ]
  },
  {
   "cell_type": "markdown",
   "metadata": {},
   "source": [
    "### Testing Selenium"
   ]
  },
  {
   "cell_type": "code",
   "execution_count": null,
   "metadata": {},
   "outputs": [],
   "source": [
    "attractions= []"
   ]
  },
  {
   "cell_type": "code",
   "execution_count": null,
   "metadata": {},
   "outputs": [],
   "source": [
    "attraction_features = {}\n",
    "# add to dictionary\n",
    "try:\n",
    "    attraction_features['name'] = find_name(driver)\n",
    "except:\n",
    "    attraction_features['name'] = None\n",
    "\n",
    "# add to dictionary\n",
    "try:\n",
    "    attraction_features['no_things_to_do'] = find_no_things_to_do(driver)\n",
    "except:\n",
    "    attraction_features['no_things_to_do'] = None\n",
    "\n",
    "# add to dictionary\n",
    "try:\n",
    "    attraction_features['sights_landmarks'] = find_sights_landmarks(driver)\n",
    "except:\n",
    "    attraction_features['sights_landmarks'] = None\n",
    "\n",
    "# add to dictionary\n",
    "try:\n",
    "    attraction_features['address'] = find_address(driver)\n",
    "except:\n",
    "    attraction_features['address'] = None\n",
    "\n",
    "# add to dictionary\n",
    "try:\n",
    "    attraction_features['summary_overview'] = find_summary_overview(driver)\n",
    "except:\n",
    "    attraction_features['summary_overview'] = None\n",
    "\n",
    "# add to dictionary\n",
    "try:\n",
    "    attraction_features['num_reviews'] = number_of_reviews(driver)\n",
    "except:\n",
    "    attraction_features['num_reviews'] = None\n",
    "\n",
    "# add to dictionary\n",
    "try:\n",
    "    attraction_features['about'] = about_box(driver)\n",
    "except:\n",
    "    attraction_features['about'] = None\n",
    "\n",
    "# add to dictionary\n",
    "try:\n",
    "    attraction_features['popular_mentions'] = popular_mentions(driver)\n",
    "except:\n",
    "    attraction_features['popular_mentions'] = None\n",
    "\n",
    "    \n",
    "try:\n",
    "    more_button = driver.find_element_by_class_name('ulBlueLinks')\n",
    "    more_button.click()\n",
    "    \n",
    "except:\n",
    "    pass\n",
    "    \n",
    "# add comments to dictionary\n",
    "driver.implicitly_wait(5)\n",
    "try:\n",
    "    attraction_features['comments'] = comments(driver)\n",
    "except:\n",
    "    attraction_features['comments'] = None\n",
    "\n",
    "    \n",
    "    \n",
    "try:\n",
    "    for i in driver.find_elements_by_class_name('next'):\n",
    "        if i.text=='Next':\n",
    "            next_button = i\n",
    "            next_button.click()\n",
    "            break\n",
    "    \n",
    "#add to list of dictionaries\n",
    "attractions.append(attraction_features)\n",
    "\n",
    "sequence = [x/10 for x in range(10, 15)]\n",
    "time.sleep(random.choice(sequence))"
   ]
  },
  {
   "cell_type": "markdown",
   "metadata": {},
   "source": [
    "## Click More on Comments"
   ]
  },
  {
   "cell_type": "code",
   "execution_count": null,
   "metadata": {},
   "outputs": [],
   "source": [
    "comments(driver)"
   ]
  },
  {
   "cell_type": "code",
   "execution_count": null,
   "metadata": {},
   "outputs": [],
   "source": [
    "attractions"
   ]
  },
  {
   "cell_type": "markdown",
   "metadata": {},
   "source": [
    "## Comments "
   ]
  },
  {
   "cell_type": "code",
   "execution_count": null,
   "metadata": {},
   "outputs": [],
   "source": [
    "more_button = driver.find_element_by_class_name('ulBlueLinks')"
   ]
  },
  {
   "cell_type": "code",
   "execution_count": null,
   "metadata": {},
   "outputs": [],
   "source": [
    "more_button.click()"
   ]
  },
  {
   "cell_type": "code",
   "execution_count": null,
   "metadata": {},
   "outputs": [],
   "source": [
    "driver.implicitly_wait(10)"
   ]
  },
  {
   "cell_type": "code",
   "execution_count": null,
   "metadata": {},
   "outputs": [],
   "source": []
  },
  {
   "cell_type": "markdown",
   "metadata": {},
   "source": [
    "## Click Next Comments"
   ]
  },
  {
   "cell_type": "code",
   "execution_count": 8,
   "metadata": {},
   "outputs": [
    {
     "ename": "NameError",
     "evalue": "name 'driver' is not defined",
     "output_type": "error",
     "traceback": [
      "\u001b[0;31m---------------------------------------------------------------------------\u001b[0m",
      "\u001b[0;31mNameError\u001b[0m                                 Traceback (most recent call last)",
      "\u001b[0;32m<ipython-input-8-c51bcd5d5a39>\u001b[0m in \u001b[0;36m<module>\u001b[0;34m\u001b[0m\n\u001b[0;32m----> 1\u001b[0;31m \u001b[0;32mfor\u001b[0m \u001b[0mi\u001b[0m \u001b[0;32min\u001b[0m \u001b[0mdriver\u001b[0m\u001b[0;34m.\u001b[0m\u001b[0mfind_elements_by_class_name\u001b[0m\u001b[0;34m(\u001b[0m\u001b[0;34m'next'\u001b[0m\u001b[0;34m)\u001b[0m\u001b[0;34m:\u001b[0m\u001b[0;34m\u001b[0m\u001b[0;34m\u001b[0m\u001b[0m\n\u001b[0m\u001b[1;32m      2\u001b[0m     \u001b[0;32mif\u001b[0m \u001b[0mi\u001b[0m\u001b[0;34m.\u001b[0m\u001b[0mtext\u001b[0m\u001b[0;34m==\u001b[0m\u001b[0;34m'Next'\u001b[0m\u001b[0;34m:\u001b[0m\u001b[0;34m\u001b[0m\u001b[0;34m\u001b[0m\u001b[0m\n\u001b[1;32m      3\u001b[0m         \u001b[0mnext_button\u001b[0m \u001b[0;34m=\u001b[0m \u001b[0mi\u001b[0m\u001b[0;34m\u001b[0m\u001b[0;34m\u001b[0m\u001b[0m\n\u001b[1;32m      4\u001b[0m         \u001b[0mnext_button\u001b[0m\u001b[0;34m.\u001b[0m\u001b[0mclick\u001b[0m\u001b[0;34m(\u001b[0m\u001b[0;34m)\u001b[0m\u001b[0;34m\u001b[0m\u001b[0;34m\u001b[0m\u001b[0m\n\u001b[1;32m      5\u001b[0m         \u001b[0;32mbreak\u001b[0m\u001b[0;34m\u001b[0m\u001b[0;34m\u001b[0m\u001b[0m\n",
      "\u001b[0;31mNameError\u001b[0m: name 'driver' is not defined"
     ]
    }
   ],
   "source": [
    "for i in driver.find_elements_by_class_name('next'):\n",
    "    if i.text=='Next':\n",
    "        next_button = i\n",
    "        next_button.click()\n",
    "        break"
   ]
  },
  {
   "cell_type": "markdown",
   "metadata": {},
   "source": [
    "## For Loop Comments"
   ]
  },
  {
   "cell_type": "code",
   "execution_count": null,
   "metadata": {},
   "outputs": [],
   "source": [
    "attraction_features['comments']= comments(driver)"
   ]
  },
  {
   "cell_type": "code",
   "execution_count": null,
   "metadata": {},
   "outputs": [],
   "source": [
    "attraction_features['comments']+=(comments(driver))"
   ]
  },
  {
   "cell_type": "code",
   "execution_count": null,
   "metadata": {},
   "outputs": [],
   "source": [
    "attraction_features['comments']+=''"
   ]
  },
  {
   "cell_type": "code",
   "execution_count": null,
   "metadata": {},
   "outputs": [],
   "source": [
    "try:\n",
    "    attraction_features['comments'] = comments(driver)\n",
    "except:\n",
    "    attraction_features['comments'] = None\n",
    "    \n",
    "    \n",
    "    \n",
    "    \n",
    "# last_comment == comments(driver)\n",
    "\n",
    "last_comment = comments(driver)\n",
    "\n",
    "for i in range(3):    \n",
    "    #click next\n",
    "    if driver.find_element_by_class_name('next') == 'Next':\n",
    "        next_button = driver.find_element_by_class_name('next')\n",
    "        next_button.click()\n",
    "    else:\n",
    "        break\n",
    "\n",
    "    #click more\n",
    "    try:\n",
    "        more_button = driver.find_element_by_class_name('ulBlueLinks')\n",
    "        more_button.click()\n",
    "        time.sleep(random.choice(sequence))\n",
    "    except:\n",
    "        pass\n",
    "\n",
    "    #check if this is the same as last time\n",
    "    if last_comment == comments(driver):\n",
    "        break\n",
    "    else:\n",
    "        try:\n",
    "            attraction_features['comments']+=(comments(driver))\n",
    "        except:\n",
    "            attraction_features['comments']+=''\n",
    "\n",
    "        last_comment = comments(driver)"
   ]
  },
  {
   "cell_type": "code",
   "execution_count": null,
   "metadata": {},
   "outputs": [],
   "source": []
  },
  {
   "cell_type": "code",
   "execution_count": null,
   "metadata": {},
   "outputs": [],
   "source": [
    "# first click more\n",
    "# then get comments!\n",
    "\n",
    "\n",
    "sequence = [x/10 for x in range(15, 30)]\n",
    "\n",
    "#loop through 1st 3 pages if they have a next\n",
    "for next_comments in range(4):\n",
    "    if driver.find_element_by_class_name('next')== None:\n",
    "        break\n",
    "    else:\n",
    "        for i in driver.find_elements_by_class_name('next'):\n",
    "            if i.text=='Next':\n",
    "                next_button = i\n",
    "                next_button.click()\n",
    "\n",
    "    time.sleep(random.choice(sequence))\n",
    "\n",
    "    try:\n",
    "        more_button = driver.find_element_by_class_name('ulBlueLinks')\n",
    "        more_button.click()\n",
    "        time.sleep(random.choice(sequence))\n",
    "\n",
    "    except:\n",
    "        pass\n",
    "\n",
    "\n",
    "    #get comments\n",
    "    # add to dictionary\n",
    "\n",
    "    driver.implicitly_wait(5)\n",
    "    try:\n",
    "        attraction_features['comments']+=(comments(driver))\n",
    "    except:\n",
    "        attraction_features['comments']+=''\n",
    "\n",
    "    time.sleep(random.choice(sequence))"
   ]
  },
  {
   "cell_type": "markdown",
   "metadata": {},
   "source": [
    "## Selenium Code To Scrape"
   ]
  },
  {
   "cell_type": "code",
   "execution_count": 139,
   "metadata": {},
   "outputs": [],
   "source": [
    "sequence = [x/10 for x in range(20, 35)]"
   ]
  },
  {
   "cell_type": "code",
   "execution_count": null,
   "metadata": {},
   "outputs": [],
   "source": [
    "attractions = []\n",
    "test = athens_links[5:]\n",
    "len(athens_links)\n",
    "len(test)"
   ]
  },
  {
   "cell_type": "code",
   "execution_count": 238,
   "metadata": {},
   "outputs": [],
   "source": [
    "attractions = []"
   ]
  },
  {
   "cell_type": "code",
   "execution_count": 258,
   "metadata": {},
   "outputs": [],
   "source": [
    "test = athens_links[5:]"
   ]
  },
  {
   "cell_type": "code",
   "execution_count": 259,
   "metadata": {},
   "outputs": [
    {
     "data": {
      "text/plain": [
       "392"
      ]
     },
     "execution_count": 259,
     "metadata": {},
     "output_type": "execute_result"
    }
   ],
   "source": [
    "len(test)"
   ]
  },
  {
   "cell_type": "code",
   "execution_count": 255,
   "metadata": {
    "scrolled": true
   },
   "outputs": [
    {
     "data": {
      "text/plain": [
       "397"
      ]
     },
     "execution_count": 255,
     "metadata": {},
     "output_type": "execute_result"
    }
   ],
   "source": [
    "len(athens_links)"
   ]
  },
  {
   "cell_type": "code",
   "execution_count": 201,
   "metadata": {},
   "outputs": [],
   "source": [
    "driver.get(test[0])"
   ]
  },
  {
   "cell_type": "code",
   "execution_count": 244,
   "metadata": {},
   "outputs": [
    {
     "data": {
      "text/plain": [
       "'1 Review'"
      ]
     },
     "execution_count": 244,
     "metadata": {},
     "output_type": "execute_result"
    }
   ],
   "source": [
    "number_of_reviews(driver)"
   ]
  },
  {
   "cell_type": "code",
   "execution_count": 166,
   "metadata": {},
   "outputs": [],
   "source": [
    "driver = webdriver.Chrome() #browser should be named driver in the future, common coding etiquette\n",
    "# driver.get('https://www.tripadvisor.com/Attractions-g189400-Activities-Athens_Attica.html')"
   ]
  },
  {
   "cell_type": "code",
   "execution_count": 197,
   "metadata": {},
   "outputs": [
    {
     "data": {
      "text/plain": [
       "False"
      ]
     },
     "execution_count": 197,
     "metadata": {},
     "output_type": "execute_result"
    }
   ],
   "source": [
    "morebutton(driver)"
   ]
  },
  {
   "cell_type": "code",
   "execution_count": 260,
   "metadata": {},
   "outputs": [
    {
     "name": "stderr",
     "output_type": "stream",
     "text": [
      "\n",
      "\n",
      "\n",
      "  0%|          | 0/392 [00:00<?, ?it/s]\u001b[A\u001b[A\u001b[A\n",
      "\n",
      "\n",
      "  0%|          | 1/392 [00:15<1:41:24, 15.56s/it]\u001b[A\u001b[A\u001b[A\n",
      "\n",
      "\n",
      "  1%|          | 2/392 [00:31<1:42:31, 15.77s/it]\u001b[A\u001b[A\u001b[A\n",
      "\n",
      "\n",
      "  1%|          | 3/392 [00:51<1:50:17, 17.01s/it]\u001b[A\u001b[A\u001b[A\n",
      "\n",
      "\n",
      "  1%|          | 4/392 [01:09<1:51:23, 17.23s/it]\u001b[A\u001b[A\u001b[A\n",
      "\n",
      "\n",
      "  1%|▏         | 5/392 [01:39<2:16:26, 21.15s/it]\u001b[A\u001b[A\u001b[A\n",
      "\n",
      "\n",
      "  2%|▏         | 6/392 [02:06<2:27:34, 22.94s/it]\u001b[A\u001b[A\u001b[A\n",
      "\n",
      "\n",
      "  2%|▏         | 7/392 [02:28<2:24:29, 22.52s/it]\u001b[A\u001b[A\u001b[A\n",
      "\n",
      "\n",
      "  2%|▏         | 8/392 [02:59<2:41:18, 25.21s/it]\u001b[A\u001b[A\u001b[A\n",
      "\n",
      "\n",
      "  2%|▏         | 9/392 [03:15<2:22:40, 22.35s/it]\u001b[A\u001b[A\u001b[A\n",
      "\n",
      "\n",
      "  3%|▎         | 10/392 [03:33<2:14:37, 21.15s/it]\u001b[A\u001b[A\u001b[A\n",
      "\n",
      "\n",
      "  3%|▎         | 11/392 [03:49<2:04:21, 19.59s/it]\u001b[A\u001b[A\u001b[A\n",
      "\n",
      "\n",
      "  3%|▎         | 12/392 [04:09<2:03:14, 19.46s/it]\u001b[A\u001b[A\u001b[A\n",
      "\n",
      "\n",
      "  3%|▎         | 13/392 [04:27<2:00:15, 19.04s/it]\u001b[A\u001b[A\u001b[A\n",
      "\n",
      "\n",
      "  4%|▎         | 14/392 [04:44<1:56:20, 18.47s/it]\u001b[A\u001b[A\u001b[A\n",
      "\n",
      "\n",
      "  4%|▍         | 15/392 [05:02<1:56:11, 18.49s/it]\u001b[A\u001b[A\u001b[A\n",
      "\n",
      "\n",
      "  4%|▍         | 16/392 [05:22<1:57:23, 18.73s/it]\u001b[A\u001b[A\u001b[A\n",
      "\n",
      "\n",
      "  4%|▍         | 17/392 [05:53<2:20:13, 22.43s/it]\u001b[A\u001b[A\u001b[A\n",
      "\n",
      "\n",
      "  5%|▍         | 18/392 [06:12<2:14:22, 21.56s/it]\u001b[A\u001b[A\u001b[A\n",
      "\n",
      "\n",
      "  5%|▍         | 19/392 [06:30<2:07:44, 20.55s/it]\u001b[A\u001b[A\u001b[A\n",
      "\n",
      "\n",
      "  5%|▌         | 20/392 [06:47<2:00:56, 19.51s/it]\u001b[A\u001b[A\u001b[A\n",
      "\n",
      "\n",
      "  5%|▌         | 21/392 [07:03<1:53:59, 18.43s/it]\u001b[A\u001b[A\u001b[A\n",
      "\n",
      "\n",
      "  6%|▌         | 22/392 [07:21<1:52:40, 18.27s/it]\u001b[A\u001b[A\u001b[A\n",
      "\n",
      "\n",
      "  6%|▌         | 23/392 [07:41<1:55:44, 18.82s/it]\u001b[A\u001b[A\u001b[A\n",
      "\n",
      "\n",
      "  6%|▌         | 24/392 [07:59<1:53:34, 18.52s/it]\u001b[A\u001b[A\u001b[A\n",
      "\n",
      "\n",
      "  6%|▋         | 25/392 [08:16<1:49:33, 17.91s/it]\u001b[A\u001b[A\u001b[A\n",
      "\n",
      "\n",
      "  7%|▋         | 26/392 [08:33<1:48:51, 17.85s/it]\u001b[A\u001b[A\u001b[A\n",
      "\n",
      "\n",
      "  7%|▋         | 27/392 [08:54<1:54:21, 18.80s/it]\u001b[A\u001b[A\u001b[A\n",
      "\n",
      "\n",
      "  7%|▋         | 28/392 [09:11<1:49:14, 18.01s/it]\u001b[A\u001b[A\u001b[A\n",
      "\n",
      "\n",
      "  7%|▋         | 29/392 [09:31<1:52:46, 18.64s/it]\u001b[A\u001b[A\u001b[A\n",
      "\n",
      "\n",
      "  8%|▊         | 30/392 [09:46<1:45:51, 17.55s/it]\u001b[A\u001b[A\u001b[A\n",
      "\n",
      "\n",
      "  8%|▊         | 31/392 [10:17<2:10:20, 21.66s/it]\u001b[A\u001b[A\u001b[A\n",
      "\n",
      "\n",
      "  8%|▊         | 32/392 [10:34<2:02:11, 20.36s/it]\u001b[A\u001b[A\u001b[A\n",
      "\n",
      "\n",
      "  8%|▊         | 33/392 [10:53<1:58:30, 19.81s/it]\u001b[A\u001b[A\u001b[A\n",
      "\n",
      "\n",
      "  9%|▊         | 34/392 [11:10<1:53:07, 18.96s/it]\u001b[A\u001b[A\u001b[A\n",
      "\n",
      "\n",
      "  9%|▉         | 35/392 [11:27<1:50:38, 18.59s/it]\u001b[A\u001b[A\u001b[A\n",
      "\n",
      "\n",
      "  9%|▉         | 36/392 [11:45<1:48:16, 18.25s/it]\u001b[A\u001b[A\u001b[A\n",
      "\n",
      "\n",
      "  9%|▉         | 37/392 [12:02<1:45:53, 17.90s/it]\u001b[A\u001b[A\u001b[A\n",
      "\n",
      "\n",
      " 10%|▉         | 38/392 [12:31<2:05:24, 21.25s/it]\u001b[A\u001b[A\u001b[A\n",
      "\n",
      "\n",
      " 10%|▉         | 39/392 [12:47<1:55:04, 19.56s/it]\u001b[A\u001b[A\u001b[A\n",
      "\n",
      "\n",
      " 10%|█         | 40/392 [13:17<2:14:06, 22.86s/it]\u001b[A\u001b[A\u001b[A\n",
      "\n",
      "\n",
      " 10%|█         | 41/392 [13:33<2:00:31, 20.60s/it]\u001b[A\u001b[A\u001b[A\n",
      "\n",
      "\n",
      " 11%|█         | 42/392 [14:01<2:14:10, 23.00s/it]\u001b[A\u001b[A\u001b[A\n",
      "\n",
      "\n",
      " 11%|█         | 43/392 [14:17<2:01:43, 20.93s/it]\u001b[A\u001b[A\u001b[A\n",
      "\n",
      "\n",
      " 11%|█         | 44/392 [14:33<1:52:23, 19.38s/it]\u001b[A\u001b[A\u001b[A\n",
      "\n",
      "\n",
      " 11%|█▏        | 45/392 [14:49<1:46:44, 18.46s/it]\u001b[A\u001b[A\u001b[A\n",
      "\n",
      "\n",
      " 12%|█▏        | 46/392 [15:10<1:50:08, 19.10s/it]\u001b[A\u001b[A\u001b[A\n",
      "\n",
      "\n",
      " 12%|█▏        | 47/392 [15:38<2:05:25, 21.81s/it]\u001b[A\u001b[A\u001b[A\n",
      "\n",
      "\n",
      " 12%|█▏        | 48/392 [16:12<2:26:37, 25.57s/it]\u001b[A\u001b[A\u001b[A\n",
      "\n",
      "\n",
      " 12%|█▎        | 49/392 [16:30<2:12:11, 23.13s/it]\u001b[A\u001b[A\u001b[A\n",
      "\n",
      "\n",
      " 13%|█▎        | 50/392 [16:47<2:01:21, 21.29s/it]\u001b[A\u001b[A\u001b[A\n",
      "\n",
      "\n",
      " 13%|█▎        | 51/392 [17:20<2:20:54, 24.79s/it]\u001b[A\u001b[A\u001b[A\n",
      "\n",
      "\n",
      " 13%|█▎        | 52/392 [17:35<2:04:33, 21.98s/it]\u001b[A\u001b[A\u001b[A\n",
      "\n",
      "\n",
      " 14%|█▎        | 53/392 [17:52<1:55:28, 20.44s/it]\u001b[A\u001b[A\u001b[A\n",
      "\n",
      "\n",
      " 14%|█▍        | 54/392 [18:07<1:46:15, 18.86s/it]\u001b[A\u001b[A\u001b[A\n",
      "\n",
      "\n",
      " 14%|█▍        | 55/392 [18:26<1:45:44, 18.82s/it]\u001b[A\u001b[A\u001b[A\n",
      "\n",
      "\n",
      " 14%|█▍        | 56/392 [18:55<2:02:16, 21.83s/it]\u001b[A\u001b[A\u001b[A\n",
      "\n",
      "\n",
      " 15%|█▍        | 57/392 [19:13<1:55:02, 20.60s/it]\u001b[A\u001b[A\u001b[A\n",
      "\n",
      "\n",
      " 15%|█▍        | 58/392 [19:28<1:46:44, 19.17s/it]\u001b[A\u001b[A\u001b[A\n",
      "\n",
      "\n",
      " 15%|█▌        | 59/392 [20:00<2:07:04, 22.90s/it]\u001b[A\u001b[A\u001b[A\n",
      "\n",
      "\n",
      " 15%|█▌        | 60/392 [20:19<2:01:00, 21.87s/it]\u001b[A\u001b[A\u001b[A\n",
      "\n",
      "\n",
      " 16%|█▌        | 61/392 [20:36<1:52:29, 20.39s/it]\u001b[A\u001b[A\u001b[A\n",
      "\n",
      "\n",
      " 16%|█▌        | 62/392 [20:54<1:47:48, 19.60s/it]\u001b[A\u001b[A\u001b[A\n",
      "\n",
      "\n",
      " 16%|█▌        | 63/392 [21:25<2:05:26, 22.88s/it]\u001b[A\u001b[A\u001b[A\n",
      "\n",
      "\n",
      " 16%|█▋        | 64/392 [21:40<1:52:25, 20.56s/it]\u001b[A\u001b[A\u001b[A\n",
      "\n",
      "\n",
      " 17%|█▋        | 65/392 [21:57<1:46:46, 19.59s/it]\u001b[A\u001b[A\u001b[A\n",
      "\n",
      "\n",
      " 17%|█▋        | 66/392 [22:15<1:43:21, 19.02s/it]\u001b[A\u001b[A\u001b[A\n",
      "\n",
      "\n",
      " 17%|█▋        | 67/392 [22:43<1:58:31, 21.88s/it]\u001b[A\u001b[A\u001b[A\n",
      "\n",
      "\n",
      " 17%|█▋        | 68/392 [23:02<1:51:58, 20.74s/it]\u001b[A\u001b[A\u001b[A\n",
      "\n",
      "\n",
      " 18%|█▊        | 69/392 [23:17<1:43:44, 19.27s/it]\u001b[A\u001b[A\u001b[A\n",
      "\n",
      "\n",
      " 18%|█▊        | 70/392 [23:35<1:40:03, 18.64s/it]\u001b[A\u001b[A\u001b[A\n",
      "\n",
      "\n",
      " 18%|█▊        | 71/392 [23:59<1:49:02, 20.38s/it]\u001b[A\u001b[A\u001b[A\n",
      "\n",
      "\n",
      " 18%|█▊        | 72/392 [24:17<1:45:20, 19.75s/it]\u001b[A\u001b[A\u001b[A\n",
      "\n",
      "\n",
      " 19%|█▊        | 73/392 [24:35<1:41:35, 19.11s/it]\u001b[A\u001b[A\u001b[A\n",
      "\n",
      "\n",
      " 19%|█▉        | 74/392 [25:07<2:02:24, 23.10s/it]\u001b[A\u001b[A\u001b[A\n",
      "\n",
      "\n",
      " 19%|█▉        | 75/392 [25:27<1:56:14, 22.00s/it]\u001b[A\u001b[A\u001b[A\n",
      "\n",
      "\n",
      " 19%|█▉        | 76/392 [25:56<2:08:05, 24.32s/it]\u001b[A\u001b[A\u001b[A\n",
      "\n",
      "\n",
      " 20%|█▉        | 77/392 [26:12<1:53:44, 21.67s/it]\u001b[A\u001b[A\u001b[A\n",
      "\n",
      "\n",
      " 20%|█▉        | 78/392 [26:47<2:13:44, 25.55s/it]\u001b[A\u001b[A\u001b[A\n",
      "\n",
      "\n",
      " 20%|██        | 79/392 [27:02<1:57:56, 22.61s/it]\u001b[A\u001b[A\u001b[A\n",
      "\n",
      "\n",
      " 20%|██        | 80/392 [27:33<2:09:30, 24.91s/it]\u001b[A\u001b[A\u001b[A\n",
      "\n",
      "\n",
      " 21%|██        | 81/392 [27:52<2:00:35, 23.27s/it]\u001b[A\u001b[A\u001b[A\n",
      "\n",
      "\n",
      " 21%|██        | 82/392 [28:11<1:53:31, 21.97s/it]\u001b[A\u001b[A\u001b[A\n",
      "\n",
      "\n",
      " 21%|██        | 83/392 [28:39<2:02:28, 23.78s/it]\u001b[A\u001b[A\u001b[A\n",
      "\n",
      "\n",
      " 21%|██▏       | 84/392 [28:58<1:54:43, 22.35s/it]\u001b[A\u001b[A\u001b[A\n",
      "\n",
      "\n",
      " 22%|██▏       | 85/392 [29:15<1:46:57, 20.90s/it]\u001b[A\u001b[A\u001b[A\n",
      "\n",
      "\n",
      " 22%|██▏       | 86/392 [29:37<1:47:19, 21.04s/it]\u001b[A\u001b[A\u001b[A\n",
      "\n",
      "\n",
      " 22%|██▏       | 87/392 [29:54<1:40:16, 19.73s/it]\u001b[A\u001b[A\u001b[A\n",
      "\n",
      "\n",
      " 22%|██▏       | 88/392 [30:21<1:51:11, 21.94s/it]\u001b[A\u001b[A\u001b[A\n",
      "\n",
      "\n",
      " 23%|██▎       | 89/392 [30:39<1:45:33, 20.90s/it]\u001b[A\u001b[A\u001b[A\n",
      "\n",
      "\n",
      " 23%|██▎       | 90/392 [30:54<1:36:39, 19.20s/it]\u001b[A\u001b[A\u001b[A\n",
      "\n",
      "\n",
      " 23%|██▎       | 91/392 [31:11<1:32:14, 18.39s/it]\u001b[A\u001b[A\u001b[A\n",
      "\n",
      "\n",
      " 23%|██▎       | 92/392 [31:26<1:27:49, 17.56s/it]\u001b[A\u001b[A\u001b[A\n",
      "\n",
      "\n",
      " 24%|██▎       | 93/392 [31:42<1:24:48, 17.02s/it]\u001b[A\u001b[A\u001b[A\n",
      "\n",
      "\n",
      " 24%|██▍       | 94/392 [31:59<1:24:45, 17.07s/it]\u001b[A\u001b[A\u001b[A\n",
      "\n",
      "\n",
      " 24%|██▍       | 95/392 [32:15<1:22:31, 16.67s/it]\u001b[A\u001b[A\u001b[A\n",
      "\n",
      "\n",
      " 24%|██▍       | 96/392 [32:47<1:44:34, 21.20s/it]\u001b[A\u001b[A\u001b[A\n",
      "\n",
      "\n",
      " 25%|██▍       | 97/392 [33:04<1:38:29, 20.03s/it]\u001b[A\u001b[A\u001b[A\n",
      "\n",
      "\n",
      " 25%|██▌       | 98/392 [33:20<1:32:19, 18.84s/it]\u001b[A\u001b[A\u001b[A\n",
      "\n",
      "\n",
      " 25%|██▌       | 99/392 [33:40<1:33:32, 19.16s/it]\u001b[A\u001b[A\u001b[A\n",
      "\n",
      "\n",
      " 26%|██▌       | 100/392 [33:58<1:31:12, 18.74s/it]\u001b[A\u001b[A\u001b[A\n",
      "\n",
      "\n",
      " 26%|██▌       | 101/392 [34:31<1:52:07, 23.12s/it]\u001b[A\u001b[A\u001b[A\n",
      "\n",
      "\n",
      " 26%|██▌       | 102/392 [34:48<1:42:04, 21.12s/it]\u001b[A\u001b[A\u001b[A\n",
      "\n",
      "\n",
      " 26%|██▋       | 103/392 [35:06<1:37:21, 20.21s/it]\u001b[A\u001b[A\u001b[A\n",
      "\n",
      "\n",
      " 27%|██▋       | 104/392 [35:23<1:32:08, 19.19s/it]\u001b[A\u001b[A\u001b[A\n",
      "\n",
      "\n",
      " 27%|██▋       | 105/392 [35:54<1:49:26, 22.88s/it]\u001b[A\u001b[A\u001b[A\n",
      "\n",
      "\n",
      " 27%|██▋       | 106/392 [36:14<1:44:54, 22.01s/it]\u001b[A\u001b[A\u001b[A\n",
      "\n",
      "\n",
      " 27%|██▋       | 107/392 [36:40<1:50:03, 23.17s/it]\u001b[A\u001b[A\u001b[A\n",
      "\n",
      "\n",
      " 28%|██▊       | 108/392 [36:55<1:38:45, 20.86s/it]\u001b[A\u001b[A\u001b[A\n",
      "\n",
      "\n",
      " 28%|██▊       | 109/392 [37:13<1:33:43, 19.87s/it]\u001b[A\u001b[A\u001b[A\n",
      "\n",
      "\n",
      " 28%|██▊       | 110/392 [37:33<1:34:10, 20.04s/it]\u001b[A\u001b[A\u001b[A\n",
      "\n",
      "\n",
      " 28%|██▊       | 111/392 [37:49<1:27:30, 18.69s/it]\u001b[A\u001b[A\u001b[A\n",
      "\n",
      "\n",
      " 29%|██▊       | 112/392 [38:18<1:42:12, 21.90s/it]\u001b[A\u001b[A\u001b[A\n",
      "\n",
      "\n",
      " 29%|██▉       | 113/392 [38:37<1:36:54, 20.84s/it]\u001b[A\u001b[A\u001b[A\n",
      "\n",
      "\n",
      " 29%|██▉       | 114/392 [39:02<1:43:18, 22.30s/it]\u001b[A\u001b[A\u001b[A\n",
      "\n",
      "\n",
      " 29%|██▉       | 115/392 [39:20<1:35:50, 20.76s/it]\u001b[A\u001b[A\u001b[A\n",
      "\n",
      "\n",
      " 30%|██▉       | 116/392 [39:40<1:34:25, 20.53s/it]\u001b[A\u001b[A\u001b[A\n",
      "\n",
      "\n",
      " 30%|██▉       | 117/392 [39:57<1:30:20, 19.71s/it]\u001b[A\u001b[A\u001b[A\n",
      "\n",
      "\n",
      " 30%|███       | 118/392 [40:15<1:27:11, 19.09s/it]\u001b[A\u001b[A\u001b[A\n",
      "\n",
      "\n",
      " 30%|███       | 119/392 [40:34<1:26:12, 18.95s/it]\u001b[A\u001b[A\u001b[A\n",
      "\n",
      "\n",
      " 31%|███       | 120/392 [41:00<1:36:25, 21.27s/it]\u001b[A\u001b[A\u001b[A\n",
      "\n",
      "\n",
      " 31%|███       | 121/392 [41:17<1:29:38, 19.85s/it]\u001b[A\u001b[A\u001b[A\n",
      "\n",
      "\n",
      " 31%|███       | 122/392 [41:32<1:23:13, 18.50s/it]\u001b[A\u001b[A\u001b[A\n",
      "\n",
      "\n",
      " 31%|███▏      | 123/392 [41:51<1:23:30, 18.62s/it]\u001b[A\u001b[A\u001b[A\n",
      "\n",
      "\n",
      " 32%|███▏      | 124/392 [42:25<1:43:06, 23.08s/it]\u001b[A\u001b[A\u001b[A\n",
      "\n",
      "\n",
      " 32%|███▏      | 125/392 [42:44<1:37:39, 21.94s/it]\u001b[A\u001b[A\u001b[A\n",
      "\n",
      "\n",
      " 32%|███▏      | 126/392 [43:05<1:35:31, 21.55s/it]\u001b[A\u001b[A\u001b[A\n",
      "\n",
      "\n",
      " 32%|███▏      | 127/392 [43:36<1:48:16, 24.52s/it]\u001b[A\u001b[A\u001b[A\n",
      "\n",
      "\n",
      " 33%|███▎      | 128/392 [43:52<1:36:49, 22.01s/it]\u001b[A\u001b[A\u001b[A\n",
      "\n",
      "\n",
      " 33%|███▎      | 129/392 [44:10<1:31:06, 20.78s/it]\u001b[A\u001b[A\u001b[A\n",
      "\n",
      "\n",
      " 33%|███▎      | 130/392 [44:26<1:24:21, 19.32s/it]\u001b[A\u001b[A\u001b[A\n",
      "\n",
      "\n"
     ]
    },
    {
     "name": "stderr",
     "output_type": "stream",
     "text": [
      " 33%|███▎      | 131/392 [44:42<1:19:38, 18.31s/it]\u001b[A\u001b[A\u001b[A\n",
      "\n",
      "\n",
      " 34%|███▎      | 132/392 [44:59<1:18:13, 18.05s/it]\u001b[A\u001b[A\u001b[A\n",
      "\n",
      "\n",
      " 34%|███▍      | 133/392 [45:16<1:16:00, 17.61s/it]\u001b[A\u001b[A\u001b[A\n",
      "\n",
      "\n",
      " 34%|███▍      | 134/392 [45:32<1:13:24, 17.07s/it]\u001b[A\u001b[A\u001b[A\n",
      "\n",
      "\n",
      " 34%|███▍      | 135/392 [46:03<1:31:21, 21.33s/it]\u001b[A\u001b[A\u001b[A\n",
      "\n",
      "\n",
      " 35%|███▍      | 136/392 [46:34<1:42:50, 24.10s/it]\u001b[A\u001b[A\u001b[A\n",
      "\n",
      "\n",
      " 35%|███▍      | 137/392 [46:49<1:31:48, 21.60s/it]\u001b[A\u001b[A\u001b[A\n",
      "\n",
      "\n",
      " 35%|███▌      | 138/392 [47:06<1:25:46, 20.26s/it]\u001b[A\u001b[A\u001b[A\n",
      "\n",
      "\n",
      " 35%|███▌      | 139/392 [47:32<1:31:38, 21.73s/it]\u001b[A\u001b[A\u001b[A\n",
      "\n",
      "\n",
      " 36%|███▌      | 140/392 [48:03<1:43:11, 24.57s/it]\u001b[A\u001b[A\u001b[A\n",
      "\n",
      "\n",
      " 36%|███▌      | 141/392 [48:21<1:34:42, 22.64s/it]\u001b[A\u001b[A\u001b[A\n",
      "\n",
      "\n",
      " 36%|███▌      | 142/392 [48:40<1:29:18, 21.43s/it]\u001b[A\u001b[A\u001b[A\n",
      "\n",
      "\n",
      " 36%|███▋      | 143/392 [48:57<1:23:41, 20.17s/it]\u001b[A\u001b[A\u001b[A\n",
      "\n",
      "\n",
      " 37%|███▋      | 144/392 [49:15<1:20:56, 19.58s/it]\u001b[A\u001b[A\u001b[A\n",
      "\n",
      "\n",
      " 37%|███▋      | 145/392 [49:36<1:22:11, 19.97s/it]\u001b[A\u001b[A\u001b[A\n",
      "\n",
      "\n",
      " 37%|███▋      | 146/392 [49:57<1:23:39, 20.41s/it]\u001b[A\u001b[A\u001b[A\n",
      "\n",
      "\n",
      " 38%|███▊      | 147/392 [50:19<1:24:41, 20.74s/it]\u001b[A\u001b[A\u001b[A\n",
      "\n",
      "\n",
      " 38%|███▊      | 148/392 [50:37<1:21:14, 19.98s/it]\u001b[A\u001b[A\u001b[A\n",
      "\n",
      "\n",
      " 38%|███▊      | 149/392 [51:03<1:28:35, 21.87s/it]\u001b[A\u001b[A\u001b[A\n",
      "\n",
      "\n",
      " 38%|███▊      | 150/392 [51:26<1:28:46, 22.01s/it]\u001b[A\u001b[A\u001b[A\n",
      "\n",
      "\n",
      " 39%|███▊      | 151/392 [51:41<1:20:37, 20.07s/it]\u001b[A\u001b[A\u001b[A\n",
      "\n",
      "\n",
      " 39%|███▉      | 152/392 [51:59<1:17:26, 19.36s/it]\u001b[A\u001b[A\u001b[A\n",
      "\n",
      "\n",
      " 39%|███▉      | 153/392 [52:19<1:18:03, 19.60s/it]\u001b[A\u001b[A\u001b[A\n",
      "\n",
      "\n",
      " 39%|███▉      | 154/392 [52:37<1:15:41, 19.08s/it]\u001b[A\u001b[A\u001b[A\n",
      "\n",
      "\n",
      " 40%|███▉      | 155/392 [52:57<1:16:03, 19.26s/it]\u001b[A\u001b[A\u001b[A\n",
      "\n",
      "\n",
      " 40%|███▉      | 156/392 [53:14<1:13:00, 18.56s/it]\u001b[A\u001b[A\u001b[A\n",
      "\n",
      "\n",
      " 40%|████      | 157/392 [53:30<1:10:44, 18.06s/it]\u001b[A\u001b[A\u001b[A\n",
      "\n",
      "\n",
      " 40%|████      | 158/392 [53:47<1:09:03, 17.71s/it]\u001b[A\u001b[A\u001b[A\n",
      "\n",
      "\n",
      " 41%|████      | 159/392 [54:05<1:08:46, 17.71s/it]\u001b[A\u001b[A\u001b[A\n",
      "\n",
      "\n",
      " 41%|████      | 160/392 [54:40<1:29:02, 23.03s/it]\u001b[A\u001b[A\u001b[A\n",
      "\n",
      "\n",
      " 41%|████      | 161/392 [54:59<1:23:44, 21.75s/it]\u001b[A\u001b[A\u001b[A\n",
      "\n",
      "\n",
      " 41%|████▏     | 162/392 [55:16<1:17:50, 20.31s/it]\u001b[A\u001b[A\u001b[A\n",
      "\n",
      "\n",
      " 42%|████▏     | 163/392 [55:49<1:32:11, 24.15s/it]\u001b[A\u001b[A\u001b[A\n",
      "\n",
      "\n",
      " 42%|████▏     | 164/392 [56:06<1:23:11, 21.89s/it]\u001b[A\u001b[A\u001b[A\n",
      "\n",
      "\n",
      " 42%|████▏     | 165/392 [56:25<1:19:43, 21.07s/it]\u001b[A\u001b[A\u001b[A\n",
      "\n",
      "\n",
      " 42%|████▏     | 166/392 [56:43<1:15:26, 20.03s/it]\u001b[A\u001b[A\u001b[A\n",
      "\n",
      "\n",
      " 43%|████▎     | 167/392 [57:00<1:12:20, 19.29s/it]\u001b[A\u001b[A\u001b[A\n",
      "\n",
      "\n",
      " 43%|████▎     | 168/392 [57:20<1:12:13, 19.34s/it]\u001b[A\u001b[A\u001b[A\n",
      "\n",
      "\n",
      " 43%|████▎     | 169/392 [57:36<1:08:00, 18.30s/it]\u001b[A\u001b[A\u001b[A\n",
      "\n",
      "\n",
      " 43%|████▎     | 170/392 [58:07<1:21:49, 22.12s/it]\u001b[A\u001b[A\u001b[A\n",
      "\n",
      "\n",
      " 44%|████▎     | 171/392 [58:27<1:19:23, 21.55s/it]\u001b[A\u001b[A\u001b[A\n",
      "\n",
      "\n",
      " 44%|████▍     | 172/392 [58:44<1:14:08, 20.22s/it]\u001b[A\u001b[A\u001b[A\n",
      "\n",
      "\n",
      " 44%|████▍     | 173/392 [58:59<1:08:40, 18.82s/it]\u001b[A\u001b[A\u001b[A\n",
      "\n",
      "\n",
      " 44%|████▍     | 174/392 [59:18<1:07:31, 18.58s/it]\u001b[A\u001b[A\u001b[A\n",
      "\n",
      "\n",
      " 45%|████▍     | 175/392 [59:39<1:10:27, 19.48s/it]\u001b[A\u001b[A\u001b[A\n",
      "\n",
      "\n",
      " 45%|████▍     | 176/392 [59:56<1:06:55, 18.59s/it]\u001b[A\u001b[A\u001b[A\n",
      "\n",
      "\n",
      " 45%|████▌     | 177/392 [1:00:29<1:22:34, 23.04s/it]\u001b[A\u001b[A\u001b[A\n",
      "\n",
      "\n",
      " 45%|████▌     | 178/392 [1:00:59<1:30:01, 25.24s/it]\u001b[A\u001b[A\u001b[A\n",
      "\n",
      "\n",
      " 46%|████▌     | 179/392 [1:01:17<1:21:02, 22.83s/it]\u001b[A\u001b[A\u001b[A\n",
      "\n",
      "\n",
      " 46%|████▌     | 180/392 [1:01:32<1:13:16, 20.74s/it]\u001b[A\u001b[A\u001b[A\n",
      "\n",
      "\n",
      " 46%|████▌     | 181/392 [1:01:51<1:10:25, 20.03s/it]\u001b[A\u001b[A\u001b[A\n",
      "\n",
      "\n",
      " 46%|████▋     | 182/392 [1:02:08<1:07:24, 19.26s/it]\u001b[A\u001b[A\u001b[A\n",
      "\n",
      "\n",
      " 47%|████▋     | 183/392 [1:02:26<1:04:58, 18.65s/it]\u001b[A\u001b[A\u001b[A\n",
      "\n",
      "\n",
      " 47%|████▋     | 184/392 [1:02:44<1:04:25, 18.58s/it]\u001b[A\u001b[A\u001b[A\n",
      "\n",
      "\n",
      " 47%|████▋     | 185/392 [1:03:00<1:01:20, 17.78s/it]\u001b[A\u001b[A\u001b[A\n",
      "\n",
      "\n",
      " 47%|████▋     | 186/392 [1:03:19<1:02:52, 18.31s/it]\u001b[A\u001b[A\u001b[A\n",
      "\n",
      "\n",
      " 48%|████▊     | 187/392 [1:03:36<1:00:51, 17.81s/it]\u001b[A\u001b[A\u001b[A\n",
      "\n",
      "\n",
      " 48%|████▊     | 188/392 [1:03:54<1:00:29, 17.79s/it]\u001b[A\u001b[A\u001b[A\n",
      "\n",
      "\n",
      " 48%|████▊     | 189/392 [1:04:13<1:01:41, 18.23s/it]\u001b[A\u001b[A\u001b[A\n",
      "\n",
      "\n",
      " 48%|████▊     | 190/392 [1:04:31<1:01:02, 18.13s/it]\u001b[A\u001b[A\u001b[A\n",
      "\n",
      "\n",
      " 49%|████▊     | 191/392 [1:04:50<1:01:39, 18.41s/it]\u001b[A\u001b[A\u001b[A\n",
      "\n",
      "\n",
      " 49%|████▉     | 192/392 [1:05:08<1:00:34, 18.17s/it]\u001b[A\u001b[A\u001b[A\n",
      "\n",
      "\n",
      " 49%|████▉     | 193/392 [1:05:38<1:12:33, 21.88s/it]\u001b[A\u001b[A\u001b[A\n",
      "\n",
      "\n",
      " 49%|████▉     | 194/392 [1:05:54<1:06:10, 20.05s/it]\u001b[A\u001b[A\u001b[A\n",
      "\n",
      "\n",
      " 50%|████▉     | 195/392 [1:06:11<1:02:57, 19.18s/it]\u001b[A\u001b[A\u001b[A\n",
      "\n",
      "\n",
      " 50%|█████     | 196/392 [1:06:28<1:00:25, 18.50s/it]\u001b[A\u001b[A\u001b[A\n",
      "\n",
      "\n",
      " 50%|█████     | 197/392 [1:06:45<58:57, 18.14s/it]  \u001b[A\u001b[A\u001b[A\n",
      "\n",
      "\n",
      " 51%|█████     | 198/392 [1:07:03<57:47, 17.87s/it]\u001b[A\u001b[A\u001b[A\n",
      "\n",
      "\n",
      " 51%|█████     | 199/392 [1:07:21<57:32, 17.89s/it]\u001b[A\u001b[A\u001b[A\n",
      "\n",
      "\n",
      " 51%|█████     | 200/392 [1:07:37<55:35, 17.37s/it]\u001b[A\u001b[A\u001b[A\n",
      "\n",
      "\n",
      " 51%|█████▏    | 201/392 [1:07:56<56:51, 17.86s/it]\u001b[A\u001b[A\u001b[A\n",
      "\n",
      "\n",
      " 52%|█████▏    | 202/392 [1:08:12<55:27, 17.51s/it]\u001b[A\u001b[A\u001b[A\n",
      "\n",
      "\n",
      " 52%|█████▏    | 203/392 [1:08:33<57:48, 18.35s/it]\u001b[A\u001b[A\u001b[A\n",
      "\n",
      "\n",
      " 52%|█████▏    | 204/392 [1:08:58<1:03:39, 20.32s/it]\u001b[A\u001b[A\u001b[A\n",
      "\n",
      "\n",
      " 52%|█████▏    | 205/392 [1:09:15<1:00:58, 19.56s/it]\u001b[A\u001b[A\u001b[A\n",
      "\n",
      "\n",
      " 53%|█████▎    | 206/392 [1:09:33<58:33, 18.89s/it]  \u001b[A\u001b[A\u001b[A\n",
      "\n",
      "\n",
      " 53%|█████▎    | 207/392 [1:10:04<1:09:44, 22.62s/it]\u001b[A\u001b[A\u001b[A\n",
      "\n",
      "\n",
      " 53%|█████▎    | 208/392 [1:10:19<1:01:57, 20.20s/it]\u001b[A\u001b[A\u001b[A\n",
      "\n",
      "\n",
      " 53%|█████▎    | 209/392 [1:10:35<57:46, 18.94s/it]  \u001b[A\u001b[A\u001b[A\n",
      "\n",
      "\n",
      " 54%|█████▎    | 210/392 [1:11:06<1:08:29, 22.58s/it]\u001b[A\u001b[A\u001b[A\n",
      "\n",
      "\n",
      " 54%|█████▍    | 211/392 [1:11:34<1:13:09, 24.25s/it]\u001b[A\u001b[A\u001b[A\n",
      "\n",
      "\n",
      " 54%|█████▍    | 212/392 [1:11:51<1:06:36, 22.20s/it]\u001b[A\u001b[A\u001b[A\n",
      "\n",
      "\n",
      " 54%|█████▍    | 213/392 [1:12:08<1:01:31, 20.62s/it]\u001b[A\u001b[A\u001b[A\n",
      "\n",
      "\n",
      " 55%|█████▍    | 214/392 [1:12:25<57:58, 19.54s/it]  \u001b[A\u001b[A\u001b[A\n",
      "\n",
      "\n",
      " 55%|█████▍    | 215/392 [1:12:45<57:28, 19.48s/it]\u001b[A\u001b[A\u001b[A\n",
      "\n",
      "\n",
      " 55%|█████▌    | 216/392 [1:13:03<56:00, 19.10s/it]\u001b[A\u001b[A\u001b[A\n",
      "\n",
      "\n",
      " 55%|█████▌    | 217/392 [1:13:22<55:45, 19.11s/it]\u001b[A\u001b[A\u001b[A\n",
      "\n",
      "\n",
      " 56%|█████▌    | 218/392 [1:13:39<53:59, 18.62s/it]\u001b[A\u001b[A\u001b[A\n",
      "\n",
      "\n",
      " 56%|█████▌    | 219/392 [1:13:54<49:50, 17.29s/it]\u001b[A\u001b[A\u001b[A\n",
      "\n",
      "\n",
      " 56%|█████▌    | 220/392 [1:14:10<49:08, 17.14s/it]\u001b[A\u001b[A\u001b[A\n",
      "\n",
      "\n",
      " 56%|█████▋    | 221/392 [1:14:27<48:21, 16.97s/it]\u001b[A\u001b[A\u001b[A\n",
      "\n",
      "\n",
      " 57%|█████▋    | 222/392 [1:14:46<49:53, 17.61s/it]\u001b[A\u001b[A\u001b[A\n",
      "\n",
      "\n",
      " 57%|█████▋    | 223/392 [1:15:08<52:57, 18.80s/it]\u001b[A\u001b[A\u001b[A\n",
      "\n",
      "\n",
      " 57%|█████▋    | 224/392 [1:15:23<49:59, 17.85s/it]\u001b[A\u001b[A\u001b[A\n",
      "\n",
      "\n",
      " 57%|█████▋    | 225/392 [1:15:39<47:55, 17.22s/it]\u001b[A\u001b[A\u001b[A\n",
      "\n",
      "\n",
      " 58%|█████▊    | 226/392 [1:15:56<47:52, 17.31s/it]\u001b[A\u001b[A\u001b[A\n",
      "\n",
      "\n",
      " 58%|█████▊    | 227/392 [1:16:14<47:31, 17.28s/it]\u001b[A\u001b[A\u001b[A\n",
      "\n",
      "\n",
      " 58%|█████▊    | 228/392 [1:16:33<48:34, 17.77s/it]\u001b[A\u001b[A\u001b[A\n",
      "\n",
      "\n",
      " 58%|█████▊    | 229/392 [1:16:54<51:00, 18.78s/it]\u001b[A\u001b[A\u001b[A\n",
      "\n",
      "\n",
      " 59%|█████▊    | 230/392 [1:17:11<49:42, 18.41s/it]\u001b[A\u001b[A\u001b[A\n",
      "\n",
      "\n",
      " 59%|█████▉    | 231/392 [1:17:29<48:56, 18.24s/it]\u001b[A\u001b[A\u001b[A\n",
      "\n",
      "\n",
      " 59%|█████▉    | 232/392 [1:17:47<48:03, 18.02s/it]\u001b[A\u001b[A\u001b[A\n",
      "\n",
      "\n",
      " 59%|█████▉    | 233/392 [1:18:03<46:10, 17.42s/it]\u001b[A\u001b[A\u001b[A\n",
      "\n",
      "\n",
      " 60%|█████▉    | 234/392 [1:18:20<45:43, 17.37s/it]\u001b[A\u001b[A\u001b[A\n",
      "\n",
      "\n",
      " 60%|█████▉    | 235/392 [1:18:50<55:45, 21.31s/it]\u001b[A\u001b[A\u001b[A\n",
      "\n",
      "\n",
      " 60%|██████    | 236/392 [1:19:08<52:43, 20.28s/it]\u001b[A\u001b[A\u001b[A\n",
      "\n",
      "\n",
      " 60%|██████    | 237/392 [1:19:25<49:18, 19.09s/it]\u001b[A\u001b[A\u001b[A\n",
      "\n",
      "\n",
      " 61%|██████    | 238/392 [1:19:41<46:38, 18.17s/it]\u001b[A\u001b[A\u001b[A\n",
      "\n",
      "\n",
      " 61%|██████    | 239/392 [1:20:03<49:38, 19.47s/it]\u001b[A\u001b[A\u001b[A\n",
      "\n",
      "\n",
      " 61%|██████    | 240/392 [1:20:21<48:00, 18.95s/it]\u001b[A\u001b[A\u001b[A\n",
      "\n",
      "\n",
      " 61%|██████▏   | 241/392 [1:20:39<46:53, 18.63s/it]\u001b[A\u001b[A\u001b[A\n",
      "\n",
      "\n",
      " 62%|██████▏   | 242/392 [1:20:55<45:06, 18.05s/it]\u001b[A\u001b[A\u001b[A\n",
      "\n",
      "\n",
      " 62%|██████▏   | 243/392 [1:21:12<43:28, 17.51s/it]\u001b[A\u001b[A\u001b[A\n",
      "\n",
      "\n",
      " 62%|██████▏   | 244/392 [1:21:29<43:06, 17.47s/it]\u001b[A\u001b[A\u001b[A\n",
      "\n",
      "\n",
      " 62%|██████▎   | 245/392 [1:21:46<42:44, 17.44s/it]\u001b[A\u001b[A\u001b[A\n",
      "\n",
      "\n",
      " 63%|██████▎   | 246/392 [1:22:16<51:06, 21.00s/it]\u001b[A\u001b[A\u001b[A\n",
      "\n",
      "\n",
      " 63%|██████▎   | 247/392 [1:22:42<54:33, 22.58s/it]\u001b[A\u001b[A\u001b[A\n",
      "\n",
      "\n",
      " 63%|██████▎   | 248/392 [1:22:59<50:03, 20.86s/it]\u001b[A\u001b[A\u001b[A\n",
      "\n",
      "\n",
      " 64%|██████▎   | 249/392 [1:23:14<45:30, 19.10s/it]\u001b[A\u001b[A\u001b[A\n",
      "\n",
      "\n",
      " 64%|██████▍   | 250/392 [1:23:31<43:39, 18.45s/it]\u001b[A\u001b[A\u001b[A\n",
      "\n",
      "\n",
      " 64%|██████▍   | 251/392 [1:24:03<52:46, 22.46s/it]\u001b[A\u001b[A\u001b[A\n",
      "\n",
      "\n",
      " 64%|██████▍   | 252/392 [1:24:21<49:18, 21.13s/it]\u001b[A\u001b[A\u001b[A\n",
      "\n",
      "\n",
      " 65%|██████▍   | 253/392 [1:24:36<45:03, 19.45s/it]\u001b[A\u001b[A\u001b[A\n",
      "\n",
      "\n",
      " 65%|██████▍   | 254/392 [1:25:01<48:46, 21.21s/it]\u001b[A\u001b[A\u001b[A\n",
      "\n",
      "\n",
      " 65%|██████▌   | 255/392 [1:25:19<45:44, 20.03s/it]\u001b[A\u001b[A\u001b[A\n",
      "\n",
      "\n",
      " 65%|██████▌   | 256/392 [1:25:49<52:22, 23.11s/it]\u001b[A\u001b[A\u001b[A\n",
      "\n",
      "\n",
      " 66%|██████▌   | 257/392 [1:26:05<46:57, 20.87s/it]\u001b[A\u001b[A\u001b[A\n",
      "\n",
      "\n",
      " 66%|██████▌   | 258/392 [1:26:22<43:54, 19.66s/it]\u001b[A\u001b[A\u001b[A\n",
      "\n",
      "\n",
      " 66%|██████▌   | 259/392 [1:26:48<48:02, 21.67s/it]\u001b[A\u001b[A\u001b[A\n",
      "\n",
      "\n"
     ]
    },
    {
     "name": "stderr",
     "output_type": "stream",
     "text": [
      " 66%|██████▋   | 260/392 [1:27:19<54:07, 24.60s/it]\u001b[A\u001b[A\u001b[A\n",
      "\n",
      "\n",
      " 67%|██████▋   | 261/392 [1:27:50<57:29, 26.34s/it]\u001b[A\u001b[A\u001b[A\n",
      "\n",
      "\n",
      " 67%|██████▋   | 262/392 [1:28:20<59:39, 27.53s/it]\u001b[A\u001b[A\u001b[A\n",
      "\n",
      "\n",
      " 67%|██████▋   | 263/392 [1:28:35<51:23, 23.91s/it]\u001b[A\u001b[A\u001b[A\n",
      "\n",
      "\n",
      " 67%|██████▋   | 264/392 [1:28:52<46:32, 21.82s/it]\u001b[A\u001b[A\u001b[A\n",
      "\n",
      "\n",
      " 68%|██████▊   | 265/392 [1:29:13<45:18, 21.41s/it]\u001b[A\u001b[A\u001b[A\n",
      "\n",
      "\n",
      " 68%|██████▊   | 266/392 [1:29:33<43:56, 20.92s/it]\u001b[A\u001b[A\u001b[A\n",
      "\n",
      "\n",
      " 68%|██████▊   | 267/392 [1:29:49<40:47, 19.58s/it]\u001b[A\u001b[A\u001b[A\n",
      "\n",
      "\n",
      " 68%|██████▊   | 268/392 [1:30:05<38:13, 18.49s/it]\u001b[A\u001b[A\u001b[A\n",
      "\n",
      "\n",
      " 69%|██████▊   | 269/392 [1:30:21<36:04, 17.60s/it]\u001b[A\u001b[A\u001b[A\n",
      "\n",
      "\n",
      " 69%|██████▉   | 270/392 [1:30:38<35:43, 17.57s/it]\u001b[A\u001b[A\u001b[A\n",
      "\n",
      "\n",
      " 69%|██████▉   | 271/392 [1:31:10<44:03, 21.85s/it]\u001b[A\u001b[A\u001b[A\n",
      "\n",
      "\n",
      " 69%|██████▉   | 272/392 [1:31:41<49:04, 24.54s/it]\u001b[A\u001b[A\u001b[A\n",
      "\n",
      "\n",
      " 70%|██████▉   | 273/392 [1:31:57<43:42, 22.04s/it]\u001b[A\u001b[A\u001b[A\n",
      "\n",
      "\n",
      " 70%|██████▉   | 274/392 [1:32:15<40:45, 20.72s/it]\u001b[A\u001b[A\u001b[A\n",
      "\n",
      "\n",
      " 70%|███████   | 275/392 [1:32:32<38:36, 19.80s/it]\u001b[A\u001b[A\u001b[A\n",
      "\n",
      "\n",
      " 70%|███████   | 276/392 [1:33:04<45:04, 23.32s/it]\u001b[A\u001b[A\u001b[A\n",
      "\n",
      "\n",
      " 71%|███████   | 277/392 [1:33:20<40:41, 21.23s/it]\u001b[A\u001b[A\u001b[A\n",
      "\n",
      "\n",
      " 71%|███████   | 278/392 [1:33:37<37:37, 19.81s/it]\u001b[A\u001b[A\u001b[A\n",
      "\n",
      "\n",
      " 71%|███████   | 279/392 [1:33:59<38:53, 20.65s/it]\u001b[A\u001b[A\u001b[A\n",
      "\n",
      "\n",
      " 71%|███████▏  | 280/392 [1:34:16<36:28, 19.54s/it]\u001b[A\u001b[A\u001b[A\n",
      "\n",
      "\n",
      " 72%|███████▏  | 281/392 [1:34:34<35:16, 19.07s/it]\u001b[A\u001b[A\u001b[A\n",
      "\n",
      "\n",
      " 72%|███████▏  | 282/392 [1:34:57<36:51, 20.11s/it]\u001b[A\u001b[A\u001b[A\n",
      "\n",
      "\n",
      " 72%|███████▏  | 283/392 [1:35:13<34:33, 19.02s/it]\u001b[A\u001b[A\u001b[A\n",
      "\n",
      "\n",
      " 72%|███████▏  | 284/392 [1:35:30<33:16, 18.49s/it]\u001b[A\u001b[A\u001b[A\n",
      "\n",
      "\n",
      " 73%|███████▎  | 285/392 [1:35:47<31:53, 17.88s/it]\u001b[A\u001b[A\u001b[A\n",
      "\n",
      "\n",
      " 73%|███████▎  | 286/392 [1:36:06<32:00, 18.11s/it]\u001b[A\u001b[A\u001b[A\n",
      "\n",
      "\n",
      " 73%|███████▎  | 287/392 [1:36:24<32:04, 18.32s/it]\u001b[A\u001b[A\u001b[A\n",
      "\n",
      "\n",
      " 73%|███████▎  | 288/392 [1:36:44<32:20, 18.66s/it]\u001b[A\u001b[A\u001b[A\n",
      "\n",
      "\n",
      " 74%|███████▎  | 289/392 [1:37:01<31:03, 18.09s/it]\u001b[A\u001b[A\u001b[A\n",
      "\n",
      "\n",
      " 74%|███████▍  | 290/392 [1:37:20<31:23, 18.47s/it]\u001b[A\u001b[A\u001b[A\n",
      "\n",
      "\n",
      " 74%|███████▍  | 291/392 [1:37:40<31:55, 18.96s/it]\u001b[A\u001b[A\u001b[A\n",
      "\n",
      "\n",
      " 74%|███████▍  | 292/392 [1:37:57<30:31, 18.31s/it]\u001b[A\u001b[A\u001b[A\n",
      "\n",
      "\n",
      " 75%|███████▍  | 293/392 [1:38:23<34:14, 20.75s/it]\u001b[A\u001b[A\u001b[A\n",
      "\n",
      "\n",
      " 75%|███████▌  | 294/392 [1:38:43<33:18, 20.39s/it]\u001b[A\u001b[A\u001b[A\n",
      "\n",
      "\n",
      " 75%|███████▌  | 295/392 [1:38:59<31:04, 19.22s/it]\u001b[A\u001b[A\u001b[A\n",
      "\n",
      "\n",
      " 76%|███████▌  | 296/392 [1:39:16<29:28, 18.42s/it]\u001b[A\u001b[A\u001b[A\n",
      "\n",
      "\n",
      " 76%|███████▌  | 297/392 [1:39:46<34:42, 21.92s/it]\u001b[A\u001b[A\u001b[A\n",
      "\n",
      "\n",
      " 76%|███████▌  | 298/392 [1:40:05<33:13, 21.21s/it]\u001b[A\u001b[A\u001b[A\n",
      "\n",
      "\n",
      " 76%|███████▋  | 299/392 [1:40:22<30:33, 19.72s/it]\u001b[A\u001b[A\u001b[A\n",
      "\n",
      "\n",
      " 77%|███████▋  | 300/392 [1:40:39<29:08, 19.01s/it]\u001b[A\u001b[A\u001b[A\n",
      "\n",
      "\n",
      " 77%|███████▋  | 301/392 [1:41:12<34:57, 23.04s/it]\u001b[A\u001b[A\u001b[A\n",
      "\n",
      "\n",
      " 77%|███████▋  | 302/392 [1:41:43<38:20, 25.56s/it]\u001b[A\u001b[A\u001b[A\n",
      "\n",
      "\n",
      " 77%|███████▋  | 303/392 [1:42:01<34:33, 23.29s/it]\u001b[A\u001b[A\u001b[A\n",
      "\n",
      "\n",
      " 78%|███████▊  | 304/392 [1:42:18<31:19, 21.36s/it]\u001b[A\u001b[A\u001b[A\n",
      "\n",
      "\n",
      " 78%|███████▊  | 305/392 [1:42:33<28:26, 19.61s/it]\u001b[A\u001b[A\u001b[A\n",
      "\n",
      "\n",
      " 78%|███████▊  | 306/392 [1:42:50<26:49, 18.72s/it]\u001b[A\u001b[A\u001b[A\n",
      "\n",
      "\n",
      " 78%|███████▊  | 307/392 [1:43:06<25:10, 17.77s/it]\u001b[A\u001b[A\u001b[A\n",
      "\n",
      "\n",
      " 79%|███████▊  | 308/392 [1:43:26<26:10, 18.70s/it]\u001b[A\u001b[A\u001b[A\n",
      "\n",
      "\n",
      " 79%|███████▉  | 309/392 [1:43:44<25:15, 18.26s/it]\u001b[A\u001b[A\u001b[A\n",
      "\n",
      "\n",
      " 79%|███████▉  | 310/392 [1:44:04<25:39, 18.77s/it]\u001b[A\u001b[A\u001b[A\n",
      "\n",
      "\n",
      " 79%|███████▉  | 311/392 [1:44:23<25:27, 18.86s/it]\u001b[A\u001b[A\u001b[A\n",
      "\n",
      "\n",
      " 80%|███████▉  | 312/392 [1:44:39<24:17, 18.22s/it]\u001b[A\u001b[A\u001b[A\n",
      "\n",
      "\n",
      " 80%|███████▉  | 313/392 [1:44:58<24:02, 18.26s/it]\u001b[A\u001b[A\u001b[A\n",
      "\n",
      "\n",
      " 80%|████████  | 314/392 [1:45:14<22:54, 17.62s/it]\u001b[A\u001b[A\u001b[A\n",
      "\n",
      "\n",
      " 80%|████████  | 315/392 [1:45:31<22:20, 17.41s/it]\u001b[A\u001b[A\u001b[A\n",
      "\n",
      "\n",
      " 81%|████████  | 316/392 [1:45:48<22:04, 17.43s/it]\u001b[A\u001b[A\u001b[A\n",
      "\n",
      "\n",
      " 81%|████████  | 317/392 [1:46:05<21:41, 17.35s/it]\u001b[A\u001b[A\u001b[A\n",
      "\n",
      "\n",
      " 81%|████████  | 318/392 [1:46:25<22:12, 18.01s/it]\u001b[A\u001b[A\u001b[A\n",
      "\n",
      "\n",
      " 81%|████████▏ | 319/392 [1:46:41<21:18, 17.51s/it]\u001b[A\u001b[A\u001b[A\n",
      "\n",
      "\n",
      " 82%|████████▏ | 320/392 [1:46:58<20:45, 17.30s/it]\u001b[A\u001b[A\u001b[A\n",
      "\n",
      "\n",
      " 82%|████████▏ | 321/392 [1:47:17<20:59, 17.74s/it]\u001b[A\u001b[A\u001b[A\n",
      "\n",
      "\n",
      " 82%|████████▏ | 322/392 [1:47:35<20:41, 17.73s/it]\u001b[A\u001b[A\u001b[A\n",
      "\n",
      "\n",
      " 82%|████████▏ | 323/392 [1:48:06<25:08, 21.86s/it]\u001b[A\u001b[A\u001b[A\n",
      "\n",
      "\n",
      " 83%|████████▎ | 324/392 [1:48:27<24:17, 21.44s/it]\u001b[A\u001b[A\u001b[A\n",
      "\n",
      "\n",
      " 83%|████████▎ | 325/392 [1:48:45<22:48, 20.42s/it]\u001b[A\u001b[A\u001b[A\n",
      "\n",
      "\n",
      " 83%|████████▎ | 326/392 [1:49:01<21:07, 19.20s/it]\u001b[A\u001b[A\u001b[A\n",
      "\n",
      "\n",
      " 83%|████████▎ | 327/392 [1:49:30<23:57, 22.11s/it]\u001b[A\u001b[A\u001b[A\n",
      "\n",
      "\n",
      " 84%|████████▎ | 328/392 [1:49:58<25:22, 23.79s/it]\u001b[A\u001b[A\u001b[A\n",
      "\n",
      "\n",
      " 84%|████████▍ | 329/392 [1:50:18<23:54, 22.77s/it]\u001b[A\u001b[A\u001b[A\n",
      "\n",
      "\n",
      " 84%|████████▍ | 330/392 [1:50:47<25:30, 24.68s/it]\u001b[A\u001b[A\u001b[A\n",
      "\n",
      "\n",
      " 84%|████████▍ | 331/392 [1:51:06<23:23, 23.00s/it]\u001b[A\u001b[A\u001b[A\n",
      "\n",
      "\n",
      " 85%|████████▍ | 332/392 [1:51:22<20:47, 20.80s/it]\u001b[A\u001b[A\u001b[A\n",
      "\n",
      "\n",
      " 85%|████████▍ | 333/392 [1:51:37<18:50, 19.17s/it]\u001b[A\u001b[A\u001b[A\n",
      "\n",
      "\n",
      " 85%|████████▌ | 334/392 [1:51:56<18:23, 19.02s/it]\u001b[A\u001b[A\u001b[A\n",
      "\n",
      "\n",
      " 85%|████████▌ | 335/392 [1:52:13<17:34, 18.51s/it]\u001b[A\u001b[A\u001b[A\n",
      "\n",
      "\n",
      " 86%|████████▌ | 336/392 [1:52:31<17:12, 18.43s/it]\u001b[A\u001b[A\u001b[A\n",
      "\n",
      "\n",
      " 86%|████████▌ | 337/392 [1:52:48<16:25, 17.92s/it]\u001b[A\u001b[A\u001b[A\n",
      "\n",
      "\n",
      " 86%|████████▌ | 338/392 [1:53:06<15:58, 17.75s/it]\u001b[A\u001b[A\u001b[A\n",
      "\n",
      "\n",
      " 86%|████████▋ | 339/392 [1:53:25<16:12, 18.35s/it]\u001b[A\u001b[A\u001b[A\n",
      "\n",
      "\n",
      " 87%|████████▋ | 340/392 [1:53:44<15:59, 18.44s/it]\u001b[A\u001b[A\u001b[A\n",
      "\n",
      "\n",
      " 87%|████████▋ | 341/392 [1:54:01<15:26, 18.17s/it]\u001b[A\u001b[A\u001b[A\n",
      "\n",
      "\n",
      " 87%|████████▋ | 342/392 [1:54:21<15:36, 18.73s/it]\u001b[A\u001b[A\u001b[A\n",
      "\n",
      "\n",
      " 88%|████████▊ | 343/392 [1:54:38<14:44, 18.04s/it]\u001b[A\u001b[A\u001b[A\n",
      "\n",
      "\n",
      " 88%|████████▊ | 344/392 [1:54:53<13:43, 17.16s/it]\u001b[A\u001b[A\u001b[A\n",
      "\n",
      "\n",
      " 88%|████████▊ | 345/392 [1:55:24<16:40, 21.28s/it]\u001b[A\u001b[A\u001b[A\n",
      "\n",
      "\n",
      " 88%|████████▊ | 346/392 [1:55:42<15:33, 20.29s/it]\u001b[A\u001b[A\u001b[A\n",
      "\n",
      "\n",
      " 89%|████████▊ | 347/392 [1:56:00<14:37, 19.49s/it]\u001b[A\u001b[A\u001b[A\n",
      "\n",
      "\n",
      " 89%|████████▉ | 348/392 [1:56:16<13:42, 18.69s/it]\u001b[A\u001b[A\u001b[A\n",
      "\n",
      "\n",
      " 89%|████████▉ | 349/392 [1:56:33<12:52, 17.97s/it]\u001b[A\u001b[A\u001b[A\n",
      "\n",
      "\n",
      " 89%|████████▉ | 350/392 [1:56:49<12:14, 17.50s/it]\u001b[A\u001b[A\u001b[A\n",
      "\n",
      "\n",
      " 90%|████████▉ | 351/392 [1:57:05<11:36, 16.98s/it]\u001b[A\u001b[A\u001b[A\n",
      "\n",
      "\n",
      " 90%|████████▉ | 352/392 [1:57:24<11:45, 17.64s/it]\u001b[A\u001b[A\u001b[A\n",
      "\n",
      "\n",
      " 90%|█████████ | 353/392 [1:57:42<11:36, 17.86s/it]\u001b[A\u001b[A\u001b[A\n",
      "\n",
      "\n",
      " 90%|█████████ | 354/392 [1:58:00<11:16, 17.81s/it]\u001b[A\u001b[A\u001b[A\n",
      "\n",
      "\n",
      " 91%|█████████ | 355/392 [1:58:17<10:48, 17.54s/it]\u001b[A\u001b[A\u001b[A\n",
      "\n",
      "\n",
      " 91%|█████████ | 356/392 [1:58:37<10:57, 18.28s/it]\u001b[A\u001b[A\u001b[A\n",
      "\n",
      "\n",
      " 91%|█████████ | 357/392 [1:59:05<12:19, 21.12s/it]\u001b[A\u001b[A\u001b[A\n",
      "\n",
      "\n",
      " 91%|█████████▏| 358/392 [1:59:22<11:22, 20.07s/it]\u001b[A\u001b[A\u001b[A\n",
      "\n",
      "\n",
      " 92%|█████████▏| 359/392 [1:59:39<10:25, 18.94s/it]\u001b[A\u001b[A\u001b[A\n",
      "\n",
      "\n",
      " 92%|█████████▏| 360/392 [1:59:56<09:47, 18.36s/it]\u001b[A\u001b[A\u001b[A\n",
      "\n",
      "\n",
      " 92%|█████████▏| 361/392 [2:00:12<09:13, 17.87s/it]\u001b[A\u001b[A\u001b[A\n",
      "\n",
      "\n",
      " 92%|█████████▏| 362/392 [2:00:28<08:31, 17.07s/it]\u001b[A\u001b[A\u001b[A\n",
      "\n",
      "\n",
      " 93%|█████████▎| 363/392 [2:00:45<08:16, 17.12s/it]\u001b[A\u001b[A\u001b[A\n",
      "\n",
      "\n",
      " 93%|█████████▎| 364/392 [2:01:04<08:17, 17.78s/it]\u001b[A\u001b[A\u001b[A\n",
      "\n",
      "\n",
      " 93%|█████████▎| 365/392 [2:01:22<08:02, 17.89s/it]\u001b[A\u001b[A\u001b[A\n",
      "\n",
      "\n",
      " 93%|█████████▎| 366/392 [2:01:43<08:09, 18.84s/it]\u001b[A\u001b[A\u001b[A\n",
      "\n",
      "\n",
      " 94%|█████████▎| 367/392 [2:02:00<07:36, 18.26s/it]\u001b[A\u001b[A\u001b[A\n",
      "\n",
      "\n",
      " 94%|█████████▍| 368/392 [2:02:33<09:01, 22.57s/it]\u001b[A\u001b[A\u001b[A\n",
      "\n",
      "\n",
      " 94%|█████████▍| 369/392 [2:02:51<08:08, 21.22s/it]\u001b[A\u001b[A\u001b[A\n",
      "\n",
      "\n",
      " 94%|█████████▍| 370/392 [2:03:09<07:23, 20.15s/it]\u001b[A\u001b[A\u001b[A\n",
      "\n",
      "\n",
      " 95%|█████████▍| 371/392 [2:03:25<06:41, 19.11s/it]\u001b[A\u001b[A\u001b[A\n",
      "\n",
      "\n",
      " 95%|█████████▍| 372/392 [2:03:45<06:26, 19.32s/it]\u001b[A\u001b[A\u001b[A\n",
      "\n",
      "\n",
      " 95%|█████████▌| 373/392 [2:04:18<07:24, 23.41s/it]\u001b[A\u001b[A\u001b[A\n",
      "\n",
      "\n",
      " 95%|█████████▌| 374/392 [2:04:33<06:18, 21.02s/it]\u001b[A\u001b[A\u001b[A\n",
      "\n",
      "\n",
      " 96%|█████████▌| 375/392 [2:04:50<05:36, 19.77s/it]\u001b[A\u001b[A\u001b[A\n",
      "\n",
      "\n",
      " 96%|█████████▌| 376/392 [2:05:07<05:01, 18.83s/it]\u001b[A\u001b[A\u001b[A\n",
      "\n",
      "\n",
      " 96%|█████████▌| 377/392 [2:05:28<04:52, 19.52s/it]\u001b[A\u001b[A\u001b[A\n",
      "\n",
      "\n",
      " 96%|█████████▋| 378/392 [2:05:45<04:20, 18.64s/it]\u001b[A\u001b[A\u001b[A\n",
      "\n",
      "\n",
      " 97%|█████████▋| 379/392 [2:06:00<03:50, 17.74s/it]\u001b[A\u001b[A\u001b[A\n",
      "\n",
      "\n",
      " 97%|█████████▋| 380/392 [2:06:18<03:33, 17.80s/it]\u001b[A\u001b[A\u001b[A\n",
      "\n",
      "\n",
      " 97%|█████████▋| 381/392 [2:06:38<03:21, 18.30s/it]\u001b[A\u001b[A\u001b[A\n",
      "\n",
      "\n",
      " 97%|█████████▋| 382/392 [2:06:53<02:55, 17.53s/it]\u001b[A\u001b[A\u001b[A\n",
      "\n",
      "\n",
      " 98%|█████████▊| 383/392 [2:07:13<02:41, 17.99s/it]\u001b[A\u001b[A\u001b[A\n",
      "\n",
      "\n",
      " 98%|█████████▊| 384/392 [2:07:28<02:18, 17.30s/it]\u001b[A\u001b[A\u001b[A\n",
      "\n",
      "\n",
      " 98%|█████████▊| 385/392 [2:07:50<02:10, 18.66s/it]\u001b[A\u001b[A\u001b[A\n",
      "\n",
      "\n",
      " 98%|█████████▊| 386/392 [2:08:07<01:49, 18.17s/it]\u001b[A\u001b[A\u001b[A\n",
      "\n",
      "\n",
      " 99%|█████████▊| 387/392 [2:08:25<01:29, 17.97s/it]\u001b[A\u001b[A\u001b[A\n",
      "\n",
      "\n",
      " 99%|█████████▉| 388/392 [2:08:43<01:12, 18.03s/it]\u001b[A\u001b[A\u001b[A\n",
      "\n",
      "\n",
      " 99%|█████████▉| 389/392 [2:09:15<01:06, 22.18s/it]\u001b[A\u001b[A\u001b[A\n",
      "\n",
      "\n"
     ]
    },
    {
     "name": "stderr",
     "output_type": "stream",
     "text": [
      " 99%|█████████▉| 390/392 [2:09:32<00:41, 20.85s/it]\u001b[A\u001b[A\u001b[A\n",
      "\n",
      "\n",
      "100%|█████████▉| 391/392 [2:09:53<00:20, 20.80s/it]\u001b[A\u001b[A\u001b[A\n",
      "\n",
      "\n",
      "100%|██████████| 392/392 [2:10:10<00:00, 19.92s/it]\u001b[A\u001b[A\u001b[A\n"
     ]
    }
   ],
   "source": [
    "for i in tqdm(test):\n",
    "    driver.get(i)\n",
    "    time.sleep(random.choice(sequence))\n",
    "    time.sleep(random.choice(sequence))\n",
    "\n",
    "    \n",
    "    attraction_features = {}\n",
    "    \n",
    "    attraction_features['link'] = i\n",
    "    \n",
    "    # add to dictionary\n",
    "    try:\n",
    "        attraction_features['name'] = find_name(driver)\n",
    "    except:\n",
    "        attraction_features['name'] = None\n",
    "\n",
    "    # add to dictionary\n",
    "    try:\n",
    "        attraction_features['no_things_to_do'] = find_no_things_to_do(driver)\n",
    "    except:\n",
    "        attraction_features['no_things_to_do'] = None\n",
    "\n",
    "    # add to dictionary\n",
    "    try:\n",
    "        attraction_features['sights_landmarks'] = find_sights_landmarks(driver)\n",
    "    except:\n",
    "        attraction_features['sights_landmarks'] = None\n",
    "\n",
    "    # add to dictionary\n",
    "    try:\n",
    "        attraction_features['address'] = find_address(driver)\n",
    "    except:\n",
    "        attraction_features['address'] = None\n",
    "\n",
    "    # add to dictionary\n",
    "    try:\n",
    "        attraction_features['summary_overview'] = find_summary_overview(driver)\n",
    "    except:\n",
    "        attraction_features['summary_overview'] = None\n",
    "\n",
    "    # add to dictionary\n",
    "    try:\n",
    "        attraction_features['num_reviews'] = number_of_reviews(driver)\n",
    "    except:\n",
    "        attraction_features['num_reviews'] = None\n",
    "\n",
    "    # add to dictionary\n",
    "    try:\n",
    "        attraction_features['about'] = about_box(driver)\n",
    "    except:\n",
    "        attraction_features['about'] = None\n",
    "\n",
    "    # add to dictionary\n",
    "    try:\n",
    "        attraction_features['popular_mentions'] = popular_mentions(driver)\n",
    "    except:\n",
    "        attraction_features['popular_mentions'] = None\n",
    "    \n",
    "    \n",
    "    try:\n",
    "        morebutton(driver)\n",
    "        time.sleep(random.choice(sequence)/2)\n",
    "    except:\n",
    "        pass\n",
    "    \n",
    "    time.sleep(random.choice(sequence))\n",
    "    \n",
    "    # add comments to dictionary\n",
    "    \n",
    "    try:\n",
    "        attraction_features['comments'] = comments(driver)\n",
    "    except:\n",
    "        attraction_features['comments'] = None\n",
    "    \n",
    "    \n",
    "    # last_comment == comments(driver)\n",
    "    try:\n",
    "        first_comment = comments(driver)\n",
    "    except:\n",
    "        pass\n",
    "    \n",
    "    \n",
    "\n",
    "    \n",
    "    #load more comments if there is any\n",
    "    for i in (range(3)):\n",
    "\n",
    "        try:\n",
    "            if nextbutton(driver) == False:\n",
    "                break\n",
    "            else:\n",
    "                nextbutton(driver)\n",
    "                time.sleep(random.choice(sequence))\n",
    "\n",
    "                try:\n",
    "                    morebutton(driver)\n",
    "                except:\n",
    "                    pass\n",
    "\n",
    "                time.sleep(random.choice(sequence))\n",
    "\n",
    "                try:\n",
    "                    if first_comment == comments(driver):\n",
    "                        break\n",
    "                    else:\n",
    "                        first_comment = comments(driver)\n",
    "                        \n",
    "                except:\n",
    "                    pass\n",
    "                \n",
    "                try:\n",
    "                    attraction_features['comments']+=(comments(driver))\n",
    "                except:\n",
    "                    attraction_features['comments']+=''    \n",
    "                    \n",
    "                \n",
    "        except:\n",
    "            break\n",
    "        \n",
    "        \n",
    "        try:\n",
    "            #checks to make sure we're not recopying comments\n",
    "            if last_comment == comments(driver):\n",
    "                break\n",
    "        except:\n",
    "            pass\n",
    "    #add to list of dictionaries\n",
    "    attractions.append(attraction_features)\n",
    "\n"
   ]
  },
  {
   "cell_type": "code",
   "execution_count": 261,
   "metadata": {},
   "outputs": [],
   "source": [
    "df = pd.DataFrame(attractions)"
   ]
  },
  {
   "cell_type": "code",
   "execution_count": 271,
   "metadata": {},
   "outputs": [
    {
     "data": {
      "text/plain": [
       "8050"
      ]
     },
     "execution_count": 271,
     "metadata": {},
     "output_type": "execute_result"
    }
   ],
   "source": [
    "len(df['comments'][2])"
   ]
  },
  {
   "cell_type": "code",
   "execution_count": 274,
   "metadata": {},
   "outputs": [
    {
     "data": {
      "text/plain": [
       "'Traveller rating\\nExcellent 19\\nVery Good 1\\nAverage 1\\nPoor 0\\nTerrible 0\\nTraveller type\\nFamilies\\nCouples\\nSolo\\nBusiness\\nFriends\\nTime of year\\nMar-May\\nJun-Aug\\nSep-Nov\\nDec-Feb\\nLanguage\\nAll languages\\nEnglish(15)\\nGreek(3)\\nRussian(2)\\nJapanese(1)\\nPopular mentions\\nAll reviewsgalleryartists\\nAkag3 wrote a review Oct. 2019\\nWestern Australia, Australia26 contributions24 helpful votes\\nbeautiful gallery, wonderful people\\nWe visited here 3 years ago and bought some earrings and a wedding ring for my husband, which they later posted home for us. Recently my husband lost this ring and we were able to get the item remade. Ersi was so helpful and kept us up to date with the quote and postage. I still…\\nRead more\\nDate of experience: October 2019\\nHelpful\\nShare\\nResponse from Ersi K, Γενικός Διευθυντής at Eleni Marneri Galerie\\nResponded Oct. 9, 2019\\nThank you so much for you kind words!! We hope to see you soon!!\\nPigadioti wrote a review Mar. 2018\\nAthens, Greece103 contributions33 helpful votes\\nIf you care about Art & Design this is the place to visit....\\nA beautiful store with an amazing selection of jewels, design and art pieces situated in the hottest neighborhood of Makriyianni-Acropolis. It\\'s worth visiting and buying a present for yourself or a friend. Unique pieces!!!\\nRead more\\nDate of experience: December 2017\\nHelpful\\nShare\\nResponse from Eleni Marneri G, Υπεύθυνος Δημοσίων Σχέσεων at Eleni Marneri Galerie\\nResponded Apr. 10, 2018\\nThank you for this great review! We will be happy to see you again soon!\\nDimitra G wrote a review Mar. 2018\\n4 contributions\\nA must-visit gallery\\nI visited Eleni Marneri Galerie on December, during the Metallogues exhibition. The jewellery was stunning - real pieces of art! The staff was very friendly and even though we went during the opening of the exhibition, they gave us a personal tour through the gallery. I didn\\'t…\\nRead more\\nDate of experience: December 2017\\nHelpful\\nShare\\nResponse from Eleni Marneri G, Υπεύθυνος Δημοσίων Σχέσεων at Eleni Marneri Galerie\\nResponded Apr. 10, 2018\\nWe are glad you enjoyed your visit! Thank you for your wonderful review.\\njojodaniil wrote a review Mar. 2018\\nAthens, Greece2 contributions\\nContemporary Design\\nAn exceptional collection of contemporary jewellery, design objects and fragrances! Galerie Marneri has a relaxed ambience, beautiful interiors and excellent service. A great place to shop gifts and memorabilia from your visit in Athens!\\nRead more\\nDate of experience: March 2018\\nHelpful\\nShare\\nResponse from Eleni Marneri G, Υπεύθυνος Δημοσίων Σχέσεων at Eleni Marneri Galerie\\nResponded Apr. 10, 2018\\nLooking forward to seeing you again! Thank you for your nice review!\\nMimiDlux wrote a review Mar. 2018\\nKavala31 contributions23 helpful votes\\nABSOLUTE DESTINATION IN ATHENS\\nWhenever I am in Athens I never miss to visit Eleni Marneri Gallery. If you are looking for unique items and accessories either for yourself or as a gift Eleni Marneri Gallery collection will always live up to your expecations. Impeccable service too!\\nRead more\\nDate of experience: February 2018\\nHelpful\\nShare\\nResponse from Eleni Marneri G, Υπεύθυνος Δημοσίων Σχέσεων at Eleni Marneri Galerie\\nResponded Apr. 10, 2018\\nThank you for this great review! We will be happy to see you again soon!\\nPrevious\\nNext\\n123Traveller rating\\nExcellent 19\\nVery Good 1\\nAverage 1\\nPoor 0\\nTerrible 0\\nTraveller type\\nFamilies\\nCouples\\nSolo\\nBusiness\\nFriends\\nTime of year\\nMar-May\\nJun-Aug\\nSep-Nov\\nDec-Feb\\nLanguage\\nAll languages\\nEnglish(15)\\nGreek(3)\\nRussian(2)\\nJapanese(1)\\nPopular mentions\\nAll reviewsgalleryartists\\nPatricia S wrote a review May 2016\\nIrvine, California13 contributions9 helpful votes\\nA beautiful and unique jewelry art gallery\\nThis is a beautiful and interesting art gallery that primarily sells unique contemporary jewelry created by Greek artists and artists of other nationalities as well. Jewelry can be found there that incorporates metal and stones and also jewelry that incorporates fabrics, plastics, paper, etc. All beautiful and in a variety of price ranges. The Santa Maria Novella line with soap, perfume, potpourri and related is fantastic! The shop itself is also aesthetically worthwhile. It showcases several ancient archeological finds that the visitor can see through plexiglass in the floor. This gallery is close to the Acropolis and the Acropolis museum and so is easy to visit while sight-seeing in that area. I highly recommend it.\\nRead less\\nDate of experience: August 2015\\nTrip type: Travelled solo\\nThis review is the subjective opinion of a TripAdvisor member and not of TripAdvisor LLC\\nHelpful\\nShare\\nzaraso wrote a review May 2016\\nAthens, Greece1 contribution\\n\"The Art is Jewellery\"\\nThe best place to visit for those who love passionately contemporary art jewellery. Intriguing collections combined with the \"Santa Maria Novella\" marvelous products in a place of high aesthetic quality. Definitely worth you time.\\nRead less\\nDate of experience: May 2016\\nTrip type: Travelled with friends\\nThis review is the subjective opinion of a TripAdvisor member and not of TripAdvisor LLC\\nHelpful\\nShare\\nFotis g wrote a review May 2016\\nAthens, Greece9 contributions2 helpful votes\\n+1\\nWorth visiting in the Acropolis Museum area.\\nNext place worth visiting after the Acropolis Museum in the area.\\nThis beautiful gallery features the works of some of the best contemporary and avant garde jewelery and art designers. Greek and foreign names find a home in the gallery. You‘ll step on some ancient findings found in construction, visible\\nthrough the gallery glass floors.\\nEleni Marneri with her positive aura and huge experience in the particular field and Ersie with her kind manners and sharp eye will guide you through the various art objects and jewelery – every pocket will find something here.\\nYou ‘ll find perfect gift ideas – don’t forget to ask for the lucky charm of the year and the Santa Maria Novella products, an exclusiveness of Marneri Gallery!\\nPretty often various exhibitions take place and you‘ll be lucky if you catch one of them.\\nRead less\\nDate of experience: April 2016\\nTrip type: Travelled as a couple\\nThis review is the subjective opinion of a TripAdvisor member and not of TripAdvisor LLC\\nHelpful\\nShare\\nDimitris K wrote a review May 2016\\nKingston upon Thames, United Kingdom1 contribution1 helpful vote\\nA natural extension of the Greek cutlure.\\nLocated right next to Acropolis museum and with staggering nearby views of Acropolis , Eleni Marneri gallery can be described as a natural extension to the Greek civilisation and culture combined with a modern taste.Great example of the Greek hospitality with the owner and staff, always warm welcoming all visitors. Offering a wide variety of exhibitions and exquisite ideas for gifts, jewellery and souvenirs from local Artists, the gallery is a place that definitely worth visiting.\\nRead less\\nDate of experience: April 2016\\nTrip type: Travelled as a couple\\nThis review is the subjective opinion of a TripAdvisor member and not of TripAdvisor LLC\\nHelpful\\nShare\\nandreaskanell wrote a review May 2016\\nParis, France1 contribution1 helpful vote\\nJust a few minutes way from quintessential tradition - The Acropolis - quintessential modernity.\\nA major spot - not to say \"the\" spot - for every amateur of contemporary jewelry - with an amazing collection and choice among what could easily stand for a panorama of the history of Greek modern design in this field - but also with a visionary view of the owner Eleni Marneri and her collaborators concerning every fresh and authentic approach regarding the applied arts, with many different exhibitions on various themes. A very pleasant surprise was to discover the Santa Maria Novella products, the famous tuscany monastery\\'s perfumes and cosmetics, not to mention the amazing pot-pourri...Definitely a place to visit. Most welcoming attitude and big smiles complete a memorable experience.\\nRead less\\nDate of experience: March 2016\\nTrip type: Travelled with friends\\nThis review is the subjective opinion of a TripAdvisor member and not of TripAdvisor LLC\\nHelpful\\nShare\\nPrevious\\nNext\\n123'"
      ]
     },
     "execution_count": 274,
     "metadata": {},
     "output_type": "execute_result"
    }
   ],
   "source": [
    "(df['comments'][2])"
   ]
  },
  {
   "cell_type": "code",
   "execution_count": 273,
   "metadata": {},
   "outputs": [
    {
     "data": {
      "text/html": [
       "<div>\n",
       "<style scoped>\n",
       "    .dataframe tbody tr th:only-of-type {\n",
       "        vertical-align: middle;\n",
       "    }\n",
       "\n",
       "    .dataframe tbody tr th {\n",
       "        vertical-align: top;\n",
       "    }\n",
       "\n",
       "    .dataframe thead th {\n",
       "        text-align: right;\n",
       "    }\n",
       "</style>\n",
       "<table border=\"1\" class=\"dataframe\">\n",
       "  <thead>\n",
       "    <tr style=\"text-align: right;\">\n",
       "      <th></th>\n",
       "      <th>link</th>\n",
       "      <th>name</th>\n",
       "      <th>no_things_to_do</th>\n",
       "      <th>sights_landmarks</th>\n",
       "      <th>address</th>\n",
       "      <th>summary_overview</th>\n",
       "      <th>num_reviews</th>\n",
       "      <th>about</th>\n",
       "      <th>popular_mentions</th>\n",
       "      <th>comments</th>\n",
       "    </tr>\n",
       "  </thead>\n",
       "  <tbody>\n",
       "    <tr>\n",
       "      <td>0</td>\n",
       "      <td>https://www.tripadvisor.com/Attraction_Review-...</td>\n",
       "      <td>Gate of Medrese</td>\n",
       "      <td>#225 of 319 things to do in Athens</td>\n",
       "      <td>Sights &amp; Landmarks, Points of Interest &amp; Landm...</td>\n",
       "      <td>None</td>\n",
       "      <td>\"FORMER MADRASA ENTRY PORTAL\"\\nThis doorway is...</td>\n",
       "      <td>6 Reviews</td>\n",
       "      <td>None</td>\n",
       "      <td>None</td>\n",
       "      <td>Traveller rating\\nExcellent 1\\nVery Good 0\\nAv...</td>\n",
       "    </tr>\n",
       "    <tr>\n",
       "      <td>1</td>\n",
       "      <td>https://www.tripadvisor.com/Attraction_Review-...</td>\n",
       "      <td>Museum of the History of the Greek Costume of ...</td>\n",
       "      <td>#284 of 319 things to do in Athens</td>\n",
       "      <td>Museums, History Museums</td>\n",
       "      <td>None</td>\n",
       "      <td>None</td>\n",
       "      <td>5 Reviews</td>\n",
       "      <td>None</td>\n",
       "      <td>None</td>\n",
       "      <td>Traveller rating\\nExcellent 0\\nVery Good 1\\nAv...</td>\n",
       "    </tr>\n",
       "    <tr>\n",
       "      <td>2</td>\n",
       "      <td>https://www.tripadvisor.com/Attraction_Review-...</td>\n",
       "      <td>Eleni Marneri Galerie</td>\n",
       "      <td>#100 of 319 things to do in Athens</td>\n",
       "      <td>Shopping, Museums, Art Galleries</td>\n",
       "      <td>None</td>\n",
       "      <td>None</td>\n",
       "      <td>21 Reviews</td>\n",
       "      <td>None</td>\n",
       "      <td>None</td>\n",
       "      <td>Traveller rating\\nExcellent 19\\nVery Good 1\\nA...</td>\n",
       "    </tr>\n",
       "    <tr>\n",
       "      <td>3</td>\n",
       "      <td>https://www.tripadvisor.com/Attraction_Review-...</td>\n",
       "      <td>Stoa Avissinias</td>\n",
       "      <td>#293 of 319 things to do in Athens</td>\n",
       "      <td>Shopping, Museums, More</td>\n",
       "      <td>None</td>\n",
       "      <td>Stoa Avissinias is a reputable shop in the old...</td>\n",
       "      <td>None</td>\n",
       "      <td>None</td>\n",
       "      <td>None</td>\n",
       "      <td></td>\n",
       "    </tr>\n",
       "    <tr>\n",
       "      <td>4</td>\n",
       "      <td>https://www.tripadvisor.com/Attraction_Review-...</td>\n",
       "      <td>Ikastikos Kyklos Sianti</td>\n",
       "      <td>#220 of 319 things to do in Athens</td>\n",
       "      <td>Shopping, Museums, Art Galleries</td>\n",
       "      <td>None</td>\n",
       "      <td>\"Ikastikos Kiklos Sianti\" is an art space with...</td>\n",
       "      <td>1 Review</td>\n",
       "      <td>None</td>\n",
       "      <td>None</td>\n",
       "      <td>Traveller rating\\nExcellent 1\\nVery Good 0\\nAv...</td>\n",
       "    </tr>\n",
       "    <tr>\n",
       "      <td>...</td>\n",
       "      <td>...</td>\n",
       "      <td>...</td>\n",
       "      <td>...</td>\n",
       "      <td>...</td>\n",
       "      <td>...</td>\n",
       "      <td>...</td>\n",
       "      <td>...</td>\n",
       "      <td>...</td>\n",
       "      <td>...</td>\n",
       "      <td>...</td>\n",
       "    </tr>\n",
       "    <tr>\n",
       "      <td>392</td>\n",
       "      <td>https://www.tripadvisor.com/Attraction_Review-...</td>\n",
       "      <td>MOMus - Museum Alex Mylona</td>\n",
       "      <td>#171 of 319 things to do in Athens</td>\n",
       "      <td>Museums, Art Museums</td>\n",
       "      <td>None</td>\n",
       "      <td>None</td>\n",
       "      <td>5 Reviews</td>\n",
       "      <td>None</td>\n",
       "      <td>None</td>\n",
       "      <td>Traveller rating\\nExcellent 3\\nVery Good 2\\nAv...</td>\n",
       "    </tr>\n",
       "    <tr>\n",
       "      <td>393</td>\n",
       "      <td>https://www.tripadvisor.com/Attraction_Review-...</td>\n",
       "      <td>The Jewish Museum of Greece</td>\n",
       "      <td>#18 of 319 things to do in Athens</td>\n",
       "      <td>Museums, Speciality Museums, History Museums</td>\n",
       "      <td>None</td>\n",
       "      <td>None</td>\n",
       "      <td>171 Reviews</td>\n",
       "      <td>None</td>\n",
       "      <td>None</td>\n",
       "      <td>Traveller rating\\nExcellent 104\\nVery Good 52\\...</td>\n",
       "    </tr>\n",
       "    <tr>\n",
       "      <td>394</td>\n",
       "      <td>https://www.tripadvisor.com/Attraction_Review-...</td>\n",
       "      <td>None</td>\n",
       "      <td>None</td>\n",
       "      <td>None</td>\n",
       "      <td>None</td>\n",
       "      <td>None</td>\n",
       "      <td>None</td>\n",
       "      <td>None</td>\n",
       "      <td>None</td>\n",
       "      <td>None</td>\n",
       "    </tr>\n",
       "    <tr>\n",
       "      <td>395</td>\n",
       "      <td>https://www.tripadvisor.com/Attraction_Review-...</td>\n",
       "      <td>Penya Barcelonista d'Atenes</td>\n",
       "      <td>#312 of 319 things to do in Athens</td>\n",
       "      <td>Fun &amp; Games, Sports Complexes</td>\n",
       "      <td>None</td>\n",
       "      <td>None</td>\n",
       "      <td>None</td>\n",
       "      <td>None</td>\n",
       "      <td>None</td>\n",
       "      <td></td>\n",
       "    </tr>\n",
       "    <tr>\n",
       "      <td>396</td>\n",
       "      <td>https://www.tripadvisor.com/Attraction_Review-...</td>\n",
       "      <td>Theater Katerina Vassilakou</td>\n",
       "      <td>#222 of 319 things to do in Athens</td>\n",
       "      <td>Concerts &amp; Shows, Theatres</td>\n",
       "      <td>None</td>\n",
       "      <td>\"The comedy of interpretation\"\\nRecently I wen...</td>\n",
       "      <td>1 Review</td>\n",
       "      <td>None</td>\n",
       "      <td>None</td>\n",
       "      <td>Traveller rating\\nExcellent 1\\nVery Good 0\\nAv...</td>\n",
       "    </tr>\n",
       "  </tbody>\n",
       "</table>\n",
       "<p>397 rows × 10 columns</p>\n",
       "</div>"
      ],
      "text/plain": [
       "                                                  link  \\\n",
       "0    https://www.tripadvisor.com/Attraction_Review-...   \n",
       "1    https://www.tripadvisor.com/Attraction_Review-...   \n",
       "2    https://www.tripadvisor.com/Attraction_Review-...   \n",
       "3    https://www.tripadvisor.com/Attraction_Review-...   \n",
       "4    https://www.tripadvisor.com/Attraction_Review-...   \n",
       "..                                                 ...   \n",
       "392  https://www.tripadvisor.com/Attraction_Review-...   \n",
       "393  https://www.tripadvisor.com/Attraction_Review-...   \n",
       "394  https://www.tripadvisor.com/Attraction_Review-...   \n",
       "395  https://www.tripadvisor.com/Attraction_Review-...   \n",
       "396  https://www.tripadvisor.com/Attraction_Review-...   \n",
       "\n",
       "                                                  name  \\\n",
       "0                                      Gate of Medrese   \n",
       "1    Museum of the History of the Greek Costume of ...   \n",
       "2                                Eleni Marneri Galerie   \n",
       "3                                      Stoa Avissinias   \n",
       "4                              Ikastikos Kyklos Sianti   \n",
       "..                                                 ...   \n",
       "392                         MOMus - Museum Alex Mylona   \n",
       "393                        The Jewish Museum of Greece   \n",
       "394                                               None   \n",
       "395                        Penya Barcelonista d'Atenes   \n",
       "396                        Theater Katerina Vassilakou   \n",
       "\n",
       "                        no_things_to_do  \\\n",
       "0    #225 of 319 things to do in Athens   \n",
       "1    #284 of 319 things to do in Athens   \n",
       "2    #100 of 319 things to do in Athens   \n",
       "3    #293 of 319 things to do in Athens   \n",
       "4    #220 of 319 things to do in Athens   \n",
       "..                                  ...   \n",
       "392  #171 of 319 things to do in Athens   \n",
       "393   #18 of 319 things to do in Athens   \n",
       "394                                None   \n",
       "395  #312 of 319 things to do in Athens   \n",
       "396  #222 of 319 things to do in Athens   \n",
       "\n",
       "                                      sights_landmarks address  \\\n",
       "0    Sights & Landmarks, Points of Interest & Landm...    None   \n",
       "1                             Museums, History Museums    None   \n",
       "2                     Shopping, Museums, Art Galleries    None   \n",
       "3                              Shopping, Museums, More    None   \n",
       "4                     Shopping, Museums, Art Galleries    None   \n",
       "..                                                 ...     ...   \n",
       "392                               Museums, Art Museums    None   \n",
       "393       Museums, Speciality Museums, History Museums    None   \n",
       "394                                               None    None   \n",
       "395                      Fun & Games, Sports Complexes    None   \n",
       "396                         Concerts & Shows, Theatres    None   \n",
       "\n",
       "                                      summary_overview  num_reviews about  \\\n",
       "0    \"FORMER MADRASA ENTRY PORTAL\"\\nThis doorway is...    6 Reviews  None   \n",
       "1                                                 None    5 Reviews  None   \n",
       "2                                                 None   21 Reviews  None   \n",
       "3    Stoa Avissinias is a reputable shop in the old...         None  None   \n",
       "4    \"Ikastikos Kiklos Sianti\" is an art space with...     1 Review  None   \n",
       "..                                                 ...          ...   ...   \n",
       "392                                               None    5 Reviews  None   \n",
       "393                                               None  171 Reviews  None   \n",
       "394                                               None         None  None   \n",
       "395                                               None         None  None   \n",
       "396  \"The comedy of interpretation\"\\nRecently I wen...     1 Review  None   \n",
       "\n",
       "    popular_mentions                                           comments  \n",
       "0               None  Traveller rating\\nExcellent 1\\nVery Good 0\\nAv...  \n",
       "1               None  Traveller rating\\nExcellent 0\\nVery Good 1\\nAv...  \n",
       "2               None  Traveller rating\\nExcellent 19\\nVery Good 1\\nA...  \n",
       "3               None                                                     \n",
       "4               None  Traveller rating\\nExcellent 1\\nVery Good 0\\nAv...  \n",
       "..               ...                                                ...  \n",
       "392             None  Traveller rating\\nExcellent 3\\nVery Good 2\\nAv...  \n",
       "393             None  Traveller rating\\nExcellent 104\\nVery Good 52\\...  \n",
       "394             None                                               None  \n",
       "395             None                                                     \n",
       "396             None  Traveller rating\\nExcellent 1\\nVery Good 0\\nAv...  \n",
       "\n",
       "[397 rows x 10 columns]"
      ]
     },
     "execution_count": 273,
     "metadata": {},
     "output_type": "execute_result"
    }
   ],
   "source": []
  },
  {
   "cell_type": "code",
   "execution_count": null,
   "metadata": {},
   "outputs": [],
   "source": []
  },
  {
   "cell_type": "code",
   "execution_count": null,
   "metadata": {},
   "outputs": [],
   "source": []
  },
  {
   "cell_type": "code",
   "execution_count": 272,
   "metadata": {},
   "outputs": [],
   "source": [
    "df.to_pickle('athens_df.pkl')"
   ]
  },
  {
   "cell_type": "code",
   "execution_count": 231,
   "metadata": {},
   "outputs": [],
   "source": [
    "df= df.sample(frac=1)"
   ]
  },
  {
   "cell_type": "code",
   "execution_count": 236,
   "metadata": {},
   "outputs": [
    {
     "data": {
      "text/plain": [
       "2887"
      ]
     },
     "execution_count": 236,
     "metadata": {},
     "output_type": "execute_result"
    }
   ],
   "source": [
    "len(df['comments'][25])"
   ]
  },
  {
   "cell_type": "code",
   "execution_count": null,
   "metadata": {},
   "outputs": [],
   "source": [
    "attractions-attraction-review-header-attraction-review-header__reviewCount--3cEMP attractions-attraction-review-header-attraction-review-header__dotted_link--3p26D"
   ]
  },
  {
   "cell_type": "code",
   "execution_count": null,
   "metadata": {},
   "outputs": [],
   "source": []
  },
  {
   "cell_type": "code",
   "execution_count": 9,
   "metadata": {},
   "outputs": [],
   "source": [
    "from selenium.common.exceptions import NoSuchElementException"
   ]
  },
  {
   "cell_type": "code",
   "execution_count": 10,
   "metadata": {},
   "outputs": [],
   "source": [
    "#click the next button\n",
    "\n",
    "def nextbutton(driver):\n",
    "    for j in driver.find_elements_by_class_name('next'):\n",
    "        if j.text=='Next':\n",
    "            next_button = j\n",
    "            try:\n",
    "                return next_button.click()\n",
    "                break\n",
    "            except:\n",
    "                return False\n",
    "                break\n",
    "                \n",
    "def morebutton(driver):\n",
    "    try: \n",
    "        more_button = driver.find_element_by_class_name('ulBlueLinks')\n",
    "        return more_button.click()\n",
    "    except:\n",
    "        return False\n",
    "            "
   ]
  },
  {
   "cell_type": "code",
   "execution_count": 11,
   "metadata": {},
   "outputs": [],
   "source": [
    "def morebutton(driver):\n",
    "    try: \n",
    "        more_button = driver.find_element_by_class_name('ulBlueLinks')\n",
    "        return more_button.click()\n",
    "    except:\n",
    "        return False"
   ]
  },
  {
   "cell_type": "code",
   "execution_count": null,
   "metadata": {},
   "outputs": [],
   "source": [
    "morebutton(driver)"
   ]
  },
  {
   "cell_type": "code",
   "execution_count": null,
   "metadata": {},
   "outputs": [],
   "source": [
    "nextbutton(driver)"
   ]
  },
  {
   "cell_type": "code",
   "execution_count": null,
   "metadata": {},
   "outputs": [],
   "source": [
    "try:\n",
    "    morebutton(driver)\n",
    "except:\n",
    "    print('pass')\n",
    "    pass"
   ]
  },
  {
   "cell_type": "code",
   "execution_count": null,
   "metadata": {},
   "outputs": [],
   "source": [
    "for i in range(3):\n",
    "    try:\n",
    "        "
   ]
  },
  {
   "cell_type": "code",
   "execution_count": null,
   "metadata": {},
   "outputs": [],
   "source": [
    "attraction_features"
   ]
  },
  {
   "cell_type": "code",
   "execution_count": null,
   "metadata": {},
   "outputs": [],
   "source": []
  },
  {
   "cell_type": "code",
   "execution_count": null,
   "metadata": {},
   "outputs": [],
   "source": [
    "try:\n",
    "    attraction_features['comments'] = comments(driver)\n",
    "except:\n",
    "    attraction_features['comments'] = None"
   ]
  },
  {
   "cell_type": "code",
   "execution_count": null,
   "metadata": {},
   "outputs": [],
   "source": [
    "for i in (range(3)):\n",
    "    try:\n",
    "        if nextbutton(driver) != False:\n",
    "            nextbutton(driver)\n",
    "            time.sleep(random.choice(sequence))\n",
    "            \n",
    "            try:\n",
    "                morebutton(driver)\n",
    "            except:\n",
    "                pass\n",
    "            \n",
    "            time.sleep(random.choice(sequence))\n",
    "            \n",
    "            try:\n",
    "                attraction_features['comments']+=(comments(driver))\n",
    "            except:\n",
    "                attraction_features['comments']+=''\n",
    "            \n",
    "            \n",
    "            \n",
    "        else:\n",
    "            break\n",
    "        \n",
    "    except:\n",
    "        break\n",
    "    \n",
    "    \n",
    "            \n",
    "\n",
    "#         #click more\n",
    "#         try:\n",
    "#             more_button = driver.find_element_by_class_name('ulBlueLinks')\n",
    "#             more_button.click()\n",
    "#             time.sleep(random.choice(sequence))\n",
    "#         except:\n",
    "#             pass\n",
    "\n",
    "#         #check if this is the same as last time\n",
    "#         if last_comment == comments(driver):\n",
    "# #             print('Last Comment is Current Comment')\n",
    "#             break\n",
    "#         else:\n",
    "#             try:\n",
    "#                 attraction_features['comments']+=(comments(driver))\n",
    "#             except:\n",
    "#                 attraction_features['comments']+=''\n",
    "\n",
    "#             last_comment = comments(driver)\n",
    "\n",
    "#             time.sleep(random.choice(sequence))"
   ]
  },
  {
   "cell_type": "code",
   "execution_count": null,
   "metadata": {},
   "outputs": [],
   "source": []
  },
  {
   "cell_type": "code",
   "execution_count": null,
   "metadata": {},
   "outputs": [],
   "source": []
  },
  {
   "cell_type": "code",
   "execution_count": null,
   "metadata": {},
   "outputs": [],
   "source": []
  },
  {
   "cell_type": "code",
   "execution_count": null,
   "metadata": {},
   "outputs": [],
   "source": [
    "    for i in tqdm(range(3)):    \n",
    "        #click next\n",
    "        for j in tqdm(driver.find_elements_by_class_name('next')):\n",
    "            if j.text == 'Next':\n",
    "                next_button = j\n",
    "                try:\n",
    "                    next_button.click()\n",
    "                    time.sleep(random.choice(sequence))\n",
    "                except:\n",
    "                    pass\n",
    "\n",
    "                break\n",
    "            else:\n",
    "                continue\n",
    "\n",
    "        #click more\n",
    "        try:\n",
    "            more_button = driver.find_element_by_class_name('ulBlueLinks')\n",
    "            more_button.click()\n",
    "            time.sleep(random.choice(sequence))\n",
    "        except:\n",
    "            pass\n",
    "\n",
    "        #check if this is the same as last time\n",
    "        if last_comment == comments(driver):\n",
    "            print('Last Comment is Current Comment')\n",
    "            break\n",
    "        else:\n",
    "            try:\n",
    "                attraction_features['comments']+=(comments(driver))\n",
    "            except:\n",
    "                attraction_features['comments']+=''\n",
    "\n",
    "            last_comment = comments(driver)\n",
    "\n",
    "            time.sleep(random.choice(sequence))\n",
    "\n",
    "\n",
    "\n",
    "\n"
   ]
  },
  {
   "cell_type": "code",
   "execution_count": null,
   "metadata": {},
   "outputs": [],
   "source": [
    "df= pd.DataFrame(attractions)"
   ]
  },
  {
   "cell_type": "code",
   "execution_count": null,
   "metadata": {},
   "outputs": [],
   "source": [
    "df['comments'][0]"
   ]
  },
  {
   "cell_type": "code",
   "execution_count": null,
   "metadata": {},
   "outputs": [],
   "source": []
  },
  {
   "cell_type": "markdown",
   "metadata": {},
   "source": [
    "problem is if it doesn't have comments, it shouldnt go through the loop and waste time.\n",
    "\n",
    "How to only get english? Should we get that?\n",
    "\n",
    "That try statement is going to be to long. \n",
    "\n",
    "if there's a next on q and a and none on comments"
   ]
  },
  {
   "cell_type": "code",
   "execution_count": null,
   "metadata": {},
   "outputs": [],
   "source": [
    "\"\"\"\n",
    "1- If count > 3: press next\n",
    "2- if there is a next button\n",
    "3- Click more \n",
    "4- \n",
    "\n",
    "\n",
    "\"\"\""
   ]
  },
  {
   "cell_type": "code",
   "execution_count": null,
   "metadata": {},
   "outputs": [],
   "source": [
    "x = 3\n",
    "for i in range(10):\n",
    "    if x == 7:\n",
    "        print(0)\n",
    "        break\n",
    "    else:\n",
    "        print(x)\n",
    "        x+=1\n",
    "        "
   ]
  },
  {
   "cell_type": "code",
   "execution_count": null,
   "metadata": {},
   "outputs": [],
   "source": [
    "count = 0\n",
    "for i in range(3)"
   ]
  },
  {
   "cell_type": "code",
   "execution_count": null,
   "metadata": {},
   "outputs": [],
   "source": [
    "\"\"\"\n",
    "The problem is that we need a definitive reason to press next.\n",
    "We want at most 3 comments.\n",
    "If page is the same as last time. Break. \n",
    "\n",
    "\n",
    "\n",
    "\n",
    "\"\"\""
   ]
  },
  {
   "cell_type": "markdown",
   "metadata": {},
   "source": [
    "## Testing"
   ]
  },
  {
   "cell_type": "code",
   "execution_count": null,
   "metadata": {},
   "outputs": [],
   "source": [
    "athens_links[0]"
   ]
  },
  {
   "cell_type": "code",
   "execution_count": null,
   "metadata": {},
   "outputs": [],
   "source": [
    "driver.get(athens_links[6])"
   ]
  },
  {
   "cell_type": "code",
   "execution_count": null,
   "metadata": {},
   "outputs": [],
   "source": [
    "# attraction_features['comments'] = None"
   ]
  },
  {
   "cell_type": "code",
   "execution_count": null,
   "metadata": {},
   "outputs": [],
   "source": [
    "for i in driver.find_elements_by_class_name('next'):\n",
    "                    print(i.text)\n",
    "                    if i.text=='Next':\n",
    "                        next_button = i\n",
    "                        next_button.click()"
   ]
  },
  {
   "cell_type": "code",
   "execution_count": null,
   "metadata": {},
   "outputs": [],
   "source": [
    "attraction_features = {}"
   ]
  },
  {
   "cell_type": "code",
   "execution_count": null,
   "metadata": {},
   "outputs": [],
   "source": [
    "try:\n",
    "    attraction_features['comments'] = comments(driver)\n",
    "except:\n",
    "    attraction_features['comments'] = None\n",
    "\n",
    "last_comment = comments(driver)"
   ]
  },
  {
   "cell_type": "code",
   "execution_count": null,
   "metadata": {},
   "outputs": [],
   "source": [
    "sequence = [x/10 for x in range(10, 20)]"
   ]
  },
  {
   "cell_type": "code",
   "execution_count": null,
   "metadata": {},
   "outputs": [],
   "source": [
    "for i in tqdm(range(3)):    \n",
    "    #click next\n",
    "    for j in tqdm(driver.find_elements_by_class_name('next')):\n",
    "        if j.text == 'Next':\n",
    "            next_button = j\n",
    "            try:\n",
    "                next_button.click()\n",
    "                time.sleep(random.choice(sequence))\n",
    "            except:\n",
    "                pass\n",
    "            \n",
    "            break\n",
    "        else:\n",
    "            continue\n",
    "    \n",
    "    #click more\n",
    "    try:\n",
    "        more_button = driver.find_element_by_class_name('ulBlueLinks')\n",
    "        more_button.click()\n",
    "        time.sleep(random.choice(sequence))\n",
    "    except:\n",
    "        pass\n",
    "\n",
    "    #check if this is the same as last time\n",
    "    if last_comment == comments(driver):\n",
    "        print('Last Comment is Current Comment')\n",
    "        break\n",
    "    else:\n",
    "        try:\n",
    "            attraction_features['comments']+=(comments(driver))\n",
    "        except:\n",
    "            attraction_features['comments']+=''\n",
    "\n",
    "        last_comment = comments(driver)\n",
    "        \n",
    "        time.sleep(random.choice(sequence))\n",
    "        \n",
    "        \n",
    "        \n",
    "        \n",
    "        "
   ]
  },
  {
   "cell_type": "code",
   "execution_count": null,
   "metadata": {},
   "outputs": [],
   "source": [
    "len(attraction_features['comments'])"
   ]
  },
  {
   "cell_type": "code",
   "execution_count": null,
   "metadata": {},
   "outputs": [],
   "source": [
    "attraction_features = {}"
   ]
  },
  {
   "cell_type": "code",
   "execution_count": null,
   "metadata": {},
   "outputs": [],
   "source": []
  },
  {
   "cell_type": "code",
   "execution_count": null,
   "metadata": {},
   "outputs": [],
   "source": [
    "    try:\n",
    "        #loop through 1st 3 pages if they have a next\n",
    "        for next_comments in range(4):\n",
    "            if driver.find_element_by_class_name('next')== None:\n",
    "                break\n",
    "            else:\n",
    "                for i in driver.find_elements_by_class_name('next'):\n",
    "                    print(i.text)\n",
    "                    if i.text=='Next':\n",
    "                        next_button = i\n",
    "                        next_button.click()\n",
    "                        \n",
    "\n",
    "            time.sleep(random.choice(sequence))\n",
    "\n",
    "            try:\n",
    "                more_button = driver.find_element_by_class_name('ulBlueLinks')\n",
    "                more_button.click()\n",
    "                time.sleep(random.choice(sequence))\n",
    "\n",
    "            except:\n",
    "                pass\n",
    "\n",
    "\n",
    "            #get comments\n",
    "            # add to dictionary\n",
    "\n",
    "            driver.implicitly_wait(5)\n",
    "            try:\n",
    "                attraction_features['comments']+=(comments(driver))\n",
    "            except:\n",
    "                attraction_features['comments']+=''\n",
    "\n",
    "            time.sleep(random.choice(sequence))\n",
    "        \n",
    "    except:\n",
    "        pass"
   ]
  },
  {
   "cell_type": "code",
   "execution_count": null,
   "metadata": {},
   "outputs": [],
   "source": []
  },
  {
   "cell_type": "code",
   "execution_count": null,
   "metadata": {},
   "outputs": [],
   "source": [
    "attraction_features = {}\n",
    "# add to dictionary\n",
    "try:\n",
    "    attraction_features['name'] = find_name(driver)\n",
    "except:\n",
    "    attraction_features['name'] = None\n",
    "\n",
    "# add to dictionary\n",
    "try:\n",
    "    attraction_features['no_things_to_do'] = find_no_things_to_do(driver)\n",
    "except:\n",
    "    attraction_features['no_things_to_do'] = None\n",
    "\n",
    "# add to dictionary\n",
    "try:\n",
    "    attraction_features['sights_landmarks'] = find_sights_landmarks(driver)\n",
    "except:\n",
    "    attraction_features['sights_landmarks'] = None\n",
    "\n",
    "# add to dictionary\n",
    "try:\n",
    "    attraction_features['address'] = find_address(driver)\n",
    "except:\n",
    "    attraction_features['address'] = None\n",
    "\n",
    "# add to dictionary\n",
    "try:\n",
    "    attraction_features['summary_overview'] = find_summary_overview(driver)\n",
    "except:\n",
    "    attraction_features['summary_overview'] = None\n",
    "\n",
    "# add to dictionary\n",
    "try:\n",
    "    attraction_features['num_reviews'] = number_of_reviews(driver)\n",
    "except:\n",
    "    attraction_features['num_reviews'] = None\n",
    "\n",
    "# add to dictionary\n",
    "try:\n",
    "    attraction_features['about'] = about_box(driver)\n",
    "except:\n",
    "    attraction_features['about'] = None\n",
    "\n",
    "# add to dictionary\n",
    "try:\n",
    "    attraction_features['popular_mentions'] = popular_mentions(driver)\n",
    "except:\n",
    "    attraction_features['popular_mentions'] = None\n",
    "\n",
    "    \n",
    "try:\n",
    "    more_button = driver.find_element_by_class_name('ulBlueLinks')\n",
    "    more_button.click()\n",
    "    \n",
    "except:\n",
    "    pass\n",
    "    \n",
    "# add comments to dictionary\n",
    "driver.implicitly_wait(5)\n",
    "try:\n",
    "    attraction_features['comments'] = comments(driver)\n",
    "except:\n",
    "    attraction_features['comments'] = None\n",
    "\n",
    "    \n",
    "    \n",
    "try:\n",
    "    for i in driver.find_elements_by_class_name('next'):\n",
    "        if i.text=='Next':\n",
    "            next_button = i\n",
    "            next_button.click()\n",
    "            break\n",
    "    \n",
    "#add to list of dictionaries\n",
    "attractions.append(attraction_features)\n",
    "\n",
    "sequence = [x/10 for x in range(10, 15)]\n",
    "time.sleep(random.choice(sequence))"
   ]
  },
  {
   "cell_type": "code",
   "execution_count": null,
   "metadata": {},
   "outputs": [],
   "source": [
    "# first click more\n",
    "# then get comments!\n",
    "\n",
    "\n",
    "sequence = [x/10 for x in range(15, 30)]\n",
    "\n",
    "#loop through 1st 3 pages if they have a next\n",
    "for next_comments in range(4):\n",
    "    if driver.find_element_by_class_name('next')== None:\n",
    "        break\n",
    "    else:\n",
    "        for i in driver.find_elements_by_class_name('next'):\n",
    "            if i.text=='Next':\n",
    "                next_button = i\n",
    "                next_button.click()\n",
    "    \n",
    "    time.sleep(random.choice(sequence))\n",
    "    \n",
    "    try:\n",
    "        more_button = driver.find_element_by_class_name('ulBlueLinks')\n",
    "        more_button.click()\n",
    "        time.sleep(random.choice(sequence))\n",
    "\n",
    "    except:\n",
    "        pass\n",
    "        \n",
    "    \n",
    "    #get comments\n",
    "    # add to dictionary\n",
    "    \n",
    "    driver.implicitly_wait(5)\n",
    "    try:\n",
    "        attraction_features['comments']+=(comments(driver))\n",
    "    except:\n",
    "        attraction_features['comments']+=''\n",
    "        \n",
    "    time.sleep(random.choice(sequence))"
   ]
  },
  {
   "cell_type": "markdown",
   "metadata": {},
   "source": [
    "# Santorini Activities"
   ]
  },
  {
   "cell_type": "markdown",
   "metadata": {},
   "source": [
    "## Santorini Links"
   ]
  },
  {
   "cell_type": "code",
   "execution_count": 276,
   "metadata": {},
   "outputs": [],
   "source": [
    "from tqdm import tnrange, tqdm_notebook as tqdm"
   ]
  },
  {
   "cell_type": "code",
   "execution_count": 284,
   "metadata": {},
   "outputs": [],
   "source": [
    "attraction_links = []\n",
    "miss_links = []"
   ]
  },
  {
   "cell_type": "code",
   "execution_count": 304,
   "metadata": {},
   "outputs": [],
   "source": [
    "driver = webdriver.Chrome() #browser should be named driver in the future, common coding etiquette"
   ]
  },
  {
   "cell_type": "code",
   "execution_count": 286,
   "metadata": {},
   "outputs": [],
   "source": [
    "driver.get('https://www.tripadvisor.com/Attractions-g189400-Activities-Athens_Attica.html')"
   ]
  },
  {
   "cell_type": "code",
   "execution_count": 287,
   "metadata": {},
   "outputs": [
    {
     "data": {
      "application/vnd.jupyter.widget-view+json": {
       "model_id": "cf6f0e3b3465435ca31757fd8393ad73",
       "version_major": 2,
       "version_minor": 0
      },
      "text/plain": [
       "HBox(children=(IntProgress(value=0, max=4), HTML(value='')))"
      ]
     },
     "metadata": {},
     "output_type": "display_data"
    },
    {
     "name": "stdout",
     "output_type": "stream",
     "text": [
      "\n"
     ]
    }
   ],
   "source": [
    "for i in tqdm(range(4)):\n",
    "#if there is a next button, continue to click and scrape\n",
    "    \n",
    "    try:\n",
    "        soup = BeautifulSoup(driver.page_source)\n",
    "        #finds the attractions for each page\n",
    "        attractions = soup.find_all('li',{'class':'attractions-attraction-overview-pois-PoiCard__item--3UzYK'})\n",
    "        \n",
    "        #find all links in attraction\n",
    "        for i in attractions:\n",
    "            attraction_links.append(i.find('a', href=True)['href'])\n",
    "    except: \n",
    "        print()\n",
    "        pass\n",
    "    \n",
    "    try:\n",
    "        soup = BeautifulSoup(driver.page_source)\n",
    "        #another way to find\n",
    "        attractions2 = (soup.find_all('div', {'class':'attraction_element_tall'}))\n",
    "        \n",
    "        for i in attractions2:\n",
    "            for j in i.find_all('a', href=True):\n",
    "                if j['href'][:18]== '/Attraction_Review':\n",
    "                    attraction_links.append((j['href']))\n",
    "    except:\n",
    "        pass\n",
    "            \n",
    "    #find next button\n",
    "    try:\n",
    "        for i in soup.find_all('a', href=True):\n",
    "            if i.text == '\\nNext\\n':\n",
    "                link = 'https://www.tripadvisor.com/'+i['href']\n",
    "                driver.get(link)\n",
    "                break\n",
    "    except:\n",
    "        pass\n",
    "              \n",
    "    try:\n",
    "        for i in soup.find_all('a', href=True):\n",
    "            if i.text == 'Next':\n",
    "                link = 'https://www.tripadvisor.com/'+i['href']\n",
    "                driver.get(link)\n",
    "                break\n",
    "    except:\n",
    "        miss_links.append(i)\n",
    "        sequence = [x/10 for x in range(5, 10)]\n",
    "        time.sleep(random.choice(sequence))\n",
    "        continue\n",
    "\n",
    "\n",
    "    sequence = [x/10 for x in range(5, 10)]\n",
    "    time.sleep(random.choice(sequence))\n",
    "\n",
    "##\n",
    "\n",
    "for i in attraction_links:\n",
    "    if i[-8:] == '#REVIEWS':\n",
    "        attraction_links.remove(i)\n",
    "        \n",
    "##\n",
    "\n",
    "fixed_links = []\n",
    "\n",
    "##\n",
    "\n",
    "for i in attraction_links:\n",
    "    fixed_links.append('https://www.tripadvisor.com'+i)\n",
    "\n",
    "##\n",
    "\n",
    "df = pd.DataFrame(fixed_links)\n",
    "\n",
    "##\n",
    "\n",
    "df.to_pickle('santorini_links.pkl')\n",
    "\n",
    "##"
   ]
  },
  {
   "cell_type": "code",
   "execution_count": 298,
   "metadata": {},
   "outputs": [],
   "source": [
    "santorini_links = list(set(fixed_links))"
   ]
  },
  {
   "cell_type": "code",
   "execution_count": null,
   "metadata": {},
   "outputs": [],
   "source": []
  },
  {
   "cell_type": "code",
   "execution_count": 283,
   "metadata": {},
   "outputs": [
    {
     "data": {
      "application/vnd.jupyter.widget-view+json": {
       "model_id": "2142c552c9e5475c87f0e02fe8cd1d13",
       "version_major": 2,
       "version_minor": 0
      },
      "text/plain": [
       "HBox(children=(IntProgress(value=0, max=4), HTML(value='')))"
      ]
     },
     "metadata": {},
     "output_type": "display_data"
    },
    {
     "name": "stdout",
     "output_type": "stream",
     "text": [
      "\n",
      "\n",
      "\n",
      "\n",
      "\n"
     ]
    }
   ],
   "source": [
    "attraction_links = []\n",
    "miss_links = []\n",
    "\n",
    "##\n",
    "\n",
    "driver = webdriver.Chrome() #browser should be named driver in the future, common coding etiquette\n",
    "driver.get('https://www.tripadvisor.com/Attractions-g189400-Activities-Athens_Attica.html')\n",
    "\n",
    "##\n",
    "\n",
    "# Don't run attraction_links in same location\n",
    "# attraction_links = []\n",
    "\n",
    "#319 things to do in Athens\n",
    "#Range= number of pages to go to\n",
    "for i in tqdm(range(4)):\n",
    "#if there is a next button, continue to click and scrape\n",
    "    \n",
    "    try:\n",
    "        soup = BeautifulSoup(driver.page_source)\n",
    "        #finds the attractions for each page\n",
    "        attractions = soup.find_all('li',{'class':'attractions-attraction-overview-pois-PoiCard__item--3UzYK'})\n",
    "        \n",
    "        #find all links in attraction\n",
    "        for i in attractions:\n",
    "            attraction_links.append(i.find('a', href=True)['href'])\n",
    "    except: \n",
    "        print()\n",
    "        pass\n",
    "    \n",
    "    try:\n",
    "        soup = BeautifulSoup(driver.page_source)\n",
    "        #another way to find\n",
    "        attractions2 = (soup.find_all('div', {'class':'attraction_element_tall'}))\n",
    "        \n",
    "        for i in attractions2:\n",
    "            for j in i.find_all('a', href=True):\n",
    "                if j['href'][:18]== '/Attraction_Review':\n",
    "                    attraction_links.append((j['href']))\n",
    "    except:\n",
    "        pass\n",
    "            \n",
    "    #find next button\n",
    "    try:\n",
    "        for i in soup.find_all('a', href=True):\n",
    "            if i.text == '\\nNext\\n':\n",
    "                link = 'https://www.tripadvisor.com/'+i['href']\n",
    "                driver.get(link)\n",
    "                break\n",
    "    except:\n",
    "        pass\n",
    "              \n",
    "    try:\n",
    "        for i in soup.find_all('a', href=True):\n",
    "            if i.text == 'Next':\n",
    "                link = 'https://www.tripadvisor.com/'+i['href']\n",
    "                driver.get(link)\n",
    "                break\n",
    "    except:\n",
    "        miss_links.append(i)\n",
    "        sequence = [x/10 for x in range(5, 10)]\n",
    "        time.sleep(random.choice(sequence))\n",
    "        continue\n",
    "\n",
    "\n",
    "    sequence = [x/10 for x in range(5, 10)]\n",
    "    time.sleep(random.choice(sequence))\n",
    "\n",
    "##\n",
    "\n",
    "for i in attraction_links:\n",
    "    if i[-8:] == '#REVIEWS':\n",
    "        attraction_links.remove(i)\n",
    "        \n",
    "##\n",
    "\n",
    "fixed_links = []\n",
    "\n",
    "##\n",
    "\n",
    "for i in attraction_links:\n",
    "    fixed_links.append('https://www.tripadvisor.com'+i)\n",
    "\n",
    "##\n",
    "\n",
    "df = pd.DataFrame(fixed_links)\n",
    "\n",
    "##\n",
    "\n",
    "df.to_pickle('santorini_links.pkl')\n",
    "\n",
    "##"
   ]
  },
  {
   "cell_type": "markdown",
   "metadata": {},
   "source": [
    "## Santorini Activities"
   ]
  },
  {
   "cell_type": "code",
   "execution_count": 405,
   "metadata": {},
   "outputs": [],
   "source": [
    "attractions = []"
   ]
  },
  {
   "cell_type": "code",
   "execution_count": 299,
   "metadata": {},
   "outputs": [
    {
     "data": {
      "text/plain": [
       "120"
      ]
     },
     "execution_count": 299,
     "metadata": {},
     "output_type": "execute_result"
    }
   ],
   "source": [
    "len(santorini_links)"
   ]
  },
  {
   "cell_type": "code",
   "execution_count": 410,
   "metadata": {},
   "outputs": [],
   "source": [
    "test = santorini_links[5:]"
   ]
  },
  {
   "cell_type": "code",
   "execution_count": 411,
   "metadata": {},
   "outputs": [
    {
     "name": "stdout",
     "output_type": "stream",
     "text": [
      "120 115\n"
     ]
    }
   ],
   "source": [
    "print(len(santorini_links), len(test))"
   ]
  },
  {
   "cell_type": "code",
   "execution_count": 412,
   "metadata": {},
   "outputs": [
    {
     "data": {
      "application/vnd.jupyter.widget-view+json": {
       "model_id": "330d44a31b104a4096ab47a5e8af0896",
       "version_major": 2,
       "version_minor": 0
      },
      "text/plain": [
       "HBox(children=(IntProgress(value=0, max=115), HTML(value='')))"
      ]
     },
     "metadata": {},
     "output_type": "display_data"
    },
    {
     "name": "stdout",
     "output_type": "stream",
     "text": [
      "\n"
     ]
    }
   ],
   "source": [
    "# Scraper\n",
    "#definitions will change\n",
    "# log in first \n",
    "# then do a test run to get correct definitions\n",
    "\n",
    "for i in tqdm(test):\n",
    "    driver.get(i)\n",
    "    time.sleep(random.choice(sequence))\n",
    "    time.sleep(random.choice(sequence))\n",
    "\n",
    "    \n",
    "    attraction_features = {}\n",
    "    \n",
    "    attraction_features['link'] = i\n",
    "    \n",
    "    try:\n",
    "        morebutton(driver)\n",
    "        time.sleep(random.choice(sequence)/2)\n",
    "    except:\n",
    "        pass\n",
    "    \n",
    "    time.sleep(random.choice(sequence))\n",
    "    \n",
    "    \n",
    "    \n",
    "#     def find_meta_data(driver):\n",
    "#     return driver.find_element_by_class_name('masthead_h1').text\n",
    "    \n",
    "    # add to dictionary\n",
    "    try:\n",
    "        attraction_features['meta'] = find_meta_data(driver)\n",
    "    except:\n",
    "        attraction_features['meta'] = None\n",
    "\n",
    "    \n",
    "    # add to dictionary\n",
    "    try:\n",
    "        attraction_features['name'] = find_name(driver)\n",
    "    except:\n",
    "        attraction_features['name'] = None\n",
    "\n",
    "    # add to dictionary\n",
    "    try:\n",
    "        attraction_features['no_things_to_do'] = find_no_things_to_do(driver)\n",
    "    except:\n",
    "        attraction_features['no_things_to_do'] = None\n",
    "\n",
    "    # add to dictionary\n",
    "    try:\n",
    "        attraction_features['sights_landmarks'] = find_sights_landmarks(driver)\n",
    "    except:\n",
    "        attraction_features['sights_landmarks'] = None\n",
    "\n",
    "    # add to dictionary\n",
    "    try:\n",
    "        attraction_features['address'] = find_address(driver)\n",
    "    except:\n",
    "        attraction_features['address'] = None\n",
    "\n",
    "    # add to dictionary\n",
    "    try:\n",
    "        attraction_features['summary_overview'] = find_summary_overview(driver)\n",
    "    except:\n",
    "        attraction_features['summary_overview'] = None\n",
    "\n",
    "    # add to dictionary\n",
    "    try:\n",
    "        attraction_features['num_reviews'] = number_of_reviews(driver)\n",
    "    except:\n",
    "        attraction_features['num_reviews'] = None\n",
    "\n",
    "    # add to dictionary\n",
    "    try:\n",
    "        attraction_features['about'] = about_box(driver)\n",
    "    except:\n",
    "        attraction_features['about'] = None\n",
    "\n",
    "    # add to dictionary\n",
    "    try:\n",
    "        attraction_features['popular_mentions'] = popular_mentions(driver)\n",
    "    except:\n",
    "        attraction_features['popular_mentions'] = None\n",
    "    \n",
    "    \n",
    "    # add comments to dictionary\n",
    "    \n",
    "    try:\n",
    "        attraction_features['comments'] = comments(driver)\n",
    "    except:\n",
    "        attraction_features['comments'] = None\n",
    "    \n",
    "    \n",
    "    # last_comment == comments(driver)\n",
    "    try:\n",
    "        first_comment = comments(driver)\n",
    "    except:\n",
    "        pass\n",
    "    \n",
    "    \n",
    "\n",
    "    \n",
    "    #load more comments if there is any\n",
    "    for i in (range(3)):\n",
    "\n",
    "        try:\n",
    "            if nextbutton(driver) == False:\n",
    "                break\n",
    "            else:\n",
    "                nextbutton(driver)\n",
    "                time.sleep(random.choice(sequence))\n",
    "\n",
    "                try:\n",
    "                    morebutton(driver)\n",
    "                    time.sleep(random.choice(sequence)/3)\n",
    "                except:\n",
    "                    pass\n",
    "\n",
    "                time.sleep(random.choice(sequence))\n",
    "\n",
    "                try:\n",
    "                    if first_comment == comments(driver):\n",
    "                        break\n",
    "                    else:\n",
    "                        first_comment = comments(driver)\n",
    "                        \n",
    "                except:\n",
    "                    pass\n",
    "                \n",
    "                try:\n",
    "                    attraction_features['comments']+=(comments(driver))\n",
    "                except:\n",
    "                    attraction_features['comments']+=''    \n",
    "                    \n",
    "                \n",
    "        except:\n",
    "            break\n",
    "        \n",
    "        \n",
    "        try:\n",
    "            #checks to make sure we're not recopying comments\n",
    "            if last_comment == comments(driver):\n",
    "                break\n",
    "        except:\n",
    "            pass\n",
    "    #add to list of dictionaries\n",
    "    attractions.append(attraction_features)\n",
    "\n"
   ]
  },
  {
   "cell_type": "code",
   "execution_count": 414,
   "metadata": {},
   "outputs": [],
   "source": [
    "df = pd.DataFrame(attractions)"
   ]
  },
  {
   "cell_type": "code",
   "execution_count": null,
   "metadata": {},
   "outputs": [],
   "source": [
    "df.to_pickle('santorini_')"
   ]
  },
  {
   "cell_type": "code",
   "execution_count": null,
   "metadata": {},
   "outputs": [],
   "source": []
  },
  {
   "cell_type": "code",
   "execution_count": null,
   "metadata": {},
   "outputs": [],
   "source": []
  },
  {
   "cell_type": "code",
   "execution_count": null,
   "metadata": {},
   "outputs": [],
   "source": []
  },
  {
   "cell_type": "code",
   "execution_count": null,
   "metadata": {},
   "outputs": [],
   "source": []
  }
 ],
 "metadata": {
  "kernelspec": {
   "display_name": "Python 3",
   "language": "python",
   "name": "python3"
  },
  "language_info": {
   "codemirror_mode": {
    "name": "ipython",
    "version": 3
   },
   "file_extension": ".py",
   "mimetype": "text/x-python",
   "name": "python",
   "nbconvert_exporter": "python",
   "pygments_lexer": "ipython3",
   "version": "3.7.4"
  },
  "toc": {
   "base_numbering": 1,
   "nav_menu": {},
   "number_sections": true,
   "sideBar": true,
   "skip_h1_title": false,
   "title_cell": "Table of Contents",
   "title_sidebar": "Contents",
   "toc_cell": false,
   "toc_position": {},
   "toc_section_display": true,
   "toc_window_display": true
  }
 },
 "nbformat": 4,
 "nbformat_minor": 2
}
