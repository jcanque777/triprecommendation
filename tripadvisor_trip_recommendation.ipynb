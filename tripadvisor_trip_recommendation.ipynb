{
 "cells": [
  {
   "cell_type": "code",
   "execution_count": 71,
   "metadata": {},
   "outputs": [],
   "source": [
    "from selenium.webdriver.support import expected_conditions as EC\n",
    "from selenium.common.exceptions import TimeoutException\n",
    "from selenium.webdriver.support.ui import WebDriverWait\n",
    "from selenium.webdriver.common.keys import Keys\n",
    "from selenium.webdriver.common.by import By\n",
    "from selenium import webdriver\n",
    "\n",
    "from bs4 import BeautifulSoup \n",
    "import requests \n",
    "\n",
    "from tqdm import tqdm\n",
    "import time\n",
    "import random\n",
    "from copy import deepcopy\n",
    "\n",
    "import pickle"
   ]
  },
  {
   "cell_type": "code",
   "execution_count": 2,
   "metadata": {},
   "outputs": [],
   "source": [
    "import pandas as pd\n",
    "import numpy as np"
   ]
  },
  {
   "cell_type": "code",
   "execution_count": 6,
   "metadata": {},
   "outputs": [
    {
     "name": "stdout",
     "output_type": "stream",
     "text": [
      "Requirement already satisfied: tqdm in /Users/johnrick/opt/anaconda3/lib/python3.7/site-packages (4.36.1)\n",
      "Note: you may need to restart the kernel to use updated packages.\n"
     ]
    }
   ],
   "source": [
    "pip install tqdm"
   ]
  },
  {
   "cell_type": "markdown",
   "metadata": {},
   "source": [
    "# Scrape"
   ]
  },
  {
   "cell_type": "markdown",
   "metadata": {},
   "source": [
    "## Get Attractions"
   ]
  },
  {
   "cell_type": "code",
   "execution_count": 22,
   "metadata": {},
   "outputs": [],
   "source": [
    "attraction_links = []"
   ]
  },
  {
   "cell_type": "code",
   "execution_count": 19,
   "metadata": {},
   "outputs": [],
   "source": [
    "driver = webdriver.Chrome() #browser should be named driver in the future, common coding etiquette\n",
    "driver.get('https://www.tripadvisor.com/Attractions-g189400-Activities-Athens_Attica.html')"
   ]
  },
  {
   "cell_type": "code",
   "execution_count": 12,
   "metadata": {},
   "outputs": [],
   "source": [
    "miss_links = []"
   ]
  },
  {
   "cell_type": "code",
   "execution_count": 20,
   "metadata": {},
   "outputs": [],
   "source": [
    "soup = BeautifulSoup(driver.page_source)"
   ]
  },
  {
   "cell_type": "markdown",
   "metadata": {},
   "source": [
    "### Finding Links Version 1"
   ]
  },
  {
   "cell_type": "code",
   "execution_count": 21,
   "metadata": {},
   "outputs": [],
   "source": [
    "attractions = soup.find_all('li',{'class':'attractions-attraction-overview-pois-PoiCard__item--3UzYK'})"
   ]
  },
  {
   "cell_type": "code",
   "execution_count": 23,
   "metadata": {},
   "outputs": [],
   "source": [
    "for i in attractions:\n",
    "            attraction_links.append(i.find('a', href=True)['href'])"
   ]
  },
  {
   "cell_type": "code",
   "execution_count": null,
   "metadata": {},
   "outputs": [],
   "source": []
  },
  {
   "cell_type": "markdown",
   "metadata": {},
   "source": [
    "### Finding Links Version 2"
   ]
  },
  {
   "cell_type": "code",
   "execution_count": 30,
   "metadata": {},
   "outputs": [],
   "source": [
    "soup = BeautifulSoup(driver.page_source)"
   ]
  },
  {
   "cell_type": "code",
   "execution_count": 31,
   "metadata": {},
   "outputs": [],
   "source": [
    "attractions2 = (soup.find_all('div', {'class':'attraction_element_tall'}))"
   ]
  },
  {
   "cell_type": "code",
   "execution_count": 35,
   "metadata": {},
   "outputs": [],
   "source": [
    "# Will only work if there's the second type of link in the webpage"
   ]
  },
  {
   "cell_type": "code",
   "execution_count": 32,
   "metadata": {},
   "outputs": [],
   "source": [
    "for i in attractions2:\n",
    "            for j in i.find_all('a', href=True):\n",
    "                if j['href'][:18]== '/Attraction_Review':\n",
    "                    attraction_links.append((j['href']))"
   ]
  },
  {
   "cell_type": "code",
   "execution_count": 34,
   "metadata": {},
   "outputs": [
    {
     "data": {
      "text/plain": [
       "30"
      ]
     },
     "execution_count": 34,
     "metadata": {},
     "output_type": "execute_result"
    }
   ],
   "source": [
    "len(attraction_links)"
   ]
  },
  {
   "cell_type": "code",
   "execution_count": null,
   "metadata": {},
   "outputs": [],
   "source": []
  },
  {
   "cell_type": "markdown",
   "metadata": {},
   "source": [
    "### Finding Next Button"
   ]
  },
  {
   "cell_type": "code",
   "execution_count": 36,
   "metadata": {},
   "outputs": [],
   "source": [
    "for i in soup.find_all('a', href=True):\n",
    "    if i.text == '\\nNext\\n':\n",
    "        link = 'https://www.tripadvisor.com/'+i['href']\n",
    "        driver.get(link)\n",
    "        break"
   ]
  },
  {
   "cell_type": "code",
   "execution_count": 38,
   "metadata": {},
   "outputs": [
    {
     "name": "stdout",
     "output_type": "stream",
     "text": [
      "<a href=\"/Attractions-g189400-Activities-oa30-Athens_Attica.html\">Next</a>\n",
      "<a href=\"/Attractions-g189400-Activities-oa30-Athens_Attica.html\">Next</a>\n"
     ]
    }
   ],
   "source": [
    "for i in soup.find_all('a', href=True):\n",
    "    if i.text == 'Next':\n",
    "        link = 'https://www.tripadvisor.com/'+i['href']\n",
    "        driver.get(link)\n",
    "        break"
   ]
  },
  {
   "cell_type": "code",
   "execution_count": null,
   "metadata": {},
   "outputs": [],
   "source": []
  },
  {
   "cell_type": "markdown",
   "metadata": {},
   "source": [
    "### Code to run"
   ]
  },
  {
   "cell_type": "code",
   "execution_count": null,
   "metadata": {},
   "outputs": [],
   "source": [
    "attraction_links = []\n",
    "miss_links = []"
   ]
  },
  {
   "cell_type": "code",
   "execution_count": null,
   "metadata": {},
   "outputs": [],
   "source": [
    "driver = webdriver.Chrome() #browser should be named driver in the future, common coding etiquette\n",
    "driver.get('https://www.tripadvisor.com/Attractions-g189400-Activities-Athens_Attica.html')"
   ]
  },
  {
   "cell_type": "code",
   "execution_count": 39,
   "metadata": {},
   "outputs": [
    {
     "name": "stderr",
     "output_type": "stream",
     "text": [
      "\n",
      "  0%|          | 0/12 [00:00<?, ?it/s]\u001b[A\n",
      "  8%|▊         | 1/12 [00:04<00:45,  4.11s/it]\u001b[A\n",
      " 17%|█▋        | 2/12 [00:08<00:40,  4.05s/it]\u001b[A\n",
      " 25%|██▌       | 3/12 [00:11<00:33,  3.77s/it]\u001b[A\n",
      " 33%|███▎      | 4/12 [00:15<00:30,  3.83s/it]\u001b[A\n",
      " 42%|████▏     | 5/12 [00:18<00:26,  3.79s/it]\u001b[A\n",
      " 50%|█████     | 6/12 [00:21<00:21,  3.58s/it]\u001b[A\n",
      " 58%|█████▊    | 7/12 [00:25<00:18,  3.66s/it]\u001b[A\n",
      " 67%|██████▋   | 8/12 [00:29<00:14,  3.58s/it]\u001b[A\n",
      " 75%|███████▌  | 9/12 [00:32<00:10,  3.53s/it]\u001b[A\n",
      " 83%|████████▎ | 10/12 [00:35<00:06,  3.45s/it]\u001b[A\n",
      " 92%|█████████▏| 11/12 [00:37<00:02,  2.80s/it]\u001b[A\n",
      "100%|██████████| 12/12 [00:38<00:00,  3.19s/it]\u001b[A\n"
     ]
    }
   ],
   "source": [
    "# Don't run attraction_links in same location\n",
    "# attraction_links = []\n",
    "\n",
    "#319 things to do in Athens\n",
    "#Range= number of pages to go to\n",
    "for i in tqdm(range(12)):\n",
    "#if there is a next button, continue to click and scrape\n",
    "    \n",
    "    try:\n",
    "        soup = BeautifulSoup(driver.page_source)\n",
    "        #finds the attractions for each page\n",
    "        attractions = soup.find_all('li',{'class':'attractions-attraction-overview-pois-PoiCard__item--3UzYK'})\n",
    "        \n",
    "        #find all links in attraction\n",
    "        for i in attractions:\n",
    "            attraction_links.append(i.find('a', href=True)['href'])\n",
    "    except: \n",
    "        print()\n",
    "        pass\n",
    "    \n",
    "    try:\n",
    "        soup = BeautifulSoup(driver.page_source)\n",
    "        #another way to find\n",
    "        attractions2 = (soup.find_all('div', {'class':'attraction_element_tall'}))\n",
    "        \n",
    "        for i in attractions2:\n",
    "            for j in i.find_all('a', href=True):\n",
    "                if j['href'][:18]== '/Attraction_Review':\n",
    "                    attraction_links.append((j['href']))\n",
    "    except:\n",
    "        pass\n",
    "            \n",
    "    #find next button\n",
    "    try:\n",
    "        for i in soup.find_all('a', href=True):\n",
    "            if i.text == '\\nNext\\n':\n",
    "                link = 'https://www.tripadvisor.com/'+i['href']\n",
    "                driver.get(link)\n",
    "                break\n",
    "    except:\n",
    "        pass\n",
    "              \n",
    "    try:\n",
    "        for i in soup.find_all('a', href=True):\n",
    "            if i.text == 'Next':\n",
    "                link = 'https://www.tripadvisor.com/'+i['href']\n",
    "                driver.get(link)\n",
    "                break\n",
    "    except:\n",
    "        miss_links.append(i)\n",
    "        sequence = [x/10 for x in range(5, 10)]\n",
    "        time.sleep(random.choice(sequence))\n",
    "        continue\n",
    "\n",
    "\n",
    "    sequence = [x/10 for x in range(5, 10)]\n",
    "    time.sleep(random.choice(sequence))"
   ]
  },
  {
   "cell_type": "markdown",
   "metadata": {},
   "source": [
    "### Fix Attraction Links"
   ]
  },
  {
   "cell_type": "code",
   "execution_count": 44,
   "metadata": {},
   "outputs": [],
   "source": [
    "attraction_links = list(set(attraction_links))"
   ]
  },
  {
   "cell_type": "code",
   "execution_count": 46,
   "metadata": {},
   "outputs": [
    {
     "data": {
      "text/plain": [
       "576"
      ]
     },
     "execution_count": 46,
     "metadata": {},
     "output_type": "execute_result"
    }
   ],
   "source": [
    "len(attraction_links)"
   ]
  },
  {
   "cell_type": "code",
   "execution_count": 51,
   "metadata": {},
   "outputs": [],
   "source": [
    "#creating a test copy\n",
    "t = deepcopy(attraction_links)"
   ]
  },
  {
   "cell_type": "code",
   "execution_count": 63,
   "metadata": {},
   "outputs": [],
   "source": [
    "for i in attraction_links:\n",
    "    if i[-8:] == '#REVIEWS':\n",
    "        attraction_links.remove(i)"
   ]
  },
  {
   "cell_type": "code",
   "execution_count": 64,
   "metadata": {},
   "outputs": [
    {
     "data": {
      "text/plain": [
       "397"
      ]
     },
     "execution_count": 64,
     "metadata": {},
     "output_type": "execute_result"
    }
   ],
   "source": [
    "len(attraction_links)"
   ]
  },
  {
   "cell_type": "code",
   "execution_count": 68,
   "metadata": {},
   "outputs": [],
   "source": [
    "fixed_links = []"
   ]
  },
  {
   "cell_type": "code",
   "execution_count": 69,
   "metadata": {},
   "outputs": [],
   "source": [
    "for i in attraction_links:\n",
    "    fixed_links.append('https://www.tripadvisor.com'+i)"
   ]
  },
  {
   "cell_type": "code",
   "execution_count": 70,
   "metadata": {},
   "outputs": [
    {
     "data": {
      "text/plain": [
       "['https://www.tripadvisor.com/Attraction_Review-g189400-d12642863-Reviews-Gate_of_Medrese-Athens_Attica.html',\n",
       " 'https://www.tripadvisor.com/Attraction_Review-g189400-d2662541-Reviews-Museum_of_the_History_of_the_Greek_Costume_of_the_Lyceum_Club_of_Greek_Women-Athe.html',\n",
       " 'https://www.tripadvisor.com/Attraction_Review-g189400-d10237374-Reviews-Eleni_Marneri_Galerie-Athens_Attica.html',\n",
       " 'https://www.tripadvisor.com/Attraction_Review-g189400-d18979998-Reviews-Stoa_Avissinias-Athens_Attica.html',\n",
       " 'https://www.tripadvisor.com/Attraction_Review-g189400-d15151578-Reviews-Ikastikos_Kyklos_Sianti-Athens_Attica.html',\n",
       " 'https://www.tripadvisor.com/Attraction_Review-g189400-d10089083-Reviews-ELEYThERH_EKFRASH_Theater-Athens_Attica.html',\n",
       " 'https://www.tripadvisor.com/Attraction_Review-g189400-d1064133-Reviews-Temple_of_Hephaestus-Athens_Attica.html',\n",
       " 'https://www.tripadvisor.com/Attraction_Review-g189400-d11691251-Reviews-Urban_Rail_Transport_S_A_Tramway-Athens_Attica.html',\n",
       " 'https://www.tripadvisor.com/Attraction_Review-g189400-d9845882-Reviews-Masjid_Al_Salam_Mosque-Athens_Attica.html',\n",
       " 'https://www.tripadvisor.com/Attraction_Review-g189400-d7718083-Reviews-Aristotle_s_Lyceum-Athens_Attica.html',\n",
       " 'https://www.tripadvisor.com/Attraction_Review-g189400-d2662540-Reviews-B_M_Theocharakis_Foundation-Athens_Attica.html',\n",
       " 'https://www.tripadvisor.com/Attraction_Review-g189400-d13002047-Reviews-Ancient_Bath-Athens_Attica.html#REVIEWS',\n",
       " 'https://www.tripadvisor.com/Attraction_Review-g189400-d198761-Reviews-Church_of_the_Holy_Apostles-Athens_Attica.html',\n",
       " 'https://www.tripadvisor.com/Attraction_Review-g189400-d12387148-Reviews-Cultural_Centre_MIET-Athens_Attica.html',\n",
       " 'https://www.tripadvisor.com/Attraction_Review-g189400-d3672316-Reviews-Epigraphic_Museum-Athens_Attica.html',\n",
       " 'https://www.tripadvisor.com/Attraction_Review-g189400-d16662605-Reviews-OLVIO-Athens_Attica.html',\n",
       " 'https://www.tripadvisor.com/Attraction_Review-g189400-d566825-Reviews-Museum_of_Greek_Children_s_Art-Athens_Attica.html',\n",
       " 'https://www.tripadvisor.com/Attraction_Review-g189400-d531645-Reviews-Athinais-Athens_Attica.html',\n",
       " 'https://www.tripadvisor.com/Attraction_Review-g189400-d12962467-Reviews-Icarus_Monument_of_Fallen_Aviators-Athens_Attica.html#REVIEWS',\n",
       " 'https://www.tripadvisor.com/Attraction_Review-g189400-d1520208-Reviews-Voula_Beach-Athens_Attica.html',\n",
       " 'https://www.tripadvisor.com/Attraction_Review-g189400-d16813317-Reviews-Statue_of_Damaskinos_Papandreou-Athens_Attica.html#REVIEWS',\n",
       " 'https://www.tripadvisor.com/Attraction_Review-g189400-d242825-Reviews-Museum_of_Greek_Folk_Musical_Instruments-Athens_Attica.html',\n",
       " 'https://www.tripadvisor.com/Attraction_Review-g189400-d8278689-Reviews-National_Observatory_of_Athens_Thiseio-Athens_Attica.html',\n",
       " 'https://www.tripadvisor.com/Attraction_Review-g189400-d13543453-Reviews-Statue_of_Lord_Byron-Athens_Attica.html',\n",
       " 'https://www.tripadvisor.com/Attraction_Review-g189400-d566812-Reviews-Emfietzoglou_Gallery-Athens_Attica.html',\n",
       " 'https://www.tripadvisor.com/Attraction_Review-g189400-d198754-Reviews-Stoa_of_Attalos-Athens_Attica.html#REVIEWS',\n",
       " 'https://www.tripadvisor.com/Attraction_Review-g189400-d2432271-Reviews-The_Academy_of_Athens-Athens_Attica.html',\n",
       " 'https://www.tripadvisor.com/Attraction_Review-g189400-d198756-Reviews-Bouleterion-Athens_Attica.html',\n",
       " 'https://www.tripadvisor.com/Attraction_Review-g189400-d246656-Reviews-Erechtheion-Athens_Attica.html',\n",
       " 'https://www.tripadvisor.com/Attraction_Review-g189400-d8791473-Reviews-Permanent_Exhibition_Man_and_Tools-Athens_Attica.html',\n",
       " 'https://www.tripadvisor.com/Attraction_Review-g189400-d19731869-Reviews-Antiques_Roussos-Athens_Attica.html',\n",
       " 'https://www.tripadvisor.com/Attraction_Review-g189400-d19309950-Reviews-Idryma_Vasili_Elizas_Goulandri-Athens_Attica.html',\n",
       " 'https://www.tripadvisor.com/Attraction_Review-g189400-d18971929-Reviews-Euphoria_Life_Wellness-Athens_Attica.html',\n",
       " 'https://www.tripadvisor.com/Attraction_Review-g189400-d10231299-Reviews-Katehaki_Footbridge-Athens_Attica.html#REVIEWS',\n",
       " 'https://www.tripadvisor.com/Attraction_Review-g189400-d17851236-Reviews-On_Repetition_an_open_treatise_in_action-Athens_Attica.html',\n",
       " 'https://www.tripadvisor.com/Attraction_Review-g189400-d3569017-Reviews-Church_of_Kapnikarea-Athens_Attica.html',\n",
       " 'https://www.tripadvisor.com/Attraction_Review-g189400-d198707-Reviews-Hellenic_Parliament-Athens_Attica.html',\n",
       " 'https://www.tripadvisor.com/Attraction_Review-g189400-d19257328-Reviews-Alhambra_Art_Theater-Athens_Attica.html',\n",
       " 'https://www.tripadvisor.com/Attraction_Review-g189400-d17474176-Reviews-Athens_Attica.html',\n",
       " 'https://www.tripadvisor.com/Attraction_Review-g189400-d4885650-Reviews-Pedion_Tou_Areos_Park-Athens_Attica.html',\n",
       " 'https://www.tripadvisor.com/Attraction_Review-g189400-d16813554-Reviews-Ekklisia_Agias_Ekaterinis-Athens_Attica.html',\n",
       " 'https://www.tripadvisor.com/Attraction_Review-g189400-d13354690-Reviews-Greek_Puppet_Theatre-Athens_Attica.html',\n",
       " 'https://www.tripadvisor.com/Attraction_Review-g189400-d524618-Reviews-Little_Metropolis-Athens_Attica.html#REVIEWS',\n",
       " 'https://www.tripadvisor.com/Attraction_Review-g189400-d15673101-Reviews-Theatro_Vretania-Athens_Attica.html#REVIEWS',\n",
       " 'https://www.tripadvisor.com/Attraction_Review-g189400-d6765437-Reviews-Plato_s_Academy_Park-Athens_Attica.html',\n",
       " 'https://www.tripadvisor.com/Attraction_Review-g189400-d566813-Reviews-Greek_Evangelical_Church-Athens_Attica.html',\n",
       " 'https://www.tripadvisor.com/Attraction_Review-g189400-d10767810-Reviews-TrainOSE_Athens_Suburban_Railway-Athens_Attica.html',\n",
       " 'https://www.tripadvisor.com/Attraction_Review-g189400-d13216175-Reviews-Oasa-Athens_Attica.html',\n",
       " 'https://www.tripadvisor.com/Attraction_Review-g189400-d3247668-Reviews-The_Ioannis_Sykoutris_Library-Athens_Attica.html',\n",
       " 'https://www.tripadvisor.com/Attraction_Review-g189400-d3322821-Reviews-General_State_Archives-Athens_Attica.html',\n",
       " 'https://www.tripadvisor.com/Attraction_Review-g189400-d524609-Reviews-Anafiotika-Athens_Attica.html',\n",
       " 'https://www.tripadvisor.com/Attraction_Review-g189400-d566832-Reviews-St_Paul_s_Anglican_Episcopal_Church-Athens_Attica.html',\n",
       " 'https://www.tripadvisor.com/Attraction_Review-g189400-d524618-Reviews-Little_Metropolis-Athens_Attica.html',\n",
       " 'https://www.tripadvisor.com/Attraction_Review-g189400-d5482193-Reviews-Metapolis-Athens_Attica.html',\n",
       " 'https://www.tripadvisor.com/Attraction_Review-g189400-d566826-Reviews-Museum_of_the_History_of_Athens_University-Athens_Attica.html',\n",
       " 'https://www.tripadvisor.com/Attraction_Review-g189400-d17535146-Reviews-Key_Transfers-Athens_Attica.html',\n",
       " 'https://www.tripadvisor.com/Attraction_Review-g189400-d8134455-Reviews-Nicks_corner-Athens_Attica.html',\n",
       " 'https://www.tripadvisor.com/Attraction_Review-g189400-d15695044-Reviews-The_Bernier_Eliades_Gallery-Athens_Attica.html',\n",
       " 'https://www.tripadvisor.com/Attraction_Review-g189400-d2697222-Reviews-A_Lentakis_Foundation_of_Culture_and_Education-Athens_Attica.html',\n",
       " 'https://www.tripadvisor.com/Attraction_Review-g189400-d11911504-Reviews-Theatre_Odou_Kykladon_Lefteris_Vogiatzis-Athens_Attica.html#REVIEWS',\n",
       " 'https://www.tripadvisor.com/Attraction_Review-g189400-d498309-Reviews-War_Museum-Athens_Attica.html',\n",
       " 'https://www.tripadvisor.com/Attraction_Review-g189400-d8831145-Reviews-Avlitis_Art-Athens_Attica.html#REVIEWS',\n",
       " 'https://www.tripadvisor.com/Attraction_Review-g189400-d566836-Reviews-National_and_Kapodistrian_University_of_Athens-Athens_Attica.html#REVIEWS',\n",
       " 'https://www.tripadvisor.com/Attraction_Review-g189400-d242828-Reviews-Athens_City_Museum-Athens_Attica.html',\n",
       " 'https://www.tripadvisor.com/Attraction_Review-g189400-d16552999-Reviews-Vithoulkas_Antiques-Athens_Attica.html',\n",
       " 'https://www.tripadvisor.com/Attraction_Review-g189400-d10780532-Reviews-Porto_Rafti_Beach-Athens_Attica.html',\n",
       " 'https://www.tripadvisor.com/Attraction_Review-g189400-d7119371-Reviews-Art_Gallery_Artiter_Oil_Paintings-Athens_Attica.html',\n",
       " 'https://www.tripadvisor.com/Attraction_Review-g189400-d1064123-Reviews-Prison_of_Socrates-Athens_Attica.html',\n",
       " 'https://www.tripadvisor.com/Attraction_Review-g189400-d8143950-Reviews-Alexiou_Museums-Athens_Attica.html',\n",
       " 'https://www.tripadvisor.com/Attraction_Review-g189400-d15758645-Reviews-Theatro_Technis_Karolos_Koun-Athens_Attica.html',\n",
       " 'https://www.tripadvisor.com/Attraction_Review-g189400-d15848194-Reviews-Roma_Gallery-Athens_Attica.html',\n",
       " 'https://www.tripadvisor.com/Attraction_Review-g189400-d198708-Reviews-Pandrossou-Athens_Attica.html',\n",
       " 'https://www.tripadvisor.com/Attraction_Review-g189400-d15677186-Reviews-Evripides_Art_Gallery-Athens_Attica.html',\n",
       " 'https://www.tripadvisor.com/Attraction_Review-g189400-d16726232-Reviews-Mnimio_tou_Agnostou_Kallitechni-Athens_Attica.html',\n",
       " 'https://www.tripadvisor.com/Attraction_Review-g189400-d3672353-Reviews-MOMus_Museum_Alex_Mylona-Athens_Attica.html#REVIEWS',\n",
       " 'https://www.tripadvisor.com/Attraction_Review-g189400-d607262-Reviews-Olympia_Theater-Athens_Attica.html',\n",
       " 'https://www.tripadvisor.com/Attraction_Review-g189400-d8121195-Reviews-School_Life_and_Education_Museum-Athens_Attica.html',\n",
       " 'https://www.tripadvisor.com/Attraction_Review-g189400-d4339382-Reviews-To_Treno_sto_Rouf_railway_carriage_theater-Athens_Attica.html',\n",
       " 'https://www.tripadvisor.com/Attraction_Review-g189400-d15137010-Reviews-Museum_of_Illusions_Athens-Athens_Attica.html',\n",
       " 'https://www.tripadvisor.com/Attraction_Review-g189400-d11785397-Reviews-Maximos_Mansion-Athens_Attica.html',\n",
       " 'https://www.tripadvisor.com/Attraction_Review-g189400-d7759649-Reviews-Attiko_Metro_S_A-Athens_Attica.html',\n",
       " 'https://www.tripadvisor.com/Attraction_Review-g189400-d16726004-Reviews-Parko_Rizari-Athens_Attica.html',\n",
       " 'https://www.tripadvisor.com/Attraction_Review-g189400-d566835-Reviews-Tzisdarakis_Mosque_o_Moschea_della_Fontana_di_sotto-Athens_Attica.html',\n",
       " 'https://www.tripadvisor.com/Attraction_Review-g189400-d7680681-Reviews-Library_of_Archdiocese_of_Athens-Athens_Attica.html',\n",
       " 'https://www.tripadvisor.com/Attraction_Review-g189400-d1067330-Reviews-Dora_Stratou_Greek_Dances_Theatre-Athens_Attica.html',\n",
       " 'https://www.tripadvisor.com/Attraction_Review-g189400-d8561069-Reviews-Church_of_Saint_Isidore-Athens_Attica.html',\n",
       " 'https://www.tripadvisor.com/Attraction_Review-g189400-d245991-Reviews-Panathenaic_Stadium-Athens_Attica.html',\n",
       " 'https://www.tripadvisor.com/Attraction_Review-g189400-d12206223-Reviews-Pantheon-Athens_Attica.html',\n",
       " 'https://www.tripadvisor.com/Attraction_Review-g189400-d198756-Reviews-Bouleterion-Athens_Attica.html#REVIEWS',\n",
       " 'https://www.tripadvisor.com/Attraction_Review-g189400-d16239225-Reviews-L_A_yoga_studio-Athens_Attica.html',\n",
       " 'https://www.tripadvisor.com/Attraction_Review-g189400-d3672094-Reviews-Museum_of_the_Ancient_Agora-Athens_Attica.html#REVIEWS',\n",
       " 'https://www.tripadvisor.com/Attraction_Review-g189400-d3683583-Reviews-Hymettus-Athens_Attica.html',\n",
       " 'https://www.tripadvisor.com/Attraction_Review-g189400-d242831-Reviews-Museum_of_Pavlos_and_Alexandra_Kanellopoulos-Athens_Attica.html',\n",
       " 'https://www.tripadvisor.com/Attraction_Review-g189400-d17519213-Reviews-Koilon_Theatre-Athens_Attica.html#REVIEWS',\n",
       " 'https://www.tripadvisor.com/Attraction_Review-g189400-d3673678-Reviews-Foundation_of_the_Hellenic_World-Athens_Attica.html',\n",
       " 'https://www.tripadvisor.com/Attraction_Review-g189400-d3673429-Reviews-Postal_Philatelic_Museum-Athens_Attica.html',\n",
       " 'https://www.tripadvisor.com/Attraction_Review-g189400-d12150474-Reviews-ArtZone42_Gallery-Athens_Attica.html#REVIEWS',\n",
       " 'https://www.tripadvisor.com/Attraction_Review-g189400-d16726257-Reviews-Platia_Eleftherias_Koumoundourou-Athens_Attica.html#REVIEWS',\n",
       " 'https://www.tripadvisor.com/Attraction_Review-g189400-d19645188-Reviews-Greek_National_Opera-Athens_Attica.html',\n",
       " 'https://www.tripadvisor.com/Attraction_Review-g189400-d8098913-Reviews-Theatro_Technis_Karolos_Koun_Frinichou-Athens_Attica.html#REVIEWS',\n",
       " 'https://www.tripadvisor.com/Attraction_Review-g189400-d242818-Reviews-Greek_Folk_Art_Museum_Museo_Ellinikis_Laikis_Technis-Athens_Attica.html',\n",
       " 'https://www.tripadvisor.com/Attraction_Review-g189400-d6739897-Reviews-Hadrian_s_Library-Athens_Attica.html',\n",
       " 'https://www.tripadvisor.com/Attraction_Review-g189400-d5999435-Reviews-Syntagma_Station-Athens_Attica.html',\n",
       " 'https://www.tripadvisor.com/Attraction_Review-g189400-d6522418-Reviews-Badminton_Theater-Athens_Attica.html',\n",
       " 'https://www.tripadvisor.com/Attraction_Review-g189400-d4298157-Reviews-Museum_of_Mineralogy_and_Petrology-Athens_Attica.html#REVIEWS',\n",
       " 'https://www.tripadvisor.com/Attraction_Review-g189400-d607283-Reviews-Pallas_Theater-Athens_Attica.html',\n",
       " 'https://www.tripadvisor.com/Attraction_Review-g189400-d3672205-Reviews-Museum_Marika_Kotopouli-Athens_Attica.html',\n",
       " 'https://www.tripadvisor.com/Attraction_Review-g189400-d3673508-Reviews-Paxinou_Minotis_Museum_and_Archive-Athens_Attica.html',\n",
       " 'https://www.tripadvisor.com/Attraction_Review-g189400-d1064131-Reviews-Areopagus-Athens_Attica.html',\n",
       " 'https://www.tripadvisor.com/Attraction_Review-g189400-d13492914-Reviews-Kotsanas_Museum_of_Ancient_Greek_Technology-Athens_Attica.html',\n",
       " 'https://www.tripadvisor.com/Attraction_Review-g189400-d12654175-Reviews-The_Holocaust_Memorial-Athens_Attica.html#REVIEWS',\n",
       " 'https://www.tripadvisor.com/Attraction_Review-g189400-d18186550-Reviews-Monastraki_Flea_Market-Athens_Attica.html',\n",
       " 'https://www.tripadvisor.com/Attraction_Review-g189400-d1420241-Reviews-Zappeion_Conference_Exhibition_Center-Athens_Attica.html',\n",
       " 'https://www.tripadvisor.com/Attraction_Review-g189400-d242832-Reviews-Kerameikos_Cemetery-Athens_Attica.html',\n",
       " 'https://www.tripadvisor.com/Attraction_Review-g189400-d4579606-Reviews-Orlik_Gallery-Athens_Attica.html',\n",
       " 'https://www.tripadvisor.com/Attraction_Review-g189400-d11638929-Reviews-Tzeni_Karezi-Athens_Attica.html',\n",
       " 'https://www.tripadvisor.com/Attraction_Review-g189400-d519616-Reviews-Monument_of_Lysikrates-Athens_Attica.html',\n",
       " 'https://www.tripadvisor.com/Attraction_Review-g189400-d6522418-Reviews-Badminton_Theater-Athens_Attica.html#REVIEWS',\n",
       " 'https://www.tripadvisor.com/Attraction_Review-g189400-d198934-Reviews-National_Gallery_Museum_Alexandros_Soutzos-Athens_Attica.html',\n",
       " 'https://www.tripadvisor.com/Attraction_Review-g189400-d198947-Reviews-Omonia_Square-Athens_Attica.html',\n",
       " 'https://www.tripadvisor.com/Attraction_Review-g189400-d7117699-Reviews-Apostolos_Nikolaidis_Stadium-Athens_Attica.html#REVIEWS',\n",
       " 'https://www.tripadvisor.com/Attraction_Review-g189400-d17714537-Reviews-Agios_Ioannis_tis_Kolonas-Athens_Attica.html',\n",
       " 'https://www.tripadvisor.com/Attraction_Review-g189400-d242841-Reviews-Roman_Agora-Athens_Attica.html#REVIEWS',\n",
       " 'https://www.tripadvisor.com/Attraction_Review-g189400-d17535859-Reviews-Mousio_Zoologias_Panepistimiou_Athinon-Athens_Attica.html',\n",
       " 'https://www.tripadvisor.com/Attraction_Review-g189400-d3672330-Reviews-Museum_of_the_Center_for_the_Acropolis_Studies-Athens_Attica.html#REVIEWS',\n",
       " 'https://www.tripadvisor.com/Attraction_Review-g189400-d13091984-Reviews-Statue_of_Menander-Athens_Attica.html',\n",
       " 'https://www.tripadvisor.com/Attraction_Review-g189400-d13437092-Reviews-Apostolou_Pavlou_Street-Athens_Attica.html',\n",
       " 'https://www.tripadvisor.com/Attraction_Review-g189400-d10231299-Reviews-Katehaki_Footbridge-Athens_Attica.html',\n",
       " 'https://www.tripadvisor.com/Attraction_Review-g189400-d198712-Reviews-Museum_of_Cycladic_Art-Athens_Attica.html',\n",
       " 'https://www.tripadvisor.com/Attraction_Review-g189400-d8021532-Reviews-Athens_Tourist_Information_Centre-Athens_Attica.html',\n",
       " 'https://www.tripadvisor.com/Attraction_Review-g189400-d13794889-Reviews-Church_of_Panagias_Grigorousas-Athens_Attica.html',\n",
       " 'https://www.tripadvisor.com/Attraction_Review-g189400-d2693885-Reviews-Allou_Fun_Park-Athens_Attica.html#REVIEWS',\n",
       " 'https://www.tripadvisor.com/Attraction_Review-g189400-d17535736-Reviews-Proto_Nekrotafio_Athinon-Athens_Attica.html#REVIEWS',\n",
       " 'https://www.tripadvisor.com/Attraction_Review-g189400-d3671984-Reviews-Dodecanese_Home_Museum-Athens_Attica.html',\n",
       " 'https://www.tripadvisor.com/Attraction_Review-g189400-d19121606-Reviews-Museum_Makronisou-Athens_Attica.html',\n",
       " 'https://www.tripadvisor.com/Attraction_Review-g189400-d6529063-Reviews-Topos_Allou_Theatre-Athens_Attica.html',\n",
       " 'https://www.tripadvisor.com/Attraction_Review-g189400-d8831145-Reviews-Avlitis_Art-Athens_Attica.html',\n",
       " 'https://www.tripadvisor.com/Attraction_Review-g189400-d8098913-Reviews-Theatro_Technis_Karolos_Koun_Frinichou-Athens_Attica.html',\n",
       " 'https://www.tripadvisor.com/Attraction_Review-g189400-d17762493-Reviews-Church_Holy_Trinity-Athens_Attica.html',\n",
       " 'https://www.tripadvisor.com/Attraction_Review-g189400-d17535146-Reviews-Key_Transfers-Athens_Attica.html#REVIEWS',\n",
       " 'https://www.tripadvisor.com/Attraction_Review-g189400-d2307236-Reviews-Municipal_Art_Gallery-Athens_Attica.html',\n",
       " 'https://www.tripadvisor.com/Attraction_Review-g189400-d2662543-Reviews-Exile_Museum-Athens_Attica.html',\n",
       " 'https://www.tripadvisor.com/Attraction_Review-g189400-d319301-Reviews-The_Monastery_of_Daphni-Athens_Attica.html',\n",
       " 'https://www.tripadvisor.com/Attraction_Review-g189400-d607262-Reviews-Olympia_Theater-Athens_Attica.html#REVIEWS',\n",
       " 'https://www.tripadvisor.com/Attraction_Review-g189400-d1064123-Reviews-Prison_of_Socrates-Athens_Attica.html#REVIEWS',\n",
       " 'https://www.tripadvisor.com/Attraction_Review-g189400-d3672201-Reviews-Pierides_Museum_of_Ancient_Cypriot_Art-Athens_Attica.html',\n",
       " 'https://www.tripadvisor.com/Attraction_Review-g189400-d8820343-Reviews-Rockwave_Festival-Athens_Attica.html#REVIEWS',\n",
       " 'https://www.tripadvisor.com/Attraction_Review-g189400-d3672113-Reviews-Dimitris_Pierides_Museum_of_Contemporary_Art-Athens_Attica.html',\n",
       " 'https://www.tripadvisor.com/Attraction_Review-g189400-d198710-Reviews-Tower_of_the_Winds-Athens_Attica.html',\n",
       " 'https://www.tripadvisor.com/Attraction_Review-g189400-d10322936-Reviews-Agios_Nicholas_Rangavas_Church-Athens_Attica.html',\n",
       " 'https://www.tripadvisor.com/Attraction_Review-g189400-d8123913-Reviews-St_Sophia_s_Church_of_Acropolis-Athens_Attica.html',\n",
       " 'https://www.tripadvisor.com/Attraction_Review-g189400-d6684136-Reviews-Amorgos_Antique_Store-Athens_Attica.html#REVIEWS',\n",
       " 'https://www.tripadvisor.com/Attraction_Review-g189400-d9807410-Reviews-Sofita_Vintage_Shop-Athens_Attica.html#REVIEWS',\n",
       " 'https://www.tripadvisor.com/Attraction_Review-g189400-d198760-Reviews-Panathenaic_Way-Athens_Attica.html',\n",
       " 'https://www.tripadvisor.com/Attraction_Review-g189400-d12295887-Reviews-Kolokotroni_Statue-Athens_Attica.html',\n",
       " 'https://www.tripadvisor.com/Attraction_Review-g189400-d12172120-Reviews-Rex_Cinema_and_Theatre_Hall_Add_to_Wish_List-Athens_Attica.html',\n",
       " 'https://www.tripadvisor.com/Attraction_Review-g189400-d17425329-Reviews-Strange_Brew_Taproom_Bottleshop-Athens_Attica.html',\n",
       " 'https://www.tripadvisor.com/Attraction_Review-g189400-d7257986-Reviews-Greek_Gastronomy_Museum-Athens_Attica.html#REVIEWS',\n",
       " 'https://www.tripadvisor.com/Attraction_Review-g189400-d198714-Reviews-Benaki_Museum-Athens_Attica.html',\n",
       " 'https://www.tripadvisor.com/Attraction_Review-g189400-d10100347-Reviews-St_Marina_Church-Athens_Attica.html',\n",
       " 'https://www.tripadvisor.com/Attraction_Review-g189400-d15341456-Reviews-Athens_Railway_Museum-Athens_Attica.html',\n",
       " 'https://www.tripadvisor.com/Attraction_Review-g189400-d3673654-Reviews-Greek_Children_s_Museum-Athens_Attica.html',\n",
       " 'https://www.tripadvisor.com/Attraction_Review-g189400-d2687991-Reviews-Angelos_and_Leto_Katakouzenos_Foundation-Athens_Attica.html',\n",
       " 'https://www.tripadvisor.com/Attraction_Review-g189400-d242820-Reviews-Arch_of_Hadrian_Pili_tou_Adrianou-Athens_Attica.html',\n",
       " 'https://www.tripadvisor.com/Attraction_Review-g189400-d2665638-Reviews-Hellenic_Motor_Museum-Athens_Attica.html',\n",
       " 'https://www.tripadvisor.com/Attraction_Review-g189400-d12919607-Reviews-KTEL_Attikis-Athens_Attica.html#REVIEWS',\n",
       " 'https://www.tripadvisor.com/Attraction_Review-g189400-d14181775-Reviews-Melina_Mercuri_Museum_and_Cultural_Centre-Athens_Attica.html',\n",
       " 'https://www.tripadvisor.com/Attraction_Review-g189400-d3672384-Reviews-Benaki_Museum-Athens_Attica.html',\n",
       " 'https://www.tripadvisor.com/Attraction_Review-g189400-d11677665-Reviews-Agios_Pavlos_Church-Athens_Attica.html',\n",
       " 'https://www.tripadvisor.com/Attraction_Review-g189400-d8028594-Reviews-Ieros_Naos_Agios_Dimitrios_Loubardiaris-Athens_Attica.html',\n",
       " 'https://www.tripadvisor.com/Attraction_Review-g189400-d793255-Reviews-Athens_Street-Athens_Attica.html',\n",
       " 'https://www.tripadvisor.com/Attraction_Review-g189400-d8016917-Reviews-Pinakothiki_Nikos_Hadjikyriakos_Ghikas-Athens_Attica.html#REVIEWS',\n",
       " 'https://www.tripadvisor.com/Attraction_Review-g189400-d10322936-Reviews-Agios_Nicholas_Rangavas_Church-Athens_Attica.html#REVIEWS',\n",
       " 'https://www.tripadvisor.com/Attraction_Review-g189400-d15673101-Reviews-Theatro_Vretania-Athens_Attica.html',\n",
       " 'https://www.tripadvisor.com/Attraction_Review-g189400-d11689616-Reviews-Attica_The_Department_Store-Athens_Attica.html',\n",
       " 'https://www.tripadvisor.com/Attraction_Review-g189400-d1411337-Reviews-OSE-Athens_Attica.html',\n",
       " 'https://www.tripadvisor.com/Attraction_Review-g189400-d3672205-Reviews-Museum_Marika_Kotopouli-Athens_Attica.html#REVIEWS',\n",
       " 'https://www.tripadvisor.com/Attraction_Review-g189400-d3672277-Reviews-Museum_of_Asia_Minor_Hellenism_Filio_Chaidemenou-Athens_Attica.html',\n",
       " 'https://www.tripadvisor.com/Attraction_Review-g189400-d14040752-Reviews-Dynamo-Athens_Attica.html#REVIEWS',\n",
       " 'https://www.tripadvisor.com/Attraction_Review-g189400-d8517802-Reviews-The_Bathhouse_of_the_Winds-Athens_Attica.html',\n",
       " 'https://www.tripadvisor.com/Attraction_Review-g189400-d246659-Reviews-Temple_of_Athena_Nike-Athens_Attica.html',\n",
       " 'https://www.tripadvisor.com/Attraction_Review-g189400-d8120745-Reviews-Pandora_Art_Gallery-Athens_Attica.html',\n",
       " 'https://www.tripadvisor.com/Attraction_Review-g189400-d2329800-Reviews-Olympic_Athletic_Center_of_Athens_O_A_K_A_Spiros_Louis-Athens_Attica.html',\n",
       " 'https://www.tripadvisor.com/Attraction_Review-g189400-d242830-Reviews-Numismatic_Museum-Athens_Attica.html',\n",
       " 'https://www.tripadvisor.com/Attraction_Review-g189400-d8820409-Reviews-Athens_and_Epidaurus_Festival-Athens_Attica.html',\n",
       " 'https://www.tripadvisor.com/Attraction_Review-g189400-d245993-Reviews-Tomb_of_the_Unknown_Soldier-Athens_Attica.html#REVIEWS',\n",
       " 'https://www.tripadvisor.com/Attraction_Review-g189400-d16726220-Reviews-Platia_Eksarchion-Athens_Attica.html',\n",
       " 'https://www.tripadvisor.com/Attraction_Review-g189400-d3673654-Reviews-Greek_Children_s_Museum-Athens_Attica.html#REVIEWS',\n",
       " 'https://www.tripadvisor.com/Attraction_Review-g189400-d5498844-Reviews-Grand_Promenade-Athens_Attica.html',\n",
       " 'https://www.tripadvisor.com/Attraction_Review-g189400-d12150474-Reviews-ArtZone42_Gallery-Athens_Attica.html',\n",
       " 'https://www.tripadvisor.com/Attraction_Review-g189400-d198706-Reviews-Acropolis-Athens_Attica.html',\n",
       " 'https://www.tripadvisor.com/Attraction_Review-g189400-d3672225-Reviews-Touch_Museum-Athens_Attica.html',\n",
       " 'https://www.tripadvisor.com/Attraction_Review-g189400-d12962467-Reviews-Icarus_Monument_of_Fallen_Aviators-Athens_Attica.html',\n",
       " 'https://www.tripadvisor.com/Attraction_Review-g189400-d12526401-Reviews-Athens_Gallery-Athens_Attica.html',\n",
       " 'https://www.tripadvisor.com/Attraction_Review-g189400-d7117699-Reviews-Apostolos_Nikolaidis_Stadium-Athens_Attica.html',\n",
       " 'https://www.tripadvisor.com/Attraction_Review-g189400-d13737733-Reviews-Athens_Tower-Athens_Attica.html',\n",
       " 'https://www.tripadvisor.com/Attraction_Review-g189400-d8115426-Reviews-Technohoros_Art_Gallery-Athens_Attica.html#REVIEWS',\n",
       " 'https://www.tripadvisor.com/Attraction_Review-g189400-d10336669-Reviews-Lycabettus_Funicular-Athens_Attica.html',\n",
       " 'https://www.tripadvisor.com/Attraction_Review-g189400-d198777-Reviews-Psirri-Athens_Attica.html',\n",
       " 'https://www.tripadvisor.com/Attraction_Review-g189400-d591581-Reviews-Design_Museum_of_the_20th_Century-Athens_Attica.html',\n",
       " 'https://www.tripadvisor.com/Attraction_Review-g189400-d12447446-Reviews-Agia_Fotini_Ilissos-Athens_Attica.html',\n",
       " 'https://www.tripadvisor.com/Attraction_Review-g189400-d2663191-Reviews-Emotions_Museum-Athens_Attica.html',\n",
       " 'https://www.tripadvisor.com/Attraction_Review-g189400-d17566630-Reviews-Gazi_Music_Hall-Athens_Attica.html',\n",
       " 'https://www.tripadvisor.com/Attraction_Review-g189400-d3672157-Reviews-Museum_and_Study_Centre_of_Greek_Theatre-Athens_Attica.html',\n",
       " 'https://www.tripadvisor.com/Attraction_Review-g189400-d18313126-Reviews-Monument_to_Georgios_Averoff-Athens_Attica.html',\n",
       " 'https://www.tripadvisor.com/Attraction_Review-g189400-d6529063-Reviews-Topos_Allou_Theatre-Athens_Attica.html#REVIEWS',\n",
       " 'https://www.tripadvisor.com/Attraction_Review-g189400-d566805-Reviews-Agios_Dionysios_Areopagitis_Catholic_Cathedral-Athens_Attica.html',\n",
       " 'https://www.tripadvisor.com/Attraction_Review-g189400-d8123913-Reviews-St_Sophia_s_Church_of_Acropolis-Athens_Attica.html#REVIEWS',\n",
       " 'https://www.tripadvisor.com/Attraction_Review-g189400-d8745120-Reviews-Church_of_Metamorphosis-Athens_Attica.html',\n",
       " 'https://www.tripadvisor.com/Attraction_Review-g189400-d7953031-Reviews-Agios_Dionysios_Areopagitis_Church-Athens_Attica.html',\n",
       " 'https://www.tripadvisor.com/Attraction_Review-g189400-d198711-Reviews-Parthenon-Athens_Attica.html',\n",
       " 'https://www.tripadvisor.com/Attraction_Review-g189400-d198761-Reviews-Church_of_the_Holy_Apostles-Athens_Attica.html#REVIEWS',\n",
       " 'https://www.tripadvisor.com/Attraction_Review-g189400-d10162167-Reviews-Alsos_Neas_Smirnis_Park-Athens_Attica.html',\n",
       " 'https://www.tripadvisor.com/Attraction_Review-g189400-d13354690-Reviews-Greek_Puppet_Theatre-Athens_Attica.html#REVIEWS',\n",
       " 'https://www.tripadvisor.com/Attraction_Review-g189400-d2389801-Reviews-Benaki_Museum_of_Islamic_Art-Athens_Attica.html',\n",
       " 'https://www.tripadvisor.com/Attraction_Review-g189400-d8091215-Reviews-Dromeas-Athens_Attica.html',\n",
       " 'https://www.tripadvisor.com/Attraction_Review-g189400-d9595587-Reviews-Agia_Paraskevi_Church-Athens_Attica.html',\n",
       " 'https://www.tripadvisor.com/Attraction_Review-g189400-d14040752-Reviews-Dynamo-Athens_Attica.html',\n",
       " 'https://www.tripadvisor.com/Attraction_Review-g189400-d13216175-Reviews-Oasa-Athens_Attica.html#REVIEWS',\n",
       " 'https://www.tripadvisor.com/Attraction_Review-g189400-d10796140-Reviews-Church_of_St_Mary_Pantanassa-Athens_Attica.html#REVIEWS',\n",
       " 'https://www.tripadvisor.com/Attraction_Review-g189400-d198762-Reviews-Adrianou_Street-Athens_Attica.html',\n",
       " 'https://www.tripadvisor.com/Attraction_Review-g189400-d241084-Reviews-Beach_Club_Alimos-Athens_Attica.html',\n",
       " 'https://www.tripadvisor.com/Attraction_Review-g189400-d531636-Reviews-Deste_Foundation_Centre_For_Contemporary_Art-Athens_Attica.html',\n",
       " 'https://www.tripadvisor.com/Attraction_Review-g189400-d13385654-Reviews-Epigraphical_Museum-Athens_Attica.html',\n",
       " 'https://www.tripadvisor.com/Attraction_Review-g189400-d17338907-Reviews-Fokianos_Sports_Park-Athens_Attica.html',\n",
       " 'https://www.tripadvisor.com/Attraction_Review-g189400-d9829572-Reviews-Theatro_Chytirio-Athens_Attica.html#REVIEWS',\n",
       " 'https://www.tripadvisor.com/Attraction_Review-g189400-d198948-Reviews-Avysinias_Square-Athens_Attica.html',\n",
       " 'https://www.tripadvisor.com/Attraction_Review-g189400-d11804223-Reviews-Agioi_Theodoroi_Church-Athens_Attica.html',\n",
       " 'https://www.tripadvisor.com/Attraction_Review-g189400-d6778518-Reviews-Cava_Canava_Winery-Athens_Attica.html',\n",
       " 'https://www.tripadvisor.com/Attraction_Review-g189400-d3314169-Reviews-ASFA_Library-Athens_Attica.html',\n",
       " 'https://www.tripadvisor.com/Attraction_Review-g189400-d3672133-Reviews-Museum_of_Engravings_and_Graphic_Arts-Athens_Attica.html',\n",
       " 'https://www.tripadvisor.com/Attraction_Review-g189400-d16726031-Reviews-Agalma_Harry_Trouman-Athens_Attica.html',\n",
       " 'https://www.tripadvisor.com/Attraction_Review-g189400-d19798708-Reviews-Altar_of_Zeus_Agoraios-Athens_Attica.html#REVIEWS',\n",
       " 'https://www.tripadvisor.com/Attraction_Review-g189400-d8517802-Reviews-The_Bathhouse_of_the_Winds-Athens_Attica.html#REVIEWS',\n",
       " 'https://www.tripadvisor.com/Attraction_Review-g189400-d198776-Reviews-Kolonaki_Square-Athens_Attica.html',\n",
       " 'https://www.tripadvisor.com/Attraction_Review-g189400-d12423166-Reviews-Presidential_Mansion-Athens_Attica.html',\n",
       " 'https://www.tripadvisor.com/Attraction_Review-g189400-d13437134-Reviews-Memorial_Site_1941_1944-Athens_Attica.html#REVIEWS',\n",
       " 'https://www.tripadvisor.com/Attraction_Review-g189400-d17759991-Reviews-Epikera_Bookshop-Athens_Attica.html',\n",
       " 'https://www.tripadvisor.com/Attraction_Review-g189400-d242841-Reviews-Roman_Agora-Athens_Attica.html',\n",
       " 'https://www.tripadvisor.com/Attraction_Review-g189400-d10813849-Reviews-National_Museum_of_Contemporary_Art-Athens_Attica.html#REVIEWS',\n",
       " 'https://www.tripadvisor.com/Attraction_Review-g189400-d242844-Reviews-Temple_of_Olympian_Zeus-Athens_Attica.html',\n",
       " 'https://www.tripadvisor.com/Attraction_Review-g189400-d198754-Reviews-Stoa_of_Attalos-Athens_Attica.html',\n",
       " 'https://www.tripadvisor.com/Attraction_Review-g189400-d10494284-Reviews-National_Theatre_of_Greece-Athens_Attica.html',\n",
       " 'https://www.tripadvisor.com/Attraction_Review-g189400-d13002047-Reviews-Ancient_Bath-Athens_Attica.html',\n",
       " 'https://www.tripadvisor.com/Attraction_Review-g189400-d19822754-Reviews-Luminous_Eye-Athens_Attica.html',\n",
       " 'https://www.tripadvisor.com/Attraction_Review-g189400-d7113512-Reviews-Kipotheatro_Papagou-Athens_Attica.html',\n",
       " 'https://www.tripadvisor.com/Attraction_Review-g189400-d2686913-Reviews-Hellenic_Folklore_Research_Centre-Athens_Attica.html',\n",
       " 'https://www.tripadvisor.com/Attraction_Review-g189400-d11677665-Reviews-Agios_Pavlos_Church-Athens_Attica.html#REVIEWS',\n",
       " 'https://www.tripadvisor.com/Attraction_Review-g189400-d198946-Reviews-Philomousou_Etairias_Square-Athens_Attica.html',\n",
       " 'https://www.tripadvisor.com/Attraction_Review-g189400-d12314523-Reviews-Vault_Theatre_Plus-Athens_Attica.html',\n",
       " 'https://www.tripadvisor.com/Attraction_Review-g189400-d1419998-Reviews-Technopolis_City_of_Athens-Athens_Attica.html',\n",
       " 'https://www.tripadvisor.com/Attraction_Review-g189400-d18186550-Reviews-Monastraki_Flea_Market-Athens_Attica.html#REVIEWS',\n",
       " 'https://www.tripadvisor.com/Attraction_Review-g189400-d3673470-Reviews-Maria_Callas_Museum-Athens_Attica.html',\n",
       " 'https://www.tripadvisor.com/Attraction_Review-g189400-d16726044-Reviews-Platia_Themistokleous-Athens_Attica.html#REVIEWS',\n",
       " 'https://www.tripadvisor.com/Attraction_Review-g189400-d8616472-Reviews-CAN_Christina_Androulidaki_Gallery-Athens_Attica.html',\n",
       " 'https://www.tripadvisor.com/Attraction_Review-g189400-d2662538-Reviews-Museum_Herakleidon-Athens_Attica.html',\n",
       " 'https://www.tripadvisor.com/Attraction_Review-g189400-d17664794-Reviews-Mavili_Beach-Athens_Attica.html',\n",
       " 'https://www.tripadvisor.com/Attraction_Review-g189400-d15235071-Reviews-Theater_Ilisia-Athens_Attica.html',\n",
       " 'https://www.tripadvisor.com/Attraction_Review-g189400-d3572490-Reviews-Ioannidou_Art_Gallery-Athens_Attica.html',\n",
       " 'https://www.tripadvisor.com/Attraction_Review-g189400-d19798708-Reviews-Altar_of_Zeus_Agoraios-Athens_Attica.html',\n",
       " 'https://www.tripadvisor.com/Attraction_Review-g189400-d2389801-Reviews-Benaki_Museum_of_Islamic_Art-Athens_Attica.html#REVIEWS',\n",
       " 'https://www.tripadvisor.com/Attraction_Review-g189400-d11911504-Reviews-Theatre_Odou_Kykladon_Lefteris_Vogiatzis-Athens_Attica.html',\n",
       " 'https://www.tripadvisor.com/Attraction_Review-g189400-d13864712-Reviews-Theotokis_Oldmarket-Athens_Attica.html',\n",
       " 'https://www.tripadvisor.com/Attraction_Review-g189400-d7702554-Reviews-Microlimano-Athens_Attica.html#REVIEWS',\n",
       " 'https://www.tripadvisor.com/Attraction_Review-g189400-d2329800-Reviews-Olympic_Athletic_Center_of_Athens_O_A_K_A_Spiros_Louis-Athens_Attica.html#REVIEWS',\n",
       " 'https://www.tripadvisor.com/Attraction_Review-g189400-d1674838-Reviews-Cultural_Centre_Hellenic_Cosmos-Athens_Attica.html',\n",
       " 'https://www.tripadvisor.com/Attraction_Review-g189400-d3672384-Reviews-Benaki_Museum-Athens_Attica.html#REVIEWS',\n",
       " 'https://www.tripadvisor.com/Attraction_Review-g189400-d15324794-Reviews-Armenian_Orthodox_Cathedral-Athens_Attica.html#REVIEWS',\n",
       " 'https://www.tripadvisor.com/Attraction_Review-g189400-d10150949-Reviews-Melina_Mercouri_Foundation-Athens_Attica.html',\n",
       " 'https://www.tripadvisor.com/Attraction_Review-g189400-d7734309-Reviews-Church_of_St_Panteleimon-Athens_Attica.html',\n",
       " 'https://www.tripadvisor.com/Attraction_Review-g189400-d5996765-Reviews-Geo_Routes_Cultural_Heritage_Journeys_Institute-Athens_Attica.html',\n",
       " 'https://www.tripadvisor.com/Attraction_Review-g189400-d10786929-Reviews-Saint_Nicholas_Pefkakia-Athens_Attica.html#REVIEWS',\n",
       " 'https://www.tripadvisor.com/Attraction_Review-g189400-d9829572-Reviews-Theatro_Chytirio-Athens_Attica.html',\n",
       " 'https://www.tripadvisor.com/Attraction_Review-g189400-d11864168-Reviews-Noctua_Brewery_Athens-Athens_Attica.html',\n",
       " 'https://www.tripadvisor.com/Attraction_Review-g189400-d2432301-Reviews-Kotzia_Square-Athens_Attica.html',\n",
       " 'https://www.tripadvisor.com/Attraction_Review-g189400-d7076931-Reviews-Regency_CASINO_Mont_Parnes-Athens_Attica.html',\n",
       " 'https://www.tripadvisor.com/Attraction_Review-g189400-d10206408-Reviews-Philopappos_Monument-Athens_Attica.html',\n",
       " 'https://www.tripadvisor.com/Attraction_Review-g189400-d242820-Reviews-Arch_of_Hadrian_Pili_tou_Adrianou-Athens_Attica.html#REVIEWS',\n",
       " 'https://www.tripadvisor.com/Attraction_Review-g189400-d15324794-Reviews-Armenian_Orthodox_Cathedral-Athens_Attica.html',\n",
       " 'https://www.tripadvisor.com/Attraction_Review-g189400-d19645188-Reviews-Greek_National_Opera-Athens_Attica.html#REVIEWS',\n",
       " 'https://www.tripadvisor.com/Attraction_Review-g189400-d10336669-Reviews-Lycabettus_Funicular-Athens_Attica.html#REVIEWS',\n",
       " 'https://www.tripadvisor.com/Attraction_Review-g189400-d245989-Reviews-Mount_Lycabettus-Athens_Attica.html',\n",
       " 'https://www.tripadvisor.com/Attraction_Review-g189400-d16726220-Reviews-Platia_Eksarchion-Athens_Attica.html#REVIEWS',\n",
       " 'https://www.tripadvisor.com/Attraction_Review-g189400-d7257986-Reviews-Greek_Gastronomy_Museum-Athens_Attica.html',\n",
       " 'https://www.tripadvisor.com/Attraction_Review-g189400-d3673462-Reviews-Museum_of_Greek_Scouting-Athens_Attica.html',\n",
       " 'https://www.tripadvisor.com/Attraction_Review-g189400-d17519213-Reviews-Koilon_Theatre-Athens_Attica.html',\n",
       " 'https://www.tripadvisor.com/Attraction_Review-g189400-d15076273-Reviews-Keramikos_Archaeological_Site-Athens_Attica.html',\n",
       " 'https://www.tripadvisor.com/Attraction_Review-g189400-d267751-Reviews-Ermou_Street-Athens_Attica.html',\n",
       " 'https://www.tripadvisor.com/Attraction_Review-g189400-d524626-Reviews-Metropolitan_Cathedral_of_Athens-Athens_Attica.html',\n",
       " 'https://www.tripadvisor.com/Attraction_Review-g189400-d13437134-Reviews-Memorial_Site_1941_1944-Athens_Attica.html',\n",
       " 'https://www.tripadvisor.com/Attraction_Review-g189400-d245993-Reviews-Tomb_of_the_Unknown_Soldier-Athens_Attica.html',\n",
       " 'https://www.tripadvisor.com/Attraction_Review-g189400-d17535736-Reviews-Proto_Nekrotafio_Athinon-Athens_Attica.html',\n",
       " 'https://www.tripadvisor.com/Attraction_Review-g189400-d12654175-Reviews-The_Holocaust_Memorial-Athens_Attica.html',\n",
       " 'https://www.tripadvisor.com/Attraction_Review-g189400-d241083-Reviews-Theater_of_Dionysus-Athens_Attica.html',\n",
       " 'https://www.tripadvisor.com/Attraction_Review-g189400-d8115426-Reviews-Technohoros_Art_Gallery-Athens_Attica.html',\n",
       " 'https://www.tripadvisor.com/Attraction_Review-g189400-d6637927-Reviews-Kilo_Shop_Greece-Athens_Attica.html',\n",
       " 'https://www.tripadvisor.com/Attraction_Review-g189400-d7225242-Reviews-Sygchrono_Theatre-Athens_Attica.html',\n",
       " 'https://www.tripadvisor.com/Attraction_Review-g189400-d3672330-Reviews-Museum_of_the_Center_for_the_Acropolis_Studies-Athens_Attica.html',\n",
       " 'https://www.tripadvisor.com/Attraction_Review-g189400-d534539-Reviews-The_Sanctuary_of_Artemis-Athens_Attica.html',\n",
       " 'https://www.tripadvisor.com/Attraction_Review-g189400-d16726257-Reviews-Platia_Eleftherias_Koumoundourou-Athens_Attica.html',\n",
       " 'https://www.tripadvisor.com/Attraction_Review-g189400-d242830-Reviews-Numismatic_Museum-Athens_Attica.html#REVIEWS',\n",
       " 'https://www.tripadvisor.com/Attraction_Review-g189400-d241089-Reviews-Ilias_Lalaounis_Jewelry_Museum-Athens_Attica.html',\n",
       " 'https://www.tripadvisor.com/Attraction_Review-g189400-d10796140-Reviews-Church_of_St_Mary_Pantanassa-Athens_Attica.html',\n",
       " 'https://www.tripadvisor.com/Attraction_Review-g189400-d10786929-Reviews-Saint_Nicholas_Pefkakia-Athens_Attica.html',\n",
       " 'https://www.tripadvisor.com/Attraction_Review-g189400-d10336639-Reviews-Ekklisia_Agios_Nikolaos_Ragkava-Athens_Attica.html',\n",
       " 'https://www.tripadvisor.com/Attraction_Review-g189400-d2693885-Reviews-Allou_Fun_Park-Athens_Attica.html',\n",
       " 'https://www.tripadvisor.com/Attraction_Review-g189400-d242815-Reviews-Byzantine_and_Christian_Museum-Athens_Attica.html',\n",
       " 'https://www.tripadvisor.com/Attraction_Review-g189400-d242840-Reviews-Herod_Atticus_Odeon-Athens_Attica.html',\n",
       " 'https://www.tripadvisor.com/Attraction_Review-g189400-d17535859-Reviews-Mousio_Zoologias_Panepistimiou_Athinon-Athens_Attica.html#REVIEWS',\n",
       " 'https://www.tripadvisor.com/Attraction_Review-g189400-d246658-Reviews-National_Garden-Athens_Attica.html',\n",
       " 'https://www.tripadvisor.com/Attraction_Review-g189400-d2686907-Reviews-National_Bank_of_Greece_Historical_Archive-Athens_Attica.html',\n",
       " 'https://www.tripadvisor.com/Attraction_Review-g189400-d13372472-Reviews-A_Antonopoulou_Art-Athens_Attica.html',\n",
       " 'https://www.tripadvisor.com/Attraction_Review-g189400-d12919607-Reviews-KTEL_Attikis-Athens_Attica.html',\n",
       " 'https://www.tripadvisor.com/Attraction_Review-g189400-d17802253-Reviews-Art_10_Gallery-Athens_Attica.html',\n",
       " 'https://www.tripadvisor.com/Attraction_Review-g189400-d10333720-Reviews-Mansion_Benizelou-Athens_Attica.html',\n",
       " 'https://www.tripadvisor.com/Attraction_Review-g189400-d3223474-Reviews-National_Library_of_Greece-Athens_Attica.html',\n",
       " 'https://www.tripadvisor.com/Attraction_Review-g189400-d7225242-Reviews-Sygchrono_Theatre-Athens_Attica.html#REVIEWS',\n",
       " 'https://www.tripadvisor.com/Attraction_Review-g189400-d12567543-Reviews-Sofokli_Art_Gallery-Athens_Attica.html',\n",
       " 'https://www.tripadvisor.com/Attraction_Review-g189400-d198713-Reviews-National_Archaeological_Museum-Athens_Attica.html',\n",
       " 'https://www.tripadvisor.com/Attraction_Review-g189400-d6073192-Reviews-Agia_Irini_Church-Athens_Attica.html',\n",
       " 'https://www.tripadvisor.com/Attraction_Review-g189400-d6855913-Reviews-Athens_Art_Gallery-Athens_Attica.html',\n",
       " 'https://www.tripadvisor.com/Attraction_Review-g189400-d6988081-Reviews-Propylaea-Athens_Attica.html',\n",
       " 'https://www.tripadvisor.com/Attraction_Review-g189400-d2662543-Reviews-Exile_Museum-Athens_Attica.html#REVIEWS',\n",
       " 'https://www.tripadvisor.com/Attraction_Review-g189400-d17175099-Reviews-MyathensTAXI_airport_transfers-Athens_Attica.html',\n",
       " 'https://www.tripadvisor.com/Attraction_Review-g189400-d566831-Reviews-Spathario_Museum_of_Shadow_Theatre-Athens_Attica.html',\n",
       " 'https://www.tripadvisor.com/Attraction_Review-g189400-d265865-Reviews-Monastiraki-Athens_Attica.html',\n",
       " 'https://www.tripadvisor.com/Attraction_Review-g189400-d12706357-Reviews-Laiki_Farmer_s_Market-Athens_Attica.html',\n",
       " 'https://www.tripadvisor.com/Attraction_Review-g189400-d242825-Reviews-Museum_of_Greek_Folk_Musical_Instruments-Athens_Attica.html#REVIEWS',\n",
       " 'https://www.tripadvisor.com/Attraction_Review-g189400-d10413629-Reviews-Ekklisia_Agia_Dinami-Athens_Attica.html',\n",
       " 'https://www.tripadvisor.com/Attraction_Review-g189400-d3673647-Reviews-Centre_of_Folk_Art_and_Tradition-Athens_Attica.html',\n",
       " 'https://www.tripadvisor.com/Attraction_Review-g189400-d13800034-Reviews-Church_of_Apostle_Philippe-Athens_Attica.html',\n",
       " 'https://www.tripadvisor.com/Attraction_Review-g189400-d10813849-Reviews-National_Museum_of_Contemporary_Art-Athens_Attica.html',\n",
       " 'https://www.tripadvisor.com/Attraction_Review-g189400-d1419998-Reviews-Technopolis_City_of_Athens-Athens_Attica.html#REVIEWS',\n",
       " 'https://www.tripadvisor.com/Attraction_Review-g189400-d198755-Reviews-Metroon-Athens_Attica.html',\n",
       " 'https://www.tripadvisor.com/Attraction_Review-g189400-d7702554-Reviews-Microlimano-Athens_Attica.html',\n",
       " 'https://www.tripadvisor.com/Attraction_Review-g189400-d7082491-Reviews-Garden_of_Iroon-Athens_Attica.html',\n",
       " 'https://www.tripadvisor.com/Attraction_Review-g189400-d735521-Reviews-Acropolis_Museum-Athens_Attica.html',\n",
       " 'https://www.tripadvisor.com/Attraction_Review-g189400-d12064219-Reviews-Piraeus_117_Academy-Athens_Attica.html',\n",
       " 'https://www.tripadvisor.com/Attraction_Review-g189400-d4954945-Reviews-CAMP_Contemporary_Art_Meeting_Point-Athens_Attica.html',\n",
       " 'https://www.tripadvisor.com/Attraction_Review-g189400-d566836-Reviews-National_and_Kapodistrian_University_of_Athens-Athens_Attica.html',\n",
       " 'https://www.tripadvisor.com/Attraction_Review-g189400-d644890-Reviews-Pnyx-Athens_Attica.html',\n",
       " 'https://www.tripadvisor.com/Attraction_Review-g189400-d245992-Reviews-Plateia_Syntagmatos-Athens_Attica.html',\n",
       " 'https://www.tripadvisor.com/Attraction_Review-g189400-d9807410-Reviews-Sofita_Vintage_Shop-Athens_Attica.html',\n",
       " 'https://www.tripadvisor.com/Attraction_Review-g189400-d16813317-Reviews-Statue_of_Damaskinos_Papandreou-Athens_Attica.html',\n",
       " 'https://www.tripadvisor.com/Attraction_Review-g189400-d6684136-Reviews-Amorgos_Antique_Store-Athens_Attica.html',\n",
       " 'https://www.tripadvisor.com/Attraction_Review-g189400-d2587472-Reviews-Greek_Reptile_Centre-Athens_Attica.html',\n",
       " 'https://www.tripadvisor.com/Attraction_Review-g189400-d17584289-Reviews-Dimitra_Daskalou-Athens_Attica.html',\n",
       " 'https://www.tripadvisor.com/Attraction_Review-g189400-d16678206-Reviews-Theater_Katerina_Vassilakou-Athens_Attica.html#REVIEWS',\n",
       " 'https://www.tripadvisor.com/Attraction_Review-g189400-d7113512-Reviews-Kipotheatro_Papagou-Athens_Attica.html#REVIEWS',\n",
       " 'https://www.tripadvisor.com/Attraction_Review-g189400-d198763-Reviews-Chapel_of_St_George-Athens_Attica.html',\n",
       " 'https://www.tripadvisor.com/Attraction_Review-g189400-d12176314-Reviews-Genniseos_Christou_Christokopidou_Church-Athens_Attica.html',\n",
       " 'https://www.tripadvisor.com/Attraction_Review-g189400-d13748274-Reviews-Apo_Koinou-Athens_Attica.html',\n",
       " 'https://www.tripadvisor.com/Attraction_Review-g189400-d13127423-Reviews-Memorial_of_National_Reconciliation-Athens_Attica.html',\n",
       " 'https://www.tripadvisor.com/Attraction_Review-g189400-d12803388-Reviews-Lake_Beletsi-Athens_Attica.html',\n",
       " 'https://www.tripadvisor.com/Attraction_Review-g189400-d15294350-Reviews-The_Meet_Market-Athens_Attica.html',\n",
       " 'https://www.tripadvisor.com/Attraction_Review-g189400-d2686910-Reviews-Institute_of_Hellenic_Mills-Athens_Attica.html',\n",
       " 'https://www.tripadvisor.com/Attraction_Review-g189400-d198780-Reviews-Gazi-Athens_Attica.html#REVIEWS',\n",
       " 'https://www.tripadvisor.com/Attraction_Review-g189400-d19896549-Reviews-Rodios_Antiques-Athens_Attica.html',\n",
       " 'https://www.tripadvisor.com/Attraction_Review-g189400-d198994-Reviews-Antiqua-Athens_Attica.html',\n",
       " 'https://www.tripadvisor.com/Attraction_Review-g189400-d277449-Reviews-Plaka-Athens_Attica.html',\n",
       " 'https://www.tripadvisor.com/Attraction_Review-g189400-d198709-Reviews-Ancient_Agora_of_Athens-Athens_Attica.html',\n",
       " 'https://www.tripadvisor.com/Attraction_Review-g189400-d504746-Reviews-Pireos_Street-Athens_Attica.html',\n",
       " 'https://www.tripadvisor.com/Attraction_Review-g189400-d2687999-Reviews-Institute_for_Research_on_Music_and_Acoustics-Athens_Attica.html',\n",
       " 'https://www.tripadvisor.com/Attraction_Review-g189400-d566808-Reviews-Central_Market-Athens_Attica.html',\n",
       " 'https://www.tripadvisor.com/Attraction_Review-g189400-d8614639-Reviews-Church_of_Agios_Nikolaos-Athens_Attica.html',\n",
       " 'https://www.tripadvisor.com/Attraction_Review-g189400-d8385886-Reviews-Fethiye_Mosque-Athens_Attica.html',\n",
       " 'https://www.tripadvisor.com/Attraction_Review-g189400-d15341456-Reviews-Athens_Railway_Museum-Athens_Attica.html#REVIEWS',\n",
       " 'https://www.tripadvisor.com/Attraction_Review-g189400-d3672321-Reviews-Pontian_Hellenism_History_and_Folk_Museum-Athens_Attica.html',\n",
       " 'https://www.tripadvisor.com/Attraction_Review-g189400-d10100347-Reviews-St_Marina_Church-Athens_Attica.html#REVIEWS',\n",
       " 'https://www.tripadvisor.com/Attraction_Review-g189400-d3672094-Reviews-Museum_of_the_Ancient_Agora-Athens_Attica.html',\n",
       " 'https://www.tripadvisor.com/Attraction_Review-g189400-d11800627-Reviews-Digital_Museum_Plato-Athens_Attica.html',\n",
       " 'https://www.tripadvisor.com/Attraction_Review-g189400-d8820343-Reviews-Rockwave_Festival-Athens_Attica.html',\n",
       " 'https://www.tripadvisor.com/Attraction_Review-g189400-d2587476-Reviews-Hellenic_Children_s_Museum-Athens_Attica.html',\n",
       " 'https://www.tripadvisor.com/Attraction_Review-g189400-d16726044-Reviews-Platia_Themistokleous-Athens_Attica.html',\n",
       " 'https://www.tripadvisor.com/Attraction_Review-g189400-d566828-Reviews-National_History_Museum_Old_Parliament-Athens_Attica.html',\n",
       " 'https://www.tripadvisor.com/Attraction_Review-g189400-d14209938-Reviews-Attiko_Alsos-Athens_Attica.html',\n",
       " 'https://www.tripadvisor.com/Attraction_Review-g189400-d3635765-Reviews-The_Tomb_of_Heinrich_Schliemann_First_Cemetry-Athens_Attica.html',\n",
       " 'https://www.tripadvisor.com/Attraction_Review-g189400-d8426708-Reviews-First_Cemetery_of_Athens-Athens_Attica.html',\n",
       " 'https://www.tripadvisor.com/Attraction_Review-g189400-d12993937-Reviews-Artshot_Gallery-Athens_Attica.html',\n",
       " 'https://www.tripadvisor.com/Attraction_Review-g189400-d12803388-Reviews-Lake_Beletsi-Athens_Attica.html#REVIEWS',\n",
       " 'https://www.tripadvisor.com/Attraction_Review-g189400-d3672109-Reviews-Museum_of_Eleftherios_Venizelos-Athens_Attica.html',\n",
       " 'https://www.tripadvisor.com/Attraction_Review-g189400-d11800627-Reviews-Digital_Museum_Plato-Athens_Attica.html#REVIEWS',\n",
       " 'https://www.tripadvisor.com/Attraction_Review-g189400-d8016917-Reviews-Pinakothiki_Nikos_Hadjikyriakos_Ghikas-Athens_Attica.html',\n",
       " 'https://www.tripadvisor.com/Attraction_Review-g189400-d1418619-Reviews-Capsis_Cultural_Exhibition_Conference_Center-Athens_Attica.html',\n",
       " 'https://www.tripadvisor.com/Attraction_Review-g189400-d523835-Reviews-Philopappos_Hill-Athens_Attica.html',\n",
       " 'https://www.tripadvisor.com/Attraction_Review-g189400-d3695351-Reviews-Sotira_Lykodimou_Church_Russian_Church-Athens_Attica.html',\n",
       " 'https://www.tripadvisor.com/Attraction_Review-g189400-d16726246-Reviews-Agalma_Agonisti_Alekou_Panagouli-Athens_Attica.html',\n",
       " 'https://www.tripadvisor.com/Attraction_Review-g189400-d3572034-Reviews-Frissiras_Museum-Athens_Attica.html',\n",
       " 'https://www.tripadvisor.com/Attraction_Review-g189400-d4298157-Reviews-Museum_of_Mineralogy_and_Petrology-Athens_Attica.html',\n",
       " 'https://www.tripadvisor.com/Attraction_Review-g189400-d12289883-Reviews-The_Artist_Yanni_Souvatzoglou-Athens_Attica.html',\n",
       " 'https://www.tripadvisor.com/Attraction_Review-g189400-d3331014-Reviews-Eugenides_Foundation_Library-Athens_Attica.html',\n",
       " 'https://www.tripadvisor.com/Attraction_Review-g189400-d198780-Reviews-Gazi-Athens_Attica.html',\n",
       " 'https://www.tripadvisor.com/Attraction_Review-g189400-d3672353-Reviews-MOMus_Museum_Alex_Mylona-Athens_Attica.html',\n",
       " 'https://www.tripadvisor.com/Attraction_Review-g189400-d242834-Reviews-The_Jewish_Museum_of_Greece-Athens_Attica.html',\n",
       " 'https://www.tripadvisor.com/Attraction_Review-g189400-d198707-Reviews-Hellenic_Parliament-Athens_Attica.html#REVIEWS',\n",
       " 'https://www.tripadvisor.com/Attraction_Review-g189400-d10082597-Reviews-Penya_Barcelonista_d_Atenes-Athens_Attica.html',\n",
       " 'https://www.tripadvisor.com/Attraction_Review-g189400-d16678206-Reviews-Theater_Katerina_Vassilakou-Athens_Attica.html']"
      ]
     },
     "execution_count": 70,
     "metadata": {},
     "output_type": "execute_result"
    }
   ],
   "source": [
    "fixed_links"
   ]
  },
  {
   "cell_type": "code",
   "execution_count": 74,
   "metadata": {},
   "outputs": [],
   "source": [
    "df = pd.DataFrame(fixed_links)"
   ]
  },
  {
   "cell_type": "code",
   "execution_count": 75,
   "metadata": {},
   "outputs": [],
   "source": [
    "df.to_pickle('athens_links.pkl')"
   ]
  },
  {
   "cell_type": "code",
   "execution_count": 81,
   "metadata": {},
   "outputs": [],
   "source": [
    "#convert dataframe to list, remember to call on column(0)\n",
    "athens_links = df[0].tolist()"
   ]
  },
  {
   "cell_type": "code",
   "execution_count": null,
   "metadata": {},
   "outputs": [],
   "source": []
  },
  {
   "cell_type": "markdown",
   "metadata": {},
   "source": [
    "# Get Info From Attractions"
   ]
  },
  {
   "cell_type": "code",
   "execution_count": 84,
   "metadata": {},
   "outputs": [
    {
     "data": {
      "text/plain": [
       "'https://www.tripadvisor.com/Attraction_Review-g189400-d12642863-Reviews-Gate_of_Medrese-Athens_Attica.html'"
      ]
     },
     "execution_count": 84,
     "metadata": {},
     "output_type": "execute_result"
    }
   ],
   "source": [
    "athens_links[0]"
   ]
  },
  {
   "cell_type": "code",
   "execution_count": 85,
   "metadata": {},
   "outputs": [],
   "source": [
    "driver.get(athens_links[0])"
   ]
  },
  {
   "cell_type": "code",
   "execution_count": 86,
   "metadata": {},
   "outputs": [
    {
     "data": {
      "text/plain": [
       "'Gate of Medrese'"
      ]
     },
     "execution_count": 86,
     "metadata": {},
     "output_type": "execute_result"
    }
   ],
   "source": [
    "driver.find_element_by_xpath('//*[@id=\"HEADING\"]').text"
   ]
  },
  {
   "cell_type": "code",
   "execution_count": 88,
   "metadata": {},
   "outputs": [],
   "source": [
    "def find_name(driver):\n",
    "    return driver.find_element_by_xpath('//*[@id=\"HEADING\"]').text\n",
    "\n",
    "def find_no_things_to_do(driver):\n",
    "    return driver.find_element_by_xpath('//*[@id=\"taplc_resp_attraction_header_ar_responsive_0\"]/div/div[1]/div/div[2]/div/span').text\n",
    "\n",
    "#Find sights and landmarks\n",
    "def find_sights_landmarks(driver):\n",
    "    return driver.find_element_by_xpath('//*[@id=\"taplc_resp_attraction_header_ar_responsive_0\"]/div/div[1]/div/span').text\n",
    "\n",
    "# Find Address\n",
    "def find_address(driver):\n",
    "    return driver.find_element_by_xpath('//*[@id=\"taplc_resp_attraction_header_ar_responsive_0\"]/div/div[2]/div/div[1]/div/div').text\n",
    "\n",
    "\n",
    "#Find summary overview\n",
    "def find_summary_overview(driver):\n",
    "    return driver.find_element_by_xpath('//*[@id=\"taplc_location_detail_reviews_card_0\"]/div[2]/span').text\n",
    "\n",
    "#Find number of reviews\n",
    "def number_of_reviews(driver):\n",
    "    return driver.find_element_by_xpath('//*[@id=\"taplc_location_detail_reviews_card_0\"]/div[2]/a[2]').text\n",
    "\n",
    "#Find About\n",
    "def about_box(driver):\n",
    "    return driver.find_element_by_xpath('//*[@id=\"taplc_location_detail_overview_resp_ar_responsive_0\"]/div/div/div[2]').text\n",
    "\n",
    "#Find The Popular Mentions in comments\n",
    "def popular_mentions(driver):\n",
    "    return driver.find_element_by_xpath('//*[@id=\"taplc_detail_filters_ar_responsive_0\"]/div/div[2]/div[3]/div').text.split('\\n')\n",
    "\n",
    "#Find 10 Most recent comments \n",
    "def comments(driver):\n",
    "    return driver.find_element_by_xpath('//*[@id=\"taplc_location_reviews_list_resp_ar_responsive_0\"]/div').text\n",
    "\n",
    "# def reviews(driver):\n",
    "#     return "
   ]
  },
  {
   "cell_type": "code",
   "execution_count": 89,
   "metadata": {},
   "outputs": [
    {
     "data": {
      "text/plain": [
       "'Gate of Medrese'"
      ]
     },
     "execution_count": 89,
     "metadata": {},
     "output_type": "execute_result"
    }
   ],
   "source": [
    "find_name(driver)"
   ]
  },
  {
   "cell_type": "code",
   "execution_count": null,
   "metadata": {},
   "outputs": [],
   "source": []
  },
  {
   "cell_type": "markdown",
   "metadata": {},
   "source": [
    "### Testing Selenium"
   ]
  },
  {
   "cell_type": "code",
   "execution_count": 90,
   "metadata": {},
   "outputs": [],
   "source": [
    "attractions= []"
   ]
  },
  {
   "cell_type": "code",
   "execution_count": 91,
   "metadata": {},
   "outputs": [],
   "source": [
    "attraction_features = {}\n",
    "# add to dictionary\n",
    "try:\n",
    "    attraction_features['name'] = find_name(driver)\n",
    "except:\n",
    "    attraction_features['name'] = None\n",
    "\n",
    "# add to dictionary\n",
    "try:\n",
    "    attraction_features['no_things_to_do'] = find_no_things_to_do(driver)\n",
    "except:\n",
    "    attraction_features['no_things_to_do'] = None\n",
    "\n",
    "# add to dictionary\n",
    "try:\n",
    "    attraction_features['sights_landmarks'] = find_sights_landmarks(driver)\n",
    "except:\n",
    "    attraction_features['sights_landmarks'] = None\n",
    "\n",
    "# add to dictionary\n",
    "try:\n",
    "    attraction_features['address'] = find_address(driver)\n",
    "except:\n",
    "    attraction_features['address'] = None\n",
    "\n",
    "# add to dictionary\n",
    "try:\n",
    "    attraction_features['summary_overview'] = find_summary_overview(driver)\n",
    "except:\n",
    "    attraction_features['summary_overview'] = None\n",
    "\n",
    "# add to dictionary\n",
    "try:\n",
    "    attraction_features['num_reviews'] = number_of_reviews(driver)\n",
    "except:\n",
    "    attraction_features['num_reviews'] = None\n",
    "\n",
    "# add to dictionary\n",
    "try:\n",
    "    attraction_features['about'] = about_box(driver)\n",
    "except:\n",
    "    attraction_features['about'] = None\n",
    "\n",
    "# add to dictionary\n",
    "try:\n",
    "    attraction_features['popular_mentions'] = popular_mentions(driver)\n",
    "except:\n",
    "    attraction_features['popular_mentions'] = None\n",
    "\n",
    "    \n",
    "try:\n",
    "    more_button = driver.find_element_by_class_name('ulBlueLinks')\n",
    "    more_button.click()\n",
    "    \n",
    "except:\n",
    "    pass\n",
    "    \n",
    "# add comments to dictionary\n",
    "driver.implicitly_wait(5)\n",
    "try:\n",
    "    attraction_features['comments'] = comments(driver)\n",
    "except:\n",
    "    attraction_features['comments'] = None\n",
    "\n",
    "    \n",
    "    \n",
    "try:\n",
    "    for i in driver.find_elements_by_class_name('next'):\n",
    "        if i.text=='Next':\n",
    "            next_button = i\n",
    "            next_button.click()\n",
    "            break\n",
    "    \n",
    "#add to list of dictionaries\n",
    "attractions.append(attraction_features)\n",
    "\n",
    "sequence = [x/10 for x in range(10, 15)]\n",
    "time.sleep(random.choice(sequence))"
   ]
  },
  {
   "cell_type": "markdown",
   "metadata": {},
   "source": [
    "## Click More on Comments"
   ]
  },
  {
   "cell_type": "code",
   "execution_count": 93,
   "metadata": {},
   "outputs": [
    {
     "data": {
      "text/plain": [
       "\"SoCalOregonian\\nMurrieta, California\\n3116931\\nReviewed December 28, 2019\\nFORMER MADRASA ENTRY PORTAL\\nThis doorway is all that remains of an Islamic Madrasa from the Ottoman era. It operated in the 1700’s until converted to a prison. By 1915, all that remained was this doorway. This is located outside the Roman Agora across from the Tower of the Winds.\\nShow less\\nDate of experience: December 2019\\nSee all 54 reviews by SoCalOregonian for Athens\\nAsk SoCalOregonian about Gate of Medrese\\nThank SoCalOregonian\\nThis review is the subjective opinion of a TripAdvisor member and not of TripAdvisor LLC.\\n450mikid\\nThe Hague, The Netherlands\\n5113\\nReviewed November 3, 2018\\nvia mobile\\nIt's a door\\nRich history (old ottoman Quran school) For a door It's located next to the Roman Agora Not as shown on this map\\nDate of experience: November 2018\\nThank 450mikid\""
      ]
     },
     "execution_count": 93,
     "metadata": {},
     "output_type": "execute_result"
    }
   ],
   "source": [
    "comments(driver)"
   ]
  },
  {
   "cell_type": "code",
   "execution_count": 92,
   "metadata": {},
   "outputs": [
    {
     "data": {
      "text/plain": [
       "[{'name': 'Gate of Medrese',\n",
       "  'no_things_to_do': '#225 of 319 things to do in Athens',\n",
       "  'sights_landmarks': 'Sights & Landmarks, Points of Interest & Landmarks',\n",
       "  'address': 'Pelopida, Athens 105 55, Greece',\n",
       "  'summary_overview': '3.5',\n",
       "  'num_reviews': '6 reviews',\n",
       "  'about': 'About\\nLOCAL WEATHER\\nPowered by Weather Underground\\nF°C°\\n54°\\n39°\\nFeb\\n58°\\n42°\\nMar\\n65°\\n48°\\nApr',\n",
       "  'popular_mentions': None,\n",
       "  'comments': \"SoCalOregonian\\nMurrieta, California\\n3116931\\nReviewed December 28, 2019\\nFORMER MADRASA ENTRY PORTAL\\nThis doorway is all that remains of an Islamic Madrasa from the Ottoman era. It operated in the 1700’s until converted to a prison. By 1915, all that remained was this doorway. This is located outside the Roman Agora across from the Tower of the...More\\nDate of experience: December 2019\\nThank SoCalOregonian\\n450mikid\\nThe Hague, The Netherlands\\n5113\\nReviewed November 3, 2018\\nvia mobile\\nIt's a door\\nRich history (old ottoman Quran school) For a door It's located next to the Roman Agora Not as shown on this map\\nDate of experience: November 2018\\nThank 450mikid\"}]"
      ]
     },
     "execution_count": 92,
     "metadata": {},
     "output_type": "execute_result"
    }
   ],
   "source": [
    "attractions"
   ]
  },
  {
   "cell_type": "markdown",
   "metadata": {},
   "source": [
    "## Comments "
   ]
  },
  {
   "cell_type": "code",
   "execution_count": 107,
   "metadata": {},
   "outputs": [],
   "source": [
    "more_button = driver.find_element_by_class_name('ulBlueLinks')"
   ]
  },
  {
   "cell_type": "code",
   "execution_count": 108,
   "metadata": {},
   "outputs": [],
   "source": [
    "more_button.click()"
   ]
  },
  {
   "cell_type": "code",
   "execution_count": null,
   "metadata": {},
   "outputs": [],
   "source": [
    "driver.implicitly_wait(10)"
   ]
  },
  {
   "cell_type": "code",
   "execution_count": null,
   "metadata": {},
   "outputs": [],
   "source": []
  },
  {
   "cell_type": "markdown",
   "metadata": {},
   "source": [
    "## Click Next Comments"
   ]
  },
  {
   "cell_type": "code",
   "execution_count": 114,
   "metadata": {},
   "outputs": [],
   "source": [
    "for i in driver.find_elements_by_class_name('next'):\n",
    "    if i.text=='Next':\n",
    "        next_button = i\n",
    "        next_button.click()\n",
    "        break"
   ]
  },
  {
   "cell_type": "code",
   "execution_count": 117,
   "metadata": {},
   "outputs": [],
   "source": []
  },
  {
   "cell_type": "code",
   "execution_count": null,
   "metadata": {},
   "outputs": [],
   "source": [
    "<a data-page-number=\"2\" data-offset=\"10\" class=\"nav next ui_button primary\" onclick=\"widgetEvCall('handlers.paginate', event, this); widgetEvCall('handlers.trackClick', event, this, 'pagination_next', '2');\" href=\"/Attraction_Review-g189400-d198706-Reviews-or10-Acropolis-Athens_Attica.html\">Next</a>"
   ]
  },
  {
   "cell_type": "code",
   "execution_count": null,
   "metadata": {},
   "outputs": [],
   "source": []
  },
  {
   "cell_type": "markdown",
   "metadata": {},
   "source": [
    "## For Loop Comments"
   ]
  },
  {
   "cell_type": "code",
   "execution_count": 118,
   "metadata": {},
   "outputs": [
    {
     "data": {
      "text/plain": [
       "\"11 - 20 of 19,660 reviews\\nmartinedupont1504\\nAntwerp, Belgium\\n1010\\nReviewed 1 week ago\\nBreathtaking history and must see!\\nThis is definitely a must-see. Try to book an archeologist guise in advance. Makes the event so rewarding. However, there are barricades around the major monuments... and lots of cranes due to restoration. It was still an awesome experience to view the Acropolis up close...More\\nDate of experience: October 2019\\n2  Thank martinedupont1504\\nBengt H\\n2\\nReviewed 1 week ago\\nvia mobile\\nFantastic atmosphere\\nThere are several reasons to visit this place. It gives closer details of things most visitors most probably have seen at the Acropolis. The explanation and recommendations of the ornaments of the Parthenon are especially impressive. The opening hours are long and there is a...More\\nDate of experience: January 2020\\nThank Bengt H\\nOggieDee\\nGreat Dunmow, United Kingdom\\n15152\\nReviewed 1 week ago\\nvia mobile\\nIn the foot steps of history!\\nLoved visiting this as had always been on my bucket list and it didn’t disappoint. They are doing lots of renovation so there is scaffolding everywhere. Be aware there is quite a lot of walking and in places its steepish. By the way get the...More\\nDate of experience: January 2020\\n1  Thank OggieDee\\nBlrTravR\\nBengaluru, India\\n74465\\nReviewed 1 week ago\\nvia mobile\\nMajestic\\nThe top attraction of Athens, visible from all parts of the city centre, truly impressive in scale and beauty.\\nDate of experience: January 2020\\nThank BlrTravR\\nIoannis N\\nManchester, United Kingdom\\n16561\\nReviewed 1 week ago\\nvia mobile\\nSteps of giants\\nI visit every time when in Athens. The symbolism is amazing on what humanity can achieve. Better hire a tour guide if you haven't done your homework. The ticket is half price Nov to Mar. Enjoy the walk around the walls and visit the new...More\\nDate of experience: January 2020\\n1  Thank Ioannis N\\nLilli E\\nNorway\\n13033\\nReviewed 1 week ago\\nvia mobile\\nDissapointing\\nThis place was a bit dissapointing. So much rehabilitating on the buildings and actually not all that much to see.\\nDate of experience: August 2019\\nThank Lilli E\\nJerseygirl133\\nFreehold, New Jersey\\n337\\nReviewed 1 week ago\\nvia mobile\\nAn exciting time visiting the past\\nRecently we visited the acropolis in Athens. What a treat! My favorite was we met a lovely lady to give us a private tour of the ancient structure! She filled our minds with history and love stories. A place not to be missed!!! As we...More\\nDate of experience: January 2020\\nThank Jerseygirl133\\nralph1987y\\nNew Orleans, Louisiana\\n173\\nReviewed 1 week ago\\nvia mobile\\nCrazy\\nRome around near this place in Segway.Great history and art around Acropolis. Try getting a tour to guide\\nDate of experience: January 2020\\nThank ralph1987y\\ndichaviajera\\nCornella de Llobregat, Spain\\n499\\nReviewed 1 week ago\\nA must see if you go to Athens. I had the privilege to see the sunrise from there!\\nIf you love Ancient history and art, even when they are still restoring the area and you have to use your imagination really hard (as mostly you will find no sculptures or details), just the feeling of being in such an iconic place and the...More\\nDate of experience: January 2020\\nThank dichaviajera\\nshonrand\\nShenzhen, China\\n4820\\nReviewed 1 week ago\\nvia mobile\\nMust Visit\\nThis place is a must see! What else is there to say? Go visit! We spent a few hours wandering around and learning about the amazing history here. There are good views of Athens in all directions, and of course the various structures themselves are...More\\nDate of experience: January 2020\\nThank shonrand\\nPrevious\\nNext\\n123456…1966\""
      ]
     },
     "execution_count": 118,
     "metadata": {},
     "output_type": "execute_result"
    }
   ],
   "source": [
    "comments(driver)"
   ]
  },
  {
   "cell_type": "code",
   "execution_count": 143,
   "metadata": {},
   "outputs": [],
   "source": [
    "attraction_features['comments']= comments(driver)"
   ]
  },
  {
   "cell_type": "code",
   "execution_count": 127,
   "metadata": {},
   "outputs": [],
   "source": [
    "attraction_features['comments']+=(comments(driver))"
   ]
  },
  {
   "cell_type": "code",
   "execution_count": 130,
   "metadata": {},
   "outputs": [],
   "source": [
    "attraction_features['comments']+=''"
   ]
  },
  {
   "cell_type": "code",
   "execution_count": null,
   "metadata": {},
   "outputs": [],
   "source": []
  },
  {
   "cell_type": "code",
   "execution_count": 144,
   "metadata": {},
   "outputs": [
    {
     "data": {
      "text/plain": [
       "6343"
      ]
     },
     "execution_count": 144,
     "metadata": {},
     "output_type": "execute_result"
    }
   ],
   "source": [
    "len(attraction_features['comments'])"
   ]
  },
  {
   "cell_type": "code",
   "execution_count": 145,
   "metadata": {},
   "outputs": [
    {
     "data": {
      "text/plain": [
       "'41 - 50 of 19,660 reviews\\nHammadi99\\n201\\nReviewed 3 weeks ago\\nvia mobile\\nVisit\\nIt was well organized site , reasonable tickets prices, easy to find and visit , there’s a guide available to whom how need.\\nDate of experience: January 2020\\n1  Thank Hammadi99\\nwb250591\\nCrete, Greece\\n72\\nReviewed 3 weeks ago\\nvia mobile\\nWell what can you say!\\nSimply stunning of course , our first visit and the views and history just fill you with a sense of place and time! Not to be missed\\nDate of experience: January 2020\\nThank wb250591\\nletsgomama\\nSummit, New Jersey\\n9346\\nReviewed 3 weeks ago\\nYou have to do it. And you can. If you are brave. But it is so worth it!\\nI am mobility impaired. I thought the Acropolis would be one of places that would be off limits to me. We were smart enough to book the Viator full day Athens private tour, and our wonderful driver knew exactly where to take me and who to talk to. (There is a discount for disabled people and their one companion.) He took me as close as possible to the chair lift that goes to the elevator. Without that you are looking at what would for me have been an impossible climb up hundreds of rough uneven stone flights of steps. The lift is a platform that slowly ascends up the long stairway. Those stairs are shallow and doable if you can walk at all. When you get to the top of that you then are taken into an industrial cage elevator that ascends the vertical cliff. This elevator is NOT for the faint of heart; in fact I was asked in broken English if I had any heart problems. I am severely claustrophobic but this elevator, being an open gauge cage, did not bother me at all. It takes you in your chair slowly up the face of that cliff and when you roll out, facing the magnificent parthenon, and slowly roll past the 7 maidens of the temple, you will find you cannot catch your breath because of the spectacular scale and beauty before you. Pictures fail, words fail, nothing can prepare you for the spirit and aura of this place. The views are incredible- all of Athens, Lycabettus hill, churches and mosques, the entire Agora, Mars Hill, the far mountains, even the coast on a clear day. It was difficult to navigate up at the top- much of the terrain is very rough even for my sturdy chair. Even where you can navigate the chair, prepare to have your kidneys rattled. But I am so so so grateful to the extremely helpful and encouraging staff, my family, and my knowledgable driver for making this possible for me. It more than exceeded anything I could have imagined.\\nShow less\\nDate of experience: December 2019\\nAsk letsgomama about Acropolis\\n2  Thank letsgomama\\nThis review is the subjective opinion of a TripAdvisor member and not of TripAdvisor LLC.\\nPotterUbik\\nBerlin, Germany\\n19763\\nReviewed 3 weeks ago\\nAfternoon is more relaxed\\nYou can buy tickets in advance but u still have to pick up ticket bought online. So be prepared for the queue. A visit in the afternoon is more relaxed, one hour for the way up to see all the excarvations on the way and another short hour up on the hill. The Parthenon is still under construction, so it is just the general view and experience up here you will embrace.\\nNo entrance fee for Europeans under the age of 25. Bring your ID along !\\nShow less\\nDate of experience: January 2020\\nSee all 7 reviews by PotterUbik for Athens\\nAsk PotterUbik about Acropolis\\nThank PotterUbik\\nThis review is the subjective opinion of a TripAdvisor member and not of TripAdvisor LLC.\\ncara6223\\n146\\nReviewed 3 weeks ago\\nvia mobile\\nAthen\\nNice Place ... Cheap entry good located restaurants ... in restoration now some parts of the building.. englisch speaking guides\\nDate of experience: January 2020\\nThank cara6223\\n223yiannisk\\n1\\nReviewed 3 weeks ago\\nvia mobile\\nAcropolis is definitely a must-see.\\nThis is definitely a must-see. Make sure to prearrange or ask for that special lift if you have a disabled person in your group as climbing the rock can be tough for some. Another thing to be aware of if you visit Acropolis in summer is that the temperatures are really high with no shelter as you are basically at the top of a huge rock so it would be wise to have an umbrella and a bottle of water with you!\\nShow less\\nDate of experience: May 2019\\nAsk 223yiannisk about Acropolis\\nThank 223yiannisk\\nThis review is the subjective opinion of a TripAdvisor member and not of TripAdvisor LLC.\\nnadiaolson\\nMontenegro\\n11137\\nReviewed 3 weeks ago\\nMust See\\nYou cant be in Athens without visiting the Acropolis. My last visit was over 40 years ago and it felt like the first time visiting last Dec 2019. Wherever you are in Athens you can see the Acropolis. Beautiful sunny day and less crowded. Definetley recommend.\\nShow less\\nDate of experience: December 2019\\nSee all 9 reviews by nadiaolson for Athens\\nAsk nadiaolson about Acropolis\\n1  Thank nadiaolson\\nThis review is the subjective opinion of a TripAdvisor member and not of TripAdvisor LLC.\\nkitcat84\\nLondon, United Kingdom\\n811\\nReviewed 3 weeks ago\\nOne of those perfect days\\nThe acropolis was absolutely stunning. We visited in January so there was no queue to get in, it was bright sunshine and warm enough to be pleasant. The sky was clear and the views from the top are stunning. The acropolis is an amazing feat in itself, but I hadn’t realised how incredible it’s setting was until I got up there. It should be on everyone’s bucket list.\\nShow less\\nDate of experience: January 2020\\nAsk kitcat84 about Acropolis\\n1  Thank kitcat84\\nThis review is the subjective opinion of a TripAdvisor member and not of TripAdvisor LLC.\\nfouadc157\\nBeirut, Lebanon\\n4920\\nReviewed 3 weeks ago\\nvia mobile\\nHistorical facts\\nPlan ahead for that visit, use one day to appreciate the history behind it. Take a break when you reach the top and enjoy the rest.\\nDate of experience: January 2020\\nThank fouadc157\\nryanakra\\nAlaska\\n22\\nReviewed 3 weeks ago\\nvia mobile\\nWorth the visit\\nClearly the most obvious place for a tourist to visit in Athens. This is worth a visit but will be extremely popular and can be very cold during the mid-summer months. Not too expensive to see such an impressive place, this is an obvious place to visit for anyone visiting Athens.\\nShow less\\nDate of experience: January 2020\\nAsk ryanakra about Acropolis\\n1  Thank ryanakra\\nThis review is the subjective opinion of a TripAdvisor member and not of TripAdvisor LLC.\\nPrevious\\nNext\\n1…34567…1966'"
      ]
     },
     "execution_count": 145,
     "metadata": {},
     "output_type": "execute_result"
    }
   ],
   "source": [
    "attraction_features['comments']"
   ]
  },
  {
   "cell_type": "code",
   "execution_count": 147,
   "metadata": {},
   "outputs": [
    {
     "data": {
      "text/plain": [
       "28603"
      ]
     },
     "execution_count": 147,
     "metadata": {},
     "output_type": "execute_result"
    }
   ],
   "source": [
    "len(attraction_features['comments'])"
   ]
  },
  {
   "cell_type": "code",
   "execution_count": 148,
   "metadata": {},
   "outputs": [
    {
     "data": {
      "text/plain": [
       "'41 - 50 of 19,660 reviews\\nHammadi99\\n201\\nReviewed 3 weeks ago\\nvia mobile\\nVisit\\nIt was well organized site , reasonable tickets prices, easy to find and visit , there’s a guide available to whom how need.\\nDate of experience: January 2020\\n1  Thank Hammadi99\\nwb250591\\nCrete, Greece\\n72\\nReviewed 3 weeks ago\\nvia mobile\\nWell what can you say!\\nSimply stunning of course , our first visit and the views and history just fill you with a sense of place and time! Not to be missed\\nDate of experience: January 2020\\nThank wb250591\\nletsgomama\\nSummit, New Jersey\\n9346\\nReviewed 3 weeks ago\\nYou have to do it. And you can. If you are brave. But it is so worth it!\\nI am mobility impaired. I thought the Acropolis would be one of places that would be off limits to me. We were smart enough to book the Viator full day Athens private tour, and our wonderful driver knew exactly where to take me and who to talk to. (There is a discount for disabled people and their one companion.) He took me as close as possible to the chair lift that goes to the elevator. Without that you are looking at what would for me have been an impossible climb up hundreds of rough uneven stone flights of steps. The lift is a platform that slowly ascends up the long stairway. Those stairs are shallow and doable if you can walk at all. When you get to the top of that you then are taken into an industrial cage elevator that ascends the vertical cliff. This elevator is NOT for the faint of heart; in fact I was asked in broken English if I had any heart problems. I am severely claustrophobic but this elevator, being an open gauge cage, did not bother me at all. It takes you in your chair slowly up the face of that cliff and when you roll out, facing the magnificent parthenon, and slowly roll past the 7 maidens of the temple, you will find you cannot catch your breath because of the spectacular scale and beauty before you. Pictures fail, words fail, nothing can prepare you for the spirit and aura of this place. The views are incredible- all of Athens, Lycabettus hill, churches and mosques, the entire Agora, Mars Hill, the far mountains, even the coast on a clear day. It was difficult to navigate up at the top- much of the terrain is very rough even for my sturdy chair. Even where you can navigate the chair, prepare to have your kidneys rattled. But I am so so so grateful to the extremely helpful and encouraging staff, my family, and my knowledgable driver for making this possible for me. It more than exceeded anything I could have imagined.\\nShow less\\nDate of experience: December 2019\\nAsk letsgomama about Acropolis\\n2  Thank letsgomama\\nThis review is the subjective opinion of a TripAdvisor member and not of TripAdvisor LLC.\\nPotterUbik\\nBerlin, Germany\\n19763\\nReviewed 3 weeks ago\\nAfternoon is more relaxed\\nYou can buy tickets in advance but u still have to pick up ticket bought online. So be prepared for the queue. A visit in the afternoon is more relaxed, one hour for the way up to see all the excarvations on the way and another short hour up on the hill. The Parthenon is still under construction, so it is just the general view and experience up here you will embrace.\\nNo entrance fee for Europeans under the age of 25. Bring your ID along !\\nShow less\\nDate of experience: January 2020\\nSee all 7 reviews by PotterUbik for Athens\\nAsk PotterUbik about Acropolis\\nThank PotterUbik\\nThis review is the subjective opinion of a TripAdvisor member and not of TripAdvisor LLC.\\ncara6223\\n146\\nReviewed 3 weeks ago\\nvia mobile\\nAthen\\nNice Place ... Cheap entry good located restaurants ... in restoration now some parts of the building.. englisch speaking guides\\nDate of experience: January 2020\\nThank cara6223\\n223yiannisk\\n1\\nReviewed 3 weeks ago\\nvia mobile\\nAcropolis is definitely a must-see.\\nThis is definitely a must-see. Make sure to prearrange or ask for that special lift if you have a disabled person in your group as climbing the rock can be tough for some. Another thing to be aware of if you visit Acropolis in summer is that the temperatures are really high with no shelter as you are basically at the top of a huge rock so it would be wise to have an umbrella and a bottle of water with you!\\nShow less\\nDate of experience: May 2019\\nAsk 223yiannisk about Acropolis\\nThank 223yiannisk\\nThis review is the subjective opinion of a TripAdvisor member and not of TripAdvisor LLC.\\nnadiaolson\\nMontenegro\\n11137\\nReviewed 3 weeks ago\\nMust See\\nYou cant be in Athens without visiting the Acropolis. My last visit was over 40 years ago and it felt like the first time visiting last Dec 2019. Wherever you are in Athens you can see the Acropolis. Beautiful sunny day and less crowded. Definetley recommend.\\nShow less\\nDate of experience: December 2019\\nSee all 9 reviews by nadiaolson for Athens\\nAsk nadiaolson about Acropolis\\n1  Thank nadiaolson\\nThis review is the subjective opinion of a TripAdvisor member and not of TripAdvisor LLC.\\nkitcat84\\nLondon, United Kingdom\\n811\\nReviewed 3 weeks ago\\nOne of those perfect days\\nThe acropolis was absolutely stunning. We visited in January so there was no queue to get in, it was bright sunshine and warm enough to be pleasant. The sky was clear and the views from the top are stunning. The acropolis is an amazing feat in itself, but I hadn’t realised how incredible it’s setting was until I got up there. It should be on everyone’s bucket list.\\nShow less\\nDate of experience: January 2020\\nAsk kitcat84 about Acropolis\\n1  Thank kitcat84\\nThis review is the subjective opinion of a TripAdvisor member and not of TripAdvisor LLC.\\nfouadc157\\nBeirut, Lebanon\\n4920\\nReviewed 3 weeks ago\\nvia mobile\\nHistorical facts\\nPlan ahead for that visit, use one day to appreciate the history behind it. Take a break when you reach the top and enjoy the rest.\\nDate of experience: January 2020\\nThank fouadc157\\nryanakra\\nAlaska\\n22\\nReviewed 3 weeks ago\\nvia mobile\\nWorth the visit\\nClearly the most obvious place for a tourist to visit in Athens. This is worth a visit but will be extremely popular and can be very cold during the mid-summer months. Not too expensive to see such an impressive place, this is an obvious place to visit for anyone visiting Athens.\\nShow less\\nDate of experience: January 2020\\nAsk ryanakra about Acropolis\\n1  Thank ryanakra\\nThis review is the subjective opinion of a TripAdvisor member and not of TripAdvisor LLC.\\nPrevious\\nNext\\n1…34567…196651 - 60 of 19,660 reviews\\nbeattyna\\nCharlotte, North Carolina\\n9\\nReviewed 3 weeks ago\\nvia mobile\\nBreathetaking place\\nThis place is incredible to watch. Great architecture and history! The view of Atenas from this place is insane. Cant miss this amazing monuments!\\nDate of experience: January 2020\\nThank beattyna\\nJoanie7475\\nBasingstoke, United Kingdom\\n116\\nReviewed 3 weeks ago\\nvia mobile\\nLooks beautiful but website needs updating\\nWe tried to see the Acropolis on the last day of a work conference as we finished early but when we arrived it was closed. Their website had said 8-8pm but when we got there at 6 it was closed - hugely disappointing! We couldn’t walk round as it was gated all around and everywhere was pitch black.\\nShow less\\nDate of experience: January 2020\\nSee all 3 reviews by Joanie7475 for Athens\\nAsk Joanie7475 about Acropolis\\nThank Joanie7475\\nThis review is the subjective opinion of a TripAdvisor member and not of TripAdvisor LLC.\\nCamper169280\\n2020\\nReviewed 3 weeks ago\\nvia mobile\\nA must see!\\nWonderful to walk to the Acropolis in winter .\\nWe have been here is summer and it is super hot and super crowded . It is an amazing experience in winter . A sunny winter day with the magnificence of the Parthenon against the blue sky. Our ten year old son enjoyed the history and the hiking !\\nShow less\\nDate of experience: January 2020\\nSee all 4 reviews by Camper169280 for Athens\\nAsk Camper169280 about Acropolis\\nThank Camper169280\\nThis review is the subjective opinion of a TripAdvisor member and not of TripAdvisor LLC.\\nNick S\\nNicosia, Cyprus\\n261\\nReviewed 3 weeks ago\\nA must see attraction\\nThe Acropolis is a must see attraction in Athens. It\\'s a wonderful historic site with the Parthenon at its centre!\\nDate of experience: January 2020\\nThank Nick S\\nANGELA S\\nCambridge, United Kingdom\\n109\\nReviewed 3 weeks ago\\nAMAZING\\nQuite a hike up to the top but defintely worth it............ but prepared for crowds though and we were warned about pick pockets\\nDate of experience: December 2019\\nThank ANGELA S\\nMichelleFre\\nGold Coast, Australia\\n219\\nReviewed 3 weeks ago\\nAmazing\\nSuch a beautiful walk to view the Acropolis. Sign posts are few and far between-google maps helpful. Admission tickets inexpensive and wait time was short first thing in the morning. So much to see on top of hill and surrounding areas, definitely worth a visit.\\nDate of experience: September 2019\\nThank MichelleFre\\nmasinorfolk\\nnorfolk\\n3815\\nReviewed 3 weeks ago\\nBrilliant Views\\nBrilliant views of the whole city. Buy a ticket to see 7 attractions for 60 euro. Also under 25\\'s go free, but proof of age is needed.. Athens not good on sign posting entrances, so you end up walk around in circles.\\nDate of experience: December 2019\\nThank masinorfolk\\nrobynoncape\\nCenterville, Massachusetts\\n91\\nReviewed 3 weeks ago\\nBreathtaking history and views in one location\\nWe were lucky enough to go to the Acropolis twice during our visit. The first day was sunny and beautiful and seeing each piece still there the Parthenon, the Propylaia\\nthe Erechtheion, and The Temple of Athena Nike just to name the most famous. And then imagining all the pieces missing, the sixth Caryatid waiting to come home and join the others in the Acropolis Museum, and The Old Temple which you can see outlines of, but can only imagine what it once looked like. As we were exploring a storm came in and washed us literally off the Acropolis, but it just added to our adventure.\\n\\nOur last day in Greece, we went back in the morning, it was gray and dreary, but we took pictures that turned out to be amazingly beautiful. I am not a photographer but the light appears to have been perfect for the pictures. It actually snowed while we were at the top! Be prepared to walk, hike, scramble, and in some places climb a little, and it can be like walking on ice when it rains, but it is truly an awe inspiring site/sight.\\nShow less\\nDate of experience: December 2019\\nSee all 6 reviews by robynoncape for Athens\\nAsk robynoncape about Acropolis\\n1  Thank robynoncape\\nThis review is the subjective opinion of a TripAdvisor member and not of TripAdvisor LLC.\\nRob A\\nNottingham, United Kingdom\\n108\\nReviewed 4 weeks ago\\nNothing can prepare you for the reality of being here\\nWe were totally blown away by the Acropolis - and that included the walks around the hill, not just the more famous sites on the top. There were lots of people there, even in mid-Winter, but the history and atmosphere transported us to a place where we hardly noticed them. But do make sure you also go up Philopappos Hill and the Hill of the Nymphs, to get incredible panoramic views (and photo-opps) of the Acropolis.\\nShow less\\nDate of experience: January 2020\\nAsk Rob A about Acropolis\\n1  Thank Rob A\\nThis review is the subjective opinion of a TripAdvisor member and not of TripAdvisor LLC.\\nFromala\\nAnchorage, Alaska\\n165\\nReviewed 4 weeks ago\\nvia mobile\\nAcropolis\\nWe visited the Acropolis on a Sunday which we found out is free admission on this day.\\n\\nWe walked to the Acropolis from our room with the help of google maps, which took us about 20-25 minutes. Being comfortable walking shoes if you plan to walk around the area.\\n\\nI suggest to visit the Acropolis early in the day when it is less crowded. When we were just about touring the place many people were there which was around noon. The normal price of admission is 20 euro (22+ usd depending on rate) per adult.\\n\\nSimply amazing how this historic place has survived the times. There is continuous restoration going on.\\nShow less\\nDate of experience: January 2020\\nSee all 6 reviews by Fromala for Athens\\nAsk Fromala about Acropolis\\n1  Thank Fromala\\nThis review is the subjective opinion of a TripAdvisor member and not of TripAdvisor LLC.\\nPrevious\\nNext\\n1…45678…196661 - 70 of 19,660 reviews\\nMiaMilo689\\nBrunei Darussalam\\n473\\nReviewed 4 weeks ago\\nvia mobile\\nAncient Heritage landmark\\nAcropolis is one of the famous and greatest of outstanding historical landmark... I managed to climb up the rock to make my way to the Greek flag to enjoy great view😍😍😍 You should not miss this world heritage attraction 😍😍😍\\nDate of experience: January 2020\\nThank MiaMilo689\\nricsid2020\\nBudapest, Hungary\\n810\\nReviewed 4 weeks ago\\namazing history facts\\nlifetime experience on acropolis. amazing history facts! Democracy, philosophy, civilazation and architecture...\\nDate of experience: October 2019\\n2  Thank ricsid2020\\nIqraaakhtar\\nAurora, Illinois\\n51\\nReviewed 4 weeks ago\\nvia mobile\\nGet the guide!\\nHaving the guide made this experience so much better than just going up and down and not knowing what it’s about. She explained the history behind every stop we made and when you get to the top-it’s breath taking! Seeing these sites makes you really think about the history of Greece. This was our first visit to Greece and we loved using the guide to take us to the top of Acropolis!\\nShow less\\nDate of experience: December 2019\\nSee all 4 reviews by Iqraaakhtar for Athens\\nAsk Iqraaakhtar about Acropolis\\n1  Thank Iqraaakhtar\\nThis review is the subjective opinion of a TripAdvisor member and not of TripAdvisor LLC.\\nChris B\\nKidderminster, United Kingdom\\n25177\\nReviewed 4 weeks ago\\nAncient Glory\\nI was so excited to visit the Acropolis and i must admit that it did not disappoint. Pictures do not do it justice and you really get a sense of the scale of it by seeing it up close as well as seeing it on the skyline as you approach. It is busy and the locals recommended going early or late to visit. It is quite a steep climb up so be prepared with suitable footwear. My one regret is not taking a guided tour as i feel i would have learnt so much more.\\nShow less\\nDate of experience: December 2019\\nSee all 6 reviews by Chris B for Athens\\nAsk Chris B about Acropolis\\n1  Thank Chris B\\nThis review is the subjective opinion of a TripAdvisor member and not of TripAdvisor LLC.\\nAlexander C\\n171\\nReviewed 4 weeks ago\\nDefinitely worth visiting if you are interested in history\\nA tour guide will make the visit much more meaningful since history is so rich in this place. Reading poster descriptions could be another option, but not as thorough and interesting. Even the view itself is magnificent and impressive. Going there early is an advantage to avoid the crowd since this is such a popular place.\\nShow less\\nDate of experience: November 2019\\nAsk Alexander C about Acropolis\\nThank Alexander C\\nThis review is the subjective opinion of a TripAdvisor member and not of TripAdvisor LLC.\\nkmadunovic\\nZagreb, Croatia\\n3111\\nReviewed 4 weeks ago\\nvia mobile\\nGreat experience- must see\\nPlace you have to see, you should take some tour to learn about history of that hill. It is amazing place\\nDate of experience: January 2020\\nThank kmadunovic\\nTsur I\\n681\\nReviewed 4 weeks ago\\namazing place to b & c but too crowded....plz come early\\nits one of those places. if u want it to be positive experience - plz come early. avoid conversations with those \"Hakuna Matata\" persons in the entrance\\nDate of experience: June 2019\\nThank Tsur I\\nTravelfromessex\\nRomford, United Kingdom\\n597170\\nReviewed 4 weeks ago\\nKnockout historical site but could be presented better\\nOh dear, wanted to give it more and it of course remains a must see in Athens but there are some really quite simple things that could be done to improve the experience. Firstly, the route up from the stop of the hop on hop off bus is not signed at all and isn\\'t easy to find without having to double back on yourself. We also thought it ironic that the disabled elevator seems itself to be poorly signed and up a considerable climb (unless we missed something).\\n\\nThere are around a dozen separate parts to the site and it would seem tailor made for an audioguide. There isn\\'t one though and you have to make do with the static signs (in english and greek). A good suggestion on here was to download an \\'unofficial\\' one beforehand but there really should be their own one, as seen after all at the Panathenaic stadium for example. As it was, we were pleased we\\'d taken some guidebook pages with to assist in interpreting things.\\n\\nEven still, it\\'s a tremendous place, particularly the Parthenon and the Temple of Dionysus.\\nShow less\\nDate of experience: December 2019\\nSee all 11 reviews by Travelfromessex for Athens\\nAsk Travelfromessex about Acropolis\\n1  Thank Travelfromessex\\nThis review is the subjective opinion of a TripAdvisor member and not of TripAdvisor LLC.\\nAssafn100\\n503\\nReviewed 4 weeks ago\\nvia mobile\\nAmazing views of Athens\\nEvery first sunday of the month museums in Athens are free.This does not cover the Acropolis Museum,however,the Acropolis site is free.As you climb you are given,from every angle wonderful vistas of Athens and surrounds.Amphitheaters,temples and other remains are fascinating and of course the summit.Would be a must even if you paid.\\nShow less\\nDate of experience: January 2020\\nSee all 19 reviews by Assafn100 for Athens\\nAsk Assafn100 about Acropolis\\nThank Assafn100\\nThis review is the subjective opinion of a TripAdvisor member and not of TripAdvisor LLC.\\n291_stav\\n144\\nReviewed 4 weeks ago\\nvia mobile\\nMust go there\\nWe had a good but a long walk upp to Acropolis. Somewere it was very slippy so be cereful and were good shoes. Most wonderful spot in this area and the view, omg.\\nDate of experience: December 2019\\nThank 291_stav\\nPrevious\\nNext\\n1…56789…196671 - 80 of 19,660 reviews\\nAlkhatibIman1\\n3\\nReviewed 4 weeks ago\\nvia mobile\\nThe Acropolis Visit\\nMust visit. It is a worth it visit. Better do it when in a warm weather. Try to visit early in the morning so you avoid the crowd and enjoy the scenes.\\nDate of experience: January 2020\\nThank AlkhatibIman1\\nVacation37115\\nAmsterdam, The Netherlands\\n294\\nReviewed 4 weeks ago\\nMust see\\nYou buy at the ticket office a ticket for 10 euro and then walk to the Akropolis and marvel at how they have erected such extraordinary temples in ancient times. Amazing!\\nDate of experience: December 2019\\nThank Vacation37115\\nOdile M\\nProvidence, Rhode Island\\n6712\\nReviewed 4 weeks ago\\nAwesome and impressive with some slippery walking\\nWear good shoes and you will have a fabulous, educational, inspiring walk throughout historical grounds.\\nDate of experience: January 2020\\nThank Odile M\\nT_Pigula\\n18\\nReviewed 4 weeks ago\\nvia mobile\\nHistory in stone\\nPerfect circle view on Athens and monumental temples and greece teathre. We are touch the Greek history. The price on winter is 10 euro.\\nDate of experience: January 2020\\nThank T_Pigula\\nmoshe233\\nZichron Yaakov, Israel\\n51\\nReviewed 4 weeks ago\\ndisappointment\\nAn untouched place, looks like a construction site,I was expecting a lot more, no detailed signs, although a place with unrealized potential.\\nDate of experience: December 2019\\nThank moshe233\\nSubrata0168\\nNavi Mumbai, India\\n391134\\nReviewed 4 weeks ago\\nAcropolis more famous than Greece itself\\nGreek civilization is one of the 5 ancient civilizations on earth (others are - Egyptian, Indian, Roman & Inka/Maya Civilization). This place is therefore a must see and cannot be missed.\\nDate of experience: July 2019\\nThank Subrata0168\\nARobertson619\\nInverness, United Kingdom\\n3322\\nReviewed 4 weeks ago\\nMust see!\\nWe got there at 3pm on 31 Dec! Yes, there was still a queue for the ticket office (people arguing with the one sole lady there about whether they were students or not, expecting a discount, which held the queue up even longer!) but once up the hill, it was everything we dreamed of, and more, just as the sun was setting! We took amazing photos which will be treasured forever..... YES, YOU MUST SEE THIS - bucket list material, for sure.....\\nThe rest of our stay (2 days) was disappointing to say the least - Athens is totally covered in graffiti EVERYWHERE! No real sense of an ancient city - apart from the odd ruin here and there (which looks like it just happens to be ‘blocked off’ and forgotten about)...... doing a hop on hop off bus tour on the 1st jan (as there was nothing open at all!) only depressed us to be honest - we were glad we got the highlight done in high spirits the day before!\\nA city easily covered in a couple of days stay, I’d say.......\\nShow less\\nDate of experience: January 2020\\nSee all 3 reviews by ARobertson619 for Athens\\nAsk ARobertson619 about Acropolis\\nThank ARobertson619\\nThis review is the subjective opinion of a TripAdvisor member and not of TripAdvisor LLC.\\n16Bonnie\\nParker, Colorado\\n12256\\nReviewed 4 weeks ago\\nHistorical beauty!\\nOur visit to the Acropolis left me speechless. Yes, it was stifling hot (June)--bring water, hats, sunscreen and go early for sure! However, to stand on this incredibly old, historic sight was an experience we will never forget. Gorgeous! Do not go to Athens and miss this! Going early or late is a must or the crowds can overwhelm you.\\nShow less\\nDate of experience: June 2019\\nAsk 16Bonnie about Acropolis\\nThank 16Bonnie\\nThis review is the subjective opinion of a TripAdvisor member and not of TripAdvisor LLC.\\naclayr\\nArizona\\n16283\\nReviewed 4 weeks ago\\nHordes of People\\nWe arrived shortly before opening to purchase tickets & were not surprised to see a line already formed. We utilized one of the side entrances though, so with only about 10 parties ahead of us, the line moved rather quickly. Once we entered & made our way around to the main entrance, we were met by hordes of people pushing their way up the steps. With our Rick Steves guide book in tow, we decided to take on the monument without a tour guide. (& I’m glad we went this route as being in a tour group just looked like a hassle.) We found it fairly easy to navigate around, & while there were informative plaques throughout, we opted for the descriptions in our book instead. The massive crane inside the main structure was an unfortunate eyesore, but I believe they are currently working on a preservation/restoration project. The views of the city were spectacular though. The ground was very uneven throughout & even slippery in some places, so be sure to wear appropriate shoes. I’d also recommend bringing water & patience as it warms up early in the morning & the number of clueless tourists is absurd.\\nShow less\\nDate of experience: May 2019\\nSee all 9 reviews by aclayr for Athens\\nAsk aclayr about Acropolis\\nThank aclayr\\nThis review is the subjective opinion of a TripAdvisor member and not of TripAdvisor LLC.\\nDaveKapolei_Hawaii\\nKapolei, Hawaii\\n8624\\nReviewed 5 weeks ago\\nvia mobile\\nThe birthplace of western civilization\\nWhen you consider that you are at the birthplace of western civilization, a few steps are not that great of a sacrifice. Try to book an archeologist guise in advance. Makes the event so rewarding.\\nDate of experience: December 2019\\nThank DaveKapolei_Hawaii\\nPrevious\\nNext\\n1…678910…196681 - 90 of 19,660 reviews\\nworldtraveleraviator\\nSan Jose, California\\n3711\\nReviewed 5 weeks ago\\nThe most important icon to see in Athens!\\nThe Parthenon is beautiful! The walk, which is not too long, offers a stunning view of the Parthenon along the way.\\nDate of experience: December 2019\\nThank worldtraveleraviator\\nAndry S\\n9736\\nReviewed December 30, 2019\\nvia mobile\\nMom visits Acropolis\\nOne of the best historical places I have visited. It\\'s something everybody must do at least once in a lifetime. So this year I took my 80 year old mom for her first time. Acropolis has easy access for the elderly. Thank you Greece for making this possible.\\nShow less\\nDate of experience: December 2019\\nSee all 3 reviews by Andry S for Athens\\nAsk Andry S about Acropolis\\nThank Andry S\\nThis review is the subjective opinion of a TripAdvisor member and not of TripAdvisor LLC.\\nDunn45\\nDraper, Utah\\n549176\\nReviewed December 30, 2019\\nvia mobile\\nDon’t Miss\\nThis is one of the most well known sites in the world. It did not disappoint. The off season and the rain kept the crowds away when we were there.\\nDate of experience: December 2019\\nThank Dunn45\\n110svenk\\nRijswijk, The Netherlands\\n216\\nReviewed December 30, 2019\\nvia mobile\\nParthenon\\nMajestic site! Such ancient history and what a magnificent view over the city of Athens. We had beautifull weather and clear view.\\nDate of experience: December 2019\\nThank 110svenk\\nmichaelbQ272RO\\nAthens, Greece\\n7018\\nReviewed December 29, 2019\\nvia mobile\\nHistory at Your Fingertips\\nIf you appreciate history then this is a must see. 1 of a hundred such acropoli across Athens, it is the most known. Be careful walking around at it can be steep and slippery when wet. Many photo ops once atop. Be respectful and not touch the marble/ruins. Bathrooms are before entering gate.\\nShow less\\nDate of experience: December 2019\\nSee all 8 reviews by michaelbQ272RO for Athens\\nAsk michaelbQ272RO about Acropolis\\n1  Thank michaelbQ272RO\\nThis review is the subjective opinion of a TripAdvisor member and not of TripAdvisor LLC.\\nFell-O_TravellerUK\\nGarden of England\\n135134\\nReviewed December 29, 2019\\nAcropolis Audio Tour - Rick Steves\\nIf you go to the Acropolis then we highly recommend Rick Steves audio tour. You can download this for free and it is gives a great insight in to site.\\nIf you just enter the site on your own there is very little information available as there are few boards - and having a guide book means you are looking down not up.\\n\\nThe tour lasts an hour, but you can pause it whenever you want to stroll around at your own pace.\\n\\nIt isnt too heavy going but still paints a great picture of just how amazing this would have been back in its heyday.\\n\\nWe can also that in December the crowds are much lighter which means you can enjoy the site more easily, especially if you get there for 9:00 when it opens.\\n\\nAs a final point, the Acropolis nearly always has works going on to maintain it, so dont be too disappointed if a crane gets in some pictures!\\nShow less\\nDate of experience: December 2019\\nSee all 5 reviews by Fell-O_TravellerUK for Athens\\nAsk Fell-O_TravellerUK about Acropolis\\n1  Thank Fell-O_TravellerUK\\nThis review is the subjective opinion of a TripAdvisor member and not of TripAdvisor LLC.\\nSteve T\\n24129\\nReviewed December 29, 2019\\nvia mobile\\nAbsolute must\\nA trip to Athens would be incomplete without coming here. Reasonable cost for tourists. It’s a lot of walking, definitely go the whole way around to see everything. Watch your step as it does get slippery.\\nDate of experience: December 2019\\nThank Steve T\\nVieltraveller\\nSwitzerland\\n35590\\nReviewed December 29, 2019\\nA must see\\nI was there in december, so there weren\\'t many people, very quiet and never any lines. Unfortunately a lot of the area was fenced off, I don\\'t know if that\\'s different during summer tourist season.\\nDate of experience: December 2019\\nThank Vieltraveller\\nMrmotomike\\nSan Francisco, California\\n8249\\nReviewed December 28, 2019\\nvia mobile\\nOld & New . A wonderful day at the Acropolis\\nOld & New . A wonderful day at the acropolis\\nGo early. If you buy your ticket online I don’t have to wait in line. It’s only about two hours. But it’s horrible when there’s lots of people standing in the way. We did the Rick Steves download walking tour at the Acropolis and got all the information we needed.\\nThe acropolis is very inspiring. Sadly most of it has been rebuilt so it’s hard to tell but is old and male. But the story is almost 2000 years old so one can expect some weathering . There’s no food no water at the top of the Acropolis. December 2019 ticket was €10 each at the Southern gate\\nShow less\\nDate of experience: December 2019\\nAsk Mrmotomike about Acropolis\\n1  Thank Mrmotomike\\nThis review is the subjective opinion of a TripAdvisor member and not of TripAdvisor LLC.\\njdc8mbc\\nCalifornia\\n556217\\nReviewed December 28, 2019\\nMust-see attraction\\nWhy go to Athens if one doesn\\'t visit the Acropolis? I was here back in 1971 as a student traveler and 48 years later, as a senior citizen. Back in 1971, I remember the climb to the Acropolis as being very slippery; and tourists were allowed to meander through the Parthenon. This time, it was much easier to climb to the top; however, there are barricades around the major monuments... and lots of cranes due to restoration. It was still an awesome experience to view the Acropolis up close and from afar. (We had a view of the Acropolis from our balcony hotel room.)\\nShow less\\nDate of experience: September 2019\\nSee all 6 reviews by jdc8mbc for Athens\\nAsk jdc8mbc about Acropolis\\nThank jdc8mbc\\nThis review is the subjective opinion of a TripAdvisor member and not of TripAdvisor LLC.\\nPrevious\\nNext\\n1…7891011…1966'"
      ]
     },
     "execution_count": 148,
     "metadata": {},
     "output_type": "execute_result"
    }
   ],
   "source": [
    "attraction_features['comments']"
   ]
  },
  {
   "cell_type": "code",
   "execution_count": null,
   "metadata": {},
   "outputs": [],
   "source": []
  },
  {
   "cell_type": "code",
   "execution_count": 146,
   "metadata": {},
   "outputs": [],
   "source": [
    "# first click more\n",
    "# then get comments!\n",
    "\n",
    "\n",
    "sequence = [x/10 for x in range(15, 30)]\n",
    "\n",
    "#loop through 1st 3 pages if they have a next\n",
    "for next_comments in range(4):\n",
    "    if driver.find_element_by_class_name('next')== None:\n",
    "        break\n",
    "    else:\n",
    "        for i in driver.find_elements_by_class_name('next'):\n",
    "            if i.text=='Next':\n",
    "                next_button = i\n",
    "                next_button.click()\n",
    "\n",
    "    time.sleep(random.choice(sequence))\n",
    "\n",
    "    try:\n",
    "        more_button = driver.find_element_by_class_name('ulBlueLinks')\n",
    "        more_button.click()\n",
    "        time.sleep(random.choice(sequence))\n",
    "\n",
    "    except:\n",
    "        pass\n",
    "\n",
    "\n",
    "    #get comments\n",
    "    # add to dictionary\n",
    "\n",
    "    driver.implicitly_wait(5)\n",
    "    try:\n",
    "        attraction_features['comments']+=(comments(driver))\n",
    "    except:\n",
    "        attraction_features['comments']+=''\n",
    "\n",
    "    time.sleep(random.choice(sequence))"
   ]
  },
  {
   "cell_type": "markdown",
   "metadata": {},
   "source": [
    "## Adding to Selenium Code"
   ]
  },
  {
   "cell_type": "code",
   "execution_count": 149,
   "metadata": {},
   "outputs": [],
   "source": [
    "sequence = [x/10 for x in range(20, 30)]"
   ]
  },
  {
   "cell_type": "code",
   "execution_count": 150,
   "metadata": {},
   "outputs": [],
   "source": [
    "attractions = []"
   ]
  },
  {
   "cell_type": "code",
   "execution_count": 159,
   "metadata": {},
   "outputs": [],
   "source": [
    "test = athens_links[:20]"
   ]
  },
  {
   "cell_type": "code",
   "execution_count": 160,
   "metadata": {},
   "outputs": [
    {
     "data": {
      "text/plain": [
       "20"
      ]
     },
     "execution_count": 160,
     "metadata": {},
     "output_type": "execute_result"
    }
   ],
   "source": [
    "len(test)"
   ]
  },
  {
   "cell_type": "code",
   "execution_count": null,
   "metadata": {},
   "outputs": [],
   "source": []
  },
  {
   "cell_type": "code",
   "execution_count": null,
   "metadata": {},
   "outputs": [],
   "source": [
    "for i in tqdm(test):\n",
    "    driver.get(i)\n",
    "    attraction_features = {}\n",
    "    # add to dictionary\n",
    "    try:\n",
    "        attraction_features['name'] = find_name(driver)\n",
    "    except:\n",
    "        attraction_features['name'] = None\n",
    "\n",
    "    # add to dictionary\n",
    "    try:\n",
    "        attraction_features['no_things_to_do'] = find_no_things_to_do(driver)\n",
    "    except:\n",
    "        attraction_features['no_things_to_do'] = None\n",
    "\n",
    "    # add to dictionary\n",
    "    try:\n",
    "        attraction_features['sights_landmarks'] = find_sights_landmarks(driver)\n",
    "    except:\n",
    "        attraction_features['sights_landmarks'] = None\n",
    "\n",
    "    # add to dictionary\n",
    "    try:\n",
    "        attraction_features['address'] = find_address(driver)\n",
    "    except:\n",
    "        attraction_features['address'] = None\n",
    "\n",
    "    # add to dictionary\n",
    "    try:\n",
    "        attraction_features['summary_overview'] = find_summary_overview(driver)\n",
    "    except:\n",
    "        attraction_features['summary_overview'] = None\n",
    "\n",
    "    # add to dictionary\n",
    "    try:\n",
    "        attraction_features['num_reviews'] = number_of_reviews(driver)\n",
    "    except:\n",
    "        attraction_features['num_reviews'] = None\n",
    "\n",
    "    # add to dictionary\n",
    "    try:\n",
    "        attraction_features['about'] = about_box(driver)\n",
    "    except:\n",
    "        attraction_features['about'] = None\n",
    "\n",
    "    # add to dictionary\n",
    "    try:\n",
    "        attraction_features['popular_mentions'] = popular_mentions(driver)\n",
    "    except:\n",
    "        attraction_features['popular_mentions'] = None\n",
    "    \n",
    "    \n",
    "    try:\n",
    "        more_button = driver.find_element_by_class_name('ulBlueLinks')\n",
    "        more_button.click()\n",
    "\n",
    "    except:\n",
    "        pass\n",
    "\n",
    "    # add comments to dictionary\n",
    "    driver.implicitly_wait(5)\n",
    "    \n",
    "    try:\n",
    "        attraction_features['comments'] = comments(driver)\n",
    "    except:\n",
    "        attraction_features['comments'] = None\n",
    "\n",
    "    try:\n",
    "        #loop through 1st 3 pages if they have a next\n",
    "        for next_comments in range(4):\n",
    "            if driver.find_element_by_class_name('next')== None:\n",
    "                break\n",
    "            else:\n",
    "                for i in driver.find_elements_by_class_name('next'):\n",
    "                    if i.text=='Next':\n",
    "                        next_button = i\n",
    "                        next_button.click()\n",
    "\n",
    "            time.sleep(random.choice(sequence))\n",
    "\n",
    "            try:\n",
    "                more_button = driver.find_element_by_class_name('ulBlueLinks')\n",
    "                more_button.click()\n",
    "                time.sleep(random.choice(sequence))\n",
    "\n",
    "            except:\n",
    "                pass\n",
    "\n",
    "\n",
    "            #get comments\n",
    "            # add to dictionary\n",
    "\n",
    "            driver.implicitly_wait(5)\n",
    "            try:\n",
    "                attraction_features['comments']+=(comments(driver))\n",
    "            except:\n",
    "                attraction_features['comments']+=''\n",
    "\n",
    "            time.sleep(random.choice(sequence))\n",
    "        \n",
    "        except:\n",
    "            pass\n",
    "\n",
    "    #add to list of dictionaries\n",
    "    attractions.append(attraction_features)\n",
    "\n"
   ]
  },
  {
   "cell_type": "code",
   "execution_count": null,
   "metadata": {},
   "outputs": [],
   "source": [
    "attraction_features = {}\n",
    "# add to dictionary\n",
    "try:\n",
    "    attraction_features['name'] = find_name(driver)\n",
    "except:\n",
    "    attraction_features['name'] = None\n",
    "\n",
    "# add to dictionary\n",
    "try:\n",
    "    attraction_features['no_things_to_do'] = find_no_things_to_do(driver)\n",
    "except:\n",
    "    attraction_features['no_things_to_do'] = None\n",
    "\n",
    "# add to dictionary\n",
    "try:\n",
    "    attraction_features['sights_landmarks'] = find_sights_landmarks(driver)\n",
    "except:\n",
    "    attraction_features['sights_landmarks'] = None\n",
    "\n",
    "# add to dictionary\n",
    "try:\n",
    "    attraction_features['address'] = find_address(driver)\n",
    "except:\n",
    "    attraction_features['address'] = None\n",
    "\n",
    "# add to dictionary\n",
    "try:\n",
    "    attraction_features['summary_overview'] = find_summary_overview(driver)\n",
    "except:\n",
    "    attraction_features['summary_overview'] = None\n",
    "\n",
    "# add to dictionary\n",
    "try:\n",
    "    attraction_features['num_reviews'] = number_of_reviews(driver)\n",
    "except:\n",
    "    attraction_features['num_reviews'] = None\n",
    "\n",
    "# add to dictionary\n",
    "try:\n",
    "    attraction_features['about'] = about_box(driver)\n",
    "except:\n",
    "    attraction_features['about'] = None\n",
    "\n",
    "# add to dictionary\n",
    "try:\n",
    "    attraction_features['popular_mentions'] = popular_mentions(driver)\n",
    "except:\n",
    "    attraction_features['popular_mentions'] = None\n",
    "\n",
    "    \n",
    "try:\n",
    "    more_button = driver.find_element_by_class_name('ulBlueLinks')\n",
    "    more_button.click()\n",
    "    \n",
    "except:\n",
    "    pass\n",
    "    \n",
    "# add comments to dictionary\n",
    "driver.implicitly_wait(5)\n",
    "try:\n",
    "    attraction_features['comments'] = comments(driver)\n",
    "except:\n",
    "    attraction_features['comments'] = None\n",
    "\n",
    "    \n",
    "    \n",
    "try:\n",
    "    for i in driver.find_elements_by_class_name('next'):\n",
    "        if i.text=='Next':\n",
    "            next_button = i\n",
    "            next_button.click()\n",
    "            break\n",
    "    \n",
    "#add to list of dictionaries\n",
    "attractions.append(attraction_features)\n",
    "\n",
    "sequence = [x/10 for x in range(10, 15)]\n",
    "time.sleep(random.choice(sequence))"
   ]
  },
  {
   "cell_type": "code",
   "execution_count": null,
   "metadata": {},
   "outputs": [],
   "source": [
    "# first click more\n",
    "# then get comments!\n",
    "\n",
    "\n",
    "sequence = [x/10 for x in range(15, 30)]\n",
    "\n",
    "#loop through 1st 3 pages if they have a next\n",
    "for next_comments in range(4):\n",
    "    if driver.find_element_by_class_name('next')== None:\n",
    "        break\n",
    "    else:\n",
    "        for i in driver.find_elements_by_class_name('next'):\n",
    "            if i.text=='Next':\n",
    "                next_button = i\n",
    "                next_button.click()\n",
    "    \n",
    "    time.sleep(random.choice(sequence))\n",
    "    \n",
    "    try:\n",
    "        more_button = driver.find_element_by_class_name('ulBlueLinks')\n",
    "        more_button.click()\n",
    "        time.sleep(random.choice(sequence))\n",
    "\n",
    "    except:\n",
    "        pass\n",
    "        \n",
    "    \n",
    "    #get comments\n",
    "    # add to dictionary\n",
    "    \n",
    "    driver.implicitly_wait(5)\n",
    "    try:\n",
    "        attraction_features['comments']+=(comments(driver))\n",
    "    except:\n",
    "        attraction_features['comments']+=''\n",
    "        \n",
    "    time.sleep(random.choice(sequence))"
   ]
  },
  {
   "cell_type": "code",
   "execution_count": null,
   "metadata": {},
   "outputs": [],
   "source": []
  },
  {
   "cell_type": "code",
   "execution_count": null,
   "metadata": {},
   "outputs": [],
   "source": []
  },
  {
   "cell_type": "code",
   "execution_count": null,
   "metadata": {},
   "outputs": [],
   "source": []
  },
  {
   "cell_type": "code",
   "execution_count": null,
   "metadata": {},
   "outputs": [],
   "source": []
  },
  {
   "cell_type": "code",
   "execution_count": null,
   "metadata": {},
   "outputs": [],
   "source": []
  },
  {
   "cell_type": "code",
   "execution_count": null,
   "metadata": {},
   "outputs": [],
   "source": []
  },
  {
   "cell_type": "code",
   "execution_count": null,
   "metadata": {},
   "outputs": [],
   "source": []
  },
  {
   "cell_type": "code",
   "execution_count": null,
   "metadata": {},
   "outputs": [],
   "source": []
  },
  {
   "cell_type": "code",
   "execution_count": null,
   "metadata": {},
   "outputs": [],
   "source": []
  },
  {
   "cell_type": "code",
   "execution_count": null,
   "metadata": {},
   "outputs": [],
   "source": []
  },
  {
   "cell_type": "code",
   "execution_count": null,
   "metadata": {},
   "outputs": [],
   "source": []
  },
  {
   "cell_type": "code",
   "execution_count": null,
   "metadata": {},
   "outputs": [],
   "source": []
  },
  {
   "cell_type": "code",
   "execution_count": null,
   "metadata": {},
   "outputs": [],
   "source": []
  }
 ],
 "metadata": {
  "kernelspec": {
   "display_name": "Python 3",
   "language": "python",
   "name": "python3"
  },
  "language_info": {
   "codemirror_mode": {
    "name": "ipython",
    "version": 3
   },
   "file_extension": ".py",
   "mimetype": "text/x-python",
   "name": "python",
   "nbconvert_exporter": "python",
   "pygments_lexer": "ipython3",
   "version": "3.7.4"
  },
  "toc": {
   "base_numbering": 1,
   "nav_menu": {},
   "number_sections": true,
   "sideBar": true,
   "skip_h1_title": false,
   "title_cell": "Table of Contents",
   "title_sidebar": "Contents",
   "toc_cell": false,
   "toc_position": {},
   "toc_section_display": true,
   "toc_window_display": true
  }
 },
 "nbformat": 4,
 "nbformat_minor": 2
}
