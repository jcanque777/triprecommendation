{
 "cells": [
  {
   "cell_type": "code",
   "execution_count": 71,
   "metadata": {},
   "outputs": [],
   "source": [
    "from selenium.webdriver.support import expected_conditions as EC\n",
    "from selenium.common.exceptions import TimeoutException\n",
    "from selenium.webdriver.support.ui import WebDriverWait\n",
    "from selenium.webdriver.common.keys import Keys\n",
    "from selenium.webdriver.common.by import By\n",
    "from selenium import webdriver\n",
    "\n",
    "from bs4 import BeautifulSoup \n",
    "import requests \n",
    "\n",
    "from tqdm import tqdm\n",
    "import time\n",
    "import random\n",
    "from copy import deepcopy\n",
    "\n",
    "import pickle"
   ]
  },
  {
   "cell_type": "code",
   "execution_count": 2,
   "metadata": {},
   "outputs": [],
   "source": [
    "import pandas as pd\n",
    "import numpy as np"
   ]
  },
  {
   "cell_type": "code",
   "execution_count": 6,
   "metadata": {},
   "outputs": [
    {
     "name": "stdout",
     "output_type": "stream",
     "text": [
      "Requirement already satisfied: tqdm in /Users/johnrick/opt/anaconda3/lib/python3.7/site-packages (4.36.1)\n",
      "Note: you may need to restart the kernel to use updated packages.\n"
     ]
    }
   ],
   "source": [
    "pip install tqdm"
   ]
  },
  {
   "cell_type": "markdown",
   "metadata": {},
   "source": [
    "# Scrape"
   ]
  },
  {
   "cell_type": "markdown",
   "metadata": {},
   "source": [
    "## Get Attractions"
   ]
  },
  {
   "cell_type": "code",
   "execution_count": 22,
   "metadata": {},
   "outputs": [],
   "source": [
    "attraction_links = []"
   ]
  },
  {
   "cell_type": "code",
   "execution_count": 19,
   "metadata": {},
   "outputs": [],
   "source": [
    "driver = webdriver.Chrome() #browser should be named driver in the future, common coding etiquette\n",
    "driver.get('https://www.tripadvisor.com/Attractions-g189400-Activities-Athens_Attica.html')"
   ]
  },
  {
   "cell_type": "code",
   "execution_count": 12,
   "metadata": {},
   "outputs": [],
   "source": [
    "miss_links = []"
   ]
  },
  {
   "cell_type": "code",
   "execution_count": 20,
   "metadata": {},
   "outputs": [],
   "source": [
    "soup = BeautifulSoup(driver.page_source)"
   ]
  },
  {
   "cell_type": "markdown",
   "metadata": {},
   "source": [
    "### Finding Links Version 1"
   ]
  },
  {
   "cell_type": "code",
   "execution_count": 21,
   "metadata": {},
   "outputs": [],
   "source": [
    "attractions = soup.find_all('li',{'class':'attractions-attraction-overview-pois-PoiCard__item--3UzYK'})"
   ]
  },
  {
   "cell_type": "code",
   "execution_count": 23,
   "metadata": {},
   "outputs": [],
   "source": [
    "for i in attractions:\n",
    "            attraction_links.append(i.find('a', href=True)['href'])"
   ]
  },
  {
   "cell_type": "code",
   "execution_count": null,
   "metadata": {},
   "outputs": [],
   "source": []
  },
  {
   "cell_type": "markdown",
   "metadata": {},
   "source": [
    "### Finding Links Version 2"
   ]
  },
  {
   "cell_type": "code",
   "execution_count": 30,
   "metadata": {},
   "outputs": [],
   "source": [
    "soup = BeautifulSoup(driver.page_source)"
   ]
  },
  {
   "cell_type": "code",
   "execution_count": 31,
   "metadata": {},
   "outputs": [],
   "source": [
    "attractions2 = (soup.find_all('div', {'class':'attraction_element_tall'}))"
   ]
  },
  {
   "cell_type": "code",
   "execution_count": 35,
   "metadata": {},
   "outputs": [],
   "source": [
    "# Will only work if there's the second type of link in the webpage"
   ]
  },
  {
   "cell_type": "code",
   "execution_count": 32,
   "metadata": {},
   "outputs": [],
   "source": [
    "for i in attractions2:\n",
    "            for j in i.find_all('a', href=True):\n",
    "                if j['href'][:18]== '/Attraction_Review':\n",
    "                    attraction_links.append((j['href']))"
   ]
  },
  {
   "cell_type": "code",
   "execution_count": 34,
   "metadata": {},
   "outputs": [
    {
     "data": {
      "text/plain": [
       "30"
      ]
     },
     "execution_count": 34,
     "metadata": {},
     "output_type": "execute_result"
    }
   ],
   "source": [
    "len(attraction_links)"
   ]
  },
  {
   "cell_type": "code",
   "execution_count": null,
   "metadata": {},
   "outputs": [],
   "source": []
  },
  {
   "cell_type": "markdown",
   "metadata": {},
   "source": [
    "### Finding Next Button"
   ]
  },
  {
   "cell_type": "code",
   "execution_count": 36,
   "metadata": {},
   "outputs": [],
   "source": [
    "for i in soup.find_all('a', href=True):\n",
    "    if i.text == '\\nNext\\n':\n",
    "        link = 'https://www.tripadvisor.com/'+i['href']\n",
    "        driver.get(link)\n",
    "        break"
   ]
  },
  {
   "cell_type": "code",
   "execution_count": 38,
   "metadata": {},
   "outputs": [
    {
     "name": "stdout",
     "output_type": "stream",
     "text": [
      "<a href=\"/Attractions-g189400-Activities-oa30-Athens_Attica.html\">Next</a>\n",
      "<a href=\"/Attractions-g189400-Activities-oa30-Athens_Attica.html\">Next</a>\n"
     ]
    }
   ],
   "source": [
    "for i in soup.find_all('a', href=True):\n",
    "    if i.text == 'Next':\n",
    "        link = 'https://www.tripadvisor.com/'+i['href']\n",
    "        driver.get(link)\n",
    "        break"
   ]
  },
  {
   "cell_type": "code",
   "execution_count": null,
   "metadata": {},
   "outputs": [],
   "source": []
  },
  {
   "cell_type": "markdown",
   "metadata": {},
   "source": [
    "### Code to run"
   ]
  },
  {
   "cell_type": "code",
   "execution_count": null,
   "metadata": {},
   "outputs": [],
   "source": [
    "attraction_links = []\n",
    "miss_links = []"
   ]
  },
  {
   "cell_type": "code",
   "execution_count": null,
   "metadata": {},
   "outputs": [],
   "source": [
    "driver = webdriver.Chrome() #browser should be named driver in the future, common coding etiquette\n",
    "driver.get('https://www.tripadvisor.com/Attractions-g189400-Activities-Athens_Attica.html')"
   ]
  },
  {
   "cell_type": "code",
   "execution_count": 39,
   "metadata": {},
   "outputs": [
    {
     "name": "stderr",
     "output_type": "stream",
     "text": [
      "\n",
      "  0%|          | 0/12 [00:00<?, ?it/s]\u001b[A\n",
      "  8%|▊         | 1/12 [00:04<00:45,  4.11s/it]\u001b[A\n",
      " 17%|█▋        | 2/12 [00:08<00:40,  4.05s/it]\u001b[A\n",
      " 25%|██▌       | 3/12 [00:11<00:33,  3.77s/it]\u001b[A\n",
      " 33%|███▎      | 4/12 [00:15<00:30,  3.83s/it]\u001b[A\n",
      " 42%|████▏     | 5/12 [00:18<00:26,  3.79s/it]\u001b[A\n",
      " 50%|█████     | 6/12 [00:21<00:21,  3.58s/it]\u001b[A\n",
      " 58%|█████▊    | 7/12 [00:25<00:18,  3.66s/it]\u001b[A\n",
      " 67%|██████▋   | 8/12 [00:29<00:14,  3.58s/it]\u001b[A\n",
      " 75%|███████▌  | 9/12 [00:32<00:10,  3.53s/it]\u001b[A\n",
      " 83%|████████▎ | 10/12 [00:35<00:06,  3.45s/it]\u001b[A\n",
      " 92%|█████████▏| 11/12 [00:37<00:02,  2.80s/it]\u001b[A\n",
      "100%|██████████| 12/12 [00:38<00:00,  3.19s/it]\u001b[A\n"
     ]
    }
   ],
   "source": [
    "# Don't run attraction_links in same location\n",
    "# attraction_links = []\n",
    "\n",
    "#319 things to do in Athens\n",
    "#Range= number of pages to go to\n",
    "for i in tqdm(range(12)):\n",
    "#if there is a next button, continue to click and scrape\n",
    "    \n",
    "    try:\n",
    "        soup = BeautifulSoup(driver.page_source)\n",
    "        #finds the attractions for each page\n",
    "        attractions = soup.find_all('li',{'class':'attractions-attraction-overview-pois-PoiCard__item--3UzYK'})\n",
    "        \n",
    "        #find all links in attraction\n",
    "        for i in attractions:\n",
    "            attraction_links.append(i.find('a', href=True)['href'])\n",
    "    except: \n",
    "        print()\n",
    "        pass\n",
    "    \n",
    "    try:\n",
    "        soup = BeautifulSoup(driver.page_source)\n",
    "        #another way to find\n",
    "        attractions2 = (soup.find_all('div', {'class':'attraction_element_tall'}))\n",
    "        \n",
    "        for i in attractions2:\n",
    "            for j in i.find_all('a', href=True):\n",
    "                if j['href'][:18]== '/Attraction_Review':\n",
    "                    attraction_links.append((j['href']))\n",
    "    except:\n",
    "        pass\n",
    "            \n",
    "    #find next button\n",
    "    try:\n",
    "        for i in soup.find_all('a', href=True):\n",
    "            if i.text == '\\nNext\\n':\n",
    "                link = 'https://www.tripadvisor.com/'+i['href']\n",
    "                driver.get(link)\n",
    "                break\n",
    "    except:\n",
    "        pass\n",
    "              \n",
    "    try:\n",
    "        for i in soup.find_all('a', href=True):\n",
    "            if i.text == 'Next':\n",
    "                link = 'https://www.tripadvisor.com/'+i['href']\n",
    "                driver.get(link)\n",
    "                break\n",
    "    except:\n",
    "        miss_links.append(i)\n",
    "        sequence = [x/10 for x in range(5, 10)]\n",
    "        time.sleep(random.choice(sequence))\n",
    "        continue\n",
    "\n",
    "\n",
    "    sequence = [x/10 for x in range(5, 10)]\n",
    "    time.sleep(random.choice(sequence))"
   ]
  },
  {
   "cell_type": "markdown",
   "metadata": {},
   "source": [
    "### Fix Attraction Links"
   ]
  },
  {
   "cell_type": "code",
   "execution_count": 44,
   "metadata": {},
   "outputs": [],
   "source": [
    "attraction_links = list(set(attraction_links))"
   ]
  },
  {
   "cell_type": "code",
   "execution_count": 46,
   "metadata": {},
   "outputs": [
    {
     "data": {
      "text/plain": [
       "576"
      ]
     },
     "execution_count": 46,
     "metadata": {},
     "output_type": "execute_result"
    }
   ],
   "source": [
    "len(attraction_links)"
   ]
  },
  {
   "cell_type": "code",
   "execution_count": 51,
   "metadata": {},
   "outputs": [],
   "source": [
    "#creating a test copy\n",
    "t = deepcopy(attraction_links)"
   ]
  },
  {
   "cell_type": "code",
   "execution_count": 63,
   "metadata": {},
   "outputs": [],
   "source": [
    "for i in attraction_links:\n",
    "    if i[-8:] == '#REVIEWS':\n",
    "        attraction_links.remove(i)"
   ]
  },
  {
   "cell_type": "code",
   "execution_count": 64,
   "metadata": {},
   "outputs": [
    {
     "data": {
      "text/plain": [
       "397"
      ]
     },
     "execution_count": 64,
     "metadata": {},
     "output_type": "execute_result"
    }
   ],
   "source": [
    "len(attraction_links)"
   ]
  },
  {
   "cell_type": "code",
   "execution_count": 68,
   "metadata": {},
   "outputs": [],
   "source": [
    "fixed_links = []"
   ]
  },
  {
   "cell_type": "code",
   "execution_count": 69,
   "metadata": {},
   "outputs": [],
   "source": [
    "for i in attraction_links:\n",
    "    fixed_links.append('https://www.tripadvisor.com'+i)"
   ]
  },
  {
   "cell_type": "code",
   "execution_count": 70,
   "metadata": {},
   "outputs": [
    {
     "data": {
      "text/plain": [
       "['https://www.tripadvisor.com/Attraction_Review-g189400-d12642863-Reviews-Gate_of_Medrese-Athens_Attica.html',\n",
       " 'https://www.tripadvisor.com/Attraction_Review-g189400-d2662541-Reviews-Museum_of_the_History_of_the_Greek_Costume_of_the_Lyceum_Club_of_Greek_Women-Athe.html',\n",
       " 'https://www.tripadvisor.com/Attraction_Review-g189400-d10237374-Reviews-Eleni_Marneri_Galerie-Athens_Attica.html',\n",
       " 'https://www.tripadvisor.com/Attraction_Review-g189400-d18979998-Reviews-Stoa_Avissinias-Athens_Attica.html',\n",
       " 'https://www.tripadvisor.com/Attraction_Review-g189400-d15151578-Reviews-Ikastikos_Kyklos_Sianti-Athens_Attica.html',\n",
       " 'https://www.tripadvisor.com/Attraction_Review-g189400-d10089083-Reviews-ELEYThERH_EKFRASH_Theater-Athens_Attica.html',\n",
       " 'https://www.tripadvisor.com/Attraction_Review-g189400-d1064133-Reviews-Temple_of_Hephaestus-Athens_Attica.html',\n",
       " 'https://www.tripadvisor.com/Attraction_Review-g189400-d11691251-Reviews-Urban_Rail_Transport_S_A_Tramway-Athens_Attica.html',\n",
       " 'https://www.tripadvisor.com/Attraction_Review-g189400-d9845882-Reviews-Masjid_Al_Salam_Mosque-Athens_Attica.html',\n",
       " 'https://www.tripadvisor.com/Attraction_Review-g189400-d7718083-Reviews-Aristotle_s_Lyceum-Athens_Attica.html',\n",
       " 'https://www.tripadvisor.com/Attraction_Review-g189400-d2662540-Reviews-B_M_Theocharakis_Foundation-Athens_Attica.html',\n",
       " 'https://www.tripadvisor.com/Attraction_Review-g189400-d13002047-Reviews-Ancient_Bath-Athens_Attica.html#REVIEWS',\n",
       " 'https://www.tripadvisor.com/Attraction_Review-g189400-d198761-Reviews-Church_of_the_Holy_Apostles-Athens_Attica.html',\n",
       " 'https://www.tripadvisor.com/Attraction_Review-g189400-d12387148-Reviews-Cultural_Centre_MIET-Athens_Attica.html',\n",
       " 'https://www.tripadvisor.com/Attraction_Review-g189400-d3672316-Reviews-Epigraphic_Museum-Athens_Attica.html',\n",
       " 'https://www.tripadvisor.com/Attraction_Review-g189400-d16662605-Reviews-OLVIO-Athens_Attica.html',\n",
       " 'https://www.tripadvisor.com/Attraction_Review-g189400-d566825-Reviews-Museum_of_Greek_Children_s_Art-Athens_Attica.html',\n",
       " 'https://www.tripadvisor.com/Attraction_Review-g189400-d531645-Reviews-Athinais-Athens_Attica.html',\n",
       " 'https://www.tripadvisor.com/Attraction_Review-g189400-d12962467-Reviews-Icarus_Monument_of_Fallen_Aviators-Athens_Attica.html#REVIEWS',\n",
       " 'https://www.tripadvisor.com/Attraction_Review-g189400-d1520208-Reviews-Voula_Beach-Athens_Attica.html',\n",
       " 'https://www.tripadvisor.com/Attraction_Review-g189400-d16813317-Reviews-Statue_of_Damaskinos_Papandreou-Athens_Attica.html#REVIEWS',\n",
       " 'https://www.tripadvisor.com/Attraction_Review-g189400-d242825-Reviews-Museum_of_Greek_Folk_Musical_Instruments-Athens_Attica.html',\n",
       " 'https://www.tripadvisor.com/Attraction_Review-g189400-d8278689-Reviews-National_Observatory_of_Athens_Thiseio-Athens_Attica.html',\n",
       " 'https://www.tripadvisor.com/Attraction_Review-g189400-d13543453-Reviews-Statue_of_Lord_Byron-Athens_Attica.html',\n",
       " 'https://www.tripadvisor.com/Attraction_Review-g189400-d566812-Reviews-Emfietzoglou_Gallery-Athens_Attica.html',\n",
       " 'https://www.tripadvisor.com/Attraction_Review-g189400-d198754-Reviews-Stoa_of_Attalos-Athens_Attica.html#REVIEWS',\n",
       " 'https://www.tripadvisor.com/Attraction_Review-g189400-d2432271-Reviews-The_Academy_of_Athens-Athens_Attica.html',\n",
       " 'https://www.tripadvisor.com/Attraction_Review-g189400-d198756-Reviews-Bouleterion-Athens_Attica.html',\n",
       " 'https://www.tripadvisor.com/Attraction_Review-g189400-d246656-Reviews-Erechtheion-Athens_Attica.html',\n",
       " 'https://www.tripadvisor.com/Attraction_Review-g189400-d8791473-Reviews-Permanent_Exhibition_Man_and_Tools-Athens_Attica.html',\n",
       " 'https://www.tripadvisor.com/Attraction_Review-g189400-d19731869-Reviews-Antiques_Roussos-Athens_Attica.html',\n",
       " 'https://www.tripadvisor.com/Attraction_Review-g189400-d19309950-Reviews-Idryma_Vasili_Elizas_Goulandri-Athens_Attica.html',\n",
       " 'https://www.tripadvisor.com/Attraction_Review-g189400-d18971929-Reviews-Euphoria_Life_Wellness-Athens_Attica.html',\n",
       " 'https://www.tripadvisor.com/Attraction_Review-g189400-d10231299-Reviews-Katehaki_Footbridge-Athens_Attica.html#REVIEWS',\n",
       " 'https://www.tripadvisor.com/Attraction_Review-g189400-d17851236-Reviews-On_Repetition_an_open_treatise_in_action-Athens_Attica.html',\n",
       " 'https://www.tripadvisor.com/Attraction_Review-g189400-d3569017-Reviews-Church_of_Kapnikarea-Athens_Attica.html',\n",
       " 'https://www.tripadvisor.com/Attraction_Review-g189400-d198707-Reviews-Hellenic_Parliament-Athens_Attica.html',\n",
       " 'https://www.tripadvisor.com/Attraction_Review-g189400-d19257328-Reviews-Alhambra_Art_Theater-Athens_Attica.html',\n",
       " 'https://www.tripadvisor.com/Attraction_Review-g189400-d17474176-Reviews-Athens_Attica.html',\n",
       " 'https://www.tripadvisor.com/Attraction_Review-g189400-d4885650-Reviews-Pedion_Tou_Areos_Park-Athens_Attica.html',\n",
       " 'https://www.tripadvisor.com/Attraction_Review-g189400-d16813554-Reviews-Ekklisia_Agias_Ekaterinis-Athens_Attica.html',\n",
       " 'https://www.tripadvisor.com/Attraction_Review-g189400-d13354690-Reviews-Greek_Puppet_Theatre-Athens_Attica.html',\n",
       " 'https://www.tripadvisor.com/Attraction_Review-g189400-d524618-Reviews-Little_Metropolis-Athens_Attica.html#REVIEWS',\n",
       " 'https://www.tripadvisor.com/Attraction_Review-g189400-d15673101-Reviews-Theatro_Vretania-Athens_Attica.html#REVIEWS',\n",
       " 'https://www.tripadvisor.com/Attraction_Review-g189400-d6765437-Reviews-Plato_s_Academy_Park-Athens_Attica.html',\n",
       " 'https://www.tripadvisor.com/Attraction_Review-g189400-d566813-Reviews-Greek_Evangelical_Church-Athens_Attica.html',\n",
       " 'https://www.tripadvisor.com/Attraction_Review-g189400-d10767810-Reviews-TrainOSE_Athens_Suburban_Railway-Athens_Attica.html',\n",
       " 'https://www.tripadvisor.com/Attraction_Review-g189400-d13216175-Reviews-Oasa-Athens_Attica.html',\n",
       " 'https://www.tripadvisor.com/Attraction_Review-g189400-d3247668-Reviews-The_Ioannis_Sykoutris_Library-Athens_Attica.html',\n",
       " 'https://www.tripadvisor.com/Attraction_Review-g189400-d3322821-Reviews-General_State_Archives-Athens_Attica.html',\n",
       " 'https://www.tripadvisor.com/Attraction_Review-g189400-d524609-Reviews-Anafiotika-Athens_Attica.html',\n",
       " 'https://www.tripadvisor.com/Attraction_Review-g189400-d566832-Reviews-St_Paul_s_Anglican_Episcopal_Church-Athens_Attica.html',\n",
       " 'https://www.tripadvisor.com/Attraction_Review-g189400-d524618-Reviews-Little_Metropolis-Athens_Attica.html',\n",
       " 'https://www.tripadvisor.com/Attraction_Review-g189400-d5482193-Reviews-Metapolis-Athens_Attica.html',\n",
       " 'https://www.tripadvisor.com/Attraction_Review-g189400-d566826-Reviews-Museum_of_the_History_of_Athens_University-Athens_Attica.html',\n",
       " 'https://www.tripadvisor.com/Attraction_Review-g189400-d17535146-Reviews-Key_Transfers-Athens_Attica.html',\n",
       " 'https://www.tripadvisor.com/Attraction_Review-g189400-d8134455-Reviews-Nicks_corner-Athens_Attica.html',\n",
       " 'https://www.tripadvisor.com/Attraction_Review-g189400-d15695044-Reviews-The_Bernier_Eliades_Gallery-Athens_Attica.html',\n",
       " 'https://www.tripadvisor.com/Attraction_Review-g189400-d2697222-Reviews-A_Lentakis_Foundation_of_Culture_and_Education-Athens_Attica.html',\n",
       " 'https://www.tripadvisor.com/Attraction_Review-g189400-d11911504-Reviews-Theatre_Odou_Kykladon_Lefteris_Vogiatzis-Athens_Attica.html#REVIEWS',\n",
       " 'https://www.tripadvisor.com/Attraction_Review-g189400-d498309-Reviews-War_Museum-Athens_Attica.html',\n",
       " 'https://www.tripadvisor.com/Attraction_Review-g189400-d8831145-Reviews-Avlitis_Art-Athens_Attica.html#REVIEWS',\n",
       " 'https://www.tripadvisor.com/Attraction_Review-g189400-d566836-Reviews-National_and_Kapodistrian_University_of_Athens-Athens_Attica.html#REVIEWS',\n",
       " 'https://www.tripadvisor.com/Attraction_Review-g189400-d242828-Reviews-Athens_City_Museum-Athens_Attica.html',\n",
       " 'https://www.tripadvisor.com/Attraction_Review-g189400-d16552999-Reviews-Vithoulkas_Antiques-Athens_Attica.html',\n",
       " 'https://www.tripadvisor.com/Attraction_Review-g189400-d10780532-Reviews-Porto_Rafti_Beach-Athens_Attica.html',\n",
       " 'https://www.tripadvisor.com/Attraction_Review-g189400-d7119371-Reviews-Art_Gallery_Artiter_Oil_Paintings-Athens_Attica.html',\n",
       " 'https://www.tripadvisor.com/Attraction_Review-g189400-d1064123-Reviews-Prison_of_Socrates-Athens_Attica.html',\n",
       " 'https://www.tripadvisor.com/Attraction_Review-g189400-d8143950-Reviews-Alexiou_Museums-Athens_Attica.html',\n",
       " 'https://www.tripadvisor.com/Attraction_Review-g189400-d15758645-Reviews-Theatro_Technis_Karolos_Koun-Athens_Attica.html',\n",
       " 'https://www.tripadvisor.com/Attraction_Review-g189400-d15848194-Reviews-Roma_Gallery-Athens_Attica.html',\n",
       " 'https://www.tripadvisor.com/Attraction_Review-g189400-d198708-Reviews-Pandrossou-Athens_Attica.html',\n",
       " 'https://www.tripadvisor.com/Attraction_Review-g189400-d15677186-Reviews-Evripides_Art_Gallery-Athens_Attica.html',\n",
       " 'https://www.tripadvisor.com/Attraction_Review-g189400-d16726232-Reviews-Mnimio_tou_Agnostou_Kallitechni-Athens_Attica.html',\n",
       " 'https://www.tripadvisor.com/Attraction_Review-g189400-d3672353-Reviews-MOMus_Museum_Alex_Mylona-Athens_Attica.html#REVIEWS',\n",
       " 'https://www.tripadvisor.com/Attraction_Review-g189400-d607262-Reviews-Olympia_Theater-Athens_Attica.html',\n",
       " 'https://www.tripadvisor.com/Attraction_Review-g189400-d8121195-Reviews-School_Life_and_Education_Museum-Athens_Attica.html',\n",
       " 'https://www.tripadvisor.com/Attraction_Review-g189400-d4339382-Reviews-To_Treno_sto_Rouf_railway_carriage_theater-Athens_Attica.html',\n",
       " 'https://www.tripadvisor.com/Attraction_Review-g189400-d15137010-Reviews-Museum_of_Illusions_Athens-Athens_Attica.html',\n",
       " 'https://www.tripadvisor.com/Attraction_Review-g189400-d11785397-Reviews-Maximos_Mansion-Athens_Attica.html',\n",
       " 'https://www.tripadvisor.com/Attraction_Review-g189400-d7759649-Reviews-Attiko_Metro_S_A-Athens_Attica.html',\n",
       " 'https://www.tripadvisor.com/Attraction_Review-g189400-d16726004-Reviews-Parko_Rizari-Athens_Attica.html',\n",
       " 'https://www.tripadvisor.com/Attraction_Review-g189400-d566835-Reviews-Tzisdarakis_Mosque_o_Moschea_della_Fontana_di_sotto-Athens_Attica.html',\n",
       " 'https://www.tripadvisor.com/Attraction_Review-g189400-d7680681-Reviews-Library_of_Archdiocese_of_Athens-Athens_Attica.html',\n",
       " 'https://www.tripadvisor.com/Attraction_Review-g189400-d1067330-Reviews-Dora_Stratou_Greek_Dances_Theatre-Athens_Attica.html',\n",
       " 'https://www.tripadvisor.com/Attraction_Review-g189400-d8561069-Reviews-Church_of_Saint_Isidore-Athens_Attica.html',\n",
       " 'https://www.tripadvisor.com/Attraction_Review-g189400-d245991-Reviews-Panathenaic_Stadium-Athens_Attica.html',\n",
       " 'https://www.tripadvisor.com/Attraction_Review-g189400-d12206223-Reviews-Pantheon-Athens_Attica.html',\n",
       " 'https://www.tripadvisor.com/Attraction_Review-g189400-d198756-Reviews-Bouleterion-Athens_Attica.html#REVIEWS',\n",
       " 'https://www.tripadvisor.com/Attraction_Review-g189400-d16239225-Reviews-L_A_yoga_studio-Athens_Attica.html',\n",
       " 'https://www.tripadvisor.com/Attraction_Review-g189400-d3672094-Reviews-Museum_of_the_Ancient_Agora-Athens_Attica.html#REVIEWS',\n",
       " 'https://www.tripadvisor.com/Attraction_Review-g189400-d3683583-Reviews-Hymettus-Athens_Attica.html',\n",
       " 'https://www.tripadvisor.com/Attraction_Review-g189400-d242831-Reviews-Museum_of_Pavlos_and_Alexandra_Kanellopoulos-Athens_Attica.html',\n",
       " 'https://www.tripadvisor.com/Attraction_Review-g189400-d17519213-Reviews-Koilon_Theatre-Athens_Attica.html#REVIEWS',\n",
       " 'https://www.tripadvisor.com/Attraction_Review-g189400-d3673678-Reviews-Foundation_of_the_Hellenic_World-Athens_Attica.html',\n",
       " 'https://www.tripadvisor.com/Attraction_Review-g189400-d3673429-Reviews-Postal_Philatelic_Museum-Athens_Attica.html',\n",
       " 'https://www.tripadvisor.com/Attraction_Review-g189400-d12150474-Reviews-ArtZone42_Gallery-Athens_Attica.html#REVIEWS',\n",
       " 'https://www.tripadvisor.com/Attraction_Review-g189400-d16726257-Reviews-Platia_Eleftherias_Koumoundourou-Athens_Attica.html#REVIEWS',\n",
       " 'https://www.tripadvisor.com/Attraction_Review-g189400-d19645188-Reviews-Greek_National_Opera-Athens_Attica.html',\n",
       " 'https://www.tripadvisor.com/Attraction_Review-g189400-d8098913-Reviews-Theatro_Technis_Karolos_Koun_Frinichou-Athens_Attica.html#REVIEWS',\n",
       " 'https://www.tripadvisor.com/Attraction_Review-g189400-d242818-Reviews-Greek_Folk_Art_Museum_Museo_Ellinikis_Laikis_Technis-Athens_Attica.html',\n",
       " 'https://www.tripadvisor.com/Attraction_Review-g189400-d6739897-Reviews-Hadrian_s_Library-Athens_Attica.html',\n",
       " 'https://www.tripadvisor.com/Attraction_Review-g189400-d5999435-Reviews-Syntagma_Station-Athens_Attica.html',\n",
       " 'https://www.tripadvisor.com/Attraction_Review-g189400-d6522418-Reviews-Badminton_Theater-Athens_Attica.html',\n",
       " 'https://www.tripadvisor.com/Attraction_Review-g189400-d4298157-Reviews-Museum_of_Mineralogy_and_Petrology-Athens_Attica.html#REVIEWS',\n",
       " 'https://www.tripadvisor.com/Attraction_Review-g189400-d607283-Reviews-Pallas_Theater-Athens_Attica.html',\n",
       " 'https://www.tripadvisor.com/Attraction_Review-g189400-d3672205-Reviews-Museum_Marika_Kotopouli-Athens_Attica.html',\n",
       " 'https://www.tripadvisor.com/Attraction_Review-g189400-d3673508-Reviews-Paxinou_Minotis_Museum_and_Archive-Athens_Attica.html',\n",
       " 'https://www.tripadvisor.com/Attraction_Review-g189400-d1064131-Reviews-Areopagus-Athens_Attica.html',\n",
       " 'https://www.tripadvisor.com/Attraction_Review-g189400-d13492914-Reviews-Kotsanas_Museum_of_Ancient_Greek_Technology-Athens_Attica.html',\n",
       " 'https://www.tripadvisor.com/Attraction_Review-g189400-d12654175-Reviews-The_Holocaust_Memorial-Athens_Attica.html#REVIEWS',\n",
       " 'https://www.tripadvisor.com/Attraction_Review-g189400-d18186550-Reviews-Monastraki_Flea_Market-Athens_Attica.html',\n",
       " 'https://www.tripadvisor.com/Attraction_Review-g189400-d1420241-Reviews-Zappeion_Conference_Exhibition_Center-Athens_Attica.html',\n",
       " 'https://www.tripadvisor.com/Attraction_Review-g189400-d242832-Reviews-Kerameikos_Cemetery-Athens_Attica.html',\n",
       " 'https://www.tripadvisor.com/Attraction_Review-g189400-d4579606-Reviews-Orlik_Gallery-Athens_Attica.html',\n",
       " 'https://www.tripadvisor.com/Attraction_Review-g189400-d11638929-Reviews-Tzeni_Karezi-Athens_Attica.html',\n",
       " 'https://www.tripadvisor.com/Attraction_Review-g189400-d519616-Reviews-Monument_of_Lysikrates-Athens_Attica.html',\n",
       " 'https://www.tripadvisor.com/Attraction_Review-g189400-d6522418-Reviews-Badminton_Theater-Athens_Attica.html#REVIEWS',\n",
       " 'https://www.tripadvisor.com/Attraction_Review-g189400-d198934-Reviews-National_Gallery_Museum_Alexandros_Soutzos-Athens_Attica.html',\n",
       " 'https://www.tripadvisor.com/Attraction_Review-g189400-d198947-Reviews-Omonia_Square-Athens_Attica.html',\n",
       " 'https://www.tripadvisor.com/Attraction_Review-g189400-d7117699-Reviews-Apostolos_Nikolaidis_Stadium-Athens_Attica.html#REVIEWS',\n",
       " 'https://www.tripadvisor.com/Attraction_Review-g189400-d17714537-Reviews-Agios_Ioannis_tis_Kolonas-Athens_Attica.html',\n",
       " 'https://www.tripadvisor.com/Attraction_Review-g189400-d242841-Reviews-Roman_Agora-Athens_Attica.html#REVIEWS',\n",
       " 'https://www.tripadvisor.com/Attraction_Review-g189400-d17535859-Reviews-Mousio_Zoologias_Panepistimiou_Athinon-Athens_Attica.html',\n",
       " 'https://www.tripadvisor.com/Attraction_Review-g189400-d3672330-Reviews-Museum_of_the_Center_for_the_Acropolis_Studies-Athens_Attica.html#REVIEWS',\n",
       " 'https://www.tripadvisor.com/Attraction_Review-g189400-d13091984-Reviews-Statue_of_Menander-Athens_Attica.html',\n",
       " 'https://www.tripadvisor.com/Attraction_Review-g189400-d13437092-Reviews-Apostolou_Pavlou_Street-Athens_Attica.html',\n",
       " 'https://www.tripadvisor.com/Attraction_Review-g189400-d10231299-Reviews-Katehaki_Footbridge-Athens_Attica.html',\n",
       " 'https://www.tripadvisor.com/Attraction_Review-g189400-d198712-Reviews-Museum_of_Cycladic_Art-Athens_Attica.html',\n",
       " 'https://www.tripadvisor.com/Attraction_Review-g189400-d8021532-Reviews-Athens_Tourist_Information_Centre-Athens_Attica.html',\n",
       " 'https://www.tripadvisor.com/Attraction_Review-g189400-d13794889-Reviews-Church_of_Panagias_Grigorousas-Athens_Attica.html',\n",
       " 'https://www.tripadvisor.com/Attraction_Review-g189400-d2693885-Reviews-Allou_Fun_Park-Athens_Attica.html#REVIEWS',\n",
       " 'https://www.tripadvisor.com/Attraction_Review-g189400-d17535736-Reviews-Proto_Nekrotafio_Athinon-Athens_Attica.html#REVIEWS',\n",
       " 'https://www.tripadvisor.com/Attraction_Review-g189400-d3671984-Reviews-Dodecanese_Home_Museum-Athens_Attica.html',\n",
       " 'https://www.tripadvisor.com/Attraction_Review-g189400-d19121606-Reviews-Museum_Makronisou-Athens_Attica.html',\n",
       " 'https://www.tripadvisor.com/Attraction_Review-g189400-d6529063-Reviews-Topos_Allou_Theatre-Athens_Attica.html',\n",
       " 'https://www.tripadvisor.com/Attraction_Review-g189400-d8831145-Reviews-Avlitis_Art-Athens_Attica.html',\n",
       " 'https://www.tripadvisor.com/Attraction_Review-g189400-d8098913-Reviews-Theatro_Technis_Karolos_Koun_Frinichou-Athens_Attica.html',\n",
       " 'https://www.tripadvisor.com/Attraction_Review-g189400-d17762493-Reviews-Church_Holy_Trinity-Athens_Attica.html',\n",
       " 'https://www.tripadvisor.com/Attraction_Review-g189400-d17535146-Reviews-Key_Transfers-Athens_Attica.html#REVIEWS',\n",
       " 'https://www.tripadvisor.com/Attraction_Review-g189400-d2307236-Reviews-Municipal_Art_Gallery-Athens_Attica.html',\n",
       " 'https://www.tripadvisor.com/Attraction_Review-g189400-d2662543-Reviews-Exile_Museum-Athens_Attica.html',\n",
       " 'https://www.tripadvisor.com/Attraction_Review-g189400-d319301-Reviews-The_Monastery_of_Daphni-Athens_Attica.html',\n",
       " 'https://www.tripadvisor.com/Attraction_Review-g189400-d607262-Reviews-Olympia_Theater-Athens_Attica.html#REVIEWS',\n",
       " 'https://www.tripadvisor.com/Attraction_Review-g189400-d1064123-Reviews-Prison_of_Socrates-Athens_Attica.html#REVIEWS',\n",
       " 'https://www.tripadvisor.com/Attraction_Review-g189400-d3672201-Reviews-Pierides_Museum_of_Ancient_Cypriot_Art-Athens_Attica.html',\n",
       " 'https://www.tripadvisor.com/Attraction_Review-g189400-d8820343-Reviews-Rockwave_Festival-Athens_Attica.html#REVIEWS',\n",
       " 'https://www.tripadvisor.com/Attraction_Review-g189400-d3672113-Reviews-Dimitris_Pierides_Museum_of_Contemporary_Art-Athens_Attica.html',\n",
       " 'https://www.tripadvisor.com/Attraction_Review-g189400-d198710-Reviews-Tower_of_the_Winds-Athens_Attica.html',\n",
       " 'https://www.tripadvisor.com/Attraction_Review-g189400-d10322936-Reviews-Agios_Nicholas_Rangavas_Church-Athens_Attica.html',\n",
       " 'https://www.tripadvisor.com/Attraction_Review-g189400-d8123913-Reviews-St_Sophia_s_Church_of_Acropolis-Athens_Attica.html',\n",
       " 'https://www.tripadvisor.com/Attraction_Review-g189400-d6684136-Reviews-Amorgos_Antique_Store-Athens_Attica.html#REVIEWS',\n",
       " 'https://www.tripadvisor.com/Attraction_Review-g189400-d9807410-Reviews-Sofita_Vintage_Shop-Athens_Attica.html#REVIEWS',\n",
       " 'https://www.tripadvisor.com/Attraction_Review-g189400-d198760-Reviews-Panathenaic_Way-Athens_Attica.html',\n",
       " 'https://www.tripadvisor.com/Attraction_Review-g189400-d12295887-Reviews-Kolokotroni_Statue-Athens_Attica.html',\n",
       " 'https://www.tripadvisor.com/Attraction_Review-g189400-d12172120-Reviews-Rex_Cinema_and_Theatre_Hall_Add_to_Wish_List-Athens_Attica.html',\n",
       " 'https://www.tripadvisor.com/Attraction_Review-g189400-d17425329-Reviews-Strange_Brew_Taproom_Bottleshop-Athens_Attica.html',\n",
       " 'https://www.tripadvisor.com/Attraction_Review-g189400-d7257986-Reviews-Greek_Gastronomy_Museum-Athens_Attica.html#REVIEWS',\n",
       " 'https://www.tripadvisor.com/Attraction_Review-g189400-d198714-Reviews-Benaki_Museum-Athens_Attica.html',\n",
       " 'https://www.tripadvisor.com/Attraction_Review-g189400-d10100347-Reviews-St_Marina_Church-Athens_Attica.html',\n",
       " 'https://www.tripadvisor.com/Attraction_Review-g189400-d15341456-Reviews-Athens_Railway_Museum-Athens_Attica.html',\n",
       " 'https://www.tripadvisor.com/Attraction_Review-g189400-d3673654-Reviews-Greek_Children_s_Museum-Athens_Attica.html',\n",
       " 'https://www.tripadvisor.com/Attraction_Review-g189400-d2687991-Reviews-Angelos_and_Leto_Katakouzenos_Foundation-Athens_Attica.html',\n",
       " 'https://www.tripadvisor.com/Attraction_Review-g189400-d242820-Reviews-Arch_of_Hadrian_Pili_tou_Adrianou-Athens_Attica.html',\n",
       " 'https://www.tripadvisor.com/Attraction_Review-g189400-d2665638-Reviews-Hellenic_Motor_Museum-Athens_Attica.html',\n",
       " 'https://www.tripadvisor.com/Attraction_Review-g189400-d12919607-Reviews-KTEL_Attikis-Athens_Attica.html#REVIEWS',\n",
       " 'https://www.tripadvisor.com/Attraction_Review-g189400-d14181775-Reviews-Melina_Mercuri_Museum_and_Cultural_Centre-Athens_Attica.html',\n",
       " 'https://www.tripadvisor.com/Attraction_Review-g189400-d3672384-Reviews-Benaki_Museum-Athens_Attica.html',\n",
       " 'https://www.tripadvisor.com/Attraction_Review-g189400-d11677665-Reviews-Agios_Pavlos_Church-Athens_Attica.html',\n",
       " 'https://www.tripadvisor.com/Attraction_Review-g189400-d8028594-Reviews-Ieros_Naos_Agios_Dimitrios_Loubardiaris-Athens_Attica.html',\n",
       " 'https://www.tripadvisor.com/Attraction_Review-g189400-d793255-Reviews-Athens_Street-Athens_Attica.html',\n",
       " 'https://www.tripadvisor.com/Attraction_Review-g189400-d8016917-Reviews-Pinakothiki_Nikos_Hadjikyriakos_Ghikas-Athens_Attica.html#REVIEWS',\n",
       " 'https://www.tripadvisor.com/Attraction_Review-g189400-d10322936-Reviews-Agios_Nicholas_Rangavas_Church-Athens_Attica.html#REVIEWS',\n",
       " 'https://www.tripadvisor.com/Attraction_Review-g189400-d15673101-Reviews-Theatro_Vretania-Athens_Attica.html',\n",
       " 'https://www.tripadvisor.com/Attraction_Review-g189400-d11689616-Reviews-Attica_The_Department_Store-Athens_Attica.html',\n",
       " 'https://www.tripadvisor.com/Attraction_Review-g189400-d1411337-Reviews-OSE-Athens_Attica.html',\n",
       " 'https://www.tripadvisor.com/Attraction_Review-g189400-d3672205-Reviews-Museum_Marika_Kotopouli-Athens_Attica.html#REVIEWS',\n",
       " 'https://www.tripadvisor.com/Attraction_Review-g189400-d3672277-Reviews-Museum_of_Asia_Minor_Hellenism_Filio_Chaidemenou-Athens_Attica.html',\n",
       " 'https://www.tripadvisor.com/Attraction_Review-g189400-d14040752-Reviews-Dynamo-Athens_Attica.html#REVIEWS',\n",
       " 'https://www.tripadvisor.com/Attraction_Review-g189400-d8517802-Reviews-The_Bathhouse_of_the_Winds-Athens_Attica.html',\n",
       " 'https://www.tripadvisor.com/Attraction_Review-g189400-d246659-Reviews-Temple_of_Athena_Nike-Athens_Attica.html',\n",
       " 'https://www.tripadvisor.com/Attraction_Review-g189400-d8120745-Reviews-Pandora_Art_Gallery-Athens_Attica.html',\n",
       " 'https://www.tripadvisor.com/Attraction_Review-g189400-d2329800-Reviews-Olympic_Athletic_Center_of_Athens_O_A_K_A_Spiros_Louis-Athens_Attica.html',\n",
       " 'https://www.tripadvisor.com/Attraction_Review-g189400-d242830-Reviews-Numismatic_Museum-Athens_Attica.html',\n",
       " 'https://www.tripadvisor.com/Attraction_Review-g189400-d8820409-Reviews-Athens_and_Epidaurus_Festival-Athens_Attica.html',\n",
       " 'https://www.tripadvisor.com/Attraction_Review-g189400-d245993-Reviews-Tomb_of_the_Unknown_Soldier-Athens_Attica.html#REVIEWS',\n",
       " 'https://www.tripadvisor.com/Attraction_Review-g189400-d16726220-Reviews-Platia_Eksarchion-Athens_Attica.html',\n",
       " 'https://www.tripadvisor.com/Attraction_Review-g189400-d3673654-Reviews-Greek_Children_s_Museum-Athens_Attica.html#REVIEWS',\n",
       " 'https://www.tripadvisor.com/Attraction_Review-g189400-d5498844-Reviews-Grand_Promenade-Athens_Attica.html',\n",
       " 'https://www.tripadvisor.com/Attraction_Review-g189400-d12150474-Reviews-ArtZone42_Gallery-Athens_Attica.html',\n",
       " 'https://www.tripadvisor.com/Attraction_Review-g189400-d198706-Reviews-Acropolis-Athens_Attica.html',\n",
       " 'https://www.tripadvisor.com/Attraction_Review-g189400-d3672225-Reviews-Touch_Museum-Athens_Attica.html',\n",
       " 'https://www.tripadvisor.com/Attraction_Review-g189400-d12962467-Reviews-Icarus_Monument_of_Fallen_Aviators-Athens_Attica.html',\n",
       " 'https://www.tripadvisor.com/Attraction_Review-g189400-d12526401-Reviews-Athens_Gallery-Athens_Attica.html',\n",
       " 'https://www.tripadvisor.com/Attraction_Review-g189400-d7117699-Reviews-Apostolos_Nikolaidis_Stadium-Athens_Attica.html',\n",
       " 'https://www.tripadvisor.com/Attraction_Review-g189400-d13737733-Reviews-Athens_Tower-Athens_Attica.html',\n",
       " 'https://www.tripadvisor.com/Attraction_Review-g189400-d8115426-Reviews-Technohoros_Art_Gallery-Athens_Attica.html#REVIEWS',\n",
       " 'https://www.tripadvisor.com/Attraction_Review-g189400-d10336669-Reviews-Lycabettus_Funicular-Athens_Attica.html',\n",
       " 'https://www.tripadvisor.com/Attraction_Review-g189400-d198777-Reviews-Psirri-Athens_Attica.html',\n",
       " 'https://www.tripadvisor.com/Attraction_Review-g189400-d591581-Reviews-Design_Museum_of_the_20th_Century-Athens_Attica.html',\n",
       " 'https://www.tripadvisor.com/Attraction_Review-g189400-d12447446-Reviews-Agia_Fotini_Ilissos-Athens_Attica.html',\n",
       " 'https://www.tripadvisor.com/Attraction_Review-g189400-d2663191-Reviews-Emotions_Museum-Athens_Attica.html',\n",
       " 'https://www.tripadvisor.com/Attraction_Review-g189400-d17566630-Reviews-Gazi_Music_Hall-Athens_Attica.html',\n",
       " 'https://www.tripadvisor.com/Attraction_Review-g189400-d3672157-Reviews-Museum_and_Study_Centre_of_Greek_Theatre-Athens_Attica.html',\n",
       " 'https://www.tripadvisor.com/Attraction_Review-g189400-d18313126-Reviews-Monument_to_Georgios_Averoff-Athens_Attica.html',\n",
       " 'https://www.tripadvisor.com/Attraction_Review-g189400-d6529063-Reviews-Topos_Allou_Theatre-Athens_Attica.html#REVIEWS',\n",
       " 'https://www.tripadvisor.com/Attraction_Review-g189400-d566805-Reviews-Agios_Dionysios_Areopagitis_Catholic_Cathedral-Athens_Attica.html',\n",
       " 'https://www.tripadvisor.com/Attraction_Review-g189400-d8123913-Reviews-St_Sophia_s_Church_of_Acropolis-Athens_Attica.html#REVIEWS',\n",
       " 'https://www.tripadvisor.com/Attraction_Review-g189400-d8745120-Reviews-Church_of_Metamorphosis-Athens_Attica.html',\n",
       " 'https://www.tripadvisor.com/Attraction_Review-g189400-d7953031-Reviews-Agios_Dionysios_Areopagitis_Church-Athens_Attica.html',\n",
       " 'https://www.tripadvisor.com/Attraction_Review-g189400-d198711-Reviews-Parthenon-Athens_Attica.html',\n",
       " 'https://www.tripadvisor.com/Attraction_Review-g189400-d198761-Reviews-Church_of_the_Holy_Apostles-Athens_Attica.html#REVIEWS',\n",
       " 'https://www.tripadvisor.com/Attraction_Review-g189400-d10162167-Reviews-Alsos_Neas_Smirnis_Park-Athens_Attica.html',\n",
       " 'https://www.tripadvisor.com/Attraction_Review-g189400-d13354690-Reviews-Greek_Puppet_Theatre-Athens_Attica.html#REVIEWS',\n",
       " 'https://www.tripadvisor.com/Attraction_Review-g189400-d2389801-Reviews-Benaki_Museum_of_Islamic_Art-Athens_Attica.html',\n",
       " 'https://www.tripadvisor.com/Attraction_Review-g189400-d8091215-Reviews-Dromeas-Athens_Attica.html',\n",
       " 'https://www.tripadvisor.com/Attraction_Review-g189400-d9595587-Reviews-Agia_Paraskevi_Church-Athens_Attica.html',\n",
       " 'https://www.tripadvisor.com/Attraction_Review-g189400-d14040752-Reviews-Dynamo-Athens_Attica.html',\n",
       " 'https://www.tripadvisor.com/Attraction_Review-g189400-d13216175-Reviews-Oasa-Athens_Attica.html#REVIEWS',\n",
       " 'https://www.tripadvisor.com/Attraction_Review-g189400-d10796140-Reviews-Church_of_St_Mary_Pantanassa-Athens_Attica.html#REVIEWS',\n",
       " 'https://www.tripadvisor.com/Attraction_Review-g189400-d198762-Reviews-Adrianou_Street-Athens_Attica.html',\n",
       " 'https://www.tripadvisor.com/Attraction_Review-g189400-d241084-Reviews-Beach_Club_Alimos-Athens_Attica.html',\n",
       " 'https://www.tripadvisor.com/Attraction_Review-g189400-d531636-Reviews-Deste_Foundation_Centre_For_Contemporary_Art-Athens_Attica.html',\n",
       " 'https://www.tripadvisor.com/Attraction_Review-g189400-d13385654-Reviews-Epigraphical_Museum-Athens_Attica.html',\n",
       " 'https://www.tripadvisor.com/Attraction_Review-g189400-d17338907-Reviews-Fokianos_Sports_Park-Athens_Attica.html',\n",
       " 'https://www.tripadvisor.com/Attraction_Review-g189400-d9829572-Reviews-Theatro_Chytirio-Athens_Attica.html#REVIEWS',\n",
       " 'https://www.tripadvisor.com/Attraction_Review-g189400-d198948-Reviews-Avysinias_Square-Athens_Attica.html',\n",
       " 'https://www.tripadvisor.com/Attraction_Review-g189400-d11804223-Reviews-Agioi_Theodoroi_Church-Athens_Attica.html',\n",
       " 'https://www.tripadvisor.com/Attraction_Review-g189400-d6778518-Reviews-Cava_Canava_Winery-Athens_Attica.html',\n",
       " 'https://www.tripadvisor.com/Attraction_Review-g189400-d3314169-Reviews-ASFA_Library-Athens_Attica.html',\n",
       " 'https://www.tripadvisor.com/Attraction_Review-g189400-d3672133-Reviews-Museum_of_Engravings_and_Graphic_Arts-Athens_Attica.html',\n",
       " 'https://www.tripadvisor.com/Attraction_Review-g189400-d16726031-Reviews-Agalma_Harry_Trouman-Athens_Attica.html',\n",
       " 'https://www.tripadvisor.com/Attraction_Review-g189400-d19798708-Reviews-Altar_of_Zeus_Agoraios-Athens_Attica.html#REVIEWS',\n",
       " 'https://www.tripadvisor.com/Attraction_Review-g189400-d8517802-Reviews-The_Bathhouse_of_the_Winds-Athens_Attica.html#REVIEWS',\n",
       " 'https://www.tripadvisor.com/Attraction_Review-g189400-d198776-Reviews-Kolonaki_Square-Athens_Attica.html',\n",
       " 'https://www.tripadvisor.com/Attraction_Review-g189400-d12423166-Reviews-Presidential_Mansion-Athens_Attica.html',\n",
       " 'https://www.tripadvisor.com/Attraction_Review-g189400-d13437134-Reviews-Memorial_Site_1941_1944-Athens_Attica.html#REVIEWS',\n",
       " 'https://www.tripadvisor.com/Attraction_Review-g189400-d17759991-Reviews-Epikera_Bookshop-Athens_Attica.html',\n",
       " 'https://www.tripadvisor.com/Attraction_Review-g189400-d242841-Reviews-Roman_Agora-Athens_Attica.html',\n",
       " 'https://www.tripadvisor.com/Attraction_Review-g189400-d10813849-Reviews-National_Museum_of_Contemporary_Art-Athens_Attica.html#REVIEWS',\n",
       " 'https://www.tripadvisor.com/Attraction_Review-g189400-d242844-Reviews-Temple_of_Olympian_Zeus-Athens_Attica.html',\n",
       " 'https://www.tripadvisor.com/Attraction_Review-g189400-d198754-Reviews-Stoa_of_Attalos-Athens_Attica.html',\n",
       " 'https://www.tripadvisor.com/Attraction_Review-g189400-d10494284-Reviews-National_Theatre_of_Greece-Athens_Attica.html',\n",
       " 'https://www.tripadvisor.com/Attraction_Review-g189400-d13002047-Reviews-Ancient_Bath-Athens_Attica.html',\n",
       " 'https://www.tripadvisor.com/Attraction_Review-g189400-d19822754-Reviews-Luminous_Eye-Athens_Attica.html',\n",
       " 'https://www.tripadvisor.com/Attraction_Review-g189400-d7113512-Reviews-Kipotheatro_Papagou-Athens_Attica.html',\n",
       " 'https://www.tripadvisor.com/Attraction_Review-g189400-d2686913-Reviews-Hellenic_Folklore_Research_Centre-Athens_Attica.html',\n",
       " 'https://www.tripadvisor.com/Attraction_Review-g189400-d11677665-Reviews-Agios_Pavlos_Church-Athens_Attica.html#REVIEWS',\n",
       " 'https://www.tripadvisor.com/Attraction_Review-g189400-d198946-Reviews-Philomousou_Etairias_Square-Athens_Attica.html',\n",
       " 'https://www.tripadvisor.com/Attraction_Review-g189400-d12314523-Reviews-Vault_Theatre_Plus-Athens_Attica.html',\n",
       " 'https://www.tripadvisor.com/Attraction_Review-g189400-d1419998-Reviews-Technopolis_City_of_Athens-Athens_Attica.html',\n",
       " 'https://www.tripadvisor.com/Attraction_Review-g189400-d18186550-Reviews-Monastraki_Flea_Market-Athens_Attica.html#REVIEWS',\n",
       " 'https://www.tripadvisor.com/Attraction_Review-g189400-d3673470-Reviews-Maria_Callas_Museum-Athens_Attica.html',\n",
       " 'https://www.tripadvisor.com/Attraction_Review-g189400-d16726044-Reviews-Platia_Themistokleous-Athens_Attica.html#REVIEWS',\n",
       " 'https://www.tripadvisor.com/Attraction_Review-g189400-d8616472-Reviews-CAN_Christina_Androulidaki_Gallery-Athens_Attica.html',\n",
       " 'https://www.tripadvisor.com/Attraction_Review-g189400-d2662538-Reviews-Museum_Herakleidon-Athens_Attica.html',\n",
       " 'https://www.tripadvisor.com/Attraction_Review-g189400-d17664794-Reviews-Mavili_Beach-Athens_Attica.html',\n",
       " 'https://www.tripadvisor.com/Attraction_Review-g189400-d15235071-Reviews-Theater_Ilisia-Athens_Attica.html',\n",
       " 'https://www.tripadvisor.com/Attraction_Review-g189400-d3572490-Reviews-Ioannidou_Art_Gallery-Athens_Attica.html',\n",
       " 'https://www.tripadvisor.com/Attraction_Review-g189400-d19798708-Reviews-Altar_of_Zeus_Agoraios-Athens_Attica.html',\n",
       " 'https://www.tripadvisor.com/Attraction_Review-g189400-d2389801-Reviews-Benaki_Museum_of_Islamic_Art-Athens_Attica.html#REVIEWS',\n",
       " 'https://www.tripadvisor.com/Attraction_Review-g189400-d11911504-Reviews-Theatre_Odou_Kykladon_Lefteris_Vogiatzis-Athens_Attica.html',\n",
       " 'https://www.tripadvisor.com/Attraction_Review-g189400-d13864712-Reviews-Theotokis_Oldmarket-Athens_Attica.html',\n",
       " 'https://www.tripadvisor.com/Attraction_Review-g189400-d7702554-Reviews-Microlimano-Athens_Attica.html#REVIEWS',\n",
       " 'https://www.tripadvisor.com/Attraction_Review-g189400-d2329800-Reviews-Olympic_Athletic_Center_of_Athens_O_A_K_A_Spiros_Louis-Athens_Attica.html#REVIEWS',\n",
       " 'https://www.tripadvisor.com/Attraction_Review-g189400-d1674838-Reviews-Cultural_Centre_Hellenic_Cosmos-Athens_Attica.html',\n",
       " 'https://www.tripadvisor.com/Attraction_Review-g189400-d3672384-Reviews-Benaki_Museum-Athens_Attica.html#REVIEWS',\n",
       " 'https://www.tripadvisor.com/Attraction_Review-g189400-d15324794-Reviews-Armenian_Orthodox_Cathedral-Athens_Attica.html#REVIEWS',\n",
       " 'https://www.tripadvisor.com/Attraction_Review-g189400-d10150949-Reviews-Melina_Mercouri_Foundation-Athens_Attica.html',\n",
       " 'https://www.tripadvisor.com/Attraction_Review-g189400-d7734309-Reviews-Church_of_St_Panteleimon-Athens_Attica.html',\n",
       " 'https://www.tripadvisor.com/Attraction_Review-g189400-d5996765-Reviews-Geo_Routes_Cultural_Heritage_Journeys_Institute-Athens_Attica.html',\n",
       " 'https://www.tripadvisor.com/Attraction_Review-g189400-d10786929-Reviews-Saint_Nicholas_Pefkakia-Athens_Attica.html#REVIEWS',\n",
       " 'https://www.tripadvisor.com/Attraction_Review-g189400-d9829572-Reviews-Theatro_Chytirio-Athens_Attica.html',\n",
       " 'https://www.tripadvisor.com/Attraction_Review-g189400-d11864168-Reviews-Noctua_Brewery_Athens-Athens_Attica.html',\n",
       " 'https://www.tripadvisor.com/Attraction_Review-g189400-d2432301-Reviews-Kotzia_Square-Athens_Attica.html',\n",
       " 'https://www.tripadvisor.com/Attraction_Review-g189400-d7076931-Reviews-Regency_CASINO_Mont_Parnes-Athens_Attica.html',\n",
       " 'https://www.tripadvisor.com/Attraction_Review-g189400-d10206408-Reviews-Philopappos_Monument-Athens_Attica.html',\n",
       " 'https://www.tripadvisor.com/Attraction_Review-g189400-d242820-Reviews-Arch_of_Hadrian_Pili_tou_Adrianou-Athens_Attica.html#REVIEWS',\n",
       " 'https://www.tripadvisor.com/Attraction_Review-g189400-d15324794-Reviews-Armenian_Orthodox_Cathedral-Athens_Attica.html',\n",
       " 'https://www.tripadvisor.com/Attraction_Review-g189400-d19645188-Reviews-Greek_National_Opera-Athens_Attica.html#REVIEWS',\n",
       " 'https://www.tripadvisor.com/Attraction_Review-g189400-d10336669-Reviews-Lycabettus_Funicular-Athens_Attica.html#REVIEWS',\n",
       " 'https://www.tripadvisor.com/Attraction_Review-g189400-d245989-Reviews-Mount_Lycabettus-Athens_Attica.html',\n",
       " 'https://www.tripadvisor.com/Attraction_Review-g189400-d16726220-Reviews-Platia_Eksarchion-Athens_Attica.html#REVIEWS',\n",
       " 'https://www.tripadvisor.com/Attraction_Review-g189400-d7257986-Reviews-Greek_Gastronomy_Museum-Athens_Attica.html',\n",
       " 'https://www.tripadvisor.com/Attraction_Review-g189400-d3673462-Reviews-Museum_of_Greek_Scouting-Athens_Attica.html',\n",
       " 'https://www.tripadvisor.com/Attraction_Review-g189400-d17519213-Reviews-Koilon_Theatre-Athens_Attica.html',\n",
       " 'https://www.tripadvisor.com/Attraction_Review-g189400-d15076273-Reviews-Keramikos_Archaeological_Site-Athens_Attica.html',\n",
       " 'https://www.tripadvisor.com/Attraction_Review-g189400-d267751-Reviews-Ermou_Street-Athens_Attica.html',\n",
       " 'https://www.tripadvisor.com/Attraction_Review-g189400-d524626-Reviews-Metropolitan_Cathedral_of_Athens-Athens_Attica.html',\n",
       " 'https://www.tripadvisor.com/Attraction_Review-g189400-d13437134-Reviews-Memorial_Site_1941_1944-Athens_Attica.html',\n",
       " 'https://www.tripadvisor.com/Attraction_Review-g189400-d245993-Reviews-Tomb_of_the_Unknown_Soldier-Athens_Attica.html',\n",
       " 'https://www.tripadvisor.com/Attraction_Review-g189400-d17535736-Reviews-Proto_Nekrotafio_Athinon-Athens_Attica.html',\n",
       " 'https://www.tripadvisor.com/Attraction_Review-g189400-d12654175-Reviews-The_Holocaust_Memorial-Athens_Attica.html',\n",
       " 'https://www.tripadvisor.com/Attraction_Review-g189400-d241083-Reviews-Theater_of_Dionysus-Athens_Attica.html',\n",
       " 'https://www.tripadvisor.com/Attraction_Review-g189400-d8115426-Reviews-Technohoros_Art_Gallery-Athens_Attica.html',\n",
       " 'https://www.tripadvisor.com/Attraction_Review-g189400-d6637927-Reviews-Kilo_Shop_Greece-Athens_Attica.html',\n",
       " 'https://www.tripadvisor.com/Attraction_Review-g189400-d7225242-Reviews-Sygchrono_Theatre-Athens_Attica.html',\n",
       " 'https://www.tripadvisor.com/Attraction_Review-g189400-d3672330-Reviews-Museum_of_the_Center_for_the_Acropolis_Studies-Athens_Attica.html',\n",
       " 'https://www.tripadvisor.com/Attraction_Review-g189400-d534539-Reviews-The_Sanctuary_of_Artemis-Athens_Attica.html',\n",
       " 'https://www.tripadvisor.com/Attraction_Review-g189400-d16726257-Reviews-Platia_Eleftherias_Koumoundourou-Athens_Attica.html',\n",
       " 'https://www.tripadvisor.com/Attraction_Review-g189400-d242830-Reviews-Numismatic_Museum-Athens_Attica.html#REVIEWS',\n",
       " 'https://www.tripadvisor.com/Attraction_Review-g189400-d241089-Reviews-Ilias_Lalaounis_Jewelry_Museum-Athens_Attica.html',\n",
       " 'https://www.tripadvisor.com/Attraction_Review-g189400-d10796140-Reviews-Church_of_St_Mary_Pantanassa-Athens_Attica.html',\n",
       " 'https://www.tripadvisor.com/Attraction_Review-g189400-d10786929-Reviews-Saint_Nicholas_Pefkakia-Athens_Attica.html',\n",
       " 'https://www.tripadvisor.com/Attraction_Review-g189400-d10336639-Reviews-Ekklisia_Agios_Nikolaos_Ragkava-Athens_Attica.html',\n",
       " 'https://www.tripadvisor.com/Attraction_Review-g189400-d2693885-Reviews-Allou_Fun_Park-Athens_Attica.html',\n",
       " 'https://www.tripadvisor.com/Attraction_Review-g189400-d242815-Reviews-Byzantine_and_Christian_Museum-Athens_Attica.html',\n",
       " 'https://www.tripadvisor.com/Attraction_Review-g189400-d242840-Reviews-Herod_Atticus_Odeon-Athens_Attica.html',\n",
       " 'https://www.tripadvisor.com/Attraction_Review-g189400-d17535859-Reviews-Mousio_Zoologias_Panepistimiou_Athinon-Athens_Attica.html#REVIEWS',\n",
       " 'https://www.tripadvisor.com/Attraction_Review-g189400-d246658-Reviews-National_Garden-Athens_Attica.html',\n",
       " 'https://www.tripadvisor.com/Attraction_Review-g189400-d2686907-Reviews-National_Bank_of_Greece_Historical_Archive-Athens_Attica.html',\n",
       " 'https://www.tripadvisor.com/Attraction_Review-g189400-d13372472-Reviews-A_Antonopoulou_Art-Athens_Attica.html',\n",
       " 'https://www.tripadvisor.com/Attraction_Review-g189400-d12919607-Reviews-KTEL_Attikis-Athens_Attica.html',\n",
       " 'https://www.tripadvisor.com/Attraction_Review-g189400-d17802253-Reviews-Art_10_Gallery-Athens_Attica.html',\n",
       " 'https://www.tripadvisor.com/Attraction_Review-g189400-d10333720-Reviews-Mansion_Benizelou-Athens_Attica.html',\n",
       " 'https://www.tripadvisor.com/Attraction_Review-g189400-d3223474-Reviews-National_Library_of_Greece-Athens_Attica.html',\n",
       " 'https://www.tripadvisor.com/Attraction_Review-g189400-d7225242-Reviews-Sygchrono_Theatre-Athens_Attica.html#REVIEWS',\n",
       " 'https://www.tripadvisor.com/Attraction_Review-g189400-d12567543-Reviews-Sofokli_Art_Gallery-Athens_Attica.html',\n",
       " 'https://www.tripadvisor.com/Attraction_Review-g189400-d198713-Reviews-National_Archaeological_Museum-Athens_Attica.html',\n",
       " 'https://www.tripadvisor.com/Attraction_Review-g189400-d6073192-Reviews-Agia_Irini_Church-Athens_Attica.html',\n",
       " 'https://www.tripadvisor.com/Attraction_Review-g189400-d6855913-Reviews-Athens_Art_Gallery-Athens_Attica.html',\n",
       " 'https://www.tripadvisor.com/Attraction_Review-g189400-d6988081-Reviews-Propylaea-Athens_Attica.html',\n",
       " 'https://www.tripadvisor.com/Attraction_Review-g189400-d2662543-Reviews-Exile_Museum-Athens_Attica.html#REVIEWS',\n",
       " 'https://www.tripadvisor.com/Attraction_Review-g189400-d17175099-Reviews-MyathensTAXI_airport_transfers-Athens_Attica.html',\n",
       " 'https://www.tripadvisor.com/Attraction_Review-g189400-d566831-Reviews-Spathario_Museum_of_Shadow_Theatre-Athens_Attica.html',\n",
       " 'https://www.tripadvisor.com/Attraction_Review-g189400-d265865-Reviews-Monastiraki-Athens_Attica.html',\n",
       " 'https://www.tripadvisor.com/Attraction_Review-g189400-d12706357-Reviews-Laiki_Farmer_s_Market-Athens_Attica.html',\n",
       " 'https://www.tripadvisor.com/Attraction_Review-g189400-d242825-Reviews-Museum_of_Greek_Folk_Musical_Instruments-Athens_Attica.html#REVIEWS',\n",
       " 'https://www.tripadvisor.com/Attraction_Review-g189400-d10413629-Reviews-Ekklisia_Agia_Dinami-Athens_Attica.html',\n",
       " 'https://www.tripadvisor.com/Attraction_Review-g189400-d3673647-Reviews-Centre_of_Folk_Art_and_Tradition-Athens_Attica.html',\n",
       " 'https://www.tripadvisor.com/Attraction_Review-g189400-d13800034-Reviews-Church_of_Apostle_Philippe-Athens_Attica.html',\n",
       " 'https://www.tripadvisor.com/Attraction_Review-g189400-d10813849-Reviews-National_Museum_of_Contemporary_Art-Athens_Attica.html',\n",
       " 'https://www.tripadvisor.com/Attraction_Review-g189400-d1419998-Reviews-Technopolis_City_of_Athens-Athens_Attica.html#REVIEWS',\n",
       " 'https://www.tripadvisor.com/Attraction_Review-g189400-d198755-Reviews-Metroon-Athens_Attica.html',\n",
       " 'https://www.tripadvisor.com/Attraction_Review-g189400-d7702554-Reviews-Microlimano-Athens_Attica.html',\n",
       " 'https://www.tripadvisor.com/Attraction_Review-g189400-d7082491-Reviews-Garden_of_Iroon-Athens_Attica.html',\n",
       " 'https://www.tripadvisor.com/Attraction_Review-g189400-d735521-Reviews-Acropolis_Museum-Athens_Attica.html',\n",
       " 'https://www.tripadvisor.com/Attraction_Review-g189400-d12064219-Reviews-Piraeus_117_Academy-Athens_Attica.html',\n",
       " 'https://www.tripadvisor.com/Attraction_Review-g189400-d4954945-Reviews-CAMP_Contemporary_Art_Meeting_Point-Athens_Attica.html',\n",
       " 'https://www.tripadvisor.com/Attraction_Review-g189400-d566836-Reviews-National_and_Kapodistrian_University_of_Athens-Athens_Attica.html',\n",
       " 'https://www.tripadvisor.com/Attraction_Review-g189400-d644890-Reviews-Pnyx-Athens_Attica.html',\n",
       " 'https://www.tripadvisor.com/Attraction_Review-g189400-d245992-Reviews-Plateia_Syntagmatos-Athens_Attica.html',\n",
       " 'https://www.tripadvisor.com/Attraction_Review-g189400-d9807410-Reviews-Sofita_Vintage_Shop-Athens_Attica.html',\n",
       " 'https://www.tripadvisor.com/Attraction_Review-g189400-d16813317-Reviews-Statue_of_Damaskinos_Papandreou-Athens_Attica.html',\n",
       " 'https://www.tripadvisor.com/Attraction_Review-g189400-d6684136-Reviews-Amorgos_Antique_Store-Athens_Attica.html',\n",
       " 'https://www.tripadvisor.com/Attraction_Review-g189400-d2587472-Reviews-Greek_Reptile_Centre-Athens_Attica.html',\n",
       " 'https://www.tripadvisor.com/Attraction_Review-g189400-d17584289-Reviews-Dimitra_Daskalou-Athens_Attica.html',\n",
       " 'https://www.tripadvisor.com/Attraction_Review-g189400-d16678206-Reviews-Theater_Katerina_Vassilakou-Athens_Attica.html#REVIEWS',\n",
       " 'https://www.tripadvisor.com/Attraction_Review-g189400-d7113512-Reviews-Kipotheatro_Papagou-Athens_Attica.html#REVIEWS',\n",
       " 'https://www.tripadvisor.com/Attraction_Review-g189400-d198763-Reviews-Chapel_of_St_George-Athens_Attica.html',\n",
       " 'https://www.tripadvisor.com/Attraction_Review-g189400-d12176314-Reviews-Genniseos_Christou_Christokopidou_Church-Athens_Attica.html',\n",
       " 'https://www.tripadvisor.com/Attraction_Review-g189400-d13748274-Reviews-Apo_Koinou-Athens_Attica.html',\n",
       " 'https://www.tripadvisor.com/Attraction_Review-g189400-d13127423-Reviews-Memorial_of_National_Reconciliation-Athens_Attica.html',\n",
       " 'https://www.tripadvisor.com/Attraction_Review-g189400-d12803388-Reviews-Lake_Beletsi-Athens_Attica.html',\n",
       " 'https://www.tripadvisor.com/Attraction_Review-g189400-d15294350-Reviews-The_Meet_Market-Athens_Attica.html',\n",
       " 'https://www.tripadvisor.com/Attraction_Review-g189400-d2686910-Reviews-Institute_of_Hellenic_Mills-Athens_Attica.html',\n",
       " 'https://www.tripadvisor.com/Attraction_Review-g189400-d198780-Reviews-Gazi-Athens_Attica.html#REVIEWS',\n",
       " 'https://www.tripadvisor.com/Attraction_Review-g189400-d19896549-Reviews-Rodios_Antiques-Athens_Attica.html',\n",
       " 'https://www.tripadvisor.com/Attraction_Review-g189400-d198994-Reviews-Antiqua-Athens_Attica.html',\n",
       " 'https://www.tripadvisor.com/Attraction_Review-g189400-d277449-Reviews-Plaka-Athens_Attica.html',\n",
       " 'https://www.tripadvisor.com/Attraction_Review-g189400-d198709-Reviews-Ancient_Agora_of_Athens-Athens_Attica.html',\n",
       " 'https://www.tripadvisor.com/Attraction_Review-g189400-d504746-Reviews-Pireos_Street-Athens_Attica.html',\n",
       " 'https://www.tripadvisor.com/Attraction_Review-g189400-d2687999-Reviews-Institute_for_Research_on_Music_and_Acoustics-Athens_Attica.html',\n",
       " 'https://www.tripadvisor.com/Attraction_Review-g189400-d566808-Reviews-Central_Market-Athens_Attica.html',\n",
       " 'https://www.tripadvisor.com/Attraction_Review-g189400-d8614639-Reviews-Church_of_Agios_Nikolaos-Athens_Attica.html',\n",
       " 'https://www.tripadvisor.com/Attraction_Review-g189400-d8385886-Reviews-Fethiye_Mosque-Athens_Attica.html',\n",
       " 'https://www.tripadvisor.com/Attraction_Review-g189400-d15341456-Reviews-Athens_Railway_Museum-Athens_Attica.html#REVIEWS',\n",
       " 'https://www.tripadvisor.com/Attraction_Review-g189400-d3672321-Reviews-Pontian_Hellenism_History_and_Folk_Museum-Athens_Attica.html',\n",
       " 'https://www.tripadvisor.com/Attraction_Review-g189400-d10100347-Reviews-St_Marina_Church-Athens_Attica.html#REVIEWS',\n",
       " 'https://www.tripadvisor.com/Attraction_Review-g189400-d3672094-Reviews-Museum_of_the_Ancient_Agora-Athens_Attica.html',\n",
       " 'https://www.tripadvisor.com/Attraction_Review-g189400-d11800627-Reviews-Digital_Museum_Plato-Athens_Attica.html',\n",
       " 'https://www.tripadvisor.com/Attraction_Review-g189400-d8820343-Reviews-Rockwave_Festival-Athens_Attica.html',\n",
       " 'https://www.tripadvisor.com/Attraction_Review-g189400-d2587476-Reviews-Hellenic_Children_s_Museum-Athens_Attica.html',\n",
       " 'https://www.tripadvisor.com/Attraction_Review-g189400-d16726044-Reviews-Platia_Themistokleous-Athens_Attica.html',\n",
       " 'https://www.tripadvisor.com/Attraction_Review-g189400-d566828-Reviews-National_History_Museum_Old_Parliament-Athens_Attica.html',\n",
       " 'https://www.tripadvisor.com/Attraction_Review-g189400-d14209938-Reviews-Attiko_Alsos-Athens_Attica.html',\n",
       " 'https://www.tripadvisor.com/Attraction_Review-g189400-d3635765-Reviews-The_Tomb_of_Heinrich_Schliemann_First_Cemetry-Athens_Attica.html',\n",
       " 'https://www.tripadvisor.com/Attraction_Review-g189400-d8426708-Reviews-First_Cemetery_of_Athens-Athens_Attica.html',\n",
       " 'https://www.tripadvisor.com/Attraction_Review-g189400-d12993937-Reviews-Artshot_Gallery-Athens_Attica.html',\n",
       " 'https://www.tripadvisor.com/Attraction_Review-g189400-d12803388-Reviews-Lake_Beletsi-Athens_Attica.html#REVIEWS',\n",
       " 'https://www.tripadvisor.com/Attraction_Review-g189400-d3672109-Reviews-Museum_of_Eleftherios_Venizelos-Athens_Attica.html',\n",
       " 'https://www.tripadvisor.com/Attraction_Review-g189400-d11800627-Reviews-Digital_Museum_Plato-Athens_Attica.html#REVIEWS',\n",
       " 'https://www.tripadvisor.com/Attraction_Review-g189400-d8016917-Reviews-Pinakothiki_Nikos_Hadjikyriakos_Ghikas-Athens_Attica.html',\n",
       " 'https://www.tripadvisor.com/Attraction_Review-g189400-d1418619-Reviews-Capsis_Cultural_Exhibition_Conference_Center-Athens_Attica.html',\n",
       " 'https://www.tripadvisor.com/Attraction_Review-g189400-d523835-Reviews-Philopappos_Hill-Athens_Attica.html',\n",
       " 'https://www.tripadvisor.com/Attraction_Review-g189400-d3695351-Reviews-Sotira_Lykodimou_Church_Russian_Church-Athens_Attica.html',\n",
       " 'https://www.tripadvisor.com/Attraction_Review-g189400-d16726246-Reviews-Agalma_Agonisti_Alekou_Panagouli-Athens_Attica.html',\n",
       " 'https://www.tripadvisor.com/Attraction_Review-g189400-d3572034-Reviews-Frissiras_Museum-Athens_Attica.html',\n",
       " 'https://www.tripadvisor.com/Attraction_Review-g189400-d4298157-Reviews-Museum_of_Mineralogy_and_Petrology-Athens_Attica.html',\n",
       " 'https://www.tripadvisor.com/Attraction_Review-g189400-d12289883-Reviews-The_Artist_Yanni_Souvatzoglou-Athens_Attica.html',\n",
       " 'https://www.tripadvisor.com/Attraction_Review-g189400-d3331014-Reviews-Eugenides_Foundation_Library-Athens_Attica.html',\n",
       " 'https://www.tripadvisor.com/Attraction_Review-g189400-d198780-Reviews-Gazi-Athens_Attica.html',\n",
       " 'https://www.tripadvisor.com/Attraction_Review-g189400-d3672353-Reviews-MOMus_Museum_Alex_Mylona-Athens_Attica.html',\n",
       " 'https://www.tripadvisor.com/Attraction_Review-g189400-d242834-Reviews-The_Jewish_Museum_of_Greece-Athens_Attica.html',\n",
       " 'https://www.tripadvisor.com/Attraction_Review-g189400-d198707-Reviews-Hellenic_Parliament-Athens_Attica.html#REVIEWS',\n",
       " 'https://www.tripadvisor.com/Attraction_Review-g189400-d10082597-Reviews-Penya_Barcelonista_d_Atenes-Athens_Attica.html',\n",
       " 'https://www.tripadvisor.com/Attraction_Review-g189400-d16678206-Reviews-Theater_Katerina_Vassilakou-Athens_Attica.html']"
      ]
     },
     "execution_count": 70,
     "metadata": {},
     "output_type": "execute_result"
    }
   ],
   "source": [
    "fixed_links"
   ]
  },
  {
   "cell_type": "code",
   "execution_count": 74,
   "metadata": {},
   "outputs": [],
   "source": [
    "df = pd.DataFrame(fixed_links)"
   ]
  },
  {
   "cell_type": "code",
   "execution_count": 75,
   "metadata": {},
   "outputs": [],
   "source": [
    "df.to_pickle('athens_links.pkl')"
   ]
  },
  {
   "cell_type": "code",
   "execution_count": 81,
   "metadata": {},
   "outputs": [],
   "source": [
    "#convert dataframe to list, remember to call on column(0)\n",
    "athens_links = df[0].tolist()"
   ]
  },
  {
   "cell_type": "code",
   "execution_count": null,
   "metadata": {},
   "outputs": [],
   "source": []
  },
  {
   "cell_type": "markdown",
   "metadata": {},
   "source": [
    "# Get Info From Attractions"
   ]
  },
  {
   "cell_type": "code",
   "execution_count": 84,
   "metadata": {},
   "outputs": [
    {
     "data": {
      "text/plain": [
       "'https://www.tripadvisor.com/Attraction_Review-g189400-d12642863-Reviews-Gate_of_Medrese-Athens_Attica.html'"
      ]
     },
     "execution_count": 84,
     "metadata": {},
     "output_type": "execute_result"
    }
   ],
   "source": [
    "athens_links[0]"
   ]
  },
  {
   "cell_type": "code",
   "execution_count": 85,
   "metadata": {},
   "outputs": [],
   "source": [
    "driver.get(athens_links[0])"
   ]
  },
  {
   "cell_type": "code",
   "execution_count": 86,
   "metadata": {},
   "outputs": [
    {
     "data": {
      "text/plain": [
       "'Gate of Medrese'"
      ]
     },
     "execution_count": 86,
     "metadata": {},
     "output_type": "execute_result"
    }
   ],
   "source": [
    "driver.find_element_by_xpath('//*[@id=\"HEADING\"]').text"
   ]
  },
  {
   "cell_type": "code",
   "execution_count": 88,
   "metadata": {},
   "outputs": [],
   "source": [
    "def find_name(driver):\n",
    "    return driver.find_element_by_xpath('//*[@id=\"HEADING\"]').text\n",
    "\n",
    "def find_no_things_to_do(driver):\n",
    "    return driver.find_element_by_xpath('//*[@id=\"taplc_resp_attraction_header_ar_responsive_0\"]/div/div[1]/div/div[2]/div/span').text\n",
    "\n",
    "#Find sights and landmarks\n",
    "def find_sights_landmarks(driver):\n",
    "    return driver.find_element_by_xpath('//*[@id=\"taplc_resp_attraction_header_ar_responsive_0\"]/div/div[1]/div/span').text\n",
    "\n",
    "# Find Address\n",
    "def find_address(driver):\n",
    "    return driver.find_element_by_xpath('//*[@id=\"taplc_resp_attraction_header_ar_responsive_0\"]/div/div[2]/div/div[1]/div/div').text\n",
    "\n",
    "\n",
    "#Find summary overview\n",
    "def find_summary_overview(driver):\n",
    "    return driver.find_element_by_xpath('//*[@id=\"taplc_location_detail_reviews_card_0\"]/div[2]/span').text\n",
    "\n",
    "#Find number of reviews\n",
    "def number_of_reviews(driver):\n",
    "    return driver.find_element_by_xpath('//*[@id=\"taplc_location_detail_reviews_card_0\"]/div[2]/a[2]').text\n",
    "\n",
    "#Find About\n",
    "def about_box(driver):\n",
    "    return driver.find_element_by_xpath('//*[@id=\"taplc_location_detail_overview_resp_ar_responsive_0\"]/div/div/div[2]').text\n",
    "\n",
    "#Find The Popular Mentions in comments\n",
    "def popular_mentions(driver):\n",
    "    return driver.find_element_by_xpath('//*[@id=\"taplc_detail_filters_ar_responsive_0\"]/div/div[2]/div[3]/div').text.split('\\n')\n",
    "\n",
    "#Find 10 Most recent comments \n",
    "def comments(driver):\n",
    "    return driver.find_element_by_xpath('//*[@id=\"taplc_location_reviews_list_resp_ar_responsive_0\"]/div').text\n",
    "\n",
    "# def reviews(driver):\n",
    "#     return "
   ]
  },
  {
   "cell_type": "code",
   "execution_count": 89,
   "metadata": {},
   "outputs": [
    {
     "data": {
      "text/plain": [
       "'Gate of Medrese'"
      ]
     },
     "execution_count": 89,
     "metadata": {},
     "output_type": "execute_result"
    }
   ],
   "source": [
    "find_name(driver)"
   ]
  },
  {
   "cell_type": "code",
   "execution_count": null,
   "metadata": {},
   "outputs": [],
   "source": []
  },
  {
   "cell_type": "markdown",
   "metadata": {},
   "source": [
    "### Testing Selenium"
   ]
  },
  {
   "cell_type": "code",
   "execution_count": 90,
   "metadata": {},
   "outputs": [],
   "source": [
    "attractions= []"
   ]
  },
  {
   "cell_type": "code",
   "execution_count": 91,
   "metadata": {},
   "outputs": [],
   "source": [
    "attraction_features = {}\n",
    "# add to dictionary\n",
    "try:\n",
    "    attraction_features['name'] = find_name(driver)\n",
    "except:\n",
    "    attraction_features['name'] = None\n",
    "\n",
    "# add to dictionary\n",
    "try:\n",
    "    attraction_features['no_things_to_do'] = find_no_things_to_do(driver)\n",
    "except:\n",
    "    attraction_features['no_things_to_do'] = None\n",
    "\n",
    "# add to dictionary\n",
    "try:\n",
    "    attraction_features['sights_landmarks'] = find_sights_landmarks(driver)\n",
    "except:\n",
    "    attraction_features['sights_landmarks'] = None\n",
    "\n",
    "# add to dictionary\n",
    "try:\n",
    "    attraction_features['address'] = find_address(driver)\n",
    "except:\n",
    "    attraction_features['address'] = None\n",
    "\n",
    "# add to dictionary\n",
    "try:\n",
    "    attraction_features['summary_overview'] = find_summary_overview(driver)\n",
    "except:\n",
    "    attraction_features['summary_overview'] = None\n",
    "\n",
    "# add to dictionary\n",
    "try:\n",
    "    attraction_features['num_reviews'] = number_of_reviews(driver)\n",
    "except:\n",
    "    attraction_features['num_reviews'] = None\n",
    "\n",
    "# add to dictionary\n",
    "try:\n",
    "    attraction_features['about'] = about_box(driver)\n",
    "except:\n",
    "    attraction_features['about'] = None\n",
    "\n",
    "# add to dictionary\n",
    "try:\n",
    "    attraction_features['popular_mentions'] = popular_mentions(driver)\n",
    "except:\n",
    "    attraction_features['popular_mentions'] = None\n",
    "\n",
    "    \n",
    "try:\n",
    "    more_button = driver.find_element_by_class_name('ulBlueLinks')\n",
    "    more_button.click()\n",
    "    sequence = [x/10 for x in range(10, 15)]\n",
    "    time.sleep(random.choice(sequence))\n",
    "    \n",
    "except:\n",
    "    pass\n",
    "    \n",
    "# add to dictionary\n",
    "try:\n",
    "    attraction_features['comments'] = comments(driver)\n",
    "except:\n",
    "    attraction_features['comments'] = None\n",
    "\n",
    "#add to list of dictionaries\n",
    "attractions.append(attraction_features)\n",
    "\n",
    "sequence = [x/10 for x in range(10, 15)]\n",
    "time.sleep(random.choice(sequence))"
   ]
  },
  {
   "cell_type": "markdown",
   "metadata": {},
   "source": [
    "## Click More on Comments"
   ]
  },
  {
   "cell_type": "code",
   "execution_count": 93,
   "metadata": {},
   "outputs": [
    {
     "data": {
      "text/plain": [
       "\"SoCalOregonian\\nMurrieta, California\\n3116931\\nReviewed December 28, 2019\\nFORMER MADRASA ENTRY PORTAL\\nThis doorway is all that remains of an Islamic Madrasa from the Ottoman era. It operated in the 1700’s until converted to a prison. By 1915, all that remained was this doorway. This is located outside the Roman Agora across from the Tower of the Winds.\\nShow less\\nDate of experience: December 2019\\nSee all 54 reviews by SoCalOregonian for Athens\\nAsk SoCalOregonian about Gate of Medrese\\nThank SoCalOregonian\\nThis review is the subjective opinion of a TripAdvisor member and not of TripAdvisor LLC.\\n450mikid\\nThe Hague, The Netherlands\\n5113\\nReviewed November 3, 2018\\nvia mobile\\nIt's a door\\nRich history (old ottoman Quran school) For a door It's located next to the Roman Agora Not as shown on this map\\nDate of experience: November 2018\\nThank 450mikid\""
      ]
     },
     "execution_count": 93,
     "metadata": {},
     "output_type": "execute_result"
    }
   ],
   "source": [
    "comments(driver)"
   ]
  },
  {
   "cell_type": "code",
   "execution_count": 92,
   "metadata": {},
   "outputs": [
    {
     "data": {
      "text/plain": [
       "[{'name': 'Gate of Medrese',\n",
       "  'no_things_to_do': '#225 of 319 things to do in Athens',\n",
       "  'sights_landmarks': 'Sights & Landmarks, Points of Interest & Landmarks',\n",
       "  'address': 'Pelopida, Athens 105 55, Greece',\n",
       "  'summary_overview': '3.5',\n",
       "  'num_reviews': '6 reviews',\n",
       "  'about': 'About\\nLOCAL WEATHER\\nPowered by Weather Underground\\nF°C°\\n54°\\n39°\\nFeb\\n58°\\n42°\\nMar\\n65°\\n48°\\nApr',\n",
       "  'popular_mentions': None,\n",
       "  'comments': \"SoCalOregonian\\nMurrieta, California\\n3116931\\nReviewed December 28, 2019\\nFORMER MADRASA ENTRY PORTAL\\nThis doorway is all that remains of an Islamic Madrasa from the Ottoman era. It operated in the 1700’s until converted to a prison. By 1915, all that remained was this doorway. This is located outside the Roman Agora across from the Tower of the...More\\nDate of experience: December 2019\\nThank SoCalOregonian\\n450mikid\\nThe Hague, The Netherlands\\n5113\\nReviewed November 3, 2018\\nvia mobile\\nIt's a door\\nRich history (old ottoman Quran school) For a door It's located next to the Roman Agora Not as shown on this map\\nDate of experience: November 2018\\nThank 450mikid\"}]"
      ]
     },
     "execution_count": 92,
     "metadata": {},
     "output_type": "execute_result"
    }
   ],
   "source": [
    "attractions"
   ]
  },
  {
   "cell_type": "markdown",
   "metadata": {},
   "source": [
    "## Comments "
   ]
  },
  {
   "cell_type": "code",
   "execution_count": 105,
   "metadata": {},
   "outputs": [],
   "source": [
    "more_button = driver.find_element_by_class_name('ulBlueLinks')"
   ]
  },
  {
   "cell_type": "code",
   "execution_count": 106,
   "metadata": {},
   "outputs": [],
   "source": [
    "more_button.click()"
   ]
  },
  {
   "cell_type": "code",
   "execution_count": null,
   "metadata": {},
   "outputs": [],
   "source": []
  }
 ],
 "metadata": {
  "kernelspec": {
   "display_name": "Python 3",
   "language": "python",
   "name": "python3"
  },
  "language_info": {
   "codemirror_mode": {
    "name": "ipython",
    "version": 3
   },
   "file_extension": ".py",
   "mimetype": "text/x-python",
   "name": "python",
   "nbconvert_exporter": "python",
   "pygments_lexer": "ipython3",
   "version": "3.7.4"
  },
  "toc": {
   "base_numbering": 1,
   "nav_menu": {},
   "number_sections": true,
   "sideBar": true,
   "skip_h1_title": false,
   "title_cell": "Table of Contents",
   "title_sidebar": "Contents",
   "toc_cell": false,
   "toc_position": {},
   "toc_section_display": true,
   "toc_window_display": true
  }
 },
 "nbformat": 4,
 "nbformat_minor": 2
}
